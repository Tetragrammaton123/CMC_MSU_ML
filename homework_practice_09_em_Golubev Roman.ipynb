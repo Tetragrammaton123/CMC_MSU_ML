{
  "cells": [
    {
      "cell_type": "markdown",
      "metadata": {
        "id": "VyhSH5LuHXFr"
      },
      "source": [
        "# Машинное обучение, ВМК МГУ\n",
        "\n",
        "# Практическое задание 2. EM-алгоритм\n",
        "\n",
        "## Общая информация\n",
        "Дата выдачи: 12.03.2025\n",
        "\n",
        "Мягкий дедлайн: 27.03.2025 5:00 MSK\n",
        "\n",
        "Жёсткий дедлайн: 03.04.2024 5:00 MSK\n",
        "\n",
        "## Оценивание и штрафы\n",
        "Каждая из задач имеет определенную «стоимость» (указана в скобках около задачи). **Максимальная оценка за работу  — 10 баллов + 9 бонусов.**\n",
        "\n",
        "Сдавать задание после указанного жёсткого срока сдачи нельзя. При выставлении неполного балла за задание в связи с наличием ошибок на усмотрение проверяющего предусмотрена возможность исправить работу на указанных в ответном письме условиях.\n",
        "\n",
        "Задание выполняется самостоятельно. «Похожие» решения считаются плагиатом и все задействованные студенты (в том числе те, у кого списали) не могут получить за него больше 0 баллов (подробнее о плагиате см. на странице курса). Если вы нашли решение какого-то из заданий (или его часть) в открытом источнике, необходимо указать ссылку на этот источник в отдельном блоке в конце вашей работы (скорее всего вы будете не единственным, кто это нашел, поэтому чтобы исключить подозрение в плагиате, необходима ссылка на источник).\n",
        "\n",
        "Неэффективная реализация кода может негативно отразиться на оценке.\n",
        "\n",
        "## Формат сдачи !!ВАЖНО!!!\n",
        "Задания сдаются через систему anytask. Посылка должна содержать:\n",
        "* Ноутбук homework-practice-09-em-Username.ipynb\n",
        "* Модули preprocessing.py, metrics.py, models.py, содержащие написанный вами код\n",
        "* **Ссылки на посылки** в Яндекс.Контест для всех функций и классов, которые вы реализовали\n",
        "\n",
        "Ссылка на Яндекс.Контест: https://contest.yandex.ru/contest/60281/\n",
        "\n",
        "Username — ваша фамилия и имя на латинице именно в таком порядке"
      ]
    },
    {
      "cell_type": "markdown",
      "metadata": {
        "id": "w_d1PRwXHXFw"
      },
      "source": [
        "<p style=\"color:#de3815;font-size:25px;\">\n",
        "Напоминание об оформлении и выполнении ноутбука\n",
        "</p>"
      ]
    },
    {
      "cell_type": "markdown",
      "metadata": {
        "id": "1fD4izUYHXFx"
      },
      "source": [
        "* Все строчки должны быть выполнены. Нужно, чтобы output команды можно было увидеть, не запуская ячейки (кроме редких случаев, когда необходимо намеренно скрыть ненужный output, про такие случаи желательно писать пояснения в тексте). **В противном случае -1 балл**\n",
        "* При оформлении ДЗ нужно пользоваться данным файлом в качестве шаблона. Не нужно удалять и видоизменять написанный код и текст, если явно не указана такая возможность. **В противном случае -1 балл**\n",
        "* В anytask обязательно нужно прикреплять отдельно файл с расширением ipynb (не в архиве, а именно отдельно). Если необходимо отправить еще какие-то файлы, то вынесите их в отдельный архив (если файлов много) и пришлите. **В противном случае -0.5 балла**\n",
        "---\n",
        "* Пишите, пожалуйста, выводы и ответы на вопросы в текстовых ячейках/при помощи print в коде. При их отсутствии мы не можем понять, сделали ли вы задание и понимаете, что происходит, и **поэтому будем снижать баллы**\n",
        "* Если алгоритм не сказано реализовывать явно, его всегда можно импортировать из библиотеки.\n",
        "---\n",
        "* Про графики. _Штрафы будут применяться к каждому результату команды отображения графика (plt.show() и др. аналогичные). Исключением являются графики, генерируемые функциями каких-либо сторонних библиотек, если их нельзя кастомизировать_\n",
        "\n",
        "    * должно быть название (plt.title) графика; **В противном случае &ndash; -0.05 балла**\n",
        "    * на графиках должны быть подписаны оси (plt.xlabel, plt.ylabel); **В противном случае &ndash; -0.025 балла за каждую ось**\n",
        "    * должны быть подписаны единицы измерения (если это возможно); **В противном случае &ndash; -0.025 балла за каждую ось**\n",
        "    * все названия должны быть понятны любому человеку, знакомому с терминологией, без заглядывания в код; **В противном случае &ndash; -0.05 балла**\n",
        "    * подписи тиков на осях не должны сливаться как на одной оси, так и между ними; **В противном случае &ndash; -0.025 балла за каждую ось**\n",
        "    * если изображено несколько сущностей на одном холсте (например несколько функций), то необходима поясняющая легенда (plt.legend); **В противном случае &ndash; -0.05 балла**\n",
        "    * все линии на графиках должны быть чётко видны (нет похожих цветов или цветов, сливающихся с фоном); **В противном случае &ndash; -0.05 балла**\n",
        "    * если отображена величина, имеющая очевидный диапазон значений (например, проценты могут быть от 0 до 100), то желательно масштабировать ось на весь диапазон значений (исключением является случай, когда вам необходимо показать малое отличие, которое незаметно в таких масштабах);\n",
        "    * графики должны быть не супер-микро и не супер-макро по размерам, так, чтобы можно было увидеть все, что нужно.\n",
        "    * при необходимости улучшения наглядности графиков, можно пользоваться логарифмической шкалой по осям x/y.\n",
        "    \n",
        "    \n",
        "### А также..\n",
        "\n",
        "* Для удобства поиска вопросов, на которые от вас просят ответа, мы пометили их знаком **(?)**\n",
        "* Знак **(!)** означает, что выполнение замечания необходимо для **возможности получения полного балла**\n",
        "* Даем до +0.3 балла за выдающиеся успехи по субъективному мнению проверяющих. Этот **бонус** не апеллируется"
      ]
    },
    {
      "cell_type": "markdown",
      "metadata": {
        "id": "7mrovuQoHXFz"
      },
      "source": [
        "# Generative model of Labels, Abilities, and Difficulties (GLAD)\n",
        "\n",
        "В [семинаре 15](https://github.com/esokolov/ml-course-hse/blob/master/2020-spring/seminars/sem15-em.pdf) мы рассмотрели задачу восстановления истинной разметки по меткам от экспертов (которым мы не можем доверять в полной мере, более того, их предсказания могут расходиться).\n",
        "\n",
        "Рассмотрим следующую вероятностную модель:\n",
        "\n",
        "$$ p(L, Z | \\alpha, \\beta) = \\prod_{i=1}^{n} \\prod_{j=1}^m \\sigma(\\alpha_j\\beta_i)^{[l_{ij}=z_i]}\\sigma(-\\alpha_j\\beta_i)^{1-[l_{ij}=z_i]} p(z_j)$$\n",
        "\n",
        "где $l_{ij} -$ ответ $j$-го эксперта на задачу $i$, $z_j -$ истинная разметка, $\\alpha_j, \\beta_i-$ уровень экспертизы и сложность задачи соответственно. Для более подробного описания модели можно прочитать материалы семинара, а также [оригинальную статью](http://papers.nips.cc/paper/3644-whose-vote-should-count-more-optimal-integration-of-labels-from-labelers-of-unknown-expertise.pdf). Априорное распределение положим равномерным: $p(z_i) = 0.5$."
      ]
    },
    {
      "cell_type": "code",
      "execution_count": 54,
      "metadata": {
        "id": "cHi9ZtEpHXF0"
      },
      "outputs": [],
      "source": [
        "import numpy as np\n",
        "seed = 0xDEADF00D\n",
        "np.random.seed(seed)"
      ]
    },
    {
      "cell_type": "code",
      "execution_count": 57,
      "metadata": {
        "colab": {
          "base_uri": "https://localhost:8080/"
        },
        "id": "li7T4j4kHXF3",
        "outputId": "335f15bd-717f-42e5-8e4d-7f85884f8992"
      },
      "outputs": [
        {
          "output_type": "stream",
          "name": "stdout",
          "text": [
            "Число задач (n_problems): 2000, число экспертов (n_experts): 20\n"
          ]
        }
      ],
      "source": [
        "L = np.load('L.npy')\n",
        "n, m = L.shape\n",
        "print(f\"Число задач (n_problems): {n}, число экспертов (n_experts): {m}\")"
      ]
    },
    {
      "cell_type": "markdown",
      "metadata": {
        "id": "YR4NuB2bHXF5"
      },
      "source": [
        "---"
      ]
    },
    {
      "cell_type": "markdown",
      "metadata": {
        "id": "OWF0vMCHHXF6"
      },
      "source": [
        "**Задание 1. (2 балла)** Реализуйте EM-алгоритм для заданной выше модели. Вы можете воспользоваться предложенными шаблонами или написать свои.\n",
        "\n",
        "Обратите внимание, что правдоподобие моделирует не вероятность метки $l_{ij}$ принять значение 1 или 0, а вероятность того, что она равна скрытой переменной $z_i$, т.е. $p(l_{ij} = z_j|z_j, \\alpha_j, \\beta_i) \\neq p(l_{ij} = 1|\\alpha_j, \\beta_i) $. При этом заранее неизвестно, какая из скрытых переменных соответствует метке 1. Не забывайте, что параметры $\\beta_i$ должны быть неотрицательными; для этого оптимизируйте $\\log \\beta$. На M-шаге можете использовать как один шаг градиентного спуска, так и несколько: разумные результаты у вас должны получаться вне зависимости от числа итераций.\n",
        "\n",
        "**Подсказки (могут быть актуальны на все задание):**\n",
        "\n",
        "* При работе с вероятностями не забывайте о точности:\n",
        " 1. Используйте логарифмы вероятностей.\n",
        " 2. $\\log \\sigma(a)$ лучше преобразовать в $\\log \\sigma(a) = -\\log(1 + \\exp(-a)) = -\\mathrm{softplus}(-a) $\n",
        " 3. Ещё полезные функции: `scipy.special.expit`, `scipy.special.logsumexp`, `np.log1p`\n",
        "* Для отладки может быть полезно проверить градиенты, возвращаемые функциями `alpha_grad_lb` и `logbeta_grad_lb` с помощью `scipy.optimize.check_grad`.\n",
        "* Размеры возвращаемых значений, указанные в докстринге функций могут помочь вам понять, что необходимо возвращать\n",
        "* Почитайте докстринги, в них есть подсказки и ссылки на формулы из семинара\n",
        "* Если у вас вылезают где-то nan/inf -- попробуйте урезать значения снизу. Например, у вас есть место, где берется log(theta) -- тут имеет смысл урезать theta = max(theta, eps), где eps какое-то маленькое число (например 1e-8)"
      ]
    },
    {
      "cell_type": "markdown",
      "metadata": {
        "id": "NFmiIbdmHXF8"
      },
      "source": [
        "---"
      ]
    },
    {
      "cell_type": "code",
      "execution_count": 58,
      "metadata": {
        "id": "zay5qlR3HXF8"
      },
      "outputs": [],
      "source": [
        "def softplus(x):\n",
        "    '''stable version of log(1 + exp(x))'''\n",
        "    c = (x > 20) * 1.\n",
        "    return np.log1p(np.exp(x * (1-c)) * (1-c)) + x * c"
      ]
    },
    {
      "cell_type": "code",
      "execution_count": 59,
      "metadata": {
        "id": "lRlMOIjzHXF-"
      },
      "outputs": [],
      "source": [
        "from scipy.special import expit\n",
        "from scipy.special import logsumexp\n",
        "def posterior(alpha, beta, L):\n",
        "    \"\"\" Posterior over true labels z p(z|l, \\alpha, \\beta)\n",
        "    Args:\n",
        "        alpha: ndarray of shape (n_experts).\n",
        "        beta: ndarray of shape (n_problems).\n",
        "        L: ndarray of shape (n_problems, n_experts).\n",
        "    Returns:\n",
        "        ndarray of shape (2, n_problems)\n",
        "        (2 -- for z = 0 and for z = 1, n_problems -- for each problem in data)\n",
        "    Tip:\n",
        "        You may use function log_likelihood here\n",
        "        See page 7 of seminar, the last formula for details\n",
        "    \"\"\"\n",
        "    n_problems = L.shape[0]\n",
        "    p_0 = np.exp(log_likelihood(alpha, beta, L, np.zeros((n_problems,))))\n",
        "    p_1 = np.exp(log_likelihood(alpha, beta, L, np.ones((n_problems,))))\n",
        "    q = np.zeros((2, n_problems))\n",
        "    q[0, :] = p_0 / (p_0 + p_1)\n",
        "    q[1, :] = p_1 / (p_0 + p_1)\n",
        "    return q\n",
        "\n",
        "def log_likelihood(alpha, beta, L, z):\n",
        "    \"\"\" p(l=z|z, \\alpha, \\beta)\n",
        "    Args:\n",
        "        alpha: ndarray of shape (n_experts).\n",
        "        beta: ndarray of shape (n_problems).\n",
        "        L: ndarray of shape (n_problems, n_experts).\n",
        "        z: ndarray of shape (n_problems).\n",
        "        p_z: float.\n",
        "    Returns:\n",
        "        ndarray of shape (n_problems,)\n",
        "    Tips:\n",
        "        See page 7 of seminar, the second formula for details\n",
        "    \"\"\"\n",
        "    n_problems, n_experts = L.shape\n",
        "    logits = np.outer(beta, alpha)\n",
        "    logits1 = -softplus(-logits)\n",
        "    logits2 = -softplus(logits)\n",
        "    z_expanded = np.expand_dims(z, axis=1)\n",
        "    L_equal_z = (L == z_expanded)\n",
        "    log_likelihood = np.sum(np.where(L_equal_z, logits1, logits2), axis = 1)\n",
        "    return log_likelihood + np.log(0.5)\n",
        "\n",
        "\n",
        "def alpha_grad_lb(alpha, beta, L, q):\n",
        "    \"\"\" Gradient of lower bound wrt alpha\n",
        "    Args:\n",
        "        alpha: ndarray of shape (n_experts).\n",
        "        beta: ndarray of shape (n_problems).\n",
        "        L: ndarray of shape (n_problems, n_experts).\n",
        "        q: ndarray of shape (2, n_problems).\n",
        "    Returns:\n",
        "        ndarray of shape (n_experts,)\n",
        "    Tips:\n",
        "        See pages 8-9 of seminar for details\n",
        "    \"\"\"\n",
        "    n_problems, n_experts = L.shape\n",
        "    grad_alpha = np.zeros(n_experts)\n",
        "    for j in range(n_experts):\n",
        "      grad = 0\n",
        "      for i in range(n_problems):\n",
        "        for t in range(2):\n",
        "            p_t = expit(alpha[j] * beta[i])\n",
        "            grad += q[t, i] * beta[i] * ((L[i, j] == t) * (1 - p_t) - (L[i, j] != t) * p_t)\n",
        "      grad_alpha[j] = grad\n",
        "    return grad_alpha\n",
        "\n",
        "def logbeta_grad_lb(alpha, beta, L, q):\n",
        "    \"\"\" Gradient of lower bound wrt alpha\n",
        "    Args:\n",
        "        alpha: ndarray of shape (n_experts).\n",
        "        beta: ndarray of shape (n_problems).\n",
        "        L: ndarray of shape (n_problems, n_experts).\n",
        "        q: ndarray of shape (2, n_problems).\n",
        "    Returns:\n",
        "        ndarray of shape (n_problems,)\n",
        "    Tips:\n",
        "        See pages 8-9 of seminar for details\n",
        "    \"\"\"\n",
        "    n_problems = L.shape[0]\n",
        "    logits = np.outer(beta, alpha)\n",
        "    logits1 = expit(-logits)\n",
        "    logits2 = expit(logits)\n",
        "    p1 = np.where(L == 0, logits1, 0) - np.where(L == 1, logits2, 0)\n",
        "    p2 = np.where(L == 1, logits1, 0) - np.where(L == 0, logits2, 0)\n",
        "    grad_beta = np.sum(q[0][:, np.newaxis] * p1 * alpha + q[1][:, np.newaxis] * p2 * alpha, axis=1)\n",
        "\n",
        "    return beta.ravel() * grad_beta\n",
        "\n",
        "def lower_bound(alpha, beta, L, q):\n",
        "    \"\"\" Lower bound\n",
        "    Args:\n",
        "        alpha: ndarray of shape (n_experts).\n",
        "        beta: ndarray of shape (n_problems).\n",
        "        L: ndarray of shape (n_problems, n_experts).\n",
        "        q: ndarray of shape (2, n_problems).\n",
        "    Returns:\n",
        "        single value, number\n",
        "    Tips:\n",
        "        You may use function log_likelihood here\n",
        "        See page 8 of seminar, the fourth formula for details\n",
        "    \"\"\"\n",
        "    n_problems = L.shape[0]\n",
        "    log_p_z0 = log_likelihood(alpha, beta, L, np.zeros(n_problems))\n",
        "    log_p_z1 = log_likelihood(alpha, beta, L, np.ones(n_problems))\n",
        "    return np.sum(q[0] * log_p_z0 + q[1] * log_p_z1)\n"
      ]
    },
    {
      "cell_type": "markdown",
      "metadata": {
        "id": "i_KJ6bQnHXF_"
      },
      "source": [
        "**Подсказка:**\n",
        "* При проверке alpha значения, выдываемые функцией `check_grad` должны быть не более 0.01. Иначе у вас где-то ошибка\n",
        "* При проверке logbeta значения, выдываемые функцией `check_grad` должны быть не более 0.05. Иначе у вас где-то ошибка"
      ]
    },
    {
      "cell_type": "code",
      "execution_count": 60,
      "metadata": {
        "colab": {
          "base_uri": "https://localhost:8080/"
        },
        "id": "siypNnlFHXF_",
        "outputId": "a8c797c3-84ba-4bdf-bd50-428ef44c25f9",
        "scrolled": true
      },
      "outputs": [
        {
          "output_type": "execute_result",
          "data": {
            "text/plain": [
              "np.float64(0.0015563831175600974)"
            ]
          },
          "metadata": {},
          "execution_count": 60
        }
      ],
      "source": [
        "from scipy.optimize import check_grad\n",
        "from scipy.special import expit\n",
        "\n",
        "alpha, logbeta = np.random.randn(m), np.random.randn(n)\n",
        "beta = np.exp(logbeta)\n",
        "q = np.ones((2, len(beta))) * 0.5\n",
        "\n",
        "check_grad(\n",
        "    lambda a: lower_bound(a, beta, L, q),\n",
        "    lambda a: alpha_grad_lb(a, beta, L, q),\n",
        "    alpha\n",
        ")"
      ]
    },
    {
      "cell_type": "code",
      "execution_count": 61,
      "metadata": {
        "colab": {
          "base_uri": "https://localhost:8080/"
        },
        "id": "CEq2pclvHXGA",
        "outputId": "2dac4bf4-d2ac-4a05-8eb8-22e57418144c"
      },
      "outputs": [
        {
          "output_type": "execute_result",
          "data": {
            "text/plain": [
              "np.float64(0.010055835144934595)"
            ]
          },
          "metadata": {},
          "execution_count": 61
        }
      ],
      "source": [
        "check_grad(\n",
        "    lambda lb: lower_bound(alpha, np.exp(lb), L, q),\n",
        "    lambda lb: logbeta_grad_lb(alpha, np.exp(lb), L, q),\n",
        "    logbeta\n",
        ")"
      ]
    },
    {
      "cell_type": "code",
      "execution_count": 62,
      "metadata": {
        "id": "FHcoSGQWHXGB"
      },
      "outputs": [],
      "source": [
        "def em(L, n_steps=1000, lr=1e-3):\n",
        "    # initialize parameters\n",
        "    alpha, logbeta = np.random.randn(m), np.random.randn(n)\n",
        "    q = np.ones((2, len(beta))) * 0.5\n",
        "\n",
        "    for step in range(n_steps):\n",
        "        print('step', step)\n",
        "        q = posterior(alpha, np.exp(logbeta), L)\n",
        "        grad_alpha = alpha_grad_lb(alpha, np.exp(logbeta), L, q)\n",
        "        grad_beta = logbeta_grad_lb(alpha, np.exp(logbeta), L, q)\n",
        "        alpha += lr * grad_alpha\n",
        "        logbeta += lr * grad_beta\n",
        "    return alpha, np.exp(logbeta), q"
      ]
    },
    {
      "cell_type": "code",
      "execution_count": 63,
      "metadata": {
        "id": "U9F74cBXHXGB",
        "colab": {
          "base_uri": "https://localhost:8080/"
        },
        "collapsed": true,
        "outputId": "a7e50138-69a4-4baa-8103-e92936b82b3a"
      },
      "outputs": [
        {
          "output_type": "stream",
          "name": "stdout",
          "text": [
            "step 0\n",
            "step 1\n",
            "step 2\n",
            "step 3\n",
            "step 4\n",
            "step 5\n",
            "step 6\n",
            "step 7\n",
            "step 8\n",
            "step 9\n",
            "step 10\n",
            "step 11\n",
            "step 12\n",
            "step 13\n",
            "step 14\n",
            "step 15\n",
            "step 16\n",
            "step 17\n",
            "step 18\n",
            "step 19\n",
            "step 20\n",
            "step 21\n",
            "step 22\n",
            "step 23\n",
            "step 24\n",
            "step 25\n",
            "step 26\n",
            "step 27\n",
            "step 28\n",
            "step 29\n",
            "step 30\n",
            "step 31\n",
            "step 32\n",
            "step 33\n",
            "step 34\n",
            "step 35\n",
            "step 36\n",
            "step 37\n",
            "step 38\n",
            "step 39\n",
            "step 40\n",
            "step 41\n",
            "step 42\n",
            "step 43\n",
            "step 44\n",
            "step 45\n",
            "step 46\n",
            "step 47\n",
            "step 48\n",
            "step 49\n",
            "step 50\n",
            "step 51\n",
            "step 52\n",
            "step 53\n",
            "step 54\n",
            "step 55\n",
            "step 56\n",
            "step 57\n",
            "step 58\n",
            "step 59\n",
            "step 60\n",
            "step 61\n",
            "step 62\n",
            "step 63\n",
            "step 64\n",
            "step 65\n",
            "step 66\n",
            "step 67\n",
            "step 68\n",
            "step 69\n",
            "step 70\n",
            "step 71\n",
            "step 72\n",
            "step 73\n",
            "step 74\n",
            "step 75\n",
            "step 76\n",
            "step 77\n",
            "step 78\n",
            "step 79\n",
            "step 80\n",
            "step 81\n",
            "step 82\n",
            "step 83\n",
            "step 84\n",
            "step 85\n",
            "step 86\n",
            "step 87\n",
            "step 88\n",
            "step 89\n",
            "step 90\n",
            "step 91\n",
            "step 92\n",
            "step 93\n",
            "step 94\n",
            "step 95\n",
            "step 96\n",
            "step 97\n",
            "step 98\n",
            "step 99\n",
            "step 100\n",
            "step 101\n",
            "step 102\n",
            "step 103\n",
            "step 104\n",
            "step 105\n",
            "step 106\n",
            "step 107\n",
            "step 108\n",
            "step 109\n",
            "step 110\n",
            "step 111\n",
            "step 112\n",
            "step 113\n",
            "step 114\n",
            "step 115\n",
            "step 116\n",
            "step 117\n",
            "step 118\n",
            "step 119\n",
            "step 120\n",
            "step 121\n",
            "step 122\n",
            "step 123\n",
            "step 124\n",
            "step 125\n",
            "step 126\n",
            "step 127\n",
            "step 128\n",
            "step 129\n",
            "step 130\n",
            "step 131\n",
            "step 132\n",
            "step 133\n",
            "step 134\n",
            "step 135\n",
            "step 136\n",
            "step 137\n",
            "step 138\n",
            "step 139\n",
            "step 140\n",
            "step 141\n",
            "step 142\n",
            "step 143\n",
            "step 144\n",
            "step 145\n",
            "step 146\n",
            "step 147\n",
            "step 148\n",
            "step 149\n",
            "step 150\n",
            "step 151\n",
            "step 152\n",
            "step 153\n",
            "step 154\n",
            "step 155\n",
            "step 156\n",
            "step 157\n",
            "step 158\n",
            "step 159\n",
            "step 160\n",
            "step 161\n",
            "step 162\n",
            "step 163\n",
            "step 164\n",
            "step 165\n",
            "step 166\n",
            "step 167\n",
            "step 168\n",
            "step 169\n",
            "step 170\n",
            "step 171\n",
            "step 172\n",
            "step 173\n",
            "step 174\n",
            "step 175\n",
            "step 176\n",
            "step 177\n",
            "step 178\n",
            "step 179\n",
            "step 180\n",
            "step 181\n",
            "step 182\n",
            "step 183\n",
            "step 184\n",
            "step 185\n",
            "step 186\n",
            "step 187\n",
            "step 188\n",
            "step 189\n",
            "step 190\n",
            "step 191\n",
            "step 192\n",
            "step 193\n",
            "step 194\n",
            "step 195\n",
            "step 196\n",
            "step 197\n",
            "step 198\n",
            "step 199\n",
            "step 200\n",
            "step 201\n",
            "step 202\n",
            "step 203\n",
            "step 204\n",
            "step 205\n",
            "step 206\n",
            "step 207\n",
            "step 208\n",
            "step 209\n",
            "step 210\n",
            "step 211\n",
            "step 212\n",
            "step 213\n",
            "step 214\n",
            "step 215\n",
            "step 216\n",
            "step 217\n",
            "step 218\n",
            "step 219\n",
            "step 220\n",
            "step 221\n",
            "step 222\n",
            "step 223\n",
            "step 224\n",
            "step 225\n",
            "step 226\n",
            "step 227\n",
            "step 228\n",
            "step 229\n",
            "step 230\n",
            "step 231\n",
            "step 232\n",
            "step 233\n",
            "step 234\n",
            "step 235\n",
            "step 236\n",
            "step 237\n",
            "step 238\n",
            "step 239\n",
            "step 240\n",
            "step 241\n",
            "step 242\n",
            "step 243\n",
            "step 244\n",
            "step 245\n",
            "step 246\n",
            "step 247\n",
            "step 248\n",
            "step 249\n",
            "step 250\n",
            "step 251\n",
            "step 252\n",
            "step 253\n",
            "step 254\n",
            "step 255\n",
            "step 256\n",
            "step 257\n",
            "step 258\n",
            "step 259\n",
            "step 260\n",
            "step 261\n",
            "step 262\n",
            "step 263\n",
            "step 264\n",
            "step 265\n",
            "step 266\n",
            "step 267\n",
            "step 268\n",
            "step 269\n",
            "step 270\n",
            "step 271\n",
            "step 272\n",
            "step 273\n",
            "step 274\n",
            "step 275\n",
            "step 276\n",
            "step 277\n",
            "step 278\n",
            "step 279\n",
            "step 280\n",
            "step 281\n",
            "step 282\n",
            "step 283\n",
            "step 284\n",
            "step 285\n",
            "step 286\n",
            "step 287\n",
            "step 288\n",
            "step 289\n",
            "step 290\n",
            "step 291\n",
            "step 292\n",
            "step 293\n",
            "step 294\n",
            "step 295\n",
            "step 296\n",
            "step 297\n",
            "step 298\n",
            "step 299\n",
            "step 300\n",
            "step 301\n",
            "step 302\n",
            "step 303\n",
            "step 304\n",
            "step 305\n",
            "step 306\n",
            "step 307\n",
            "step 308\n",
            "step 309\n",
            "step 310\n",
            "step 311\n",
            "step 312\n",
            "step 313\n",
            "step 314\n",
            "step 315\n",
            "step 316\n",
            "step 317\n",
            "step 318\n",
            "step 319\n",
            "step 320\n",
            "step 321\n",
            "step 322\n",
            "step 323\n",
            "step 324\n",
            "step 325\n",
            "step 326\n",
            "step 327\n",
            "step 328\n",
            "step 329\n",
            "step 330\n",
            "step 331\n",
            "step 332\n",
            "step 333\n",
            "step 334\n",
            "step 335\n",
            "step 336\n",
            "step 337\n",
            "step 338\n",
            "step 339\n",
            "step 340\n",
            "step 341\n",
            "step 342\n",
            "step 343\n",
            "step 344\n",
            "step 345\n",
            "step 346\n",
            "step 347\n",
            "step 348\n",
            "step 349\n",
            "step 350\n",
            "step 351\n",
            "step 352\n",
            "step 353\n",
            "step 354\n",
            "step 355\n",
            "step 356\n",
            "step 357\n",
            "step 358\n",
            "step 359\n",
            "step 360\n",
            "step 361\n",
            "step 362\n",
            "step 363\n",
            "step 364\n",
            "step 365\n",
            "step 366\n",
            "step 367\n",
            "step 368\n",
            "step 369\n",
            "step 370\n",
            "step 371\n",
            "step 372\n",
            "step 373\n",
            "step 374\n",
            "step 375\n",
            "step 376\n",
            "step 377\n",
            "step 378\n",
            "step 379\n",
            "step 380\n",
            "step 381\n",
            "step 382\n",
            "step 383\n",
            "step 384\n",
            "step 385\n",
            "step 386\n",
            "step 387\n",
            "step 388\n",
            "step 389\n",
            "step 390\n",
            "step 391\n",
            "step 392\n",
            "step 393\n",
            "step 394\n",
            "step 395\n",
            "step 396\n",
            "step 397\n",
            "step 398\n",
            "step 399\n",
            "step 400\n",
            "step 401\n",
            "step 402\n",
            "step 403\n",
            "step 404\n",
            "step 405\n",
            "step 406\n",
            "step 407\n",
            "step 408\n",
            "step 409\n",
            "step 410\n",
            "step 411\n",
            "step 412\n",
            "step 413\n",
            "step 414\n",
            "step 415\n",
            "step 416\n",
            "step 417\n",
            "step 418\n",
            "step 419\n",
            "step 420\n",
            "step 421\n",
            "step 422\n",
            "step 423\n",
            "step 424\n",
            "step 425\n",
            "step 426\n",
            "step 427\n",
            "step 428\n",
            "step 429\n",
            "step 430\n",
            "step 431\n",
            "step 432\n",
            "step 433\n",
            "step 434\n",
            "step 435\n",
            "step 436\n",
            "step 437\n",
            "step 438\n",
            "step 439\n",
            "step 440\n",
            "step 441\n",
            "step 442\n",
            "step 443\n",
            "step 444\n",
            "step 445\n",
            "step 446\n",
            "step 447\n",
            "step 448\n",
            "step 449\n",
            "step 450\n",
            "step 451\n",
            "step 452\n",
            "step 453\n",
            "step 454\n",
            "step 455\n",
            "step 456\n",
            "step 457\n",
            "step 458\n",
            "step 459\n",
            "step 460\n",
            "step 461\n",
            "step 462\n",
            "step 463\n",
            "step 464\n",
            "step 465\n",
            "step 466\n",
            "step 467\n",
            "step 468\n",
            "step 469\n",
            "step 470\n",
            "step 471\n",
            "step 472\n",
            "step 473\n",
            "step 474\n",
            "step 475\n",
            "step 476\n",
            "step 477\n",
            "step 478\n",
            "step 479\n",
            "step 480\n",
            "step 481\n",
            "step 482\n",
            "step 483\n",
            "step 484\n",
            "step 485\n",
            "step 486\n",
            "step 487\n",
            "step 488\n",
            "step 489\n",
            "step 490\n",
            "step 491\n",
            "step 492\n",
            "step 493\n",
            "step 494\n",
            "step 495\n",
            "step 496\n",
            "step 497\n",
            "step 498\n",
            "step 499\n",
            "step 500\n",
            "step 501\n",
            "step 502\n",
            "step 503\n",
            "step 504\n",
            "step 505\n",
            "step 506\n",
            "step 507\n",
            "step 508\n",
            "step 509\n",
            "step 510\n",
            "step 511\n",
            "step 512\n",
            "step 513\n",
            "step 514\n",
            "step 515\n",
            "step 516\n",
            "step 517\n",
            "step 518\n",
            "step 519\n",
            "step 520\n",
            "step 521\n",
            "step 522\n",
            "step 523\n",
            "step 524\n",
            "step 525\n",
            "step 526\n",
            "step 527\n",
            "step 528\n",
            "step 529\n",
            "step 530\n",
            "step 531\n",
            "step 532\n",
            "step 533\n",
            "step 534\n",
            "step 535\n",
            "step 536\n",
            "step 537\n",
            "step 538\n",
            "step 539\n",
            "step 540\n",
            "step 541\n",
            "step 542\n",
            "step 543\n",
            "step 544\n",
            "step 545\n",
            "step 546\n",
            "step 547\n",
            "step 548\n",
            "step 549\n",
            "step 550\n",
            "step 551\n",
            "step 552\n",
            "step 553\n",
            "step 554\n",
            "step 555\n",
            "step 556\n",
            "step 557\n",
            "step 558\n",
            "step 559\n",
            "step 560\n",
            "step 561\n",
            "step 562\n",
            "step 563\n",
            "step 564\n",
            "step 565\n",
            "step 566\n",
            "step 567\n",
            "step 568\n",
            "step 569\n",
            "step 570\n",
            "step 571\n",
            "step 572\n",
            "step 573\n",
            "step 574\n",
            "step 575\n",
            "step 576\n",
            "step 577\n",
            "step 578\n",
            "step 579\n",
            "step 580\n",
            "step 581\n",
            "step 582\n",
            "step 583\n",
            "step 584\n",
            "step 585\n",
            "step 586\n",
            "step 587\n",
            "step 588\n",
            "step 589\n",
            "step 590\n",
            "step 591\n",
            "step 592\n",
            "step 593\n",
            "step 594\n",
            "step 595\n",
            "step 596\n",
            "step 597\n",
            "step 598\n",
            "step 599\n",
            "step 600\n",
            "step 601\n",
            "step 602\n",
            "step 603\n",
            "step 604\n",
            "step 605\n",
            "step 606\n",
            "step 607\n",
            "step 608\n",
            "step 609\n",
            "step 610\n",
            "step 611\n",
            "step 612\n",
            "step 613\n",
            "step 614\n",
            "step 615\n",
            "step 616\n",
            "step 617\n",
            "step 618\n",
            "step 619\n",
            "step 620\n",
            "step 621\n",
            "step 622\n",
            "step 623\n",
            "step 624\n",
            "step 625\n",
            "step 626\n",
            "step 627\n",
            "step 628\n",
            "step 629\n",
            "step 630\n",
            "step 631\n",
            "step 632\n",
            "step 633\n",
            "step 634\n",
            "step 635\n",
            "step 636\n",
            "step 637\n",
            "step 638\n",
            "step 639\n",
            "step 640\n",
            "step 641\n",
            "step 642\n",
            "step 643\n",
            "step 644\n",
            "step 645\n",
            "step 646\n",
            "step 647\n",
            "step 648\n",
            "step 649\n",
            "step 650\n",
            "step 651\n",
            "step 652\n",
            "step 653\n",
            "step 654\n",
            "step 655\n",
            "step 656\n",
            "step 657\n",
            "step 658\n",
            "step 659\n",
            "step 660\n",
            "step 661\n",
            "step 662\n",
            "step 663\n",
            "step 664\n",
            "step 665\n",
            "step 666\n",
            "step 667\n",
            "step 668\n",
            "step 669\n",
            "step 670\n",
            "step 671\n",
            "step 672\n",
            "step 673\n",
            "step 674\n",
            "step 675\n",
            "step 676\n",
            "step 677\n",
            "step 678\n",
            "step 679\n",
            "step 680\n",
            "step 681\n",
            "step 682\n",
            "step 683\n",
            "step 684\n",
            "step 685\n",
            "step 686\n",
            "step 687\n",
            "step 688\n",
            "step 689\n",
            "step 690\n",
            "step 691\n",
            "step 692\n",
            "step 693\n",
            "step 694\n",
            "step 695\n",
            "step 696\n",
            "step 697\n",
            "step 698\n",
            "step 699\n",
            "step 700\n",
            "step 701\n",
            "step 702\n",
            "step 703\n",
            "step 704\n",
            "step 705\n",
            "step 706\n",
            "step 707\n",
            "step 708\n",
            "step 709\n",
            "step 710\n",
            "step 711\n",
            "step 712\n",
            "step 713\n",
            "step 714\n",
            "step 715\n",
            "step 716\n",
            "step 717\n",
            "step 718\n",
            "step 719\n",
            "step 720\n",
            "step 721\n",
            "step 722\n",
            "step 723\n",
            "step 724\n",
            "step 725\n",
            "step 726\n",
            "step 727\n",
            "step 728\n",
            "step 729\n",
            "step 730\n",
            "step 731\n",
            "step 732\n",
            "step 733\n",
            "step 734\n",
            "step 735\n",
            "step 736\n",
            "step 737\n",
            "step 738\n",
            "step 739\n",
            "step 740\n",
            "step 741\n",
            "step 742\n",
            "step 743\n",
            "step 744\n",
            "step 745\n",
            "step 746\n",
            "step 747\n",
            "step 748\n",
            "step 749\n",
            "step 750\n",
            "step 751\n",
            "step 752\n",
            "step 753\n",
            "step 754\n",
            "step 755\n",
            "step 756\n",
            "step 757\n",
            "step 758\n",
            "step 759\n",
            "step 760\n",
            "step 761\n",
            "step 762\n",
            "step 763\n",
            "step 764\n",
            "step 765\n",
            "step 766\n",
            "step 767\n",
            "step 768\n",
            "step 769\n",
            "step 770\n",
            "step 771\n",
            "step 772\n",
            "step 773\n",
            "step 774\n",
            "step 775\n",
            "step 776\n",
            "step 777\n",
            "step 778\n",
            "step 779\n",
            "step 780\n",
            "step 781\n",
            "step 782\n",
            "step 783\n",
            "step 784\n",
            "step 785\n",
            "step 786\n",
            "step 787\n",
            "step 788\n",
            "step 789\n",
            "step 790\n",
            "step 791\n",
            "step 792\n",
            "step 793\n",
            "step 794\n",
            "step 795\n",
            "step 796\n",
            "step 797\n",
            "step 798\n",
            "step 799\n",
            "step 800\n",
            "step 801\n",
            "step 802\n",
            "step 803\n",
            "step 804\n",
            "step 805\n",
            "step 806\n",
            "step 807\n",
            "step 808\n",
            "step 809\n",
            "step 810\n",
            "step 811\n",
            "step 812\n",
            "step 813\n",
            "step 814\n",
            "step 815\n",
            "step 816\n",
            "step 817\n",
            "step 818\n",
            "step 819\n",
            "step 820\n",
            "step 821\n",
            "step 822\n",
            "step 823\n",
            "step 824\n",
            "step 825\n",
            "step 826\n",
            "step 827\n",
            "step 828\n",
            "step 829\n",
            "step 830\n",
            "step 831\n",
            "step 832\n",
            "step 833\n",
            "step 834\n",
            "step 835\n",
            "step 836\n",
            "step 837\n",
            "step 838\n",
            "step 839\n",
            "step 840\n",
            "step 841\n",
            "step 842\n",
            "step 843\n",
            "step 844\n",
            "step 845\n",
            "step 846\n",
            "step 847\n",
            "step 848\n",
            "step 849\n",
            "step 850\n",
            "step 851\n",
            "step 852\n",
            "step 853\n",
            "step 854\n",
            "step 855\n",
            "step 856\n",
            "step 857\n",
            "step 858\n",
            "step 859\n",
            "step 860\n",
            "step 861\n",
            "step 862\n",
            "step 863\n",
            "step 864\n",
            "step 865\n",
            "step 866\n",
            "step 867\n",
            "step 868\n",
            "step 869\n",
            "step 870\n",
            "step 871\n",
            "step 872\n",
            "step 873\n",
            "step 874\n",
            "step 875\n",
            "step 876\n",
            "step 877\n",
            "step 878\n",
            "step 879\n",
            "step 880\n",
            "step 881\n",
            "step 882\n",
            "step 883\n",
            "step 884\n",
            "step 885\n",
            "step 886\n",
            "step 887\n",
            "step 888\n",
            "step 889\n",
            "step 890\n",
            "step 891\n",
            "step 892\n",
            "step 893\n",
            "step 894\n",
            "step 895\n",
            "step 896\n",
            "step 897\n",
            "step 898\n",
            "step 899\n",
            "step 900\n",
            "step 901\n",
            "step 902\n",
            "step 903\n",
            "step 904\n",
            "step 905\n",
            "step 906\n",
            "step 907\n",
            "step 908\n",
            "step 909\n",
            "step 910\n",
            "step 911\n",
            "step 912\n",
            "step 913\n",
            "step 914\n",
            "step 915\n",
            "step 916\n",
            "step 917\n",
            "step 918\n",
            "step 919\n",
            "step 920\n",
            "step 921\n",
            "step 922\n",
            "step 923\n",
            "step 924\n",
            "step 925\n",
            "step 926\n",
            "step 927\n",
            "step 928\n",
            "step 929\n",
            "step 930\n",
            "step 931\n",
            "step 932\n",
            "step 933\n",
            "step 934\n",
            "step 935\n",
            "step 936\n",
            "step 937\n",
            "step 938\n",
            "step 939\n",
            "step 940\n",
            "step 941\n",
            "step 942\n",
            "step 943\n",
            "step 944\n",
            "step 945\n",
            "step 946\n",
            "step 947\n",
            "step 948\n",
            "step 949\n",
            "step 950\n",
            "step 951\n",
            "step 952\n",
            "step 953\n",
            "step 954\n",
            "step 955\n",
            "step 956\n",
            "step 957\n",
            "step 958\n",
            "step 959\n",
            "step 960\n",
            "step 961\n",
            "step 962\n",
            "step 963\n",
            "step 964\n",
            "step 965\n",
            "step 966\n",
            "step 967\n",
            "step 968\n",
            "step 969\n",
            "step 970\n",
            "step 971\n",
            "step 972\n",
            "step 973\n",
            "step 974\n",
            "step 975\n",
            "step 976\n",
            "step 977\n",
            "step 978\n",
            "step 979\n",
            "step 980\n",
            "step 981\n",
            "step 982\n",
            "step 983\n",
            "step 984\n",
            "step 985\n",
            "step 986\n",
            "step 987\n",
            "step 988\n",
            "step 989\n",
            "step 990\n",
            "step 991\n",
            "step 992\n",
            "step 993\n",
            "step 994\n",
            "step 995\n",
            "step 996\n",
            "step 997\n",
            "step 998\n",
            "step 999\n"
          ]
        }
      ],
      "source": [
        "alpha, beta, q = em(L)"
      ]
    },
    {
      "cell_type": "markdown",
      "metadata": {
        "id": "bj85ASeeHXGC"
      },
      "source": [
        "---"
      ]
    },
    {
      "cell_type": "markdown",
      "metadata": {
        "id": "6Ld55iiNHXGC"
      },
      "source": [
        "**Задание 2. (1 балл)** Загрузите настоящую разметку. Посчитайте `accuracy` разметки, полученной с помощью обычного голосования по большинству среди экспертов, и сравните его с качеством **(?)**, полученным с помощью EM-алгоритма."
      ]
    },
    {
      "cell_type": "markdown",
      "metadata": {
        "id": "oyjOZcaaHXGC"
      },
      "source": [
        "**Разбалловка:**\n",
        "* **0.5 балла** -- качество голосования не менее 0.904\n",
        "* **0.5 балла** -- качестве EM не менее 0.95"
      ]
    },
    {
      "cell_type": "markdown",
      "metadata": {
        "id": "eggbQoncHXGC"
      },
      "source": [
        "**Подсказка:**\n",
        "* Помните, что алгоритму не важно, какая метка 0, а какая 1, поэтому если получите качество <0.5, то просто поменяйте метки классов (не забудьте также поменять знак у $\\alpha$)."
      ]
    },
    {
      "cell_type": "markdown",
      "metadata": {
        "id": "LgiIxK3rHXGC"
      },
      "source": [
        "---"
      ]
    },
    {
      "cell_type": "code",
      "execution_count": 64,
      "metadata": {
        "id": "yJdGS9UvHXGD",
        "colab": {
          "base_uri": "https://localhost:8080/"
        },
        "outputId": "4fadf4c3-4a08-4701-ca9c-a1f1552a6073"
      },
      "outputs": [
        {
          "output_type": "stream",
          "name": "stdout",
          "text": [
            "acc_voted 0.904\n",
            "Accuracy EM-алгоритма: 0.9555\n"
          ]
        }
      ],
      "source": [
        "y = np.load('y.npy')\n",
        "y_voted = np.where(L.mean(axis=1)>0.5,1,0)\n",
        "acc_voted = (y==y_voted).mean()\n",
        "print('acc_voted', acc_voted)\n",
        "\n",
        "y_em = (q.argmax)(axis=0)\n",
        "#y_em = -(y_em-1)\n",
        "acc_em = (y == y_em).mean()\n",
        "print(f\"Accuracy EM-алгоритма: {acc_em:.4f}\")"
      ]
    },
    {
      "cell_type": "markdown",
      "metadata": {
        "id": "1KiX5GWZHXGD"
      },
      "source": [
        "---"
      ]
    },
    {
      "cell_type": "markdown",
      "metadata": {
        "id": "1wFt_2cMHXGD"
      },
      "source": [
        "**Задание 3. (0.5 балла)** **(?)** Попробуйте проинтерпретировать полученные коэфициенты $\\alpha$. **(?)**  Есть ли в выборке эксперты, которые намеренно голосуют неверно? **(?)**  Как это можно понять по альфам?\n",
        "\n",
        "* Продемонстрируйте, что эксперты действительно чаще голосуют за неверный класс.\n",
        "* Отобразите визуализацию зависимости доли врено размеченных экспертом объектов от коэффициента $\\alpha$.\n",
        "* **(?)**  Прокомментируйте результаты и полученную зависимость."
      ]
    },
    {
      "cell_type": "markdown",
      "metadata": {
        "id": "5aLEGKeuHXGD"
      },
      "source": [
        "**Подсказки:**\n",
        "* Если вы отобразили или хотели отобразить зависимость при помощи обычного plot (график), то посмотрите повнимательнее/подумайте, почему это не очень хорошая визуализация. **Для возможности получения полного балла** правильно будет использовать тип отображения scatter plot.\n",
        "*  Также **для возможности получения полного балла** вам необходимо проинтерпретировать смысл зависимости для всех групп альф, которые вы увидите (спойлер: их должно быть 3:)"
      ]
    },
    {
      "cell_type": "markdown",
      "metadata": {
        "id": "s1c0QDkRHXGE"
      },
      "source": [
        "---"
      ]
    },
    {
      "cell_type": "code",
      "source": [
        "%matplotlib inline\n",
        "%config InlineBackend.figure_format = 'svg'\n",
        "import matplotlib_inline\n",
        "matplotlib_inline.backend_inline.set_matplotlib_formats('pdf', 'svg')"
      ],
      "metadata": {
        "id": "zwce_n1omwku"
      },
      "execution_count": 65,
      "outputs": []
    },
    {
      "cell_type": "code",
      "execution_count": 66,
      "metadata": {
        "id": "s2eHYO_gHXGE",
        "colab": {
          "base_uri": "https://localhost:8080/",
          "height": 490
        },
        "outputId": "4a3b7924-6a86-4dcb-dc9c-f7f41bf10dcf"
      },
      "outputs": [
        {
          "output_type": "display_data",
          "data": {
            "text/plain": [
              "<Figure size 1000x800 with 0 Axes>"
            ]
          },
          "metadata": {}
        },
        {
          "output_type": "display_data",
          "data": {
            "text/plain": [
              "<Figure size 800x500 with 1 Axes>"
            ],
            "image/svg+xml": "<?xml version=\"1.0\" encoding=\"utf-8\" standalone=\"no\"?>\n<!DOCTYPE svg PUBLIC \"-//W3C//DTD SVG 1.1//EN\"\n  \"http://www.w3.org/Graphics/SVG/1.1/DTD/svg11.dtd\">\n<svg xmlns:xlink=\"http://www.w3.org/1999/xlink\" width=\"497.38125pt\" height=\"337.074375pt\" viewBox=\"0 0 497.38125 337.074375\" xmlns=\"http://www.w3.org/2000/svg\" version=\"1.1\">\n <metadata>\n  <rdf:RDF xmlns:dc=\"http://purl.org/dc/elements/1.1/\" xmlns:cc=\"http://creativecommons.org/ns#\" xmlns:rdf=\"http://www.w3.org/1999/02/22-rdf-syntax-ns#\">\n   <cc:Work>\n    <dc:type rdf:resource=\"http://purl.org/dc/dcmitype/StillImage\"/>\n    <dc:date>2025-04-03T00:19:59.854439</dc:date>\n    <dc:format>image/svg+xml</dc:format>\n    <dc:creator>\n     <cc:Agent>\n      <dc:title>Matplotlib v3.10.0, https://matplotlib.org/</dc:title>\n     </cc:Agent>\n    </dc:creator>\n   </cc:Work>\n  </rdf:RDF>\n </metadata>\n <defs>\n  <style type=\"text/css\">*{stroke-linejoin: round; stroke-linecap: butt}</style>\n </defs>\n <g id=\"figure_1\">\n  <g id=\"patch_1\">\n   <path d=\"M 0 337.074375 \nL 497.38125 337.074375 \nL 497.38125 0 \nL 0 0 \nz\n\" style=\"fill: #ffffff\"/>\n  </g>\n  <g id=\"axes_1\">\n   <g id=\"patch_2\">\n    <path d=\"M 43.78125 299.518125 \nL 490.18125 299.518125 \nL 490.18125 22.318125 \nL 43.78125 22.318125 \nz\n\" style=\"fill: #ffffff\"/>\n   </g>\n   <g id=\"PathCollection_1\">\n    <defs>\n     <path id=\"mb8c3f36724\" d=\"M 0 3 \nC 0.795609 3 1.55874 2.683901 2.12132 2.12132 \nC 2.683901 1.55874 3 0.795609 3 0 \nC 3 -0.795609 2.683901 -1.55874 2.12132 -2.12132 \nC 1.55874 -2.683901 0.795609 -3 0 -3 \nC -0.795609 -3 -1.55874 -2.683901 -2.12132 -2.12132 \nC -2.683901 -1.55874 -3 -0.795609 -3 0 \nC -3 0.795609 -2.683901 1.55874 -2.12132 2.12132 \nC -1.55874 2.683901 -0.795609 3 0 3 \nz\n\" style=\"stroke: #1f77b4\"/>\n    </defs>\n    <g clip-path=\"url(#p4f8cfca8bd)\">\n     <use xlink:href=\"#mb8c3f36724\" x=\"297.106103\" y=\"102.196814\" style=\"fill: #1f77b4; stroke: #1f77b4\"/>\n     <use xlink:href=\"#mb8c3f36724\" x=\"302.247795\" y=\"98.360748\" style=\"fill: #1f77b4; stroke: #1f77b4\"/>\n     <use xlink:href=\"#mb8c3f36724\" x=\"469.890341\" y=\"34.918125\" style=\"fill: #1f77b4; stroke: #1f77b4\"/>\n     <use xlink:href=\"#mb8c3f36724\" x=\"293.29422\" y=\"109.426322\" style=\"fill: #1f77b4; stroke: #1f77b4\"/>\n     <use xlink:href=\"#mb8c3f36724\" x=\"297.360738\" y=\"102.639436\" style=\"fill: #1f77b4; stroke: #1f77b4\"/>\n     <use xlink:href=\"#mb8c3f36724\" x=\"464.91707\" y=\"36.688617\" style=\"fill: #1f77b4; stroke: #1f77b4\"/>\n     <use xlink:href=\"#mb8c3f36724\" x=\"296.019082\" y=\"104.557469\" style=\"fill: #1f77b4; stroke: #1f77b4\"/>\n     <use xlink:href=\"#mb8c3f36724\" x=\"453.875264\" y=\"36.541076\" style=\"fill: #1f77b4; stroke: #1f77b4\"/>\n     <use xlink:href=\"#mb8c3f36724\" x=\"75.843139\" y=\"284.70501\" style=\"fill: #1f77b4; stroke: #1f77b4\"/>\n     <use xlink:href=\"#mb8c3f36724\" x=\"298.178718\" y=\"101.60665\" style=\"fill: #1f77b4; stroke: #1f77b4\"/>\n     <use xlink:href=\"#mb8c3f36724\" x=\"64.072159\" y=\"286.475502\" style=\"fill: #1f77b4; stroke: #1f77b4\"/>\n     <use xlink:href=\"#mb8c3f36724\" x=\"69.191598\" y=\"286.918125\" style=\"fill: #1f77b4; stroke: #1f77b4\"/>\n     <use xlink:href=\"#mb8c3f36724\" x=\"460.747205\" y=\"35.803371\" style=\"fill: #1f77b4; stroke: #1f77b4\"/>\n     <use xlink:href=\"#mb8c3f36724\" x=\"293.64006\" y=\"106.918125\" style=\"fill: #1f77b4; stroke: #1f77b4\"/>\n     <use xlink:href=\"#mb8c3f36724\" x=\"297.929901\" y=\"107.065666\" style=\"fill: #1f77b4; stroke: #1f77b4\"/>\n     <use xlink:href=\"#mb8c3f36724\" x=\"292.184417\" y=\"108.393535\" style=\"fill: #1f77b4; stroke: #1f77b4\"/>\n     <use xlink:href=\"#mb8c3f36724\" x=\"298.329492\" y=\"101.164027\" style=\"fill: #1f77b4; stroke: #1f77b4\"/>\n     <use xlink:href=\"#mb8c3f36724\" x=\"457.587593\" y=\"38.754191\" style=\"fill: #1f77b4; stroke: #1f77b4\"/>\n     <use xlink:href=\"#mb8c3f36724\" x=\"79.334351\" y=\"284.557469\" style=\"fill: #1f77b4; stroke: #1f77b4\"/>\n     <use xlink:href=\"#mb8c3f36724\" x=\"454.772085\" y=\"38.311568\" style=\"fill: #1f77b4; stroke: #1f77b4\"/>\n    </g>\n   </g>\n   <g id=\"matplotlib.axis_1\">\n    <g id=\"xtick_1\">\n     <g id=\"line2d_1\">\n      <path d=\"M 88.561703 299.518125 \nL 88.561703 22.318125 \n\" clip-path=\"url(#p4f8cfca8bd)\" style=\"fill: none; stroke: #b0b0b0; stroke-width: 0.8; stroke-linecap: square\"/>\n     </g>\n     <g id=\"line2d_2\">\n      <defs>\n       <path id=\"m94d9cf64f3\" d=\"M 0 0 \nL 0 3.5 \n\" style=\"stroke: #000000; stroke-width: 0.8\"/>\n      </defs>\n      <g>\n       <use xlink:href=\"#m94d9cf64f3\" x=\"88.561703\" y=\"299.518125\" style=\"stroke: #000000; stroke-width: 0.8\"/>\n      </g>\n     </g>\n     <g id=\"text_1\">\n      <!-- −4 -->\n      <g transform=\"translate(81.190609 314.116563) scale(0.1 -0.1)\">\n       <defs>\n        <path id=\"DejaVuSans-2212\" d=\"M 678 2272 \nL 4684 2272 \nL 4684 1741 \nL 678 1741 \nL 678 2272 \nz\n\" transform=\"scale(0.015625)\"/>\n        <path id=\"DejaVuSans-34\" d=\"M 2419 4116 \nL 825 1625 \nL 2419 1625 \nL 2419 4116 \nz\nM 2253 4666 \nL 3047 4666 \nL 3047 1625 \nL 3713 1625 \nL 3713 1100 \nL 3047 1100 \nL 3047 0 \nL 2419 0 \nL 2419 1100 \nL 313 1100 \nL 313 1709 \nL 2253 4666 \nz\n\" transform=\"scale(0.015625)\"/>\n       </defs>\n       <use xlink:href=\"#DejaVuSans-2212\"/>\n       <use xlink:href=\"#DejaVuSans-34\" transform=\"translate(83.789062 0)\"/>\n      </g>\n     </g>\n    </g>\n    <g id=\"xtick_2\">\n     <g id=\"line2d_3\">\n      <path d=\"M 178.256138 299.518125 \nL 178.256138 22.318125 \n\" clip-path=\"url(#p4f8cfca8bd)\" style=\"fill: none; stroke: #b0b0b0; stroke-width: 0.8; stroke-linecap: square\"/>\n     </g>\n     <g id=\"line2d_4\">\n      <g>\n       <use xlink:href=\"#m94d9cf64f3\" x=\"178.256138\" y=\"299.518125\" style=\"stroke: #000000; stroke-width: 0.8\"/>\n      </g>\n     </g>\n     <g id=\"text_2\">\n      <!-- −2 -->\n      <g transform=\"translate(170.885044 314.116563) scale(0.1 -0.1)\">\n       <defs>\n        <path id=\"DejaVuSans-32\" d=\"M 1228 531 \nL 3431 531 \nL 3431 0 \nL 469 0 \nL 469 531 \nQ 828 903 1448 1529 \nQ 2069 2156 2228 2338 \nQ 2531 2678 2651 2914 \nQ 2772 3150 2772 3378 \nQ 2772 3750 2511 3984 \nQ 2250 4219 1831 4219 \nQ 1534 4219 1204 4116 \nQ 875 4013 500 3803 \nL 500 4441 \nQ 881 4594 1212 4672 \nQ 1544 4750 1819 4750 \nQ 2544 4750 2975 4387 \nQ 3406 4025 3406 3419 \nQ 3406 3131 3298 2873 \nQ 3191 2616 2906 2266 \nQ 2828 2175 2409 1742 \nQ 1991 1309 1228 531 \nz\n\" transform=\"scale(0.015625)\"/>\n       </defs>\n       <use xlink:href=\"#DejaVuSans-2212\"/>\n       <use xlink:href=\"#DejaVuSans-32\" transform=\"translate(83.789062 0)\"/>\n      </g>\n     </g>\n    </g>\n    <g id=\"xtick_3\">\n     <g id=\"line2d_5\">\n      <path d=\"M 267.950572 299.518125 \nL 267.950572 22.318125 \n\" clip-path=\"url(#p4f8cfca8bd)\" style=\"fill: none; stroke: #b0b0b0; stroke-width: 0.8; stroke-linecap: square\"/>\n     </g>\n     <g id=\"line2d_6\">\n      <g>\n       <use xlink:href=\"#m94d9cf64f3\" x=\"267.950572\" y=\"299.518125\" style=\"stroke: #000000; stroke-width: 0.8\"/>\n      </g>\n     </g>\n     <g id=\"text_3\">\n      <!-- 0 -->\n      <g transform=\"translate(264.769322 314.116563) scale(0.1 -0.1)\">\n       <defs>\n        <path id=\"DejaVuSans-30\" d=\"M 2034 4250 \nQ 1547 4250 1301 3770 \nQ 1056 3291 1056 2328 \nQ 1056 1369 1301 889 \nQ 1547 409 2034 409 \nQ 2525 409 2770 889 \nQ 3016 1369 3016 2328 \nQ 3016 3291 2770 3770 \nQ 2525 4250 2034 4250 \nz\nM 2034 4750 \nQ 2819 4750 3233 4129 \nQ 3647 3509 3647 2328 \nQ 3647 1150 3233 529 \nQ 2819 -91 2034 -91 \nQ 1250 -91 836 529 \nQ 422 1150 422 2328 \nQ 422 3509 836 4129 \nQ 1250 4750 2034 4750 \nz\n\" transform=\"scale(0.015625)\"/>\n       </defs>\n       <use xlink:href=\"#DejaVuSans-30\"/>\n      </g>\n     </g>\n    </g>\n    <g id=\"xtick_4\">\n     <g id=\"line2d_7\">\n      <path d=\"M 357.645006 299.518125 \nL 357.645006 22.318125 \n\" clip-path=\"url(#p4f8cfca8bd)\" style=\"fill: none; stroke: #b0b0b0; stroke-width: 0.8; stroke-linecap: square\"/>\n     </g>\n     <g id=\"line2d_8\">\n      <g>\n       <use xlink:href=\"#m94d9cf64f3\" x=\"357.645006\" y=\"299.518125\" style=\"stroke: #000000; stroke-width: 0.8\"/>\n      </g>\n     </g>\n     <g id=\"text_4\">\n      <!-- 2 -->\n      <g transform=\"translate(354.463756 314.116563) scale(0.1 -0.1)\">\n       <use xlink:href=\"#DejaVuSans-32\"/>\n      </g>\n     </g>\n    </g>\n    <g id=\"xtick_5\">\n     <g id=\"line2d_9\">\n      <path d=\"M 447.33944 299.518125 \nL 447.33944 22.318125 \n\" clip-path=\"url(#p4f8cfca8bd)\" style=\"fill: none; stroke: #b0b0b0; stroke-width: 0.8; stroke-linecap: square\"/>\n     </g>\n     <g id=\"line2d_10\">\n      <g>\n       <use xlink:href=\"#m94d9cf64f3\" x=\"447.33944\" y=\"299.518125\" style=\"stroke: #000000; stroke-width: 0.8\"/>\n      </g>\n     </g>\n     <g id=\"text_5\">\n      <!-- 4 -->\n      <g transform=\"translate(444.15819 314.116563) scale(0.1 -0.1)\">\n       <use xlink:href=\"#DejaVuSans-34\"/>\n      </g>\n     </g>\n    </g>\n    <g id=\"text_6\">\n     <!-- Коэффициент экспертизы α -->\n     <g transform=\"translate(192.642187 327.794688) scale(0.1 -0.1)\">\n      <defs>\n       <path id=\"DejaVuSans-41a\" d=\"M 628 4666 \nL 1259 4666 \nL 1259 2359 \nL 3516 4666 \nL 4325 4666 \nL 2522 2822 \nL 4419 0 \nL 3731 0 \nL 2113 2403 \nL 1259 1531 \nL 1259 0 \nL 628 0 \nL 628 4666 \nz\n\" transform=\"scale(0.015625)\"/>\n       <path id=\"DejaVuSans-43e\" d=\"M 1959 3097 \nQ 1497 3097 1228 2736 \nQ 959 2375 959 1747 \nQ 959 1119 1226 758 \nQ 1494 397 1959 397 \nQ 2419 397 2687 759 \nQ 2956 1122 2956 1747 \nQ 2956 2369 2687 2733 \nQ 2419 3097 1959 3097 \nz\nM 1959 3584 \nQ 2709 3584 3137 3096 \nQ 3566 2609 3566 1747 \nQ 3566 888 3137 398 \nQ 2709 -91 1959 -91 \nQ 1206 -91 779 398 \nQ 353 888 353 1747 \nQ 353 2609 779 3096 \nQ 1206 3584 1959 3584 \nz\n\" transform=\"scale(0.015625)\"/>\n       <path id=\"DejaVuSans-44d\" d=\"M 353 666 \nQ 847 397 1338 397 \nQ 1797 397 2125 664 \nQ 2453 931 2513 1613 \nL 738 1613 \nL 738 2072 \nL 2494 2072 \nQ 2456 2400 2207 2748 \nQ 1959 3097 1338 3097 \nQ 856 3097 353 2828 \nL 353 3366 \nQ 844 3584 1363 3584 \nQ 2181 3584 2651 3089 \nQ 3122 2594 3122 1747 \nQ 3122 903 2664 406 \nQ 2206 -91 1403 -91 \nQ 813 -91 353 134 \nL 353 666 \nz\n\" transform=\"scale(0.015625)\"/>\n       <path id=\"DejaVuSans-444\" d=\"M 947 1747 \nQ 947 1013 1173 702 \nQ 1400 391 1784 391 \nQ 2091 391 2447 916 \nL 2447 2578 \nQ 2091 3103 1784 3103 \nQ 1400 3103 1173 2792 \nQ 947 2481 947 1747 \nz\nM 2447 -1331 \nL 2447 447 \nQ 2269 153 2064 31 \nQ 1859 -91 1600 -91 \nQ 1078 -91 714 392 \nQ 350 875 350 1734 \nQ 350 2594 714 3089 \nQ 1078 3584 1600 3584 \nQ 1859 3584 2064 3465 \nQ 2269 3347 2447 3053 \nL 2447 4666 \nL 3025 4666 \nL 3025 3053 \nQ 3203 3347 3408 3465 \nQ 3613 3584 3872 3584 \nQ 4394 3584 4758 3089 \nQ 5122 2594 5122 1734 \nQ 5122 875 4758 392 \nQ 4394 -91 3872 -91 \nQ 3613 -91 3408 31 \nQ 3203 153 3025 447 \nL 3025 -1331 \nL 2447 -1331 \nz\nM 4525 1747 \nQ 4525 2481 4298 2792 \nQ 4072 3103 3688 3103 \nQ 3381 3103 3025 2578 \nL 3025 916 \nQ 3381 391 3688 391 \nQ 4072 391 4298 702 \nQ 4525 1013 4525 1747 \nz\n\" transform=\"scale(0.015625)\"/>\n       <path id=\"DejaVuSans-438\" d=\"M 3578 3500 \nL 3578 0 \nL 3006 0 \nL 3006 2809 \nL 1319 0 \nL 581 0 \nL 581 3500 \nL 1153 3500 \nL 1153 697 \nL 2838 3500 \nL 3578 3500 \nz\n\" transform=\"scale(0.015625)\"/>\n       <path id=\"DejaVuSans-446\" d=\"M 3603 0 \nL 581 0 \nL 581 3500 \nL 1159 3500 \nL 1159 459 \nL 3025 459 \nL 3025 3500 \nL 3603 3500 \nL 3603 459 \nL 4063 459 \nL 4063 -884 \nL 3603 -884 \nL 3603 0 \nz\n\" transform=\"scale(0.015625)\"/>\n       <path id=\"DejaVuSans-435\" d=\"M 3597 1894 \nL 3597 1613 \nL 953 1613 \nQ 991 1019 1311 708 \nQ 1631 397 2203 397 \nQ 2534 397 2845 478 \nQ 3156 559 3463 722 \nL 3463 178 \nQ 3153 47 2828 -22 \nQ 2503 -91 2169 -91 \nQ 1331 -91 842 396 \nQ 353 884 353 1716 \nQ 353 2575 817 3079 \nQ 1281 3584 2069 3584 \nQ 2775 3584 3186 3129 \nQ 3597 2675 3597 1894 \nz\nM 3022 2063 \nQ 3016 2534 2758 2815 \nQ 2500 3097 2075 3097 \nQ 1594 3097 1305 2825 \nQ 1016 2553 972 2059 \nL 3022 2063 \nz\n\" transform=\"scale(0.015625)\"/>\n       <path id=\"DejaVuSans-43d\" d=\"M 581 3500 \nL 1159 3500 \nL 1159 2072 \nL 3025 2072 \nL 3025 3500 \nL 3603 3500 \nL 3603 0 \nL 3025 0 \nL 3025 1613 \nL 1159 1613 \nL 1159 0 \nL 581 0 \nL 581 3500 \nz\n\" transform=\"scale(0.015625)\"/>\n       <path id=\"DejaVuSans-442\" d=\"M 188 3500 \nL 3541 3500 \nL 3541 3041 \nL 2147 3041 \nL 2147 0 \nL 1581 0 \nL 1581 3041 \nL 188 3041 \nL 188 3500 \nz\n\" transform=\"scale(0.015625)\"/>\n       <path id=\"DejaVuSans-20\" transform=\"scale(0.015625)\"/>\n       <path id=\"DejaVuSans-43a\" d=\"M 581 3500 \nL 1153 3500 \nL 1153 1856 \nL 2775 3500 \nL 3481 3500 \nL 2144 2147 \nL 3653 0 \nL 3009 0 \nL 1769 1766 \nL 1153 1141 \nL 1153 0 \nL 581 0 \nL 581 3500 \nz\n\" transform=\"scale(0.015625)\"/>\n       <path id=\"DejaVuSans-441\" d=\"M 3122 3366 \nL 3122 2828 \nQ 2878 2963 2633 3030 \nQ 2388 3097 2138 3097 \nQ 1578 3097 1268 2742 \nQ 959 2388 959 1747 \nQ 959 1106 1268 751 \nQ 1578 397 2138 397 \nQ 2388 397 2633 464 \nQ 2878 531 3122 666 \nL 3122 134 \nQ 2881 22 2623 -34 \nQ 2366 -91 2075 -91 \nQ 1284 -91 818 406 \nQ 353 903 353 1747 \nQ 353 2603 823 3093 \nQ 1294 3584 2113 3584 \nQ 2378 3584 2631 3529 \nQ 2884 3475 3122 3366 \nz\n\" transform=\"scale(0.015625)\"/>\n       <path id=\"DejaVuSans-43f\" d=\"M 3603 3500 \nL 3603 0 \nL 3025 0 \nL 3025 3041 \nL 1159 3041 \nL 1159 0 \nL 581 0 \nL 581 3500 \nL 3603 3500 \nz\n\" transform=\"scale(0.015625)\"/>\n       <path id=\"DejaVuSans-440\" d=\"M 1159 525 \nL 1159 -1331 \nL 581 -1331 \nL 581 3500 \nL 1159 3500 \nL 1159 2969 \nQ 1341 3281 1617 3432 \nQ 1894 3584 2278 3584 \nQ 2916 3584 3314 3078 \nQ 3713 2572 3713 1747 \nQ 3713 922 3314 415 \nQ 2916 -91 2278 -91 \nQ 1894 -91 1617 61 \nQ 1341 213 1159 525 \nz\nM 3116 1747 \nQ 3116 2381 2855 2742 \nQ 2594 3103 2138 3103 \nQ 1681 3103 1420 2742 \nQ 1159 2381 1159 1747 \nQ 1159 1113 1420 752 \nQ 1681 391 2138 391 \nQ 2594 391 2855 752 \nQ 3116 1113 3116 1747 \nz\n\" transform=\"scale(0.015625)\"/>\n       <path id=\"DejaVuSans-437\" d=\"M 2206 1888 \nQ 2594 1813 2809 1584 \nQ 3025 1356 3025 1019 \nQ 3025 478 2622 193 \nQ 2219 -91 1475 -91 \nQ 1225 -91 961 -47 \nQ 697 -3 416 84 \nL 416 619 \nQ 638 503 903 445 \nQ 1169 388 1459 388 \nQ 1931 388 2195 563 \nQ 2459 738 2459 1019 \nQ 2459 1294 2225 1461 \nQ 1991 1628 1563 1628 \nL 1100 1628 \nL 1100 2103 \nL 1584 2103 \nQ 1947 2103 2158 2242 \nQ 2369 2381 2369 2600 \nQ 2369 2800 2151 2944 \nQ 1934 3088 1563 3088 \nQ 1341 3088 1089 3047 \nQ 838 3006 534 2916 \nL 534 3438 \nQ 841 3513 1106 3550 \nQ 1372 3588 1609 3588 \nQ 2222 3588 2576 3342 \nQ 2931 3097 2931 2656 \nQ 2931 2366 2743 2164 \nQ 2556 1963 2206 1888 \nz\n\" transform=\"scale(0.015625)\"/>\n       <path id=\"DejaVuSans-44b\" d=\"M 3907 3500 \nL 4482 3500 \nL 4482 0 \nL 3907 0 \nL 3907 3500 \nz\nM 4195 3584 \nL 4195 3584 \nz\nM 2781 1038 \nQ 2781 1319 2576 1466 \nQ 2372 1613 1978 1613 \nL 1159 1613 \nL 1159 459 \nL 1978 459 \nQ 2372 459 2576 607 \nQ 2781 756 2781 1038 \nz\nM 581 3500 \nL 1159 3500 \nL 1159 2072 \nL 2003 2072 \nQ 2672 2072 3033 1817 \nQ 3394 1563 3394 1038 \nQ 3394 513 3033 256 \nQ 2672 0 2003 0 \nL 581 0 \nL 581 3500 \nz\n\" transform=\"scale(0.015625)\"/>\n       <path id=\"DejaVuSans-3b1\" d=\"M 2644 1628 \nL 2506 2350 \nQ 2366 3091 1809 3091 \nQ 1391 3091 1200 2747 \nQ 959 2316 959 1747 \nQ 959 1059 1194 731 \nQ 1431 397 1809 397 \nQ 2228 397 2453 1063 \nL 2644 1628 \nz\nM 2966 2584 \nL 3275 3500 \nL 3788 3500 \nL 3147 1603 \nL 3272 919 \nQ 3300 766 3409 638 \nQ 3538 488 3638 488 \nL 3913 488 \nL 3913 0 \nL 3569 0 \nQ 3275 0 3013 263 \nQ 2884 394 2831 669 \nQ 2688 322 2394 50 \nQ 2256 -78 1809 -78 \nQ 1075 -78 719 397 \nQ 353 888 353 1747 \nQ 353 2666 750 3097 \nQ 1191 3578 1809 3578 \nQ 2781 3578 2966 2584 \nz\n\" transform=\"scale(0.015625)\"/>\n      </defs>\n      <use xlink:href=\"#DejaVuSans-41a\"/>\n      <use xlink:href=\"#DejaVuSans-43e\" transform=\"translate(70.996094 0)\"/>\n      <use xlink:href=\"#DejaVuSans-44d\" transform=\"translate(132.177734 0)\"/>\n      <use xlink:href=\"#DejaVuSans-444\" transform=\"translate(187.060547 0)\"/>\n      <use xlink:href=\"#DejaVuSans-444\" transform=\"translate(272.558594 0)\"/>\n      <use xlink:href=\"#DejaVuSans-438\" transform=\"translate(358.056641 0)\"/>\n      <use xlink:href=\"#DejaVuSans-446\" transform=\"translate(423.046875 0)\"/>\n      <use xlink:href=\"#DejaVuSans-438\" transform=\"translate(491.113281 0)\"/>\n      <use xlink:href=\"#DejaVuSans-435\" transform=\"translate(556.103516 0)\"/>\n      <use xlink:href=\"#DejaVuSans-43d\" transform=\"translate(617.626953 0)\"/>\n      <use xlink:href=\"#DejaVuSans-442\" transform=\"translate(683.007812 0)\"/>\n      <use xlink:href=\"#DejaVuSans-20\" transform=\"translate(741.259766 0)\"/>\n      <use xlink:href=\"#DejaVuSans-44d\" transform=\"translate(773.046875 0)\"/>\n      <use xlink:href=\"#DejaVuSans-43a\" transform=\"translate(827.929688 0)\"/>\n      <use xlink:href=\"#DejaVuSans-441\" transform=\"translate(888.330078 0)\"/>\n      <use xlink:href=\"#DejaVuSans-43f\" transform=\"translate(943.310547 0)\"/>\n      <use xlink:href=\"#DejaVuSans-435\" transform=\"translate(1008.691406 0)\"/>\n      <use xlink:href=\"#DejaVuSans-440\" transform=\"translate(1070.214844 0)\"/>\n      <use xlink:href=\"#DejaVuSans-442\" transform=\"translate(1133.691406 0)\"/>\n      <use xlink:href=\"#DejaVuSans-438\" transform=\"translate(1191.943359 0)\"/>\n      <use xlink:href=\"#DejaVuSans-437\" transform=\"translate(1256.933594 0)\"/>\n      <use xlink:href=\"#DejaVuSans-44b\" transform=\"translate(1310.107422 0)\"/>\n      <use xlink:href=\"#DejaVuSans-20\" transform=\"translate(1389.0625 0)\"/>\n      <use xlink:href=\"#DejaVuSans-3b1\" transform=\"translate(1420.849609 0)\"/>\n     </g>\n    </g>\n   </g>\n   <g id=\"matplotlib.axis_2\">\n    <g id=\"ytick_1\">\n     <g id=\"line2d_11\">\n      <path d=\"M 43.78125 249.590256 \nL 490.18125 249.590256 \n\" clip-path=\"url(#p4f8cfca8bd)\" style=\"fill: none; stroke: #b0b0b0; stroke-width: 0.8; stroke-linecap: square\"/>\n     </g>\n     <g id=\"line2d_12\">\n      <defs>\n       <path id=\"mb20c42682f\" d=\"M 0 0 \nL -3.5 0 \n\" style=\"stroke: #000000; stroke-width: 0.8\"/>\n      </defs>\n      <g>\n       <use xlink:href=\"#mb20c42682f\" x=\"43.78125\" y=\"249.590256\" style=\"stroke: #000000; stroke-width: 0.8\"/>\n      </g>\n     </g>\n     <g id=\"text_7\">\n      <!-- 0.2 -->\n      <g transform=\"translate(20.878125 253.389475) scale(0.1 -0.1)\">\n       <defs>\n        <path id=\"DejaVuSans-2e\" d=\"M 684 794 \nL 1344 794 \nL 1344 0 \nL 684 0 \nL 684 794 \nz\n\" transform=\"scale(0.015625)\"/>\n       </defs>\n       <use xlink:href=\"#DejaVuSans-30\"/>\n       <use xlink:href=\"#DejaVuSans-2e\" transform=\"translate(63.623047 0)\"/>\n       <use xlink:href=\"#DejaVuSans-32\" transform=\"translate(95.410156 0)\"/>\n      </g>\n     </g>\n    </g>\n    <g id=\"ytick_2\">\n     <g id=\"line2d_13\">\n      <path d=\"M 43.78125 190.573863 \nL 490.18125 190.573863 \n\" clip-path=\"url(#p4f8cfca8bd)\" style=\"fill: none; stroke: #b0b0b0; stroke-width: 0.8; stroke-linecap: square\"/>\n     </g>\n     <g id=\"line2d_14\">\n      <g>\n       <use xlink:href=\"#mb20c42682f\" x=\"43.78125\" y=\"190.573863\" style=\"stroke: #000000; stroke-width: 0.8\"/>\n      </g>\n     </g>\n     <g id=\"text_8\">\n      <!-- 0.4 -->\n      <g transform=\"translate(20.878125 194.373081) scale(0.1 -0.1)\">\n       <use xlink:href=\"#DejaVuSans-30\"/>\n       <use xlink:href=\"#DejaVuSans-2e\" transform=\"translate(63.623047 0)\"/>\n       <use xlink:href=\"#DejaVuSans-34\" transform=\"translate(95.410156 0)\"/>\n      </g>\n     </g>\n    </g>\n    <g id=\"ytick_3\">\n     <g id=\"line2d_15\">\n      <path d=\"M 43.78125 131.557469 \nL 490.18125 131.557469 \n\" clip-path=\"url(#p4f8cfca8bd)\" style=\"fill: none; stroke: #b0b0b0; stroke-width: 0.8; stroke-linecap: square\"/>\n     </g>\n     <g id=\"line2d_16\">\n      <g>\n       <use xlink:href=\"#mb20c42682f\" x=\"43.78125\" y=\"131.557469\" style=\"stroke: #000000; stroke-width: 0.8\"/>\n      </g>\n     </g>\n     <g id=\"text_9\">\n      <!-- 0.6 -->\n      <g transform=\"translate(20.878125 135.356688) scale(0.1 -0.1)\">\n       <defs>\n        <path id=\"DejaVuSans-36\" d=\"M 2113 2584 \nQ 1688 2584 1439 2293 \nQ 1191 2003 1191 1497 \nQ 1191 994 1439 701 \nQ 1688 409 2113 409 \nQ 2538 409 2786 701 \nQ 3034 994 3034 1497 \nQ 3034 2003 2786 2293 \nQ 2538 2584 2113 2584 \nz\nM 3366 4563 \nL 3366 3988 \nQ 3128 4100 2886 4159 \nQ 2644 4219 2406 4219 \nQ 1781 4219 1451 3797 \nQ 1122 3375 1075 2522 \nQ 1259 2794 1537 2939 \nQ 1816 3084 2150 3084 \nQ 2853 3084 3261 2657 \nQ 3669 2231 3669 1497 \nQ 3669 778 3244 343 \nQ 2819 -91 2113 -91 \nQ 1303 -91 875 529 \nQ 447 1150 447 2328 \nQ 447 3434 972 4092 \nQ 1497 4750 2381 4750 \nQ 2619 4750 2861 4703 \nQ 3103 4656 3366 4563 \nz\n\" transform=\"scale(0.015625)\"/>\n       </defs>\n       <use xlink:href=\"#DejaVuSans-30\"/>\n       <use xlink:href=\"#DejaVuSans-2e\" transform=\"translate(63.623047 0)\"/>\n       <use xlink:href=\"#DejaVuSans-36\" transform=\"translate(95.410156 0)\"/>\n      </g>\n     </g>\n    </g>\n    <g id=\"ytick_4\">\n     <g id=\"line2d_17\">\n      <path d=\"M 43.78125 72.541076 \nL 490.18125 72.541076 \n\" clip-path=\"url(#p4f8cfca8bd)\" style=\"fill: none; stroke: #b0b0b0; stroke-width: 0.8; stroke-linecap: square\"/>\n     </g>\n     <g id=\"line2d_18\">\n      <g>\n       <use xlink:href=\"#mb20c42682f\" x=\"43.78125\" y=\"72.541076\" style=\"stroke: #000000; stroke-width: 0.8\"/>\n      </g>\n     </g>\n     <g id=\"text_10\">\n      <!-- 0.8 -->\n      <g transform=\"translate(20.878125 76.340295) scale(0.1 -0.1)\">\n       <defs>\n        <path id=\"DejaVuSans-38\" d=\"M 2034 2216 \nQ 1584 2216 1326 1975 \nQ 1069 1734 1069 1313 \nQ 1069 891 1326 650 \nQ 1584 409 2034 409 \nQ 2484 409 2743 651 \nQ 3003 894 3003 1313 \nQ 3003 1734 2745 1975 \nQ 2488 2216 2034 2216 \nz\nM 1403 2484 \nQ 997 2584 770 2862 \nQ 544 3141 544 3541 \nQ 544 4100 942 4425 \nQ 1341 4750 2034 4750 \nQ 2731 4750 3128 4425 \nQ 3525 4100 3525 3541 \nQ 3525 3141 3298 2862 \nQ 3072 2584 2669 2484 \nQ 3125 2378 3379 2068 \nQ 3634 1759 3634 1313 \nQ 3634 634 3220 271 \nQ 2806 -91 2034 -91 \nQ 1263 -91 848 271 \nQ 434 634 434 1313 \nQ 434 1759 690 2068 \nQ 947 2378 1403 2484 \nz\nM 1172 3481 \nQ 1172 3119 1398 2916 \nQ 1625 2713 2034 2713 \nQ 2441 2713 2670 2916 \nQ 2900 3119 2900 3481 \nQ 2900 3844 2670 4047 \nQ 2441 4250 2034 4250 \nQ 1625 4250 1398 4047 \nQ 1172 3844 1172 3481 \nz\n\" transform=\"scale(0.015625)\"/>\n       </defs>\n       <use xlink:href=\"#DejaVuSans-30\"/>\n       <use xlink:href=\"#DejaVuSans-2e\" transform=\"translate(63.623047 0)\"/>\n       <use xlink:href=\"#DejaVuSans-38\" transform=\"translate(95.410156 0)\"/>\n      </g>\n     </g>\n    </g>\n    <g id=\"text_11\">\n     <!-- Доля верных ответов эксперта -->\n     <g transform=\"translate(14.798438 243.1525) rotate(-90) scale(0.1 -0.1)\">\n      <defs>\n       <path id=\"DejaVuSans-414\" d=\"M 1459 531 \nL 3522 531 \nL 3522 4134 \nL 2006 4134 \nL 2006 3472 \nQ 2006 1913 1656 878 \nQ 1584 666 1459 531 \nz\nM 538 531 \nQ 956 728 1075 1103 \nQ 1378 2066 1378 3784 \nL 1378 4666 \nL 4153 4666 \nL 4153 531 \nL 4684 531 \nL 4684 -1003 \nL 4153 -1003 \nL 4153 0 \nL 847 0 \nL 847 -1003 \nL 316 -1003 \nL 316 531 \nL 538 531 \nz\n\" transform=\"scale(0.015625)\"/>\n       <path id=\"DejaVuSans-43b\" d=\"M 238 0 \nL 238 478 \nQ 806 566 981 959 \nQ 1194 1513 1194 2928 \nL 1194 3500 \nL 3559 3500 \nL 3559 0 \nL 2984 0 \nL 2984 3041 \nL 1769 3041 \nL 1769 2694 \nQ 1769 1344 1494 738 \nQ 1200 91 238 0 \nz\n\" transform=\"scale(0.015625)\"/>\n       <path id=\"DejaVuSans-44f\" d=\"M 1181 2491 \nQ 1181 2231 1381 2084 \nQ 1581 1938 1953 1938 \nL 2728 1938 \nL 2728 3041 \nL 1953 3041 \nQ 1581 3041 1381 2897 \nQ 1181 2753 1181 2491 \nz\nM 363 0 \nL 1431 1534 \nQ 1069 1616 828 1830 \nQ 588 2044 588 2491 \nQ 588 2997 923 3248 \nQ 1259 3500 1938 3500 \nL 3306 3500 \nL 3306 0 \nL 2728 0 \nL 2728 1478 \nL 2013 1478 \nL 981 0 \nL 363 0 \nz\n\" transform=\"scale(0.015625)\"/>\n       <path id=\"DejaVuSans-432\" d=\"M 1156 1613 \nL 1156 459 \nL 1975 459 \nQ 2369 459 2575 607 \nQ 2781 756 2781 1038 \nQ 2781 1319 2575 1466 \nQ 2369 1613 1975 1613 \nL 1156 1613 \nz\nM 1156 3041 \nL 1156 2072 \nL 1913 2072 \nQ 2238 2072 2444 2201 \nQ 2650 2331 2650 2563 \nQ 2650 2794 2444 2917 \nQ 2238 3041 1913 3041 \nL 1156 3041 \nz\nM 581 3500 \nL 1950 3500 \nQ 2566 3500 2897 3275 \nQ 3228 3050 3228 2634 \nQ 3228 2313 3059 2123 \nQ 2891 1934 2559 1888 \nQ 2956 1813 3175 1575 \nQ 3394 1338 3394 981 \nQ 3394 513 3033 256 \nQ 2672 0 2003 0 \nL 581 0 \nL 581 3500 \nz\n\" transform=\"scale(0.015625)\"/>\n       <path id=\"DejaVuSans-445\" d=\"M 3513 3500 \nL 2247 1797 \nL 3578 0 \nL 2900 0 \nL 1881 1375 \nL 863 0 \nL 184 0 \nL 1544 1831 \nL 300 3500 \nL 978 3500 \nL 1906 2253 \nL 2834 3500 \nL 3513 3500 \nz\n\" transform=\"scale(0.015625)\"/>\n       <path id=\"DejaVuSans-430\" d=\"M 2194 1759 \nQ 1497 1759 1228 1600 \nQ 959 1441 959 1056 \nQ 959 750 1161 570 \nQ 1363 391 1709 391 \nQ 2188 391 2477 730 \nQ 2766 1069 2766 1631 \nL 2766 1759 \nL 2194 1759 \nz\nM 3341 1997 \nL 3341 0 \nL 2766 0 \nL 2766 531 \nQ 2569 213 2275 61 \nQ 1981 -91 1556 -91 \nQ 1019 -91 701 211 \nQ 384 513 384 1019 \nQ 384 1609 779 1909 \nQ 1175 2209 1959 2209 \nL 2766 2209 \nL 2766 2266 \nQ 2766 2663 2505 2880 \nQ 2244 3097 1772 3097 \nQ 1472 3097 1187 3025 \nQ 903 2953 641 2809 \nL 641 3341 \nQ 956 3463 1253 3523 \nQ 1550 3584 1831 3584 \nQ 2591 3584 2966 3190 \nQ 3341 2797 3341 1997 \nz\n\" transform=\"scale(0.015625)\"/>\n      </defs>\n      <use xlink:href=\"#DejaVuSans-414\"/>\n      <use xlink:href=\"#DejaVuSans-43e\" transform=\"translate(78.125 0)\"/>\n      <use xlink:href=\"#DejaVuSans-43b\" transform=\"translate(139.306641 0)\"/>\n      <use xlink:href=\"#DejaVuSans-44f\" transform=\"translate(203.222656 0)\"/>\n      <use xlink:href=\"#DejaVuSans-20\" transform=\"translate(263.378906 0)\"/>\n      <use xlink:href=\"#DejaVuSans-432\" transform=\"translate(295.166016 0)\"/>\n      <use xlink:href=\"#DejaVuSans-435\" transform=\"translate(354.101562 0)\"/>\n      <use xlink:href=\"#DejaVuSans-440\" transform=\"translate(415.625 0)\"/>\n      <use xlink:href=\"#DejaVuSans-43d\" transform=\"translate(479.101562 0)\"/>\n      <use xlink:href=\"#DejaVuSans-44b\" transform=\"translate(544.482422 0)\"/>\n      <use xlink:href=\"#DejaVuSans-445\" transform=\"translate(623.4375 0)\"/>\n      <use xlink:href=\"#DejaVuSans-20\" transform=\"translate(682.617188 0)\"/>\n      <use xlink:href=\"#DejaVuSans-43e\" transform=\"translate(714.404297 0)\"/>\n      <use xlink:href=\"#DejaVuSans-442\" transform=\"translate(775.585938 0)\"/>\n      <use xlink:href=\"#DejaVuSans-432\" transform=\"translate(833.837891 0)\"/>\n      <use xlink:href=\"#DejaVuSans-435\" transform=\"translate(892.773438 0)\"/>\n      <use xlink:href=\"#DejaVuSans-442\" transform=\"translate(954.296875 0)\"/>\n      <use xlink:href=\"#DejaVuSans-43e\" transform=\"translate(1012.548828 0)\"/>\n      <use xlink:href=\"#DejaVuSans-432\" transform=\"translate(1073.730469 0)\"/>\n      <use xlink:href=\"#DejaVuSans-20\" transform=\"translate(1132.666016 0)\"/>\n      <use xlink:href=\"#DejaVuSans-44d\" transform=\"translate(1164.453125 0)\"/>\n      <use xlink:href=\"#DejaVuSans-43a\" transform=\"translate(1219.335938 0)\"/>\n      <use xlink:href=\"#DejaVuSans-441\" transform=\"translate(1279.736328 0)\"/>\n      <use xlink:href=\"#DejaVuSans-43f\" transform=\"translate(1334.716797 0)\"/>\n      <use xlink:href=\"#DejaVuSans-435\" transform=\"translate(1400.097656 0)\"/>\n      <use xlink:href=\"#DejaVuSans-440\" transform=\"translate(1461.621094 0)\"/>\n      <use xlink:href=\"#DejaVuSans-442\" transform=\"translate(1525.097656 0)\"/>\n      <use xlink:href=\"#DejaVuSans-430\" transform=\"translate(1583.349609 0)\"/>\n     </g>\n    </g>\n   </g>\n   <g id=\"patch_3\">\n    <path d=\"M 43.78125 299.518125 \nL 43.78125 22.318125 \n\" style=\"fill: none; stroke: #000000; stroke-width: 0.8; stroke-linejoin: miter; stroke-linecap: square\"/>\n   </g>\n   <g id=\"patch_4\">\n    <path d=\"M 490.18125 299.518125 \nL 490.18125 22.318125 \n\" style=\"fill: none; stroke: #000000; stroke-width: 0.8; stroke-linejoin: miter; stroke-linecap: square\"/>\n   </g>\n   <g id=\"patch_5\">\n    <path d=\"M 43.78125 299.518125 \nL 490.18125 299.518125 \n\" style=\"fill: none; stroke: #000000; stroke-width: 0.8; stroke-linejoin: miter; stroke-linecap: square\"/>\n   </g>\n   <g id=\"patch_6\">\n    <path d=\"M 43.78125 22.318125 \nL 490.18125 22.318125 \n\" style=\"fill: none; stroke: #000000; stroke-width: 0.8; stroke-linejoin: miter; stroke-linecap: square\"/>\n   </g>\n   <g id=\"text_12\">\n    <!-- Зависимость точности эксперта от α -->\n    <g transform=\"translate(149.7375 16.318125) scale(0.12 -0.12)\">\n     <defs>\n      <path id=\"DejaVuSans-417\" d=\"M 1828 4750 \nQ 2597 4750 3084 4423 \nQ 3572 4097 3572 3541 \nQ 3572 3153 3350 2886 \nQ 3128 2619 2719 2516 \nQ 3172 2419 3426 2112 \nQ 3681 1806 3681 1356 \nQ 3681 638 3126 273 \nQ 2572 -91 1828 -91 \nQ 1447 -91 1003 12 \nQ 559 116 422 203 \nL 422 853 \nQ 900 575 1164 508 \nQ 1428 441 1816 441 \nQ 2403 441 2728 666 \nQ 3053 891 3053 1356 \nQ 3053 1769 2764 2001 \nQ 2475 2234 1866 2234 \nL 1228 2234 \nL 1228 2753 \nL 1891 2753 \nQ 2450 2753 2697 2939 \nQ 2944 3125 2944 3475 \nQ 2944 3834 2689 4026 \nQ 2434 4219 1816 4219 \nQ 1397 4219 1253 4181 \nQ 1109 4144 469 3903 \nL 469 4519 \nQ 822 4644 1190 4697 \nQ 1559 4750 1828 4750 \nz\n\" transform=\"scale(0.015625)\"/>\n      <path id=\"DejaVuSans-43c\" d=\"M 581 3500 \nL 1422 3500 \nL 2416 1156 \nL 3413 3500 \nL 4247 3500 \nL 4247 0 \nL 3669 0 \nL 3669 2950 \nL 2703 672 \nL 2128 672 \nL 1159 2950 \nL 1159 0 \nL 581 0 \nL 581 3500 \nz\n\" transform=\"scale(0.015625)\"/>\n      <path id=\"DejaVuSans-44c\" d=\"M 2781 1038 \nQ 2781 1319 2576 1466 \nQ 2372 1613 1978 1613 \nL 1159 1613 \nL 1159 459 \nL 1978 459 \nQ 2372 459 2576 607 \nQ 2781 756 2781 1038 \nz\nM 581 3500 \nL 1159 3500 \nL 1159 2072 \nL 2003 2072 \nQ 2672 2072 3033 1817 \nQ 3394 1563 3394 1038 \nQ 3394 513 3033 256 \nQ 2672 0 2003 0 \nL 581 0 \nL 581 3500 \nz\n\" transform=\"scale(0.015625)\"/>\n      <path id=\"DejaVuSans-447\" d=\"M 2625 0 \nL 2625 1472 \nL 1553 1472 \nQ 1075 1472 756 1769 \nQ 469 2038 469 2613 \nL 469 3500 \nL 1044 3500 \nL 1044 2666 \nQ 1044 2300 1206 2116 \nQ 1372 1931 1697 1931 \nL 2625 1931 \nL 2625 3500 \nL 3200 3500 \nL 3200 0 \nL 2625 0 \nz\n\" transform=\"scale(0.015625)\"/>\n     </defs>\n     <use xlink:href=\"#DejaVuSans-417\"/>\n     <use xlink:href=\"#DejaVuSans-430\" transform=\"translate(64.111328 0)\"/>\n     <use xlink:href=\"#DejaVuSans-432\" transform=\"translate(125.390625 0)\"/>\n     <use xlink:href=\"#DejaVuSans-438\" transform=\"translate(184.326172 0)\"/>\n     <use xlink:href=\"#DejaVuSans-441\" transform=\"translate(249.316406 0)\"/>\n     <use xlink:href=\"#DejaVuSans-438\" transform=\"translate(304.296875 0)\"/>\n     <use xlink:href=\"#DejaVuSans-43c\" transform=\"translate(369.287109 0)\"/>\n     <use xlink:href=\"#DejaVuSans-43e\" transform=\"translate(444.726562 0)\"/>\n     <use xlink:href=\"#DejaVuSans-441\" transform=\"translate(505.908203 0)\"/>\n     <use xlink:href=\"#DejaVuSans-442\" transform=\"translate(560.888672 0)\"/>\n     <use xlink:href=\"#DejaVuSans-44c\" transform=\"translate(619.140625 0)\"/>\n     <use xlink:href=\"#DejaVuSans-20\" transform=\"translate(678.076172 0)\"/>\n     <use xlink:href=\"#DejaVuSans-442\" transform=\"translate(709.863281 0)\"/>\n     <use xlink:href=\"#DejaVuSans-43e\" transform=\"translate(768.115234 0)\"/>\n     <use xlink:href=\"#DejaVuSans-447\" transform=\"translate(829.296875 0)\"/>\n     <use xlink:href=\"#DejaVuSans-43d\" transform=\"translate(888.378906 0)\"/>\n     <use xlink:href=\"#DejaVuSans-43e\" transform=\"translate(953.759766 0)\"/>\n     <use xlink:href=\"#DejaVuSans-441\" transform=\"translate(1014.941406 0)\"/>\n     <use xlink:href=\"#DejaVuSans-442\" transform=\"translate(1069.921875 0)\"/>\n     <use xlink:href=\"#DejaVuSans-438\" transform=\"translate(1128.173828 0)\"/>\n     <use xlink:href=\"#DejaVuSans-20\" transform=\"translate(1193.164062 0)\"/>\n     <use xlink:href=\"#DejaVuSans-44d\" transform=\"translate(1224.951172 0)\"/>\n     <use xlink:href=\"#DejaVuSans-43a\" transform=\"translate(1279.833984 0)\"/>\n     <use xlink:href=\"#DejaVuSans-441\" transform=\"translate(1340.234375 0)\"/>\n     <use xlink:href=\"#DejaVuSans-43f\" transform=\"translate(1395.214844 0)\"/>\n     <use xlink:href=\"#DejaVuSans-435\" transform=\"translate(1460.595703 0)\"/>\n     <use xlink:href=\"#DejaVuSans-440\" transform=\"translate(1522.119141 0)\"/>\n     <use xlink:href=\"#DejaVuSans-442\" transform=\"translate(1585.595703 0)\"/>\n     <use xlink:href=\"#DejaVuSans-430\" transform=\"translate(1643.847656 0)\"/>\n     <use xlink:href=\"#DejaVuSans-20\" transform=\"translate(1705.126953 0)\"/>\n     <use xlink:href=\"#DejaVuSans-43e\" transform=\"translate(1736.914062 0)\"/>\n     <use xlink:href=\"#DejaVuSans-442\" transform=\"translate(1798.095703 0)\"/>\n     <use xlink:href=\"#DejaVuSans-20\" transform=\"translate(1856.347656 0)\"/>\n     <use xlink:href=\"#DejaVuSans-3b1\" transform=\"translate(1888.134766 0)\"/>\n    </g>\n   </g>\n  </g>\n </g>\n <defs>\n  <clipPath id=\"p4f8cfca8bd\">\n   <rect x=\"43.78125\" y=\"22.318125\" width=\"446.4\" height=\"277.2\"/>\n  </clipPath>\n </defs>\n</svg>\n",
            "application/pdf": "[encoded data removed]"
          },
          "metadata": {}
        }
      ],
      "source": [
        "import matplotlib.pyplot as plt\n",
        "plt.figure(figsize = (10,8))\n",
        "plt.figure(figsize=(8, 5))\n",
        "accuracy = np.mean(L == y_em[:, np.newaxis], axis=0)\n",
        "plt.scatter(alpha, accuracy)\n",
        "plt.xlabel(\"Коэффициент экспертизы α\")\n",
        "plt.ylabel(\"Доля верных ответов эксперта\")\n",
        "plt.title(\"Зависимость точности эксперта от α\")\n",
        "plt.grid()\n",
        "plt.show()\n"
      ]
    },
    {
      "cell_type": "markdown",
      "source": [
        "Группа справа вверху: отличные эксперты, разбираются в теме разметки\n",
        "Группа посередине: доля правилных ответоа примерно 0.7, неплохо, но ошибки частые\n",
        "Слева внизу разметчики, которые специально отмечают неправильно\n"
      ],
      "metadata": {
        "id": "nFFVqZcZoDYs"
      }
    },
    {
      "cell_type": "markdown",
      "metadata": {
        "id": "dzJGlnguHXGE"
      },
      "source": [
        "---"
      ]
    },
    {
      "cell_type": "markdown",
      "metadata": {
        "id": "rjiZ4vclHXGF"
      },
      "source": [
        "**Задание 4. (бонус, 1 балл)**  Как уже было замечено выше, модели не важно, какой класс 1, а какой 0. Скажем, если все эксперты оказались максимально противными и ставят метку с точностью наоборот, то у вас будет полная согласованность между экспертами, при этом невозможно понять правильно они разметили выборку или нет, смотря только на такую разметку. Чтобы избежать этого, можно включать в выборку вопрос с заведомо известным ответом, тогда вы сможете определить, ставит ли эксперт специально неверные метки.\n",
        "\n",
        "Чтобы обощить данную модель на случай заданий с заведомо известной меткой, достоточно не делать для них E-шаг, а всегда полагать апостериорное распределение вырожденным в истинном классе.\n",
        "\n",
        "* Реализуйте данную модель и используйте истинную разметку *для нескольких* задач из обучения.\n",
        "* **(?)**  Сравните модифицированный алгоритм с обычным.\n",
        "* **(?)** Проинтерпретируйте полученные результаты."
      ]
    },
    {
      "cell_type": "markdown",
      "metadata": {
        "id": "1oC6Pq2PHXGF"
      },
      "source": [
        "**Подсказка:**\n",
        "* Как можно сравнить, что модифицированный алгоритм действительно \"лучше\" обычного: запускаем обычный и модифицированный много раз (например, 100). Для каждой версии считаем распределение полученных accuracy_score. Если все сделано верно, то в модифицированной версии доля больших значений accuracy должна быть выше, чем низких (это как раз и есть сигнал о перепутывании классов), а в обычной версии -- доли должны быть примерно равны. **Для возможности получения полного балла мы ожидаем от вас какого-то такого или похожего сравнения**"
      ]
    },
    {
      "cell_type": "markdown",
      "metadata": {
        "id": "WTmnnFkkHXGF"
      },
      "source": [
        "---"
      ]
    },
    {
      "cell_type": "code",
      "execution_count": null,
      "metadata": {
        "id": "03rpTe9uHXGF"
      },
      "outputs": [],
      "source": [
        "# (∩ᄑ_ᄑ)⊃━☆ﾟ*･｡*"
      ]
    },
    {
      "cell_type": "markdown",
      "metadata": {
        "id": "4IO4z6HLHXGG"
      },
      "source": [
        "# Выравнивание слов (Word Alignment)"
      ]
    },
    {
      "cell_type": "markdown",
      "metadata": {
        "id": "_msquH3AHXGG"
      },
      "source": [
        "EM-алгоритм также применяют на практике для настройки параметров модели выравнивания слов, более сложные модификации которой используются в статистическом машинном переводе. Мы не будем подробно обсуждать применение word alignment для перевода и ограничимся следующей целью: пусть у нас есть параллельный корпус из предложений на исходном языке и их переводов на целевой язык (в этом задании используются английский и чешский соответственно).\n",
        "\n",
        "Первая задача — определить с помощью этого корпуса, как переводится каждое отдельное слово на целевом языке. Вторая задача — для произвольной пары из предложения и его перевода установить, переводом какого слова в исходном предложении является каждое слово в целевом предложении. Оказывается, у обеих задач существует элегантное и эффективное решение при введении правильной вероятностной модели: в этой части задания вам предстоит его реализовать и оценить результаты работы. Но обо всём по порядку :)\n",
        "\n",
        "---\n",
        "\n",
        "Перед тем, как заниматься машинным обучением, давайте разберёмся с данными и метриками в интересующей нас задаче. В ячейке ниже загружается и разархивируется параллельный английско-чешский корпус, в котором есть разметка выравнивания слов. Нетрудно заметить, что формат XML-файла, использованный его авторами, не вполне стандартный: нет готовой команды , которая позволила бы получить список пар предложений вместе с выравниваниями. Это значит, что нужно разобраться с форматом и написать парсер самостоятельно, используя встроенные средства Python, например, модуль [xml](https://docs.python.org/3.7/library/xml.html).\n",
        "\n",
        "**Подсказка:**\n",
        "* Не обязательно парсить только через xml, если хотите, можете написать парсинг сами"
      ]
    },
    {
      "cell_type": "code",
      "execution_count": 1,
      "metadata": {
        "id": "27HVqBpoHXGG",
        "colab": {
          "base_uri": "https://localhost:8080/"
        },
        "outputId": "26c9a4e4-a7d4-4328-a3f5-c25c6a601ab8"
      },
      "outputs": [
        {
          "output_type": "stream",
          "name": "stdout",
          "text": [
            "<?xml version=\"1.0\" encoding=\"utf-8\" ?>\n",
            "<sentences>\n",
            "<s id=\"project_syndicate_bacchetta1-s1\">\r\n",
            "  <english>Are the Dollar 's Days Numbered ?</english>\n",
            "  <czech>Jsou dny dolaru sečteny ?</czech>\n",
            "  <sure>1-1 3-3 5-2 6-4 7-5</sure>\n",
            "  <possible>2-2 4-3</possible>\n",
            "</s>\n",
            "<s id=\"project_syndicate_bacchetta1-s2\">\r\n",
            "  <english>Philippe Bacchetta and Eric van Wincoop</english>\n",
            "  <czech>Philippe Bacchetta and Eric van Wincoop</czech>\n",
            "  <sure>1-1 2-2 3-3 4-4 5-5 6-6</sure>\n",
            "  <possible></possible>\n",
            "</s>\n",
            "<s id=\"project_syndicate_bacchetta1-s3\">\r\n",
            "  <english>A year ago , the dollar bestrode the world like a colossus .</english>\n",
            "  <czech>Ještě před rokem dolar dominoval světu jako imperátor .</czech>\n",
            "  <sure>10-7 12-8 13-9 2-3 3-2 6-4 7-5 9-6</sure>\n",
            "  <possible>1-3 11-8 3-1 5-4 8-6</possible>\n",
            "</s>\n"
          ]
        }
      ],
      "source": [
        "%%bash\n",
        "wget -q https://lindat.mff.cuni.cz/repository/xmlui/bitstream/handle/11234/1-1804/CzEnAli_1.0.tar.gz -O CzEnAli_1.0.tar.gz\n",
        "mkdir -p data\n",
        "tar -xzf CzEnAli_1.0.tar.gz -C data/\n",
        "head -n 20 data/merged_data/project_syndicate/project_syndicate_bacchetta1.wa"
      ]
    },
    {
      "cell_type": "markdown",
      "metadata": {
        "id": "6t7EwQquHXGG"
      },
      "source": [
        "**Задание -2. (0.5 балла)** Реализуйте функцию `extract_sentences`, которая принимает на вход путь к файлу с XML-разметкой, используемой в этом датасете, и возвращает список параллельных предложений, а также список из «уверенных» (sure) и «возможных» (possible) пар выравниваний. Отправьте вашу реализацию в Яндекс.Контест, чтобы убедиться в её корректности; в следующей ячейке ноутбука соберите все пары размеченных предложений из датасета в два списка `all_sentences` (список `SentencePair`) и `all_targets` (список LabeledAlignment)."
      ]
    },
    {
      "cell_type": "markdown",
      "metadata": {
        "id": "pquyG2jmHXGH"
      },
      "source": [
        "**Подсказка:**\n",
        "* Брать файлы нужно из всей папки data конструкцией наподобие `for file in glob.glob('data/*/*/*.wa')`\n",
        "* Возможно у вас не будут проходить тесты, но вы не будете понимать, в чем же дело:) Попробуйте в таком случае заменить & на `&amp;` или\n",
        "`&#038;`\n",
        "https://stackoverflow.com/questions/17423495/how-to-solve-ampersand-conversion-issue-in-xml\n"
      ]
    },
    {
      "cell_type": "markdown",
      "metadata": {
        "id": "j0OQXT3THXGH"
      },
      "source": [
        "---"
      ]
    },
    {
      "cell_type": "markdown",
      "metadata": {
        "id": "cIHWHL7ZHXGH"
      },
      "source": [
        "**Замечание:**\n",
        "* **Полностью проходящая все тесты посылка в этом заданиии дает 0.5 балла. За непроходящий хотя бы 1 тест вы получите 0 баллов.**\n",
        "* Здесь и далее соблюдайте сигнатуры функций и пользуйтесь объявленными в модуле `preprocessing.py` классами для организации данных. Стоит заметить, что предложения уже токенизированы (даже отделена пунктуация), поэтому предобработку текстов совершать не нужно. Обратите внимание на формат хранения выравниваний: нумерация начинается с 1 (в таком виде и нужно сохранять), первым в паре идёт слово из англоязычного предложения."
      ]
    },
    {
      "cell_type": "markdown",
      "metadata": {
        "id": "lX733E_HHXGQ"
      },
      "source": [
        "---\n",
        "**>>Ваша ссылка на посылку:<<**\n",
        "\n",
        "---"
      ]
    },
    {
      "cell_type": "markdown",
      "source": [
        "https://contest.yandex.ru/contest/60281/run-report/135792200/"
      ],
      "metadata": {
        "id": "jsejWhoaGZJO"
      }
    },
    {
      "cell_type": "code",
      "execution_count": 83,
      "metadata": {
        "id": "PLei6hO6HXGR"
      },
      "outputs": [],
      "source": [
        "import glob\n",
        "from preprocessing import extract_sentences\n",
        "import os\n",
        "all_sentences = []\n",
        "all_targets = []\n",
        "for file in glob.glob('data/*/*/*.wa', recursive = True):\n",
        "    sentence_pairs, alignments = extract_sentences(file)\n",
        "    for i in range(len(sentence_pairs)):\n",
        "        all_sentences.append(sentence_pairs[i])\n",
        "        all_targets.append(alignments[i])"
      ]
    },
    {
      "cell_type": "markdown",
      "metadata": {
        "id": "pqLgy-xmHXGR"
      },
      "source": [
        "---"
      ]
    },
    {
      "cell_type": "markdown",
      "metadata": {
        "id": "4xIiXghbHXGR"
      },
      "source": [
        "**Задание -1. (0.5 балла)** Реализуйте функции `get_token_to_index` и `tokenize_sents` из модуля `preprocessing.py`, постройте словари token->index для обоих языков и постройте список из `TokenizedSentencePair` по выборке. Реализации функций также отправьте в Яндекс.Контест."
      ]
    },
    {
      "cell_type": "markdown",
      "metadata": {
        "id": "5ThZ06piHXGS"
      },
      "source": [
        "**Замечание:**\n",
        "* **Полностью проходящая все тесты посылка в этом заданиии дает 0.5 балла. За непроходящий хотя бы 1 тест вы получите 0 баллов.**"
      ]
    },
    {
      "cell_type": "markdown",
      "metadata": {
        "id": "nZ9serW7HXGS"
      },
      "source": [
        "---\n",
        "**>>Ваша ссылка на посылку:<<**\n",
        "\n",
        "---"
      ]
    },
    {
      "cell_type": "markdown",
      "source": [
        "https://contest.yandex.ru/contest/60281/run-report/135823832/"
      ],
      "metadata": {
        "id": "O-_IMR1KGSBk"
      }
    },
    {
      "cell_type": "code",
      "execution_count": 84,
      "metadata": {
        "id": "YX4YGdw7HXGS"
      },
      "outputs": [],
      "source": [
        "from preprocessing import get_token_to_index, tokenize_sents\n",
        "\n",
        "t_idx_src, t_idx_tgt = get_token_to_index(all_sentences)\n",
        "tokenized_sentences = tokenize_sents(all_sentences, t_idx_src, t_idx_tgt)"
      ]
    },
    {
      "cell_type": "markdown",
      "metadata": {
        "id": "_lXAQMdFHXGS"
      },
      "source": [
        "В качестве бейзлайна для этой задачи мы возьмём способ выравнивания слов по коэффициенту Дайса: слово в исходном языке является переводом слова на целевом языке, если они часто встречаются в одних и тех же предложениях и редко встречаются по отдельности.\n",
        "\n",
        "Математически это записывается по аналогии с мерой Жаккара: пусть $c(x,y)$ — число параллельных предложений, в которых есть и $x$ (на исходном языке), и $y$ (на целевом языке), а $c(x)$ и $c(y)$ — суммарное количество предложений, в которых встречается слово $x$ и $y$ соответственно. Тогда $\\textrm{Dice}(x,y)=\\frac{2 \\cdot c(x,y)}{c(x) + c(y)}$ — характеристика «похожести» слов $x$ и $y$. Она равна 1, если слова встречаются только в контексте друг друга (не бывает предложений только со словом $x$ без $y$ в переводе и наоборот), равна 0, если слова никогда не встречаются в параллельных предложениях и находится между пороговыми значениями в остальных случаях.\n",
        "\n",
        "В файле `models.py` описан абстрактный класс `BaseAligner`, наследником которого должны являться все модели в задании, а также приведён пример реализации `DiceAligner` выравнивания слов описанным выше путём. Ниже вы можете увидеть, как применять эту модель."
      ]
    },
    {
      "cell_type": "code",
      "execution_count": 4,
      "metadata": {
        "id": "R8mAZ6UpHXGT"
      },
      "outputs": [],
      "source": [
        "from models import DiceAligner\n",
        "\n",
        "baseline = DiceAligner(len(t_idx_src), len(t_idx_tgt), threshold=0.01)\n",
        "baseline.fit(tokenized_sentences)"
      ]
    },
    {
      "cell_type": "markdown",
      "metadata": {
        "id": "BJ44qNtUHXGT"
      },
      "source": [
        "---"
      ]
    },
    {
      "cell_type": "markdown",
      "metadata": {
        "id": "pxWp8cJ9HXGT"
      },
      "source": [
        "Чтобы оценить качество модели выравнивания, пользуясь имеющейся разметкой, существует ряд автоматических метрик. Они подразумевают, что в разметке есть два вида выравниваний — «уверенные» (sure) и «возможные» (possible). Обозначим для конкретного предложения первое множество выравниваний $S$, второе — $P$, а предсказанные выравнивания — $A$; причём, в отличие от разметки в файле, $S\\subseteq P$. Тогда можно предложить три метрики, используя только операции над этими множествами:\n",
        "\n",
        "Precision $=\\frac{|A\\cap P|}{|A|}$. Отражает, какая доля предсказанных нами выравниваний вообще корректна; если мы дадим в качестве ответа все возможные пары слов в предложении, эта метрика сильно просядет.\n",
        "\n",
        "Recall $=\\frac{|A\\cap S|}{|S|}$. Эта метрика показывает, какую долю «уверенных» выравниваний мы обнаружили. Если мы попытаемся сделать слишком консервативную модель, которая выдаёт 0 или 1 предсказание на нетривиальных предложениях, полнота получится крайне низкая.\n",
        "\n",
        "Alignment Error Rate (AER) $=1-\\frac{|A\\cap P|+|A\\cap S|}{|A|+|S|}$. Метрика является комбинацией двух предыдущих и отслеживает общее качество работы системы, штрафуя оба описанных выше вида нежелаемого поведения модели."
      ]
    },
    {
      "cell_type": "markdown",
      "metadata": {
        "id": "GDy-FPfvHXGT"
      },
      "source": [
        "**Задание 0. (0.5 балла)** Реализуйте функции compute_precision, compute_recall, compute_aer из модуля metrics.py. Оцените качество бейзлайнового метода. Обратите внимание, что нужно использовать микро-усреднение во всех функциях: необходимо просуммировать числитель и знаменатель по всем предложениям и только потом делить."
      ]
    },
    {
      "cell_type": "markdown",
      "metadata": {
        "id": "BRf7C8LEHXGT"
      },
      "source": [
        "**Замечание:**\n",
        "* **Для возможности получения полного балла** ошибка aer должна быть не выше **0.82.** Если получили значение выше -- скорее всего, у вас где-то ошибка\n",
        "* **Полностью проходящая все тесты посылка в этом заданиии дает 0.5 балла. За непроходящий хотя бы 1 тест вы получите 0 баллов.**"
      ]
    },
    {
      "cell_type": "markdown",
      "metadata": {
        "id": "MG5xK4lrHXGU"
      },
      "source": [
        "---\n",
        "**>>Ваша ссылка на посылку:<<**"
      ]
    },
    {
      "cell_type": "markdown",
      "source": [
        "https://contest.yandex.ru/contest/60281/run-report/135827644/"
      ],
      "metadata": {
        "id": "HltR_EOhGRB_"
      }
    },
    {
      "cell_type": "markdown",
      "metadata": {
        "id": "VK6sEs7sHXGU"
      },
      "source": [
        "---"
      ]
    },
    {
      "cell_type": "code",
      "execution_count": 5,
      "metadata": {
        "id": "9TdvaVlWHXGU",
        "colab": {
          "base_uri": "https://localhost:8080/"
        },
        "outputId": "0d555acb-d9a0-4210-b607-0c8ebc24c8d9"
      },
      "outputs": [
        {
          "output_type": "execute_result",
          "data": {
            "text/plain": [
              "0.8115275584918071"
            ]
          },
          "metadata": {},
          "execution_count": 5
        }
      ],
      "source": [
        "from metrics import compute_aer\n",
        "\n",
        "compute_aer(all_targets,baseline.align(tokenized_sentences))"
      ]
    },
    {
      "cell_type": "markdown",
      "metadata": {
        "id": "cE7kzC77HXGU"
      },
      "source": [
        "---"
      ]
    },
    {
      "cell_type": "markdown",
      "metadata": {
        "id": "yC0qd7MPHXGV"
      },
      "source": [
        "Теперь мы можем перейти к базовой вероятностной модели для выравнивания слов. Пусть $S=(s_1,\\ldots,s_n)$ исходное предложение, $T=(t_1,\\ldots,t_m)$ — его перевод. В роли латентных переменных будут выступать выравнивания $A=(a_1,\\ldots,a_m)$ каждого слова в целевом предложении, причём $a_i\\in\\{1,\\ldots,n\\}$ (считаем, что каждое слово в $t$ является переводом какого-то слова из $s$). Параметрами модели является матрица условных вероятностей перевода: каждый её элемент $\\theta(y|x)=p(y|x)$ отражает вероятность того, что переводом слова $x$ с исходного языка на целевой является слово $y$ (нормировка, соответственно, совершается по словарю целевого языка). Правдоподобие латентных переменных и предложения на целевом языке в этой модели записывается так:\n",
        "\n",
        "$$\n",
        "p(A,T|S)=\\prod_{i=1}^m p(a_i)p(t_i|a_i,S)=\\prod_{i=1}^m \\frac{1}{n}\\theta(t_i|s_{a_i}).\n",
        "$$"
      ]
    },
    {
      "cell_type": "markdown",
      "metadata": {
        "id": "TRhhWmg_HXGV"
      },
      "source": [
        "**Задание 1. (2 балла)** Выведите шаги EM-алгоритма для этой модели, а также получите выражение для подсчёта нижней оценки правдоподобия ($\\mathcal{L}$ в обозначениях лекции и семинара). **Обратите внимание, что на M-шаге нужно найти аналитический максимум по параметрам.**"
      ]
    },
    {
      "cell_type": "markdown",
      "metadata": {
        "id": "T4FLLkIKHXGV"
      },
      "source": [
        "**Замечание:**\n",
        "* _Возможные форматы ответа:_ в ячейке ноутбука, отдельно сданная в энитаск pdf c набранными формулами в LaTex, отдельная сданная в энитаск фотография (или скан) рукописного (и разборчивого) вывода.\n",
        "* Наличие только ответа оценивается **в 0 баллов**\n",
        "* Наличие неочевидных переходов без пояснений влияет на **баллы в меньшую сторону**\n",
        "\n",
        "**Подсказка:**\n",
        "* Не забывайте об ограничениях по значению на $\\theta$, это должно быть тем или иным образом отображено в выводе шагов\n",
        "* Помните, что у вас в корпусе несколько предложений (положим их число равным $R$ например)\n",
        "* А также помните, что длины каждой пары (предложение, перевод) различны. Длины предложений $i-$й пары можно обозначать, например, как $n_i$ и $m_i$."
      ]
    },
    {
      "cell_type": "markdown",
      "metadata": {
        "id": "lGJnTpi1HXGW"
      },
      "source": [
        "(∩｀-´)⊃━☆ﾟ.*･｡ﾟ"
      ]
    },
    {
      "cell_type": "markdown",
      "metadata": {
        "id": "HhTOguVLHXGW"
      },
      "source": [
        "---"
      ]
    },
    {
      "cell_type": "markdown",
      "source": [
        "Формула вероятности скрытых переменных (E - шаг):  \n",
        "\n",
        "$$\n",
        "P(a_i = z | t_i, S) = \\frac{P(a_i = z, t_i | S)}{P(t_i | S)}\n",
        "$$\n",
        "\n",
        "$$\n",
        "= \\frac{P(a_i = z) P(t_i | s_z)}{\\sum_{m=1}^{n_i} P(a_i = m) P(t_i | s_m)} = q^*(z)\n",
        "$$\n",
        "\n",
        "Выражение для подсчёта нижней оценки правдоподобия $L(q^*, t)$:\n",
        "\n",
        "$$\n",
        "L(q^*, t) = \\sum_{z=1}^{n} \\sum_{i=1}^{m} q_i^*(z) \\cdot \\log \\frac{P(a_i = z, t_i | S)}{q_i^*(z)}\n",
        "$$\n",
        "\n",
        "$$\n",
        "= \\sum_{z=1}^{n} \\sum_{i=1}^{m} q_i^*(z) \\cdot \\log \\frac{\\theta(t_i | s_k)}{q_i(z)}\n",
        "$$\n",
        "\n",
        "$$\n",
        "= \\sum_{z=1}^{n} \\sum_{i=1}^{m} q_i^*(z) \\cdot \\log \\theta(t_i | s_k) - \\sum_{z=1}^{n} \\sum_{i=1}^{m} q_i^*(z) \\cdot \\log q_i^*(z)\n",
        "$$\n",
        "\n",
        "Оптимизация:\n",
        "\n",
        "$$\n",
        "\\sum_{z=1}^{n} \\sum_{i=1}^{m} q_i^*(z) \\cdot \\log \\theta(t_i | s_k) \\rightarrow \\max_{\\Theta}\n",
        "$$\n",
        "\n",
        "Функция Лагранжа:\n",
        "\n",
        "$$\n",
        "\\mathcal{L} = \\sum_{z=1}^{n} \\sum_{i=1}^{m} q_i^*(z) \\cdot \\log \\theta(t_i|s_k) - \\sum_{x \\in X} \\lambda_x \\left(\\sum_{y \\in Y} \\theta(y|x) - 1 \\right)\n",
        "$$\n",
        "\n",
        "Необходимое условие экстремума (M-шаг):\n",
        "\n",
        "$$\n",
        "\\frac{\\partial \\mathcal{L}}{\\partial \\theta(y|x)} = \\sum_{z=1}^{n} \\sum_{i=1}^{m} q_i^*(z) \\cdot \\frac{\\delta(t_i=y) \\cdot \\delta(s_k=x)}{\\theta(y|x)} - \\lambda_x = 0\n",
        "$$\n",
        "\n",
        "\n",
        "\n",
        "$$\n",
        "\\frac{\\partial L}{\\partial \\theta(y|x)} = \\sum_{z=1}^{n} \\sum_{i=1}^{m} q_i^*(z) \\cdot \\delta(t_i = y) \\cdot \\delta(s_k = x) \\cdot \\theta(y|x) - \\lambda_x = 0\n",
        "$$\n",
        "\n",
        "Выражаем тету:\n",
        "\n",
        "$$\n",
        "\\theta(y|x) = \\frac{\\sum_{z=1}^{n} \\sum_{i=1}^{m} q_i^*(z) \\cdot \\delta(t_i = y) \\cdot \\delta(s_k = x)}{\\lambda_x}\n",
        "$$\n",
        "\n",
        "Учитываем нормировку:\n",
        "\n",
        "$$\n",
        "\\sum_{y} \\theta(y|x) = 1\n",
        "$$\n",
        "\n",
        "Таким образом, используя нормировку, мы получаем, что:\n",
        "\n",
        "$$\n",
        "\\sum_{y} \\frac{\\sum_{z=1}^{n} \\sum_{i=1}^{m} q_i^*(z) \\cdot \\delta(t_i = y) \\cdot \\delta(s_k = x)}{\\lambda_x} = 1\n",
        "$$\n",
        "\n",
        "Это уравнение можно решить для \\( \\lambda_x \\), что даст нам значение множителя Лагранжа:\n",
        "\n",
        "$$\n",
        "\\lambda_x = \\sum_{y} \\sum_{z=1}^{n} \\sum_{i=1}^{m} q_i^*(z) \\cdot \\delta(t_i = y) \\cdot \\delta(s_k = x)\n",
        "$$\n",
        "\n",
        "Подставляем значения лагранжевых переменных обратно в выражение и получаем M-шаг:\n",
        "$$\n",
        "\\theta(y|x) = \\frac{\\sum_{z=1}^{n} \\sum_{i=1}^{m} q_i^*(z) \\cdot \\delta(t_i = y) \\cdot \\delta(s_k = x)}{\\sum_{z=1}^{n} \\sum_{i=1}^{m} q_i^*(z) \\cdot \\delta(s_k = x)}\n",
        "$$\n",
        "\n",
        "$$\n",
        "\\sum_{y} \\theta(y|x) = 1 \\Rightarrow \\theta(y|x) = \\frac{\\sum_{z=1}^{n} \\sum_{i=1}^{m} q_i^*(z) \\cdot \\delta(t_i=y) \\cdot \\delta(s_k=x)}{\\sum_{z=1}^{n} \\sum_{i=1}^{m} q_i^*(z) \\cdot \\delta(s_k=x)}\n",
        "$$\n"
      ],
      "metadata": {
        "id": "RQ0ZzCIcSJe9"
      }
    },
    {
      "cell_type": "markdown",
      "metadata": {
        "id": "IKYp9fLyHXGW"
      },
      "source": [
        "**Задание 2. (2 балла)** Реализуйте все методы класса `WordAligner` в соответствии с полученными вами формулами. Протестируйте вашу реализацию через Яндекс.Контест, а здесь обучите модель и посчитайте её AER на истинной разметке. Чтобы предсказать выравнивание для пары предложений в этой модели, следует выбирать в соответствие для слова в целевом предложении с индексом $i$ позицию, соответствующую максимуму апостериорного распределения $p(a_i|T,S)$."
      ]
    },
    {
      "cell_type": "markdown",
      "metadata": {
        "id": "7xYQW9HMHXGW"
      },
      "source": [
        "**Замечание:**\n",
        "* **Полностью проходящая все тесты посылка в этом заданиии дает 1 балл. За хотя бы 1 непройденный тест вы можете получить за это задание максимум 1 балл**\n",
        "* **Для возможности получения полного балла** ошибка aer должна быть не выше **0.6.** Если получили значение выше -- скорее всего, у вас где-то ошибка"
      ]
    },
    {
      "cell_type": "markdown",
      "metadata": {
        "id": "M_QIJvbZHXGW"
      },
      "source": [
        "---\n",
        "**>>Ваша ссылка на посылку:<<**\n",
        "\n",
        "---"
      ]
    },
    {
      "cell_type": "markdown",
      "source": [
        "https://contest.yandex.ru/contest/60281/run-report/135942578/"
      ],
      "metadata": {
        "id": "ZlTJg7ka21nd"
      }
    },
    {
      "cell_type": "code",
      "execution_count": 6,
      "metadata": {
        "id": "U43KrCk0HXGX",
        "colab": {
          "base_uri": "https://localhost:8080/"
        },
        "outputId": "dcb39fc9-9e80-454b-a513-8966360202f3"
      },
      "outputs": [
        {
          "output_type": "execute_result",
          "data": {
            "text/plain": [
              "0.5804112077507431"
            ]
          },
          "metadata": {},
          "execution_count": 6
        }
      ],
      "source": [
        "from models import WordAligner\n",
        "\n",
        "word_aligner = WordAligner(len(t_idx_src), len(t_idx_tgt), 20)\n",
        "word_aligner.fit(tokenized_sentences);\n",
        "\n",
        "compute_aer(all_targets, word_aligner.align(tokenized_sentences))"
      ]
    },
    {
      "cell_type": "markdown",
      "metadata": {
        "id": "LsmPlVDaHXGX"
      },
      "source": [
        "Заметим, что таблицу вероятностей перевода можно использовать и саму по себе для построения словарей. Пример работы показан ниже: метод хоть и работает, но мягко говоря, неидально — слишком мало данных."
      ]
    },
    {
      "cell_type": "code",
      "execution_count": 7,
      "metadata": {
        "id": "3j82bKg7HXGX"
      },
      "outputs": [],
      "source": [
        "idx_token_tgt = {index:token for token, index in t_idx_tgt.items()}"
      ]
    },
    {
      "cell_type": "code",
      "execution_count": 8,
      "metadata": {
        "id": "66pHhwZiHXGY",
        "colab": {
          "base_uri": "https://localhost:8080/"
        },
        "outputId": "40938cc0-84dc-4677-d1b4-cd8756b493ab"
      },
      "outputs": [
        {
          "output_type": "execute_result",
          "data": {
            "text/plain": [
              "['Pan', 'řekl', 'pan']"
            ]
          },
          "metadata": {},
          "execution_count": 8
        }
      ],
      "source": [
        "[idx_token_tgt[i] for i in word_aligner.translation_probs[t_idx_src['Mr']].argsort()[-3:]]"
      ]
    },
    {
      "cell_type": "code",
      "execution_count": 9,
      "metadata": {
        "id": "QJMnqa1oHXGY",
        "colab": {
          "base_uri": "https://localhost:8080/"
        },
        "outputId": "e7d6f7fe-36e5-4125-b8e5-9ca01f3d3708"
      },
      "outputs": [
        {
          "output_type": "execute_result",
          "data": {
            "text/plain": [
              "['-', 'Mannová', 'paní']"
            ]
          },
          "metadata": {},
          "execution_count": 9
        }
      ],
      "source": [
        "[idx_token_tgt[i] for i in word_aligner.translation_probs[t_idx_src['Mrs']].argsort()[-3:]]"
      ]
    },
    {
      "cell_type": "code",
      "execution_count": 10,
      "metadata": {
        "id": "MtQ6l-yEHXGY",
        "scrolled": true,
        "colab": {
          "base_uri": "https://localhost:8080/"
        },
        "outputId": "db34bb42-0a2f-4281-9f00-7351264ca6ee"
      },
      "outputs": [
        {
          "output_type": "execute_result",
          "data": {
            "text/plain": [
              "['z', 'pro', 'vody']"
            ]
          },
          "metadata": {},
          "execution_count": 10
        }
      ],
      "source": [
        "[idx_token_tgt[i] for i in word_aligner.translation_probs[t_idx_src['water']].argsort()[-3:]]"
      ]
    },
    {
      "cell_type": "code",
      "execution_count": 11,
      "metadata": {
        "id": "JwekWB-nHXGY",
        "colab": {
          "base_uri": "https://localhost:8080/"
        },
        "outputId": "b4a88a8a-86ef-4934-c89b-084e19300020"
      },
      "outputs": [
        {
          "output_type": "execute_result",
          "data": {
            "text/plain": [
              "['dne', 'koni', 'konec']"
            ]
          },
          "metadata": {},
          "execution_count": 11
        }
      ],
      "source": [
        "[idx_token_tgt[i] for i in word_aligner.translation_probs[t_idx_src['depended']].argsort()[-3:]]"
      ]
    },
    {
      "cell_type": "code",
      "execution_count": 12,
      "metadata": {
        "id": "BN-zOTffHXGZ",
        "colab": {
          "base_uri": "https://localhost:8080/"
        },
        "outputId": "21663727-4fc3-4dca-801d-d4d04abd5684"
      },
      "outputs": [
        {
          "output_type": "execute_result",
          "data": {
            "text/plain": [
              "['.', 'se', 'na']"
            ]
          },
          "metadata": {},
          "execution_count": 12
        }
      ],
      "source": [
        "[idx_token_tgt[i] for i in word_aligner.translation_probs[t_idx_src['on']].argsort()[-3:]]"
      ]
    },
    {
      "cell_type": "markdown",
      "metadata": {
        "id": "QomN0412HXGZ"
      },
      "source": [
        "---"
      ]
    },
    {
      "cell_type": "markdown",
      "metadata": {
        "id": "KKB1ZewwHXGZ"
      },
      "source": [
        "**Задание 3. (0.5 балла)** Мы смогли получить матрицу условных вероятностей перевода исходного языка в целевой. Можно ли, пользуясь этой матрицей и ещё какими-то статистиками по параллельному корпусу, получить вероятности перевода целевого языка в исходный?\n",
        "\n",
        "* **(?)**  Объясните словами принцип работы вашего метода и реализуйте его.\n",
        "* **(?)**  Также приведите ниже пример его работы, показав пару удачных переводов.\n",
        "\n",
        "**Подсказка:** какие формулы из теории вероятностей вы знаете? :)"
      ]
    },
    {
      "cell_type": "markdown",
      "source": [
        "Из теории вероятности знаю формула Байеса!\n",
        "Нужно получить частотную вероятность каждого токена из английского и чешского языков. Условные вероятности для перевода исходного текста в целевой у нас получены при обучении word_aligner. Теперь мы сможем вычислить условные вероятности для перевода целевого текста в исходный"
      ],
      "metadata": {
        "id": "rHi75o1F2u2j"
      }
    },
    {
      "cell_type": "markdown",
      "metadata": {
        "id": "s4BE-wxTHXGa"
      },
      "source": [
        "---"
      ]
    },
    {
      "cell_type": "code",
      "execution_count": 15,
      "metadata": {
        "id": "mexCag2vHXGa"
      },
      "outputs": [],
      "source": [
        "source_counts = np.zeros(len(t_idx_src))\n",
        "target_counts = np.zeros(len(t_idx_tgt))\n",
        "\n",
        "for sentence in tokenized_sentences:\n",
        "    unique_source_tokens = np.unique(sentence.source_tokens)\n",
        "    unique_target_tokens = np.unique(sentence.target_tokens)\n",
        "    for s in unique_source_tokens:\n",
        "        source_counts[s] += 1\n",
        "    for t in unique_target_tokens:\n",
        "        target_counts[t] += 1\n",
        "P_s = source_counts / source_counts.sum()\n",
        "P_t = target_counts / target_counts.sum()"
      ]
    },
    {
      "cell_type": "code",
      "source": [
        "reverse_probs = (word_aligner.translation_probs.T * P_s) / (P_t.reshape(-1, 1))\n",
        "reverse_probs /= reverse_probs.sum(axis=1, keepdims=True)"
      ],
      "metadata": {
        "id": "4DCo6qR45v8K"
      },
      "execution_count": 16,
      "outputs": []
    },
    {
      "cell_type": "code",
      "source": [
        "idx_token_src = {index:token for token, index in t_idx_src.items()}"
      ],
      "metadata": {
        "id": "hhA-9gEr6eoB"
      },
      "execution_count": 17,
      "outputs": []
    },
    {
      "cell_type": "code",
      "source": [
        "[idx_token_src[i] for i in reverse_probs[t_idx_tgt['koni']].argsort()[-3:]]\n"
      ],
      "metadata": {
        "colab": {
          "base_uri": "https://localhost:8080/"
        },
        "id": "u8S0BmL86oZi",
        "outputId": "4a5d64a8-21a7-42bc-dc6e-9432038e326a"
      },
      "execution_count": 18,
      "outputs": [
        {
          "output_type": "execute_result",
          "data": {
            "text/plain": [
              "['depended', 'disorganized', 'haggling']"
            ]
          },
          "metadata": {},
          "execution_count": 18
        }
      ]
    },
    {
      "cell_type": "code",
      "source": [
        "[idx_token_src[i] for i in reverse_probs[t_idx_tgt['konec']].argsort()[-3:]]"
      ],
      "metadata": {
        "colab": {
          "base_uri": "https://localhost:8080/"
        },
        "id": "4jh-CyzZ6vRX",
        "outputId": "af52648c-d386-4996-de23-04dadc4a7c83"
      },
      "execution_count": 19,
      "outputs": [
        {
          "output_type": "execute_result",
          "data": {
            "text/plain": [
              "['disorganized', 'funded', 'store']"
            ]
          },
          "metadata": {},
          "execution_count": 19
        }
      ]
    },
    {
      "cell_type": "markdown",
      "metadata": {
        "id": "ZwU6U23YHXGa"
      },
      "source": [
        "**Задание 4. (0.5 балла)** Визуализируйте полученные выравнивания для нескольких предложений в виде heatmap: по одной из осей располагаются токены исходного текста, по другой — токены его перевода, на пересечении позиций $i$ и $j$ — 0 либо 1 в зависимости от того, является ли в обученной модели $a_i$ равным $j$. Проинтерпретируйте их.\n",
        "\n",
        "Постройте аналогичный график, но без дискретизации, а визуализируя напрямую апостериорное распределение. **(?)**  Можете ли вы найти ситуации, в которых модель не уверена, переводом какого слова является слово $i$?"
      ]
    },
    {
      "cell_type": "markdown",
      "metadata": {
        "id": "ihgfWXExHXGa"
      },
      "source": [
        "**Подсказка:**\n",
        "* Старайтесь не брать слишком короткие предложения"
      ]
    },
    {
      "cell_type": "markdown",
      "metadata": {
        "id": "UVE0Ye_0HXGb"
      },
      "source": [
        "---"
      ]
    },
    {
      "cell_type": "code",
      "execution_count": 32,
      "metadata": {
        "id": "n9AKEseWHXGb"
      },
      "outputs": [],
      "source": [
        "import seaborn as sns\n",
        "def plot_alignments(sentence_idx):\n",
        "    sentence = tokenized_sentences[sentence_idx]\n",
        "    src_tokens = sentence.source_tokens\n",
        "    tgt_tokens = sentence.target_tokens\n",
        "    predicted_alignments = word_aligner.align([sentence])[0]\n",
        "    alignment_matrix = np.zeros((len(src_tokens), len(tgt_tokens)))\n",
        "    for src_pos, tgt_pos in predicted_alignments:\n",
        "        alignment_matrix[src_pos - 1, tgt_pos - 1] = 1\n",
        "    plt.figure(figsize=(8, 6))\n",
        "    sns.heatmap(alignment_matrix, annot=False, cmap=\"Blues\", cbar=False, linewidths=0.5)\n",
        "    plt.xticks(np.arange(len(tgt_tokens)) + 0.5, [idx_token_tgt[tok] for tok in tgt_tokens], rotation=90, ha=\"center\")\n",
        "    plt.yticks(np.arange(len(src_tokens)) + 0.5, [idx_token_tgt[tok] for tok in src_tokens], rotation=0, ha=\"right\")\n",
        "    plt.xlabel(\"Target Tokens\")\n",
        "    plt.ylabel(\"Source Tokens\")\n",
        "    plt.title(f\"Discrete Alignments (Sentence {sentence_idx})\")\n",
        "    plt.show()\n",
        "def plot_posterior_probs(sentence_idx):\n",
        "    sentence = tokenized_sentences[sentence_idx]\n",
        "    src_tokens = sentence.source_tokens\n",
        "    tgt_tokens = sentence.target_tokens\n",
        "    posterior_probs = word_aligner._e_step([sentence])[0]\n",
        "    plt.figure(figsize=(8, 6))\n",
        "    sns.heatmap(posterior_probs, annot=False, cmap=\"Reds\", cbar=True, linewidths=0.5)\n",
        "    plt.xticks(np.arange(len(tgt_tokens)) + 0.5, [idx_token_tgt[tok] for tok in tgt_tokens], rotation=90, ha=\"center\")\n",
        "    plt.yticks(np.arange(len(src_tokens)) + 0.5, [idx_token_tgt[tok] for tok in src_tokens], rotation=0, ha=\"right\")\n",
        "    plt.xlabel(\"Target Tokens\")\n",
        "    plt.ylabel(\"Source Tokens\")\n",
        "    plt.title(f\"Posterior Probabilities (Sentence {sentence_idx})\")\n",
        "    plt.show()"
      ]
    },
    {
      "cell_type": "code",
      "source": [
        "plot_alignments(678)"
      ],
      "metadata": {
        "colab": {
          "base_uri": "https://localhost:8080/",
          "height": 631
        },
        "id": "pN60B6cNzXeY",
        "outputId": "7f76230b-2772-4ddd-c6b7-74ea0806f54a"
      },
      "execution_count": 37,
      "outputs": [
        {
          "output_type": "display_data",
          "data": {
            "text/plain": [
              "<Figure size 800x600 with 1 Axes>"
            ],
            "image/png": "[encoded data removed]"
          },
          "metadata": {}
        }
      ]
    },
    {
      "cell_type": "code",
      "source": [
        "plot_posterior_probs(678)"
      ],
      "metadata": {
        "colab": {
          "base_uri": "https://localhost:8080/",
          "height": 631
        },
        "id": "p9arL20EzTHH",
        "outputId": "075c9914-6929-4f9f-fbd5-7275bf6e9704"
      },
      "execution_count": 38,
      "outputs": [
        {
          "output_type": "display_data",
          "data": {
            "text/plain": [
              "<Figure size 800x600 with 2 Axes>"
            ],
            "image/png": "[encoded data removed]"
          },
          "metadata": {}
        }
      ]
    },
    {
      "cell_type": "code",
      "source": [
        "plot_alignments(1312)"
      ],
      "metadata": {
        "colab": {
          "base_uri": "https://localhost:8080/",
          "height": 642
        },
        "id": "GcE9E5q60i3G",
        "outputId": "4926b855-cad5-4873-ff6d-c26096656ee5"
      },
      "execution_count": 43,
      "outputs": [
        {
          "output_type": "display_data",
          "data": {
            "text/plain": [
              "<Figure size 800x600 with 1 Axes>"
            ],
            "image/png": "[encoded data removed]"
          },
          "metadata": {}
        }
      ]
    },
    {
      "cell_type": "code",
      "source": [
        "plot_posterior_probs(1312)"
      ],
      "metadata": {
        "colab": {
          "base_uri": "https://localhost:8080/",
          "height": 642
        },
        "id": "OlIye3490mdI",
        "outputId": "919a6749-b880-4084-8e8e-77bedb19f5d6"
      },
      "execution_count": 44,
      "outputs": [
        {
          "output_type": "display_data",
          "data": {
            "text/plain": [
              "<Figure size 800x600 with 2 Axes>"
            ],
            "image/png": "[encoded data removed]"
          },
          "metadata": {}
        }
      ]
    },
    {
      "cell_type": "markdown",
      "source": [
        "Горизонтальные цветные линии на графиках показывают ситуации, когда модель не уверена в переводе некоторого слова. В целом прослеживаются диагонали, особенно в начале предложений: первые слова разных языков модель легко сопоставляет. К середине предложения предсказания уже не такие однозначные"
      ],
      "metadata": {
        "id": "7p2BH8Tu023v"
      }
    },
    {
      "cell_type": "markdown",
      "metadata": {
        "id": "XbeY3rjVHXGb"
      },
      "source": [
        "## Бонусная часть"
      ]
    },
    {
      "cell_type": "markdown",
      "metadata": {
        "id": "JI47n0eBHXGb"
      },
      "source": [
        "Заметим, что при задании модели мы сделали довольно сильное предположение о том, что вероятности выбора слова для выравнивания никак не зависят от позиции слова в целевом предложении. Можно сделать эти вероятности настраиваемыми параметрами, получив прямоугольную матрицу $\\phi_{m,n}(j|i)=p(a_i=j|m,n)$ для каждой пары длин предложений $m,n$: по-прежнему мы получаем распределение над индексами в исходном предложении. Тогда модель приобретает вид\n",
        "$$\n",
        "p(A,T|S)=\\prod_{i=1}^m p(a_i|m,n)p(t_i| a_i, S)=\\prod_{i=1}^m \\phi_{m,n}(a_i|i)\\theta(t_i|s_{a_i}).\n",
        "$$"
      ]
    },
    {
      "cell_type": "markdown",
      "metadata": {
        "id": "BfGGWXNOHXGc"
      },
      "source": [
        "**Задание 5. (бонус, 1.5 балла)** Выведите шаги EM-алгоритма для этой модели, а также получите выражение для подсчёта нижней оценки правдоподобия."
      ]
    },
    {
      "cell_type": "markdown",
      "metadata": {
        "id": "QHb_MfD-HXGc"
      },
      "source": [
        "**Замечание:**\n",
        "* _Возможные форматы ответа:_ в ячейке ноутбука, отдельно сданная в энитаск pdf c набранными формулами в LaTex, отдельная сданная в энитаск фотография (или скан) рукописного (и разборчивого) вывода.\n",
        "* Наличие только ответа оценивается **в 0 баллов**\n",
        "* Наличие неочевидных переходов без пояснений влияет на **баллы в меньшую сторону**"
      ]
    },
    {
      "cell_type": "markdown",
      "source": [
        "### E-шаг (вычисление апостериорных вероятностей)\n",
        "$$\n",
        "q_i(j) = P(a_i = j \\mid t_i, S) = \\frac{\\phi(i \\mid j, n, m) \\cdot \\theta(t_i \\mid s_j)}{\\sum_{k=1}^n \\phi(i \\mid k, n, m) \\cdot \\theta(t_i \\mid s_k)}\n",
        "$$\n",
        "\n",
        "### M-шаг (обновление параметров)\n",
        "#### Вероятности перевода:\n",
        "$$\n",
        "\\theta(t \\mid s) = \\frac{\\sum_{(S, T)} \\sum_{i=1}^{m} \\sum_{j=1}^{n} q_i(j) \\cdot I(t_i = t, s_j = s)}{\\sum_{t' = 1}^{n} \\sum_{(S, T)} \\sum_{i=1}^{m} \\sum_{j=1}^{n} q_i(j) \\cdot I(t_i = t', s_j = s)}\n",
        "$$\n",
        "\n",
        "#### Позиционные вероятности:\n",
        "$$\n",
        "\\phi(i \\mid j, n, m) = \\frac{\\sum_{(S, T): |S| = n, |T| = m} q_i(j)}{\\sum_{(S, T): |S| = n, |T| = m} q_i(k)}\n",
        "$$\n",
        "\n",
        "### ELBO:\n",
        "$$\n",
        "L(q, \\theta, \\phi) = \\sum_{(S, T)} \\sum_{i=1}^{m} \\sum_{j=1}^{n} q_i(j) \\log(\\phi(i \\mid j, n, m) \\cdot \\theta(t_i \\mid s_j)) - \\sum_{(S, T)} \\sum_{i=1}^{m} \\sum_{j=1}^{n} q_i(j) \\log q_i(j)\n",
        "$$\n",
        "\n",
        "### Условие нормировки (функция Лагранжа)\n",
        "\n",
        "#### Для Вероятностей перевода:\n",
        "$$\n",
        "\\frac{\\partial L}{\\partial \\theta(t \\mid s)} = \\sum_{(S, T)} \\sum_{i=1}^{m} \\sum_{j=1}^{n} q_i(j) \\cdot I(t_i = t, s_j = s) \\cdot \\theta(t \\mid s) - \\lambda_s = 0\n",
        "$$\n",
        "\n",
        "#### Для позиционных вероятностей:\n",
        "$$\n",
        "\\frac{\\partial L}{\\partial \\phi(i \\mid j, n, m)} = \\sum_{(S, T): |S| = n, |T| = m} q_i(j) \\cdot \\phi(i \\mid j, n, m) - \\mu_{n, m} = 0\n",
        "$$\n",
        "\n",
        "Чтобы получить отсюда M-шаг, по аналогии с прошлым заданием выражаем нужные переменные и используем условие нормировки(сумма равна 1)\n"
      ],
      "metadata": {
        "id": "CXWHV6NLJO0b"
      }
    },
    {
      "cell_type": "markdown",
      "metadata": {
        "id": "sNv1P9ycHXGd"
      },
      "source": [
        "**Задание 6. (бонус, 1.5 балла)** Реализуйте все методы класса `WordPositionAligner`, протестируйте их корректность через Яндекс.Контест. Обучите модель, оцените её качество на истинной разметке и сравните его с качеством предыдущей более простой модели. Проиллюстрируйте влияние стартовых параметров на результат, проинициализировав эту модель параметрами модели из задания 2 (важно, чтобы суммарное число эпох обучения в обоих сценариях оставалось тем же)."
      ]
    },
    {
      "cell_type": "markdown",
      "metadata": {
        "id": "z08oh8PMHXGg"
      },
      "source": [
        "**Замечание:**\n",
        "* **Полностью проходящая все тесты посылка в этом заданиии дает 0.75 балла. За хотя бы 1 непройденный тест вы можете получить за это задание максимум 0.75 балла**"
      ]
    },
    {
      "cell_type": "markdown",
      "metadata": {
        "id": "bt2RB55HHXGh"
      },
      "source": [
        "---\n",
        "**>>Ваша ссылка на посылку:<<**\n",
        "\n",
        "---"
      ]
    },
    {
      "cell_type": "markdown",
      "source": [
        "https://contest.yandex.ru/contest/60281/run-report/136003492/"
      ],
      "metadata": {
        "id": "YObZiGBl8syK"
      }
    },
    {
      "cell_type": "markdown",
      "metadata": {
        "id": "ApgA3nxuHXGh"
      },
      "source": [
        "---"
      ]
    },
    {
      "cell_type": "markdown",
      "metadata": {
        "id": "RbWOg9RlHXGi"
      },
      "source": [
        "**Задание 7. (бонус, 1 балл)** В предыдущих пунктах мы никак не заостряли внимание на предобработке текстов, что может негативно влиять на результаты обученной модели. Например, сейчас метод выравнивания учитывает регистр, а слова на чешском языке вдобавок обладают богатой морфологией и большим количеством диакритических знаков. Если сократить количество параметров модели (различных слов), можно ускорить обучение и добиться лучших результатов, потому что статистики по словам будут считаться по большему числу параллельных предложений.\n",
        "\n",
        "Примените к исходным данным [Unicode-нормализацию](https://en.wikipedia.org/wiki/Unicode_equivalence#Normalization), приведите их к нижнему регистру и обучите модель выравнивания заново. Сравните качество и скорость обучения с предыдущими результатами и сделайте выводы. Если вы найдете в данных ещё какие-то проблемы, которые можно исправить более грамотной предобработкой, также продемонстрируйте, как их решение влияет на качество.\n",
        "\n",
        "**Важно:** здесь и далее в процессе обработки данных у вас может получаться, что из тестовых данных будут удалены предложения из-за отсутствия слов в словаре. Если такое всё же произошло, для корректности сравнения считайте AER вашей модели на удалённых предложениях равным 1."
      ]
    },
    {
      "cell_type": "markdown",
      "metadata": {
        "id": "6X6zLEiwHXGi"
      },
      "source": [
        "---"
      ]
    },
    {
      "cell_type": "code",
      "execution_count": 78,
      "metadata": {
        "id": "azow4n06HXGi"
      },
      "outputs": [],
      "source": [
        "import unicodedata\n",
        "import re\n",
        "from preprocessing import SentencePair\n",
        "def normalize_text(text: str) -> str:\n",
        "    text = unicodedata.normalize('NFKC', text)\n",
        "    text = text.lower()\n",
        "    text = ''.join([c for c in text if not unicodedata.combining(c)])\n",
        "    return text\n",
        "def preprocess_data(files_pattern: str):\n",
        "    all_sentences = []\n",
        "    all_targets = []\n",
        "    for file in glob.glob(files_pattern, recursive=True):\n",
        "        sentence_pairs, alignments = extract_sentences(file)\n",
        "        for pair in sentence_pairs:\n",
        "            normalized_pair = SentencePair(\n",
        "                source=[normalize_text(word) for word in pair.source],\n",
        "                target=[normalize_text(word) for word in pair.target]\n",
        "            )\n",
        "            all_sentences.append(pair)\n",
        "        all_targets.extend(alignments)\n",
        "    t_idx_src, t_idx_tgt = get_token_to_index(all_sentences)\n",
        "    tokenized_sentences = tokenize_sents(all_sentences, t_idx_src, t_idx_tgt)\n",
        "    return tokenized_sentences, all_sentences, all_targets, t_idx_src, t_idx_tgt\n",
        "tokenized_sentences, all_sentences, all_targets, t_idx_src, t_idx_tgt = preprocess_data('data/*/*/*.wa')"
      ]
    },
    {
      "cell_type": "code",
      "source": [
        "word_aligner = WordAligner(len(t_idx_src), len(t_idx_tgt), 20)\n",
        "word_aligner.fit(tokenized_sentences)\n",
        "aer = compute_aer(alignments, word_aligner.align(tokenized_sentences))\n",
        "print(f\"AER после предобработки: {aer}\")"
      ],
      "metadata": {
        "colab": {
          "base_uri": "https://localhost:8080/"
        },
        "id": "d95BRgtoMw5e",
        "outputId": "9cd60056-d4c1-43a3-bfec-0f8a4af6caaa"
      },
      "execution_count": 73,
      "outputs": [
        {
          "output_type": "stream",
          "name": "stdout",
          "text": [
            "AER после предобработки: 0.9460839954597049\n"
          ]
        }
      ]
    },
    {
      "cell_type": "markdown",
      "source": [
        "Всё упало("
      ],
      "metadata": {
        "id": "dkfxOjsSOlVh"
      }
    },
    {
      "cell_type": "markdown",
      "metadata": {
        "id": "0Zij0SadHXGj"
      },
      "source": [
        "---"
      ]
    },
    {
      "cell_type": "markdown",
      "metadata": {
        "id": "IPux0splHXGj"
      },
      "source": [
        "**Задание 8. (бонус, до 3 баллов)**\n",
        "\n",
        "Улучшите качество получившейся системы настолько, насколько сможете. За каждые 5 процентов, на которые AER на тех же данных получается меньше, чем минимум ошибки всех предыдущих моделей, вы получите по 1 бонусному баллу.\n",
        "\n",
        "Ниже приведены несколько идей, которые могут помочь вам повысить\n",
        "\n",
        "* Модифицировать модель: как вы можете понять, недостатком второго реализованного вами подхода является избыточное число параметров из-за необходимости подерживать отдельную матрицу для каждой различной пары длин предложений в корпусе. В статье https://www.aclweb.org/anthology/N13-1073.pdf приведён способ снижения числа параметров, задающих априорное распределение позиций выравнивания, который позволяет в десять раз быстрее обучать модель и получать лучшее качество.\n",
        "* Агрегация по двум направлениям: в статье https://www.aclweb.org/anthology/J03-1002/ утверждается, что асимметричность выравниваний вредит качеству, потому что из-за выбранной модели одному слову в целевом предложении не может соответствовать два слова в исходном предложении. Для решения этой проблемы (и улучшения метрик, разумеется) авторы предлагают несколько алгоритмов, которые можно попробовать применить в этом задании.\n",
        "* Использовать больше обучающих данных. В корпусе, которым мы пользуемся, только пара тысяч предложений, чего может не хватать для по-настоящему хорошей модели выравнивания. Разумеется, неразмеченных параллельных английско-чешских корпусов гораздо больше, поэтому можно воспользоваться ими. Хорошая точка для старта — данные с соревнования по машинному переводу  [воркшопа WMT](http://www.statmt.org/wmt20/translation-task.html).\n",
        "* В языках часто существуют слова наподобие артиклей или предлогов, которым не соответствует ни одно слово в переводе. Все рассмотренные в рамках задания модели это не учитывают, возможно, добавление возможности перевода в «нулевой» токен улучшит качество модели (при тестировании такие выравнивания имеет смысл выбрасывать)"
      ]
    },
    {
      "cell_type": "code",
      "execution_count": null,
      "metadata": {
        "id": "2HD8P74cHXGj"
      },
      "outputs": [],
      "source": [
        "# ┐_(ツ)_┌━☆ﾟ.*･｡ﾟ"
      ]
    },
    {
      "cell_type": "markdown",
      "metadata": {
        "id": "bcFKl0vUHXGj"
      },
      "source": [
        "### Картинка для поддержки ваших чувств по этому заданию"
      ]
    },
    {
      "cell_type": "markdown",
      "metadata": {
        "id": "5cf6igh7HXGk"
      },
      "source": [
        "![](https://a.d-cd.net/RAAAAgCnO-A-960.jpg)"
      ]
    }
  ],
  "metadata": {
    "colab": {
      "provenance": []
    },
    "kernelspec": {
      "display_name": "Python 3",
      "language": "python",
      "name": "python3"
    },
    "language_info": {
      "codemirror_mode": {
        "name": "ipython",
        "version": 3
      },
      "file_extension": ".py",
      "mimetype": "text/x-python",
      "name": "python",
      "nbconvert_exporter": "python",
      "pygments_lexer": "ipython3",
      "version": "3.8.8"
    }
  },
  "nbformat": 4,
  "nbformat_minor": 0
}