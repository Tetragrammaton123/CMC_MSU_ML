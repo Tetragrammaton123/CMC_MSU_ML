{
  "cells": [
    {
      "cell_type": "code",
      "execution_count": null,
      "metadata": {
        "id": "Ry41K2w72bal"
      },
      "outputs": [],
      "source": [
        "from sklearn.datasets import fetch_openml"
      ]
    },
    {
      "cell_type": "code",
      "execution_count": null,
      "metadata": {
        "id": "Ru3AtMmCSTML"
      },
      "outputs": [],
      "source": [
        "import numpy as np"
      ]
    },
    {
      "cell_type": "code",
      "execution_count": null,
      "metadata": {
        "id": "rS-qa--Crtrt"
      },
      "outputs": [],
      "source": [
        "import sklearn.datasets\n",
        "x=sklearn.datasets.fetch_openml(\"mnist_784\")"
      ]
    },
    {
      "cell_type": "code",
      "execution_count": null,
      "metadata": {
        "colab": {
          "base_uri": "https://localhost:8080/"
        },
        "id": "rbSK1I0wnBvL",
        "outputId": "3eb1adec-aa4d-4316-de50-f28ace2a773d"
      },
      "outputs": [
        {
          "name": "stdout",
          "output_type": "stream",
          "text": [
            "Форма обучающей выборки (X_train): (60000, 784)\n",
            "Форма тестовой выборки (X_test): (10000, 784)\n",
            "Форма меток обучающей выборки (y_train): (60000,)\n",
            "Форма меток тестовой выборки (y_test): (10000,)\n"
          ]
        }
      ],
      "source": [
        "X, Y = x['data'], x['target']\n",
        "X_array = X.to_numpy()\n",
        "Y_array = Y.astype(np.uint8).to_numpy()\n",
        "X_train, X_test = X_array[:60000], X_array[60000:]  # Первые 60000 объектов для обучения, остальные для тестирования\n",
        "Y_train, Y_test = Y_array[:60000], Y_array[60000:]  # Соответствующие метки\n",
        "\n",
        "# Вывод информации о размерах массивов\n",
        "print(\"Форма обучающей выборки (X_train):\", X_train.shape)\n",
        "print(\"Форма тестовой выборки (X_test):\", X_test.shape)\n",
        "print(\"Форма меток обучающей выборки (y_train):\", Y_train.shape)\n",
        "print(\"Форма меток тестовой выборки (y_test):\", Y_test.shape)"
      ]
    },
    {
      "cell_type": "code",
      "execution_count": null,
      "metadata": {
        "colab": {
          "base_uri": "https://localhost:8080/"
        },
        "id": "0DlWlxdF-ZvM",
        "outputId": "1c3f5f86-cdc6-4f73-dcab-c5dcca1ac039"
      },
      "outputs": [
        {
          "name": "stdout",
          "output_type": "stream",
          "text": [
            "Форма обучающей выборки (X_train): (10000, 784)\n",
            "Форма тестовой выборки (X_test): (100, 784)\n",
            "Форма меток обучающей выборки (y_train): (10000,)\n",
            "Форма меток тестовой выборки (y_test): (100,)\n"
          ]
        }
      ],
      "source": [
        "X_train, X_test = X_array[:10000], X_array[69900:]  # Первые 60000 объектов для обучения, остальные для тестирования\n",
        "Y_train, Y_test = Y_array[:10000], Y_array[69900:]  # Соответствующие метки\n",
        "print(\"Форма обучающей выборки (X_train):\", X_train.shape)\n",
        "print(\"Форма тестовой выборки (X_test):\", X_test.shape)\n",
        "print(\"Форма меток обучающей выборки (y_train):\", Y_train.shape)\n",
        "print(\"Форма меток тестовой выборки (y_test):\", Y_test.shape)"
      ]
    },
    {
      "cell_type": "code",
      "execution_count": null,
      "metadata": {
        "id": "wFQEqNAeb5RN"
      },
      "outputs": [],
      "source": [
        "import numpy as np\n",
        "from sklearn.neighbors import NearestNeighbors\n",
        "from sklearn.model_selection import cross_val_score\n",
        "from sklearn.neighbors import KNeighborsClassifier\n",
        "from sklearn.metrics import accuracy_score\n",
        "from sklearn.model_selection import KFold"
      ]
    },
    {
      "cell_type": "markdown",
      "metadata": {
        "id": "ue7fBm9hB72r"
      },
      "source": [
        "Классификатор"
      ]
    },
    {
      "cell_type": "code",
      "execution_count": null,
      "metadata": {
        "id": "ySbcJZ_DBm3F"
      },
      "outputs": [],
      "source": [
        "import numpy as np\n",
        "from sklearn.neighbors import NearestNeighbors\n",
        "\n",
        "\n",
        "def euclidean_distance(X, Y):\n",
        "    X_s = np.sum(X ** 2, axis=1)[:, np.newaxis]\n",
        "    Y_s = np.sum(Y ** 2, axis=1)[np.newaxis, :]\n",
        "    t = X_s + Y_s - 2 * np.dot(X, Y.T)\n",
        "    t = np.maximum(t, 0)\n",
        "    return np.sqrt(t)\n",
        "\n",
        "\n",
        "def cosine_distance(X, Y):\n",
        "    a = np.linalg.norm(X, axis=1)[:, np.newaxis]\n",
        "    b = np.linalg.norm(Y, axis=1)[np.newaxis, :]\n",
        "    a[a == 0] = 1\n",
        "    b[b == 0] = 1\n",
        "    return 1 - (np.dot(X, Y.T) / (a * b))\n",
        "\n",
        "\n",
        "class KNNClassifier:\n",
        "    def __init__(self, k=2, strategy='kd_tree', metric='euclidean', weights='False', test_block_size=5000):\n",
        "        self.k = k\n",
        "        self.strategy = strategy\n",
        "        self.metric = metric\n",
        "        self.weights = weights\n",
        "        self.test_block_size = test_block_size\n",
        "        if strategy != 'my_own':\n",
        "            self.model = NearestNeighbors(n_neighbors=k, algorithm=strategy, metric=metric)\n",
        "        else:\n",
        "            pass\n",
        "\n",
        "    def fit(self, X, y):\n",
        "        self.y_train = y\n",
        "        if self.strategy != 'my_own':\n",
        "            self.model.fit(X)\n",
        "        else:\n",
        "            self.X_train = X\n",
        "\n",
        "    def find_kneighbors(self, X, return_distance=False):\n",
        "        num_samples = X.shape[0]\n",
        "        indices = np.array([], dtype=np.int64).reshape((0, self.k))\n",
        "        dists = np.array([], dtype=np.float64).reshape((0, self.k))\n",
        "        for start_idx in range(0, num_samples, self.test_block_size):\n",
        "            end_idx = min(start_idx + self.test_block_size, num_samples)\n",
        "            X_block = X[start_idx:end_idx]\n",
        "            if self.strategy != 'my_own':\n",
        "                block_dists, block_indices = self.model.kneighbors(X_block)\n",
        "            else:\n",
        "                if self.metric == 'euclidean':\n",
        "                    distan = euclidean_distance(X_block, self.X_train)\n",
        "                else:\n",
        "                    distan = cosine_distance(X_block, self.X_train)\n",
        "                block_indices = np.argsort(distan, axis=1)[:, :self.k]\n",
        "                if return_distance:\n",
        "                    block_dists = np.take_along_axis(distan, block_indices, axis=1)\n",
        "            indices = np.vstack((indices, block_indices))\n",
        "            if return_distance:\n",
        "                dists = np.vstack((dists, block_dists))\n",
        "        if return_distance:\n",
        "            return dists, indices\n",
        "        else:\n",
        "            return indices\n",
        "\n",
        "    def predict(self, X):\n",
        "        if self.weights is True:\n",
        "            dists, indices = self.find_kneighbors(X, True)\n",
        "            weight = np.array([1.0 / (x + 0.00001) for x in dists])\n",
        "            answer = []\n",
        "            for i in range(len(indices)):\n",
        "                answer.append(np.argmax(np.bincount(self.y_train[indices[i]], weights=weight[i])))\n",
        "            return answer\n",
        "        else:\n",
        "            answer = []\n",
        "            indices = self.find_kneighbors(X, False)\n",
        "            for i in range(len(indices)):\n",
        "                answer.append(np.argmax(np.bincount(self.y_train[indices[i]])))\n",
        "            return answer\n"
      ]
    },
    {
      "cell_type": "markdown",
      "metadata": {
        "id": "P8CEt3zgB6jj"
      },
      "source": [
        "Валидация"
      ]
    },
    {
      "cell_type": "code",
      "execution_count": null,
      "metadata": {
        "id": "44haXRHaB5pq"
      },
      "outputs": [],
      "source": [
        "import numpy as np\n",
        "\n",
        "np.int = int\n",
        "\n",
        "\n",
        "def kfold(n, n_folds):\n",
        "    indices = np.arange(n)\n",
        "    fold_sizes = np.full(n_folds, n // n_folds, dtype=int)\n",
        "    fold_sizes[:n % n_folds] += 1\n",
        "    current = 0\n",
        "    folds = []\n",
        "\n",
        "    for fold_size in fold_sizes:\n",
        "        start, stop = current, current + fold_size\n",
        "        val_indices = indices[start:stop]\n",
        "        train_indices = np.concatenate([indices[:start], indices[stop:]])\n",
        "        folds.append((train_indices, val_indices))\n",
        "        current = stop\n",
        "\n",
        "    return folds\n",
        "\n",
        "\n",
        "def knn_cross_val_score(X, y, k_list, score='accuracy', cv=None, **kwargs):\n",
        "    if cv is None:\n",
        "        n = X.shape[0]\n",
        "        n_folds = 5\n",
        "        cv = kfold(n, n_folds)\n",
        "    scores_dict = {k: [] for k in k_list}\n",
        "    for k in k_list:\n",
        "        knn = KNNClassifier(k, **kwargs)\n",
        "        for (train_indices, val_indices) in cv:\n",
        "            X_train, X_val = X[train_indices], X[val_indices]\n",
        "            y_train, y_val = y[train_indices], y[val_indices]\n",
        "            knn.fit(X_train, y_train)\n",
        "            y_pred = knn.predict(X_val)\n",
        "            fold_score = calculate_accuracy(y_val, y_pred)\n",
        "            scores_dict[k].append(fold_score)\n",
        "    for k in scores_dict:\n",
        "        scores_dict[k] = np.array(scores_dict[k])\n",
        "    return scores_dict\n",
        "\n",
        "\n",
        "def calculate_accuracy(pred, real):\n",
        "    return np.mean(np.array(pred) == np.array(real))\n"
      ]
    },
    {
      "cell_type": "markdown",
      "metadata": {
        "id": "lOgbfdhtCtiE"
      },
      "source": [
        "1 эксперимент"
      ]
    },
    {
      "cell_type": "code",
      "execution_count": null,
      "metadata": {
        "colab": {
          "base_uri": "https://localhost:8080/"
        },
        "id": "bpQJifGiCudT",
        "outputId": "a3f5f95c-d76c-4aeb-8138-2afe766a1eb2"
      },
      "outputs": [
        {
          "name": "stdout",
          "output_type": "stream",
          "text": [
            "Время для kd_tree с 10 признаками: 1.9605 секунд\n",
            "Время для ball_tree с 10 признаками: 6.5610 секунд\n",
            "Время для brute с 10 признаками: 12.7770 секунд\n",
            "Время для my_own с 10 признаками: 70.6859 секунд\n",
            "Время для kd_tree с 20 признаками: 4.1876 секунд\n",
            "Время для ball_tree с 20 признаками: 13.7012 секунд\n",
            "Время для brute с 20 признаками: 13.2653 секунд\n",
            "Время для my_own с 20 признаками: 78.0436 секунд\n",
            "Время для kd_tree с 100 признаками: 142.2037 секунд\n",
            "Время для ball_tree с 100 признаками: 129.5774 секунд\n",
            "Время для brute с 100 признаками: 16.5912 секунд\n",
            "Время для my_own с 100 признаками: 201.8345 секунд\n",
            "\n",
            "Результаты:\n",
            "Подмножество 10, Алгоритм kd_tree: 1.9605 секунд\n",
            "Подмножество 10, Алгоритм ball_tree: 6.5610 секунд\n",
            "Подмножество 10, Алгоритм brute: 12.7770 секунд\n",
            "Подмножество 10, Алгоритм my_own: 70.6859 секунд\n",
            "Подмножество 20, Алгоритм kd_tree: 4.1876 секунд\n",
            "Подмножество 20, Алгоритм ball_tree: 13.7012 секунд\n",
            "Подмножество 20, Алгоритм brute: 13.2653 секунд\n",
            "Подмножество 20, Алгоритм my_own: 78.0436 секунд\n",
            "Подмножество 100, Алгоритм kd_tree: 142.2037 секунд\n",
            "Подмножество 100, Алгоритм ball_tree: 129.5774 секунд\n",
            "Подмножество 100, Алгоритм brute: 16.5912 секунд\n",
            "Подмножество 100, Алгоритм my_own: 201.8345 секунд\n"
          ]
        }
      ],
      "source": [
        "import time\n",
        "def measure_time(knn, X_test):\n",
        "    start_time = time.time()\n",
        "    knn.find_kneighbors(X_test, return_distance=True)\n",
        "    return time.time() - start_time\n",
        "algorithms = ['kd_tree', 'ball_tree', 'brute', 'my_own']\n",
        "subsets = [10, 20, 100]\n",
        "results = {}\n",
        "for subset in subsets:\n",
        "    random_indices = np.random.choice(X_train.shape[1], subset, replace=False)\n",
        "    X_train_subset = X_train[:, random_indices]\n",
        "    X_test_subset = X_test[:, random_indices]\n",
        "    for algo in algorithms:\n",
        "        knn = KNNClassifier(k=5, strategy=algo, metric='euclidean')\n",
        "        knn.fit(X_train_subset, Y_train)\n",
        "\n",
        "        elapsed_time = measure_time(knn, X_test_subset)\n",
        "\n",
        "        results[(subset, algo)] = elapsed_time\n",
        "        print(f'Время для {algo} с {subset} признаками: {elapsed_time:.4f} секунд')\n",
        "print(\"\\nРезультаты:\")\n",
        "for key, value in results.items():\n",
        "    print(f'Подмножество {key[0]}, Алгоритм {key[1]}: {value:.4f} секунд')"
      ]
    },
    {
      "cell_type": "markdown",
      "metadata": {
        "id": "MnrbuFnDhVSX"
      },
      "source": [
        "2 эксперимент"
      ]
    },
    {
      "cell_type": "code",
      "execution_count": null,
      "metadata": {
        "colab": {
          "base_uri": "https://localhost:8080/"
        },
        "id": "kk4z0dz1GAPg",
        "outputId": "71c8e7a1-7eda-4b11-cf75-a72f249023ac"
      },
      "outputs": [
        {
          "name": "stdout",
          "output_type": "stream",
          "text": [
            "1\n",
            "2\n",
            "3\n",
            "4\n",
            "5\n",
            "6\n",
            "7\n",
            "8\n",
            "9\n",
            "10\n",
            "1\n",
            "2\n",
            "3\n",
            "4\n",
            "5\n",
            "6\n",
            "7\n",
            "8\n",
            "9\n",
            "10\n",
            "\n",
            "Результаты кросс-валидации:\n",
            "k=1, Метрика=euclidean: Точность=0.9675, Время=141.7539 секунд\n",
            "k=2, Метрика=euclidean: Точность=0.9605, Время=148.6679 секунд\n",
            "k=3, Метрика=euclidean: Точность=0.9683, Время=152.4421 секунд\n",
            "k=4, Метрика=euclidean: Точность=0.9669, Время=162.0717 секунд\n",
            "k=5, Метрика=euclidean: Точность=0.9675, Время=159.7946 секунд\n",
            "k=6, Метрика=euclidean: Точность=0.9654, Время=158.3275 секунд\n",
            "k=7, Метрика=euclidean: Точность=0.9653, Время=162.1576 секунд\n",
            "k=8, Метрика=euclidean: Точность=0.9644, Время=159.3670 секунд\n",
            "k=9, Метрика=euclidean: Точность=0.9638, Время=158.4325 секунд\n",
            "k=10, Метрика=euclidean: Точность=0.9628, Время=159.3755 секунд\n",
            "k=1, Метрика=cosine: Точность=0.9715, Время=142.6465 секунд\n",
            "k=2, Метрика=cosine: Точность=0.9677, Время=151.2978 секунд\n",
            "k=3, Метрика=cosine: Точность=0.9720, Время=158.6533 секунд\n",
            "k=4, Метрика=cosine: Точность=0.9719, Время=162.3024 секунд\n",
            "k=5, Метрика=cosine: Точность=0.9715, Время=158.4214 секунд\n",
            "k=6, Метрика=cosine: Точность=0.9713, Время=165.5668 секунд\n",
            "k=7, Метрика=cosine: Точность=0.9700, Время=159.8710 секунд\n",
            "k=8, Метрика=cosine: Точность=0.9704, Время=160.4488 секунд\n",
            "k=9, Метрика=cosine: Точность=0.9693, Время=160.0883 секунд\n",
            "k=10, Метрика=cosine: Точность=0.9687, Время=164.9675 секунд\n"
          ]
        }
      ],
      "source": [
        "def evaluate_knn(k_values, metrics, X_train, Y_train, n_folds=3):\n",
        "    results = {}\n",
        "    cv = kfold(len(Y_train), n_folds)\n",
        "    for metric in metrics:\n",
        "        for k in k_values:\n",
        "            print(k)\n",
        "            start_time = time.time()\n",
        "            scores = knn_cross_val_score(X_train, Y_train, [k], score='accuracy', cv=cv, strategy='brute', metric=metric)\n",
        "            elapsed_time = time.time() - start_time\n",
        "            accuracy = np.mean(scores[k])\n",
        "            results[(k, metric)] = {\n",
        "                'accuracy': accuracy,\n",
        "                'time': elapsed_time\n",
        "            }\n",
        "\n",
        "    return results\n",
        "\n",
        "k_values = np.arange(1,11)\n",
        "metrics = ['euclidean', 'cosine']\n",
        "\n",
        "results = evaluate_knn(k_values, metrics, X_train, Y_train)\n",
        "\n",
        "print(\"\\nРезультаты кросс-валидации:\")\n",
        "for (k, metric), result in results.items():\n",
        "    print(f'k={k}, Метрика={metric}: Точность={result[\"accuracy\"]:.4f}, Время={result[\"time\"]:.4f} секунд')"
      ]
    },
    {
      "cell_type": "markdown",
      "metadata": {
        "id": "9EH5LeQbiBXn"
      },
      "source": [
        "косинусная метрика лучше, с соседями лучше всего 3"
      ]
    },
    {
      "cell_type": "code",
      "execution_count": null,
      "metadata": {
        "id": "OnGS5hI6RSX6"
      },
      "outputs": [],
      "source": [
        "cv = kfold(len(Y_train), 3)"
      ]
    },
    {
      "cell_type": "code",
      "execution_count": null,
      "metadata": {
        "colab": {
          "base_uri": "https://localhost:8080/"
        },
        "id": "CpyPR0WmSKrB",
        "outputId": "97ee618f-e064-4c19-cc42-0e80be19abc5"
      },
      "outputs": [
        {
          "name": "stdout",
          "output_type": "stream",
          "text": [
            "Форма обучающей выборки (X_train): (60000, 784)\n",
            "Форма тестовой выборки (X_test): (10000, 784)\n",
            "Форма меток обучающей выборки (y_train): (60000,)\n",
            "Форма меток тестовой выборки (y_test): (10000,)\n"
          ]
        }
      ],
      "source": [
        "X_train, X_test = X_array[:60000], X_array[60000:]\n",
        "Y_train, Y_test = Y_array[:60000], Y_array[60000:]\n",
        "print(\"Форма обучающей выборки (X_train):\", X_train.shape)\n",
        "print(\"Форма тестовой выборки (X_test):\", X_test.shape)\n",
        "print(\"Форма меток обучающей выборки (y_train):\", Y_train.shape)\n",
        "print(\"Форма меток тестовой выборки (y_test):\", Y_test.shape)"
      ]
    },
    {
      "cell_type": "code",
      "execution_count": null,
      "metadata": {
        "colab": {
          "base_uri": "https://localhost:8080/"
        },
        "id": "4k8NWGU9Rt1L",
        "outputId": "8d4a9b34-3b4a-4362-ff91-89f1d91df687"
      },
      "outputs": [
        {
          "name": "stdout",
          "output_type": "stream",
          "text": [
            "Форма обучающей выборки (X_train): (1000, 784)\n",
            "Форма тестовой выборки (X_test): (1000, 784)\n",
            "Форма меток обучающей выборки (y_train): (1000,)\n",
            "Форма меток тестовой выборки (y_test): (1000,)\n"
          ]
        }
      ],
      "source": [
        "X_train, X_test = X_array[:1000], X_array[69000:]\n",
        "Y_train, Y_test = Y_array[:1000], Y_array[69000:]\n",
        "print(\"Форма обучающей выборки (X_train):\", X_train.shape)\n",
        "print(\"Форма тестовой выборки (X_test):\", X_test.shape)\n",
        "print(\"Форма меток обучающей выборки (y_train):\", Y_train.shape)\n",
        "print(\"Форма меток тестовой выборки (y_test):\", Y_test.shape)"
      ]
    },
    {
      "cell_type": "markdown",
      "metadata": {
        "id": "z1G_MvJPhYVJ"
      },
      "source": [
        "3 эксперимент"
      ]
    },
    {
      "cell_type": "code",
      "execution_count": null,
      "metadata": {
        "colab": {
          "base_uri": "https://localhost:8080/"
        },
        "id": "KQbLWy5yuWUH",
        "outputId": "000aadc8-3976-416a-d429-f083ea25a35b"
      },
      "outputs": [
        {
          "name": "stdout",
          "output_type": "stream",
          "text": [
            "1\n",
            "2\n",
            "3\n",
            "4\n",
            "5\n",
            "6\n",
            "7\n",
            "8\n",
            "9\n",
            "10\n",
            "1\n",
            "2\n",
            "3\n",
            "4\n",
            "5\n",
            "6\n",
            "7\n",
            "8\n",
            "9\n",
            "10\n",
            "\n",
            "Результаты сравнения взвешенного и невзвешенного KNN:\n",
            "k=1, Метрика=euclidean:С весами - Точность=0.9675, Время=146.3173 секунд\n",
            "k=2, Метрика=euclidean:С весами - Точность=0.9675, Время=170.8075 секунд\n",
            "k=3, Метрика=euclidean:С весами - Точность=0.9694, Время=166.8325 секунд\n",
            "k=4, Метрика=euclidean:С весами - Точность=0.9704, Время=164.9805 секунд\n",
            "k=5, Метрика=euclidean:С весами - Точность=0.9688, Время=161.0591 секунд\n",
            "k=6, Метрика=euclidean:С весами - Точность=0.9694, Время=161.4557 секунд\n",
            "k=7, Метрика=euclidean:С весами - Точность=0.9668, Время=166.1695 секунд\n",
            "k=8, Метрика=euclidean:С весами - Точность=0.9674, Время=162.5935 секунд\n",
            "k=9, Метрика=euclidean:С весами - Точность=0.9650, Время=161.2943 секунд\n",
            "k=10, Метрика=euclidean:С весами - Точность=0.9650, Время=163.6821 секунд\n",
            "k=1, Метрика=cosine:С весами - Точность=0.9715, Время=146.0128 секунд\n",
            "k=2, Метрика=cosine:С весами - Точность=0.9715, Время=151.9919 секунд\n",
            "k=3, Метрика=cosine:С весами - Точность=0.9731, Время=161.2145 секунд\n",
            "k=4, Метрика=cosine:С весами - Точность=0.9741, Время=162.4716 секунд\n",
            "k=5, Метрика=cosine:С весами - Точность=0.9726, Время=167.8482 секунд\n",
            "k=6, Метрика=cosine:С весами - Точность=0.9730, Время=165.5559 секунд\n",
            "k=7, Метрика=cosine:С весами - Точность=0.9713, Время=162.6031 секунд\n",
            "k=8, Метрика=cosine:С весами - Точность=0.9719, Время=161.6484 секунд\n",
            "k=9, Метрика=cosine:С весами - Точность=0.9706, Время=169.5126 секунд\n",
            "k=10, Метрика=cosine:С весами - Точность=0.9705, Время=165.0904 секунд\n"
          ]
        }
      ],
      "source": [
        "import time\n",
        "results = {}\n",
        "cv = kfold(len(Y_train), 3)\n",
        "\n",
        "for metric in ['euclidean', 'cosine']:\n",
        "    for k in range(1,11):\n",
        "        print(k)\n",
        "        start_time = time.time()\n",
        "        scores_weighted = knn_cross_val_score(X_train, Y_train, [k], score='accuracy', cv=cv, strategy='brute', metric=metric, weights=True)\n",
        "        elapsed_time_weighted = time.time() - start_time\n",
        "        accuracy_weighted = np.mean(scores_weighted[k])\n",
        "        results[(k, metric)] = {\n",
        "            'accuracy_weighted': accuracy_weighted,\n",
        "            'time_weighted': elapsed_time_weighted}\n",
        "\n",
        "print(\"\\nРезультаты сравнения взвешенного и невзвешенного KNN:\")\n",
        "for (k, metric), result in results.items():\n",
        "    print(f'k={k}, Метрика={metric}:'\n",
        "          f'С весами - Точность={result[\"accuracy_weighted\"]:.4f}, Время={result[\"time_weighted\"]:.4f} секунд')"
      ]
    },
    {
      "cell_type": "markdown",
      "metadata": {
        "id": "J61XSfSH77qu"
      },
      "source": [
        "лучше опять же косинусная метрика, но с весами лучше k=4"
      ]
    },
    {
      "cell_type": "markdown",
      "metadata": {
        "id": "wqJQMDNt8BAc"
      },
      "source": [
        "4 эксперимент"
      ]
    },
    {
      "cell_type": "code",
      "execution_count": null,
      "metadata": {
        "colab": {
          "base_uri": "https://localhost:8080/",
          "height": 211
        },
        "id": "xvni0vFn8AUt",
        "outputId": "10f99c47-0281-465b-fa85-f365231fd677"
      },
      "outputs": [
        {
          "ename": "KeyError",
          "evalue": "10",
          "output_type": "error",
          "traceback": [
            "\u001b[0;31m---------------------------------------------------------------------------\u001b[0m",
            "\u001b[0;31mKeyError\u001b[0m                                  Traceback (most recent call last)",
            "\u001b[0;32m<ipython-input-14-7642529933a2>\u001b[0m in \u001b[0;36m<cell line: 6>\u001b[0;34m()\u001b[0m\n\u001b[1;32m      4\u001b[0m \u001b[0mscores_weighted\u001b[0m \u001b[0;34m=\u001b[0m \u001b[0mknn_cross_val_score\u001b[0m\u001b[0;34m(\u001b[0m\u001b[0mX_train\u001b[0m\u001b[0;34m,\u001b[0m \u001b[0mY_train\u001b[0m\u001b[0;34m,\u001b[0m \u001b[0;34m[\u001b[0m\u001b[0;36m4\u001b[0m\u001b[0;34m]\u001b[0m\u001b[0;34m,\u001b[0m \u001b[0mscore\u001b[0m\u001b[0;34m=\u001b[0m\u001b[0;34m'accuracy'\u001b[0m\u001b[0;34m,\u001b[0m \u001b[0mcv\u001b[0m\u001b[0;34m=\u001b[0m\u001b[0mcv\u001b[0m\u001b[0;34m,\u001b[0m \u001b[0mstrategy\u001b[0m\u001b[0;34m=\u001b[0m\u001b[0;34m'brute'\u001b[0m\u001b[0;34m,\u001b[0m \u001b[0mmetric\u001b[0m\u001b[0;34m=\u001b[0m\u001b[0;34m'cosine'\u001b[0m\u001b[0;34m,\u001b[0m \u001b[0mweights\u001b[0m\u001b[0;34m=\u001b[0m\u001b[0;32mTrue\u001b[0m\u001b[0;34m)\u001b[0m\u001b[0;34m\u001b[0m\u001b[0;34m\u001b[0m\u001b[0m\n\u001b[1;32m      5\u001b[0m \u001b[0melapsed_time_weighted\u001b[0m \u001b[0;34m=\u001b[0m \u001b[0mtime\u001b[0m\u001b[0;34m.\u001b[0m\u001b[0mtime\u001b[0m\u001b[0;34m(\u001b[0m\u001b[0;34m)\u001b[0m \u001b[0;34m-\u001b[0m \u001b[0mstart_time\u001b[0m\u001b[0;34m\u001b[0m\u001b[0;34m\u001b[0m\u001b[0m\n\u001b[0;32m----> 6\u001b[0;31m \u001b[0maccuracy_weighted\u001b[0m \u001b[0;34m=\u001b[0m \u001b[0mnp\u001b[0m\u001b[0;34m.\u001b[0m\u001b[0mmean\u001b[0m\u001b[0;34m(\u001b[0m\u001b[0mscores_weighted\u001b[0m\u001b[0;34m[\u001b[0m\u001b[0mk\u001b[0m\u001b[0;34m]\u001b[0m\u001b[0;34m)\u001b[0m\u001b[0;34m\u001b[0m\u001b[0;34m\u001b[0m\u001b[0m\n\u001b[0m\u001b[1;32m      7\u001b[0m results[(k, metric)] = {\n\u001b[1;32m      8\u001b[0m         \u001b[0;34m'accuracy_weighted'\u001b[0m\u001b[0;34m:\u001b[0m \u001b[0maccuracy_weighted\u001b[0m\u001b[0;34m,\u001b[0m\u001b[0;34m\u001b[0m\u001b[0;34m\u001b[0m\u001b[0m\n",
            "\u001b[0;31mKeyError\u001b[0m: 10"
          ]
        }
      ],
      "source": [
        "results = {}\n",
        "cv = kfold(len(Y_train), 3)\n",
        "start_time = time.time()\n",
        "scores_weighted = knn_cross_val_score(X_train, Y_train, [4], score='accuracy', cv=cv, strategy='brute', metric='cosine', weights=True)\n",
        "elapsed_time_weighted = time.time() - start_time"
      ]
    },
    {
      "cell_type": "code",
      "execution_count": null,
      "metadata": {
        "id": "Z0L14-2g9Sa0"
      },
      "outputs": [],
      "source": [
        "accuracy_weighted = np.mean(scores_weighted[4])\n",
        "results[(k, metric)] = {\n",
        "        'accuracy_weighted': accuracy_weighted,\n",
        "        'time_weighted': elapsed_time_weighted}"
      ]
    },
    {
      "cell_type": "code",
      "execution_count": null,
      "metadata": {
        "colab": {
          "base_uri": "https://localhost:8080/"
        },
        "id": "14D14q8p8kOB",
        "outputId": "059c22e6-d009-4fef-b10e-95b4167bbe3f"
      },
      "outputs": [
        {
          "data": {
            "text/plain": [
              "{(10, 'cosine'): {'accuracy_weighted': 0.9741,\n",
              "  'time_weighted': 174.87006902694702}}"
            ]
          },
          "execution_count": 16,
          "metadata": {},
          "output_type": "execute_result"
        }
      ],
      "source": [
        "results"
      ]
    },
    {
      "cell_type": "code",
      "execution_count": null,
      "metadata": {
        "colab": {
          "base_uri": "https://localhost:8080/",
          "height": 675
        },
        "id": "B2kG211e9aUL",
        "outputId": "34c0ebf5-7dd6-466a-87e9-9121cba5b2fe"
      },
      "outputs": [
        {
          "data": {
            "image/png": "[encoded data removed]",
            "text/plain": [
              "<Figure size 800x800 with 1 Axes>"
            ]
          },
          "metadata": {},
          "output_type": "display_data"
        }
      ],
      "source": [
        "from sklearn.metrics import confusion_matrix\n",
        "import seaborn as sns\n",
        "import matplotlib.pyplot as plt\n",
        "knn = KNNClassifier(k=4, strategy='brute', metric='cosine', weights=True)\n",
        "knn.fit(X_train, Y_train)\n",
        "\n",
        "y_pred = knn.predict(X_test)\n"
      ]
    },
    {
      "cell_type": "code",
      "execution_count": null,
      "metadata": {
        "colab": {
          "background_save": true,
          "base_uri": "https://localhost:8080/",
          "height": 699
        },
        "id": "HEgdMmCL_khk",
        "outputId": "b29df695-aa7f-4545-db58-6ff6aa75448f"
      },
      "outputs": [
        {
          "data": {
            "image/png": "[encoded data removed]",
            "text/plain": [
              "<Figure size 800x800 with 1 Axes>"
            ]
          },
          "metadata": {},
          "output_type": "display_data"
        }
      ],
      "source": [
        "conf_matrix = confusion_matrix(Y_test, y_pred)\n",
        "plt.figure(figsize=(8, 8))\n",
        "plt.subplot(1, 1, 1)\n",
        "plt.imshow(conf_matrix, cmap=\"Greys\", interpolation=\"nearest\")\n",
        "for i in range(conf_matrix.shape[0]):\n",
        "    for j in range(conf_matrix.shape[1]):\n",
        "        plt.text(j, i, conf_matrix[i, j], ha=\"center\", va=\"center\", color=\"black\")\n",
        "plt.xticks(np.arange(10), labels=np.arange(10))\n",
        "plt.yticks(np.arange(10), labels=np.arange(10))\n",
        "plt.title(\"Confusion Matrix\")\n",
        "plt.show()"
      ]
    },
    {
      "cell_type": "code",
      "execution_count": null,
      "metadata": {
        "colab": {
          "background_save": true
        },
        "id": "Bri8fQ4wXuyD",
        "outputId": "a62f3a75-2fed-4f50-e897-de8926357566"
      },
      "outputs": [
        {
          "data": {
            "text/plain": [
              "<Figure size 640x480 with 0 Axes>"
            ]
          },
          "metadata": {},
          "output_type": "display_data"
        }
      ],
      "source": [
        "plt.savefig('my_plot.png')  # Сохраните в нужном вам формате"
      ]
    }
  ],
  "metadata": {
    "colab": {
      "provenance": []
    },
    "kernelspec": {
      "display_name": "Python 3",
      "name": "python3"
    },
    "language_info": {
      "name": "python"
    }
  },
  "nbformat": 4,
  "nbformat_minor": 0
}