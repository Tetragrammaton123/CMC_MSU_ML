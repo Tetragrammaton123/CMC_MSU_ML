{
  "cells": [
    {
      "cell_type": "markdown",
      "metadata": {
        "id": "GTDALptkICKs"
      },
      "source": [
        "# `Практикум по программированию на языке Python`\n",
        "\n",
        "## `Задание 03. Рекуррентные Нейронные Сети. Dropout. LM`\n",
        "\n",
        "#### Фамилия, имя: Голубев Роман\n",
        "\n",
        "Дата выдачи: <span style=\"color:red\">__18 марта 23:59__</span>.\n",
        "\n",
        "Мягкий дедлайн: <span style=\"color:red\">__31 марта 05:00__</span>.\n",
        "\n",
        "Стоимость: __10 баллов__ (основная часть заданий) + __7 баллов__ (дополнительные задания).\n",
        "\n",
        "<span style=\"color:red\">__В ноутбуке все клетки должны выполняться без ошибок при последовательном их выполнении.__</span>\n",
        "\n",
        "#### `Москва, 2025`"
      ]
    },
    {
      "cell_type": "markdown",
      "metadata": {
        "id": "YVv-AbayICKx"
      },
      "source": [
        "Данное задание будет состоять из двух частей:\n",
        "1. Применение рекуррентной сети для решения задачи классификации текста. Более конкретно -- предсказания рейтинга отзыва фильма.\n",
        "2. Простейшая лингвистическая модель для генерации текста на основе LSTM."
      ]
    },
    {
      "cell_type": "markdown",
      "metadata": {
        "id": "NhuP_-wLICKz"
      },
      "source": [
        "При выполнении задания вы обучите LSTM с разным уровнем \"коробочности\", а также познакомитесь с различными способами применения DropOut к рекуррентным архитектурам. В рекуррентных архитектурах вариантов, куда можно наложить бинарную маску шума, гораздо больше, чем в нейросетях прямого прохода.\n",
        "\n",
        "Во второй части вы попробуете реализовать простейший рекуррентный декодер для генерации текстов.\n",
        "\n",
        "Задание сделано так, чтобы его можно было выполнять на CPU, однако RNN - это ресурсоёмкая вещь, поэтому на GPU с ними работать приятнее. Можете попробовать использовать [https://colab.research.google.com](https://colab.research.google.com) - бесплатное облако с GPU."
      ]
    },
    {
      "cell_type": "markdown",
      "metadata": {
        "id": "hSpn8QmfICKz"
      },
      "source": [
        "**Для корректного отображения картинок, вам может понадобится сделать ноутбук доверенным (Trusted) в правом верхнем углу**"
      ]
    },
    {
      "cell_type": "markdown",
      "metadata": {
        "id": "8_LECbY4ICK0"
      },
      "source": [
        "# `Часть 0. Загрузка и предобработка данных (1 балл)`"
      ]
    },
    {
      "cell_type": "markdown",
      "metadata": {
        "id": "JM1a7HoIICK0"
      },
      "source": [
        "## `Рекомендуемые гиперпараметры`"
      ]
    },
    {
      "cell_type": "code",
      "execution_count": 201,
      "metadata": {
        "ExecuteTime": {
          "end_time": "2024-03-30T21:23:57.654183Z",
          "start_time": "2024-03-30T21:23:57.649242Z"
        },
        "id": "qS1CV6F4ICK1"
      },
      "outputs": [],
      "source": [
        "max_length = 200\n",
        "top_n_words = 5000\n",
        "\n",
        "hidden_dim = 128\n",
        "embedding_dim = 32\n",
        "\n",
        "num_epochs = 15\n",
        "batch_size = 64\n",
        "learning_rate = 1e-3"
      ]
    },
    {
      "cell_type": "markdown",
      "metadata": {
        "id": "uB29aoLmICK2"
      },
      "source": [
        "Первое, что нужно сделать — скачать, предобработать данные и организовать их таким образом, чтобы их можно было подавать в нейронную сеть.\n",
        "\n",
        "Для обеих частей задания мы будем использовать [**Large Movie Review Dataset**](https://ai.stanford.edu/~amaas/data/sentiment/)."
      ]
    },
    {
      "cell_type": "markdown",
      "metadata": {
        "id": "Ji7l-X33ICK3"
      },
      "source": [
        "## `Загрузка и предобработка данных`"
      ]
    },
    {
      "cell_type": "code",
      "execution_count": 198,
      "metadata": {
        "id": "O6KLl2UBICK3"
      },
      "outputs": [],
      "source": [
        "import os"
      ]
    },
    {
      "cell_type": "markdown",
      "metadata": {
        "id": "UTwn9mHjICK4"
      },
      "source": [
        "Загрузите данные по ссылке выше. (**tip**: используйте `wget`)"
      ]
    },
    {
      "cell_type": "code",
      "execution_count": 199,
      "metadata": {
        "ExecuteTime": {
          "end_time": "2024-03-30T21:24:30.812994Z",
          "start_time": "2024-03-30T21:23:57.655622Z"
        },
        "id": "NPms0RaqICK5"
      },
      "outputs": [],
      "source": [
        "if not os.path.exists('./aclImdb_v1.tar.gz'):\n",
        "    !wget https://ai.stanford.edu/~amaas/data/sentiment/aclImdb_v1.tar.gz\n"
      ]
    },
    {
      "cell_type": "markdown",
      "metadata": {
        "id": "efYlBLvNICK5"
      },
      "source": [
        "Распакуйте скачанные данные в папку `aclImdb` (**tip:** используйте `tar`)"
      ]
    },
    {
      "cell_type": "code",
      "execution_count": 200,
      "metadata": {
        "ExecuteTime": {
          "end_time": "2024-03-30T21:24:34.122786Z",
          "start_time": "2024-03-30T21:24:30.814849Z"
        },
        "collapsed": true,
        "id": "DlT7lSfYICK5"
      },
      "outputs": [],
      "source": [
        "if not os.path.exists('aclImdb'):\n",
        "    !tar -xvzf aclImdb_v1.tar.gz\n"
      ]
    },
    {
      "cell_type": "markdown",
      "metadata": {
        "id": "WgcCpPslICK6"
      },
      "source": [
        "Посмотрите в файле `./aclImdb/README` как организованы данные:"
      ]
    },
    {
      "cell_type": "code",
      "execution_count": 5,
      "metadata": {
        "ExecuteTime": {
          "end_time": "2024-03-30T21:24:34.232726Z",
          "start_time": "2024-03-30T21:24:34.124249Z"
        },
        "colab": {
          "base_uri": "https://localhost:8080/"
        },
        "id": "fWodGiw-ICK6",
        "outputId": "26f6ab0f-ca66-47de-9d4e-ac50e3fe5620"
      },
      "outputs": [
        {
          "output_type": "stream",
          "name": "stdout",
          "text": [
            "This is not the typical Mel Brooks film. It was much less slapstick than most of his movies and actually had a plot that was followable. Leslie Ann Warren made the movie, she is such a fantastic, under-rated actress. There were some moments that could have been fleshed out a bit more, and some scenes that could probably have been cut to make the room to do so, but all in all, this is worth the price to rent and see it. The acting was good overall, Brooks himself did a good job without his characteristic speaking to directly to the audience. Again, Warren was the best actor in the movie, but \"Fume\" and \"Sailor\" both played their parts well."
          ]
        }
      ],
      "source": [
        "! cat ./aclImdb/train/pos/10003_8.txt"
      ]
    },
    {
      "cell_type": "code",
      "execution_count": 202,
      "metadata": {
        "ExecuteTime": {
          "end_time": "2024-03-30T21:24:35.529898Z",
          "start_time": "2024-03-30T21:24:34.238134Z"
        },
        "colab": {
          "base_uri": "https://localhost:8080/"
        },
        "id": "6nfDM-cTICK7",
        "outputId": "73f8b7b9-52bf-42a4-a93c-7d286aef7605"
      },
      "outputs": [
        {
          "output_type": "stream",
          "name": "stderr",
          "text": [
            "[nltk_data] Downloading package stopwords to /root/nltk_data...\n",
            "[nltk_data]   Package stopwords is already up-to-date!\n"
          ]
        }
      ],
      "source": [
        "import random\n",
        "from tqdm import tqdm\n",
        "from functools import partial\n",
        "from collections import defaultdict\n",
        "from typing import Optional, Tuple, Union, List\n",
        "\n",
        "from IPython.display import Markdown, display\n",
        "\n",
        "\n",
        "import nltk\n",
        "nltk.download('stopwords')\n",
        "\n",
        "import regex\n",
        "import numpy as np\n",
        "\n",
        "import torch\n",
        "from torch.utils.data import Dataset, DataLoader\n",
        "\n",
        "import tokenizers\n",
        "from tokenizers import Tokenizer, trainers, pre_tokenizers\n",
        "\n",
        "torch.backends.cudnn.benchmark = True\n",
        "torch.use_deterministic_algorithms(False)\n",
        "\n",
        "torch.autograd.profiler.profile(False)\n",
        "torch.autograd.profiler.emit_nvtx(False)\n",
        "torch.autograd.set_detect_anomaly(False)\n",
        "\n",
        "torch.set_float32_matmul_precision('high')\n",
        "torch.backends.cuda.matmul.allow_tf32 = True\n",
        "\n",
        "os.environ[\"TOKENIZERS_PARALLELISM\"] = \"false\""
      ]
    },
    {
      "cell_type": "code",
      "execution_count": 203,
      "metadata": {
        "id": "j5nPICeDICK8"
      },
      "outputs": [],
      "source": [
        "def set_global_seed(seed: int) -> None:\n",
        "    \"\"\"Set global seed for reproducibility.\n",
        "    :param int seed: Seed to be set\n",
        "    \"\"\"\n",
        "    random.seed(seed)\n",
        "    np.random.seed(seed)\n",
        "\n",
        "    torch.manual_seed(seed)\n",
        "    torch.cuda.manual_seed(seed)\n",
        "    torch.cuda.manual_seed_all(seed)\n",
        "\n",
        "def check_numel(module: torch.nn.Module, params_numel: int, buffers_numel: Optional[int] = None) -> None:\n",
        "    \"\"\"Check whether module has correct number of parameters and buffers\n",
        "    :param torch.nn.Module module: Target model\n",
        "    :param int params_numel: Target number of parameters\n",
        "    :param Optional[int] buffers_numel: Target number of buffers\n",
        "    :rtype:\n",
        "    \"\"\"\n",
        "    numel = sum(param.numel() for param in module.parameters())\n",
        "    assert numel == params_numel, f'For params numel != correct numel: {numel} vs {params_numel}'\n",
        "\n",
        "    if buffers_numel is not None:\n",
        "        numel = sum(param.numel() for param in module.buffers())\n",
        "        assert numel == buffers_numel, f'For buffers numel != correct numel: {numel} vs {buffers_numel}'\n"
      ]
    },
    {
      "cell_type": "code",
      "execution_count": 204,
      "metadata": {
        "id": "db1jwQ3lICK9"
      },
      "outputs": [],
      "source": [
        "set_global_seed(42)"
      ]
    },
    {
      "cell_type": "markdown",
      "metadata": {
        "id": "hH6QkT26ICK9"
      },
      "source": [
        "Стандартной предобработкой данных является токенизация текстов. Полученные токены можно будет закодировать и затем подавать на вход нейронной сети. Ключевым моментом, который влияет на скорость работы нейросети и её размер в памяти — размер словаря, используемого при токенизации. Для задачи классификации мы можем убрать часть слов (стоп слова, редкие слова), ускорив обучение без потери в качестве."
      ]
    },
    {
      "cell_type": "code",
      "execution_count": 205,
      "metadata": {
        "ExecuteTime": {
          "end_time": "2024-03-30T21:24:35.534374Z",
          "start_time": "2024-03-30T21:24:35.531641Z"
        },
        "id": "G0WTu5YtICK9"
      },
      "outputs": [],
      "source": [
        "STOPWORDS = nltk.corpus.stopwords.words('english')"
      ]
    },
    {
      "cell_type": "markdown",
      "metadata": {
        "id": "_TnshVl-ICK-"
      },
      "source": [
        "Реализуйте функцию для токенизации текста. Выполнять токенизацию можно по-разному, но в данном задании предлагается это делать следующим образом:\n",
        "1. Привести текст к нижнему регистру\n",
        "2. Убрать html разметку из текстов (`<br />`, ...)\n",
        "3. Убрать все символы кроме латинских букв\n",
        "4. Разбить строку по пробелам\n",
        "5. Убрать стоп слова"
      ]
    },
    {
      "cell_type": "code",
      "execution_count": 206,
      "metadata": {
        "ExecuteTime": {
          "end_time": "2024-03-30T21:24:35.544159Z",
          "start_time": "2024-03-30T21:24:35.535637Z"
        },
        "id": "TkKHi4RlICK-"
      },
      "outputs": [],
      "source": [
        "from bs4 import BeautifulSoup\n",
        "import re\n",
        "def tokenize(text):\n",
        "    \"\"\"\n",
        "    :param str text: Input text\n",
        "    :return List[str]: List of words\n",
        "    \"\"\"\n",
        "    text = text.lower()\n",
        "    text = BeautifulSoup(text, \"html.parser\").get_text()\n",
        "    text = re.sub(r'[^a-zA-Z\\s]', '', text)\n",
        "    words = text.split()\n",
        "    words = [word for word in words if word not in STOPWORDS]\n",
        "    return words"
      ]
    },
    {
      "cell_type": "code",
      "execution_count": 207,
      "metadata": {
        "ExecuteTime": {
          "end_time": "2024-03-30T21:24:35.555455Z",
          "start_time": "2024-03-30T21:24:35.545516Z"
        },
        "colab": {
          "base_uri": "https://localhost:8080/"
        },
        "id": "HfXNACRAICK_",
        "outputId": "cd8fdef8-59c2-4403-b6a1-07db2a7f5a3f"
      },
      "outputs": [
        {
          "output_type": "execute_result",
          "data": {
            "text/plain": [
              "['hello', 'words', 'program']"
            ]
          },
          "metadata": {},
          "execution_count": 207
        }
      ],
      "source": [
        "tokenize('1. Hello <br />  words!!   I am program!  <br />')"
      ]
    },
    {
      "cell_type": "markdown",
      "metadata": {
        "id": "rd9M1XhnICK_"
      },
      "source": [
        "Теперь мы можем создать словарь, с помощью которого мы будем кодировать токены из текста в числа и наоборот. Для этого мы воспользуемся библиотекой [tokenizers](https://huggingface.co/docs/tokenizers/index)\n",
        "\n",
        "Токенезация происходит через класс `tokenizer`. Для того чтобы получить `tokenizer` его надо сначала **обучить**, для этого нам необходимо использовать `tokenizers.trainers`. Так как мы будем работать на уровне слов, то выберем `tokenizers.trainers.WordLevelTrainer`.\n",
        "\n",
        "Для работы с текстами нам необходимо зарезервировать два специальных токена:\n",
        "1. `<pad>` для токена означающего паддинг\n",
        "2. `<unk>` для токенов, которые отсутствуют в словаре\n",
        "3. `<sos>` для токенов, которые обозначают начало последовательности (потребуется во второй части задания)\n",
        "4. `<eos>` для токенов, которые обозначают конец последовательности (потребуется во второй части задания)"
      ]
    },
    {
      "cell_type": "markdown",
      "metadata": {
        "id": "5i8eTyE8ICLA"
      },
      "source": [
        "Для начала мы будем разбивать предложение по словам, для этого воспользуемся `trainers.WordLevelTrainer`. Будем рассматривать словарь размером `top_n_words` слов. Подробнее про различных `trainers` можно почитать в [документации](https://huggingface.co/docs/tokenizers/api/trainers), например, из коробки можно использовать BPE."
      ]
    },
    {
      "cell_type": "markdown",
      "metadata": {
        "id": "pzAu9MowICLA"
      },
      "source": [
        "```python\n",
        "trainers.WordLevelTrainer(self, /, *args, **kwargs)\n",
        "Docstring:     \n",
        "Trainer capable of training a WorldLevel model\n",
        "\n",
        "Args:\n",
        "    vocab_size (:obj:`int`, `optional`):\n",
        "        The size of the final vocabulary, including all tokens and alphabet.\n",
        "\n",
        "    min_frequency (:obj:`int`, `optional`):\n",
        "        The minimum frequency a pair should have in order to be merged.\n",
        "\n",
        "    show_progress (:obj:`bool`, `optional`):\n",
        "        Whether to show progress bars while training.\n",
        "\n",
        "    special_tokens (:obj:`List[Union[str, AddedToken]]`):\n",
        "        A list of special tokens the model should know of.\n",
        "```"
      ]
    },
    {
      "cell_type": "markdown",
      "metadata": {
        "id": "xxVyy7dkICLB"
      },
      "source": [
        "Не забудьте добавить специальные токены. В первой части это токены, отвечающие за паддинг и слова, которых нет в словаре."
      ]
    },
    {
      "cell_type": "code",
      "execution_count": 208,
      "metadata": {
        "id": "E18KnMVrICLB"
      },
      "outputs": [],
      "source": [
        "special_tokens = [\"<pad>\", \"<unk>\"]\n",
        "trainer = trainers.WordLevelTrainer(\n",
        "    vocab_size = top_n_words, show_progress = True, special_tokens = special_tokens\n",
        ")\n",
        "\n",
        "tokenizer = tokenizers.Tokenizer(\n",
        "    model = tokenizers.models.WordLevel(unk_token=\"<unk>\")\n",
        ")"
      ]
    },
    {
      "cell_type": "markdown",
      "metadata": {
        "id": "MEMDKCqzICLB"
      },
      "source": [
        "Обучить `tokenizers.Tokenizer` можно **двумя способами**:\n",
        "\n",
        "- [указать список файлов и обучиться на них](https://huggingface.co/docs/tokenizers/pipeline), бывает полезно, когда датасет нельзя поместить в оперативную память;\n",
        "\n",
        "- [обучиться из памяти](https://huggingface.co/docs/tokenizers/training_from_memory), то есть хранить датасет в оперативной памяти, бывает полезно при маленьких датасетах как наш.\n",
        "\n",
        "\n",
        "Чтобы обучиться из файлов нам необходимо задать `tokenizers.normalizers.Normalizer` для нормализации строк (удаление лишних слов и символов), после чего необходимо задать `tokenizers.pre_tokenizers.PreTokenizer` для разделение строки на слова. Подробнее можно посмотреть [в этом примере](https://github.com/huggingface/tokenizers/blob/4383a25787cf366f5e8eaf12643b64f0ba548dc2/bindings/python/examples/custom_components.py). Такая сложность обусловленна тем, что `tokenizers` крайне много использует особенности ООП (объектно-ориентированного программирования).\n",
        "\n",
        "Мы будем обучаться из памяти, поэтому нам необходимо сделать итератор, который пройдет по всем файлам и токенизирует текст в них их. Подробнее можно почитать [в официальной документации](https://huggingface.co/docs/tokenizers/training_from_memory).\n"
      ]
    },
    {
      "cell_type": "code",
      "execution_count": 209,
      "metadata": {
        "id": "8kvmQZsrICLB"
      },
      "outputs": [],
      "source": [
        "def get_data_iterator():\n",
        "    for path in ['./aclImdb/test/neg', './aclImdb/test/pos', './aclImdb/train/neg', './aclImdb/train/pos']:\n",
        "        paths = sorted(list(os.listdir(path)))\n",
        "\n",
        "        # YOUR CODE HERE\n",
        "        for file_path in paths:\n",
        "            text = open(os.path.join(path, file_path), 'r', encoding='utf-8', errors='ignore').read().strip()\n",
        "            yield tokenize(text)"
      ]
    },
    {
      "cell_type": "code",
      "execution_count": 210,
      "metadata": {
        "colab": {
          "base_uri": "https://localhost:8080/"
        },
        "collapsed": true,
        "id": "4gJppvtsICLC",
        "outputId": "a4788304-ddaf-404a-f2db-2a2ecd8eeb64"
      },
      "outputs": [
        {
          "output_type": "stream",
          "name": "stderr",
          "text": [
            "100%|██████████| 50000/50000 [00:44<00:00, 1131.08it/s]\n"
          ]
        }
      ],
      "source": [
        "tokenizer.train_from_iterator(tqdm(get_data_iterator(), total=50_000), trainer=trainer)"
      ]
    },
    {
      "cell_type": "markdown",
      "metadata": {
        "id": "13S81BEiICLC"
      },
      "source": [
        "Посмотрим на токены с наименьшим *id*. Обратим внимание, что специальные токены имеют наименьшие *id* по-умолчанию."
      ]
    },
    {
      "cell_type": "code",
      "execution_count": 211,
      "metadata": {
        "id": "p3jvlvd4ICLC",
        "colab": {
          "base_uri": "https://localhost:8080/"
        },
        "outputId": "cd532045-1995-41a7-8d23-81be73dc6149"
      },
      "outputs": [
        {
          "output_type": "stream",
          "name": "stdout",
          "text": [
            "ID = 0, token = <pad>\n",
            "ID = 1, token = <unk>\n",
            "ID = 2, token = movie\n",
            "ID = 3, token = film\n",
            "ID = 4, token = one\n",
            "ID = 5, token = like\n",
            "ID = 6, token = good\n",
            "ID = 7, token = even\n",
            "ID = 8, token = would\n",
            "ID = 9, token = time\n"
          ]
        }
      ],
      "source": [
        "for i in range(10):\n",
        "    token = tokenizer.id_to_token(i)\n",
        "    print(f\"ID = {i}, token = {token}\")\n"
      ]
    },
    {
      "cell_type": "markdown",
      "metadata": {
        "id": "mpK813pPICLD"
      },
      "source": [
        "**Важно:** При создании итератора мы сортировали файлы, поэтому результат при корретной реализации должен быть детерминированный."
      ]
    },
    {
      "cell_type": "markdown",
      "metadata": {
        "id": "8fGIoe3nICLD"
      },
      "source": [
        "Для кодирования предложений используется метод `encode`, так как мы самостоятельно описали функцию `tokenize`, то установим `is_pretokenized=True`."
      ]
    },
    {
      "cell_type": "code",
      "source": [
        "result = tokenizer.encode(\n",
        "    sequence        = tokenize('1. Hello <br /> words!! <br />'),\n",
        "    is_pretokenized = True\n",
        ")\n",
        "\n",
        "print(result)\n",
        "print(\"Tokens ids: \", result.ids)"
      ],
      "metadata": {
        "id": "bVnnIcz-1fXz",
        "colab": {
          "base_uri": "https://localhost:8080/"
        },
        "outputId": "1a576fca-884f-4126-b082-ac0d7414cc95"
      },
      "execution_count": 212,
      "outputs": [
        {
          "output_type": "stream",
          "name": "stdout",
          "text": [
            "Encoding(num_tokens=2, attributes=[ids, type_ids, tokens, offsets, attention_mask, special_tokens_mask, overflowing])\n",
            "Tokens ids:  [4988, 543]\n"
          ]
        }
      ]
    },
    {
      "cell_type": "markdown",
      "metadata": {
        "id": "WeZoWpMfICLN"
      },
      "source": [
        "Для декодирования, следует использовать метод `decode`, по умолчанию все специальные токены будут пропущены, то есть все токены `<unk>` будут пропущены."
      ]
    },
    {
      "cell_type": "code",
      "execution_count": 213,
      "metadata": {
        "id": "eH_VYj57ICLO",
        "colab": {
          "base_uri": "https://localhost:8080/"
        },
        "outputId": "d450641a-f732-4324-acfd-3caa8f95780f"
      },
      "outputs": [
        {
          "output_type": "stream",
          "name": "stdout",
          "text": [
            "Decode result: hello words\n"
          ]
        }
      ],
      "source": [
        "decode_res = tokenizer.decode(\n",
        "    ids                 = result.ids,\n",
        "    skip_special_tokens = True\n",
        ")\n",
        "print(f\"Decode result: {decode_res}\")"
      ]
    },
    {
      "cell_type": "markdown",
      "metadata": {
        "id": "qHhQym2-ICLO"
      },
      "source": [
        "Теперь мы готовы создать обёртку-датасет для наших данных.\n",
        "\n",
        "Необходимо добавить несколько опций, которые понадобятся во второй части задания:\n",
        "1. Ограничение на максимальную длину текста в токенах. Если текст оказывается длиннее, то последние токены отбрасываются. Иметь ограничение на максимальную длину бывает полезно, так вы имеете гарантии, что во время обучения не засэмплируется очень большой батч, после которого упадет обучение с ошибкой **CUDA error: out of memory**. Кроме того, вы гарантированно знаете на контекстах какой длины обучалась модель, то есть если на валидации вам подасться текст большей длины, то он гарантировано будет отличаться от обучащей выборки.\n",
        "2. Возможность добавить в специальные токены `<sos>`, `<eos>` в начало и конец токенизированного текста\n",
        "    \n",
        "**tips:**\n",
        "1. В исходных данных рейтинг закодирован в названии файла в виде числа от $1$ до $10$. Для удобства, вычтите $1$, чтобы рейтинг был от $0$ до $9$"
      ]
    },
    {
      "cell_type": "code",
      "execution_count": 214,
      "metadata": {
        "ExecuteTime": {
          "end_time": "2024-03-30T21:24:48.821229Z",
          "start_time": "2024-03-30T21:24:48.813451Z"
        },
        "id": "PFXUXPuqICLP"
      },
      "outputs": [],
      "source": [
        "class LargeMovieReviewDataset(Dataset):\n",
        "    def __init__(self, data_path, tokenizer, max_len, pad_sos=False, pad_eos=False):\n",
        "        \"\"\"\n",
        "        :param str data_path: Path to folder with one of the data splits (train or test)\n",
        "        :param tokenizers.tokenizer: tokenizer with lookup_indices method\n",
        "        :param int max_len: Maximum length of tokenized text\n",
        "        :param bool pad_sos: If True pad sequence at the beginning with <sos>\n",
        "        :param bool pad_eos: If True pad sequence at the end with <eos>\n",
        "        \"\"\"\n",
        "        super().__init__()\n",
        "\n",
        "        self.pad_sos = pad_sos\n",
        "        if self.pad_sos:\n",
        "            self.sos_id = tokenizer.token_to_id('<sos>')\n",
        "        self.pad_eos = pad_eos\n",
        "        if self.pad_eos:\n",
        "            self.eos_id = tokenizer.token_to_id('<eos>')\n",
        "\n",
        "        self.tokenizer = tokenizer\n",
        "        self.max_len   = max_len\n",
        "        self.data_path = data_path\n",
        "        self.negative_path = os.path.join(data_path, 'neg')\n",
        "        self.positive_path = os.path.join(data_path, 'pos')\n",
        "\n",
        "        self.negative_paths = []\n",
        "        self.positive_paths = []\n",
        "\n",
        "        for file_path in os.listdir(self.negative_path):\n",
        "            self.negative_paths.append(os.path.join(self.negative_path, file_path))\n",
        "\n",
        "        for file_path in os.listdir(self.positive_path):\n",
        "            self.positive_paths.append(os.path.join(self.positive_path, file_path))\n",
        "\n",
        "        self.negative_paths = sorted(self.negative_paths)\n",
        "        self.positive_paths = sorted(self.positive_paths)\n",
        "\n",
        "        self.texts = []\n",
        "        self.tokens = []\n",
        "        self.ratings = []\n",
        "        self.labels = [0] * len(self.negative_paths) + [1] * len(self.positive_paths)\n",
        "\n",
        "        # Read each file in data_path, tokenize it, get tokens ids, its rating and store\n",
        "        for path in self.negative_paths + self.positive_paths:\n",
        "            with open(path, 'r', encoding='utf-8', errors='ignore') as f:\n",
        "                text = f.read().strip()\n",
        "                tokens = tokenize(text)\n",
        "                file_name = os.path.basename(path)\n",
        "                rating_str = file_name.split('_')[1].split('.')[0]\n",
        "                rating = int(rating_str) - 1\n",
        "                token_ids = tokenizer.encode(tokens, is_pretokenized=True).ids\n",
        "                if len(token_ids) > self.max_len:\n",
        "                  token_ids = token_ids[:self.max_len]\n",
        "                if self.pad_sos:\n",
        "                    token_ids = [self.sos_id] + token_ids\n",
        "                if self.pad_eos:\n",
        "                    token_ids = token_ids + [self.eos_id]\n",
        "                self.texts.append(text)\n",
        "                self.tokens.append(token_ids)\n",
        "                self.ratings.append(rating)\n",
        "\n",
        "    def __getitem__(self, idx):\n",
        "        \"\"\"\n",
        "        :param int idx: index of object in dataset\n",
        "        :return dict: Dictionary with all useful object data\n",
        "            {\n",
        "                'text' str: unprocessed text,\n",
        "                'label' torch.Tensor(dtype=torch.long): sentiment of the text (0 for negative, 1 for positive)\n",
        "                'rating' torch.Tensor(dtype=torch.long): rating of the text\n",
        "                'tokens' torch.Tensor(dtype=torch.long): tensor of tokens ids for the text\n",
        "                'tokens_len' torch.Tensor(dtype=torch.long): number of tokens\n",
        "            }\n",
        "        \"\"\"\n",
        "        text = self.texts[idx]\n",
        "        token_ids_tensor = torch.as_tensor(self.tokens[idx], dtype=torch.long)\n",
        "        tokens_len = torch.as_tensor(len(self.tokens[idx]), dtype=torch.long)\n",
        "        rating_tensor = torch.as_tensor(self.ratings[idx], dtype=torch.long)\n",
        "        label_tensor = torch.as_tensor(self.labels[idx], dtype=torch.long)\n",
        "\n",
        "        return {\n",
        "            'text': text,\n",
        "            'label': label_tensor,\n",
        "            'rating': rating_tensor,\n",
        "            'tokens': token_ids_tensor,\n",
        "            'tokens_len': tokens_len\n",
        "        }\n",
        "\n",
        "    def __len__(self):\n",
        "        \"\"\"\n",
        "        :return int: number of objects in dataset\n",
        "        \"\"\"\n",
        "        return len(self.texts)"
      ]
    },
    {
      "cell_type": "markdown",
      "metadata": {
        "id": "2jyKZh1cICLQ"
      },
      "source": [
        "Создайте датасеты для тестовой и обучающей выборки.\n",
        "\n",
        "Обратите внимание, что для задачи классификации нам не потребуется дополнять текст с помощью `<sos>`, `<eos>`. Эти токены отвечают за обозначение начала последовательности (**start of sequence**) и её конца (**end of sequence**). При моделировании языка нам будет необходимо уметь понимать где начался и закончился текст. Например, предложения часто начинаются со слова **\"однажды\"** и крайне редко со слова **\"щекотать\"**, аналогично про конец предложения.\n",
        "\n",
        "Не забудьте обрезать длинные тексты, передав параметр `max_length`."
      ]
    },
    {
      "cell_type": "code",
      "execution_count": 215,
      "metadata": {
        "ExecuteTime": {
          "end_time": "2024-03-30T21:25:02.011587Z",
          "start_time": "2024-03-30T21:24:48.822597Z"
        },
        "id": "sn3nqPvyICLQ"
      },
      "outputs": [],
      "source": [
        "test_dataset = LargeMovieReviewDataset(\n",
        "    data_path = './aclImdb/test',\n",
        "    tokenizer = tokenizer,\n",
        "    max_len   = max_length,\n",
        "    pad_sos   = False,\n",
        "    pad_eos   = False\n",
        ")\n",
        "train_dataset = LargeMovieReviewDataset(\n",
        "    data_path = './aclImdb/train',\n",
        "    tokenizer = tokenizer,\n",
        "    max_len   = max_length,\n",
        "    pad_sos   = False,\n",
        "    pad_eos   = False\n",
        ")"
      ]
    },
    {
      "cell_type": "markdown",
      "metadata": {
        "id": "6uc7rfQBICLQ"
      },
      "source": [
        "Посмотрим, как выглядит объект в датасете:"
      ]
    },
    {
      "cell_type": "code",
      "source": [
        "train_dataset[2]"
      ],
      "metadata": {
        "id": "AmqnhWlHYMQ_",
        "colab": {
          "base_uri": "https://localhost:8080/"
        },
        "outputId": "f79e2daa-55d7-4610-ae3f-3dee24656df4"
      },
      "execution_count": 216,
      "outputs": [
        {
          "output_type": "execute_result",
          "data": {
            "text/plain": [
              "{'text': \"This film lacked something I couldn't put my finger on at first: charisma on the part of the leading actress. This inevitably translated to lack of chemistry when she shared the screen with her leading man. Even the romantic scenes came across as being merely the actors at play. It could very well have been the director who miscalculated what he needed from the actors. I just don't know.<br /><br />But could it have been the screenplay? Just exactly who was the chef in love with? He seemed more enamored of his culinary skills and restaurant, and ultimately of himself and his youthful exploits, than of anybody or anything else. He never convinced me he was in love with the princess.<br /><br />I was disappointed in this movie. But, don't forget it was nominated for an Oscar, so judge for yourself.\",\n",
              " 'label': tensor(0),\n",
              " 'rating': tensor(3),\n",
              " 'tokens': tensor([   3, 3001,   52,  286,  162, 3631,   20, 3270,   78,  837,  414, 4942,\n",
              "            1,  438, 1041,    1,  179,  837,   50,    7,  606,   51,  260,  475,\n",
              "         1361,   61,  186,   26,   14,   80,    1,  744,   61,   21,    1,   26,\n",
              "          792,  478,    1,   36,  332,    1,    1, 1845, 3312, 1030,    1,    1,\n",
              "         1587,  133,  220,   35, 2438,   36,    1,  571,    2,   21,  700, 2204,\n",
              "          755, 1526]),\n",
              " 'tokens_len': tensor(62)}"
            ]
          },
          "metadata": {},
          "execution_count": 216
        }
      ]
    },
    {
      "cell_type": "code",
      "source": [
        "test_dataset[0]"
      ],
      "metadata": {
        "id": "MPGtSwC9Xvs2",
        "colab": {
          "base_uri": "https://localhost:8080/"
        },
        "outputId": "5fee0fec-a7f7-4b2b-82da-7b51ad0a0168"
      },
      "execution_count": 217,
      "outputs": [
        {
          "output_type": "execute_result",
          "data": {
            "text/plain": [
              "{'text': \"Once again Mr. Costner has dragged out a movie for far longer than necessary. Aside from the terrific sea rescue sequences, of which there are very few I just did not care about any of the characters. Most of us have ghosts in the closet, and Costner's character are realized early on, and then forgotten until much later, by which time I did not care. The character we should really care about is a very cocky, overconfident Ashton Kutcher. The problem is he comes off as kid who thinks he's better than anyone else around him and shows no signs of a cluttered closet. His only obstacle appears to be winning over Costner. Finally when we are well past the half way point of this stinker, Costner tells us all about Kutcher's ghosts. We are told why Kutcher is driven to be the best with no prior inkling or foreshadowing. No magic here, it was all I could do to keep from turning it off an hour in.\",\n",
              " 'label': tensor(0),\n",
              " 'rating': tensor(1),\n",
              " 'tokens': tensor([ 337,    1, 3162,    2,  127,  993, 1552, 1077, 1151, 1515, 1963,  714,\n",
              "          339,   28,   77, 2744, 4163,    1,   34, 1497,  290, 1403,   13,  200,\n",
              "            9,  339,   34,   10,  339,    1,    1,    1,    1,  325,  158,  423,\n",
              "         1062,  130,   45,  147,  220,   88,  155, 3526,    1, 4163,    1,  588,\n",
              "         1818,    1,  322,   14,  387,  239,   27,  123, 3884,    1,  574,   77,\n",
              "            1, 2744,  435,    1, 2439,   40, 2333,    1,    1, 1170,   26,  269,\n",
              "         1424,  429]),\n",
              " 'tokens_len': tensor(74)}"
            ]
          },
          "metadata": {},
          "execution_count": 217
        }
      ]
    },
    {
      "cell_type": "markdown",
      "metadata": {
        "id": "CV7xBuMdICLS"
      },
      "source": [
        "Теперь нам нужно создать `DataLoader` для наших данных. `DataLoader` умеет из коробки объединять список объектов из датасета в один батч, даже когда датасет возвращает словарь тензоров. Однако, это работает только в случае когда все эти тензоры имеют один и тот же размер во всех батчах. В нашем случае, это не так, так как разные тексты могут иметь разную длину.\n",
        "\n",
        "Чтобы обойти эту проблему у `DataLoader` есть параметр `collate_fn`, который позволяет задать функцию для объединения списка объектов в один батч.\n",
        "\n",
        "**tips**\n",
        "1. Обратите свое внимание на функцию `torch.stack`, она позволяет \"застакать\" элементы списка в тензор"
      ]
    },
    {
      "cell_type": "markdown",
      "metadata": {
        "id": "nS1gAvhdICLS"
      },
      "source": [
        "Чтобы объединить несколько тензоров разной длины в один можно использовать функцию `torch.nn.utils.rnn.pad_sequence`. Такой формат позволит удобно передавать данные в rnn модель.\n",
        "\n",
        "Обратите внимание на её аргументы:\n",
        "1. `batch_first` определяет по какой оси \"складывать\" тензоры. Предпочтительнее использовать `batch_first=False` так как это может упростить выполнение задания в дальнейшем\n",
        "2. `padding_value` — число, которое будет использоваться в качестве паддинга, чтобы сделать все тензоры одинаковой длины\n"
      ]
    },
    {
      "cell_type": "code",
      "execution_count": 218,
      "metadata": {
        "ExecuteTime": {
          "end_time": "2024-03-30T21:25:02.026862Z",
          "start_time": "2024-03-30T21:25:02.018970Z"
        },
        "id": "wJzrMzRlICLS",
        "colab": {
          "base_uri": "https://localhost:8080/"
        },
        "outputId": "0d0d3fbc-1804-4cf7-fe62-7748b1beab4b"
      },
      "outputs": [
        {
          "output_type": "stream",
          "name": "stdout",
          "text": [
            "batch_first=False\n",
            "Shape = torch.Size([4, 3])\n",
            "tensor([[ 1,  4,  6],\n",
            "        [ 2,  5,  7],\n",
            "        [ 3, -1,  8],\n",
            "        [-1, -1,  9]])\n",
            "batch_first=True\n",
            "Shape = torch.Size([3, 4])\n",
            "tensor([[ 1,  2,  3, -1],\n",
            "        [ 4,  5, -1, -1],\n",
            "        [ 6,  7,  8,  9]])\n"
          ]
        }
      ],
      "source": [
        "elemets = [\n",
        "    torch.tensor([1, 2, 3]),\n",
        "    torch.tensor([4, 5]),\n",
        "    torch.tensor([6, 7, 8, 9])\n",
        "]\n",
        "\n",
        "out_nbf = torch.nn.utils.rnn.pad_sequence(\n",
        "    elemets,\n",
        "    batch_first   = False,\n",
        "    padding_value = -1\n",
        ")\n",
        "\n",
        "out_bf = torch.nn.utils.rnn.pad_sequence(\n",
        "    elemets,\n",
        "    batch_first   = True,\n",
        "    padding_value = -1\n",
        ")\n",
        "\n",
        "print(f\"batch_first=False\")\n",
        "print(f\"Shape = {out_nbf.shape}\")\n",
        "print(out_nbf)\n",
        "\n",
        "print(f\"batch_first=True\")\n",
        "print(f\"Shape = {out_bf.shape}\")\n",
        "print(out_bf)"
      ]
    },
    {
      "cell_type": "code",
      "execution_count": 219,
      "metadata": {
        "ExecuteTime": {
          "end_time": "2024-03-30T21:25:02.036500Z",
          "start_time": "2024-03-30T21:25:02.027955Z"
        },
        "id": "wDb79ts1ICLT"
      },
      "outputs": [],
      "source": [
        "def collate_fn(batch, padding_value = 0, batch_first=False):\n",
        "    \"\"\"\n",
        "    :param List[Dict] batch: List of objects from dataset\n",
        "    :param int padding_value: Value that will be used to pad tokens\n",
        "    :param bool batch_first: If True resulting tensor with tokens must have shape [B, T] otherwise [T, B]\n",
        "    :return dict: Dictionary with all data collated\n",
        "        {\n",
        "            'ratings' torch.Tensor(dtype=torch.long): rating of the text for each object in batch\n",
        "            'labels' torch.Tensor(dtype=torch.long): sentiment of the text for each object in batch\n",
        "\n",
        "            'texts' List[str]: All texts in one list\n",
        "            'tokens' torch.Tensor(dtype=torch.long): tensor of tokens ids padded with @padding_value\n",
        "            'tokens_lens' torch.Tensor(dtype=torch.long): number of tokens for each object in batch\n",
        "        }\n",
        "    \"\"\"\n",
        "    texts = [item['text'] for item in batch]\n",
        "    ratings = torch.stack([item['rating'] for item in batch])\n",
        "    labels = torch.stack([item['label'] for item in batch])\n",
        "    tokens_lens = torch.stack([item['tokens_len'] for item in batch])\n",
        "    tokens_list = [item['tokens'].clone().detach().to(dtype=torch.long) for item in batch]\n",
        "    padded_tokens = torch.nn.utils.rnn.pad_sequence(tokens_list, batch_first=batch_first, padding_value=padding_value)\n",
        "\n",
        "    return {\n",
        "        'texts': texts,\n",
        "        'ratings': ratings,\n",
        "        'labels': labels,\n",
        "        'tokens': padded_tokens,\n",
        "        'tokens_lens': tokens_lens\n",
        "    }"
      ]
    },
    {
      "cell_type": "markdown",
      "metadata": {
        "id": "IHT_9weGICLT"
      },
      "source": [
        "Создайте даталоадеры с использованием `collate_fn`.\n",
        "\n",
        "**tips**:\n",
        "1. Передать в `collate_fn` правильное значение паддинга можно, например, с помощью `functools.partial`\n",
        "2. Если вы работаете в Google Colab, то, возможно, вам будет необходимо установить `num_workers=0` во избежание падения ноутбука.\n",
        "3. Для определения индекса `<pad>` надо использовать `tokenizer.token_to_id('<pad>')`, а не магическую константу 0."
      ]
    },
    {
      "cell_type": "code",
      "execution_count": 221,
      "metadata": {
        "ExecuteTime": {
          "end_time": "2024-03-30T21:25:02.047505Z",
          "start_time": "2024-03-30T21:25:02.037806Z"
        },
        "id": "VtXIRbLbICLU"
      },
      "outputs": [],
      "source": [
        "import functools\n",
        "pad_token_id = tokenizer.token_to_id('<pad>')\n",
        "collate_fn = functools.partial(collate_fn, padding_value=pad_token_id, batch_first=False)\n",
        "test_dataloader = DataLoader(\n",
        "    dataset=test_dataset,\n",
        "    batch_size=batch_size,\n",
        "    shuffle=False,\n",
        "    collate_fn=collate_fn,\n",
        "    num_workers=0\n",
        ")\n",
        "train_dataloader = DataLoader(\n",
        "    dataset=train_dataset,\n",
        "    batch_size=batch_size,\n",
        "    shuffle=True,\n",
        "    collate_fn=collate_fn,\n",
        "    num_workers=0\n",
        ")"
      ]
    },
    {
      "cell_type": "markdown",
      "metadata": {
        "id": "At9zVrjJICLU"
      },
      "source": [
        "Посмотрим на какой-нибудь батч:"
      ]
    },
    {
      "cell_type": "code",
      "source": [
        "batch = next(iter(test_dataloader))\n",
        "batch.keys(), batch['labels'], batch['ratings'], batch['tokens'], batch['tokens_lens']"
      ],
      "metadata": {
        "id": "pyYZK1GmadfM",
        "colab": {
          "base_uri": "https://localhost:8080/"
        },
        "outputId": "720f5ccc-367f-4039-c078-b781ffdff292"
      },
      "execution_count": 222,
      "outputs": [
        {
          "output_type": "execute_result",
          "data": {
            "text/plain": [
              "(dict_keys(['texts', 'ratings', 'labels', 'tokens', 'tokens_lens']),\n",
              " tensor([0, 0, 0, 0, 0, 0, 0, 0, 0, 0, 0, 0, 0, 0, 0, 0, 0, 0, 0, 0, 0, 0, 0, 0,\n",
              "         0, 0, 0, 0, 0, 0, 0, 0, 0, 0, 0, 0, 0, 0, 0, 0, 0, 0, 0, 0, 0, 0, 0, 0,\n",
              "         0, 0, 0, 0, 0, 0, 0, 0, 0, 0, 0, 0, 0, 0, 0, 0]),\n",
              " tensor([1, 3, 0, 2, 2, 1, 1, 1, 3, 3, 2, 2, 1, 0, 0, 3, 1, 3, 2, 0, 0, 0, 3, 0,\n",
              "         2, 3, 3, 2, 1, 2, 0, 2, 0, 2, 2, 1, 0, 0, 0, 0, 0, 0, 3, 0, 3, 1, 0, 0,\n",
              "         0, 1, 0, 3, 0, 0, 0, 3, 3, 1, 3, 3, 2, 0, 0, 0]),\n",
              " tensor([[ 337,  346,   20,  ..., 2214,  630,    1],\n",
              "         [   1, 1996,  612,  ...,  140,    1,  303],\n",
              "         [3162,  122,    1,  ...,   80,    1,  483],\n",
              "         ...,\n",
              "         [   0,    0,    0,  ...,    0,    0,    0],\n",
              "         [   0,    0,    0,  ...,    0,    0,    0],\n",
              "         [   0,    0,    0,  ...,    0,    0,    0]]),\n",
              " tensor([ 74, 128, 108, 168, 137,  52,  75,  74,  72,  98,  59, 143, 134,  52,\n",
              "         104, 111,  67, 116, 189,  47,  35,  96, 200, 200, 136, 111, 105, 200,\n",
              "         200, 144,  75,  82, 184,  99, 156, 132, 131,  56, 182, 106,  67,  61,\n",
              "          86, 200, 113,  66, 200,  55, 115,  77,  56, 145, 130,  29,  64,  60,\n",
              "         200,  16, 151,  87,  64,  71,  83,  87]))"
            ]
          },
          "metadata": {},
          "execution_count": 222
        }
      ]
    },
    {
      "cell_type": "markdown",
      "metadata": {
        "id": "_OTU8q6hICLV"
      },
      "source": [
        "# `Часть 1. Классификация текстов (4 балла)`"
      ]
    },
    {
      "cell_type": "markdown",
      "metadata": {
        "id": "xvnvRaPPICLV"
      },
      "source": [
        "В этой части вы обучите классификатор текстов на основе рекуррентной нейронной сети. Выше мы уже создали удобные класс-обёртки для работы с данными. Теперь мы соберем модель для решения задачи классификации. Вам предлагается решить задачу предсказания **рейтинга фильма** (классы 0 до 9), то есть мы решаем задачу многоклассовой классификации."
      ]
    },
    {
      "cell_type": "markdown",
      "metadata": {
        "id": "6WRmaS1VICLV"
      },
      "source": [
        "## `Сборка и обучение RNN в pytorch (1 балл)`"
      ]
    },
    {
      "cell_type": "markdown",
      "metadata": {
        "id": "YAQ48nd2ICLW"
      },
      "source": [
        "Создадим переменные для device-agnostic кода:"
      ]
    },
    {
      "cell_type": "code",
      "execution_count": 223,
      "metadata": {
        "ExecuteTime": {
          "end_time": "2024-03-30T21:25:02.686316Z",
          "start_time": "2024-03-30T21:25:02.508620Z"
        },
        "id": "zx7pPYdJICLW",
        "colab": {
          "base_uri": "https://localhost:8080/"
        },
        "outputId": "0224fbfa-669b-4200-b9f7-e9663df6e752"
      },
      "outputs": [
        {
          "output_type": "stream",
          "name": "stdout",
          "text": [
            "Using device: cuda:0, dtype: torch.float32\n"
          ]
        }
      ],
      "source": [
        "dtype, device, cuda_device_id = torch.float32, None, 0\n",
        "os.environ[\"CUDA_VISIBLE_DEVICES\"] = '{0}'.format(str(cuda_device_id) if cuda_device_id is not None else '')\n",
        "if cuda_device_id is not None and torch.cuda.is_available():\n",
        "    device = 'cuda:{0:d}'.format(0)\n",
        "else:\n",
        "    device = torch.device('cpu')\n",
        "print(f'Using device: {device}, dtype: {dtype}')"
      ]
    },
    {
      "cell_type": "markdown",
      "metadata": {
        "id": "KnzQ8C8aICLW"
      },
      "source": [
        "Наша нейросеть будет обрабатывать входную последовательность по словам (word level). Мы будем использовать простую и стандартную рекуррентную архитектуру для классификации:\n",
        "1. Слой представлений, превращающий id токена в вектор-эмбеддинг этого слова\n",
        "2. Слой LSTM\n",
        "3. Полносвязный слой, предсказывающий выход по последнему скрытому состоянию\n",
        "\n",
        "Ниже дан код для сборки и обучения нашей нейросети."
      ]
    },
    {
      "cell_type": "markdown",
      "metadata": {
        "id": "3oxShn7AICLW"
      },
      "source": [
        "Допишите класс-обёртку над LSTM для задачи классификации.\n",
        "**Не используйте циклы.**"
      ]
    },
    {
      "cell_type": "markdown",
      "metadata": {
        "ExecuteTime": {
          "end_time": "2021-04-01T20:59:16.467178Z",
          "start_time": "2021-04-01T20:59:16.441112Z"
        },
        "id": "PB-iTAz-ICLX"
      },
      "source": [
        "**Для каждого тензора в функции `forward` подпишите в комментарии его размеры**"
      ]
    },
    {
      "cell_type": "code",
      "execution_count": 224,
      "metadata": {
        "ExecuteTime": {
          "end_time": "2024-03-30T21:25:02.698015Z",
          "start_time": "2024-03-30T21:25:02.687965Z"
        },
        "id": "7AUTnPH7ICLX"
      },
      "outputs": [],
      "source": [
        "class RNNClassifier(torch.nn.Module):\n",
        "    def __init__(\n",
        "        self, embedding_dim, hidden_dim, output_size, tokenizer,\n",
        "        rec_layer=torch.nn.LSTM, dropout=None, **kwargs\n",
        "    ):\n",
        "        super().__init__()\n",
        "\n",
        "        self.dropout = dropout\n",
        "\n",
        "        self.tokenizer = tokenizer\n",
        "        self.hidden_dim = hidden_dim\n",
        "        self.output_size = output_size\n",
        "        self.embedding_dim = embedding_dim\n",
        "\n",
        "        # Create a simple lookup table that stores embeddings of a fixed dictionary and size.\n",
        "        #    Use torch.nn.Embedding. Do not forget specify padding_idx!\n",
        "        vocab_size = tokenizer.get_vocab_size()\n",
        "        pad_idx = tokenizer.token_to_id(\"<pad>\")\n",
        "        self.word_embeddings = nn.Embedding(vocab_size, embedding_dim, padding_idx=pad_idx)\n",
        "\n",
        "        # Add **kwargs in rec_layer constructor\n",
        "        if rec_layer == torch.nn.LSTM:\n",
        "            self.rnn = rec_layer(\n",
        "                input_size=embedding_dim,\n",
        "                hidden_size=hidden_dim,\n",
        "                batch_first=False,\n",
        "                dropout=dropout if dropout else 0,\n",
        "                **kwargs\n",
        "            )\n",
        "        else:\n",
        "            self.rnn = rec_layer(\n",
        "                input_size=embedding_dim,\n",
        "                hidden_size=hidden_dim,\n",
        "                dropout=dropout,\n",
        "                **kwargs\n",
        "            )\n",
        "\n",
        "        # Create linear layer for classification\n",
        "        self.output = nn.Linear(hidden_dim, output_size)\n",
        "\n",
        "    def forward(self, tokens, tokens_lens):\n",
        "        \"\"\"\n",
        "        :param torch.Tensor(dtype=torch.long) tokens: Batch of texts represented with tokens. # Shape: (T, B)\n",
        "        :param torch.Tensor(dtype=torch.long) tokens_lens: Number of non-padding tokens for each object in batch. # Shape: (B,)\n",
        "        :return torch.Tensor(dtype=torch.long): Vector representation for each sequence in batch # Shape: (B, output_size)\n",
        "        \"\"\"\n",
        "        # Evaluate embeddings\n",
        "        embeddings = self.word_embeddings(tokens) # (T, B, embedding_dim)\n",
        "\n",
        "        # Make forward pass through recurrent network\n",
        "        if isinstance(self.rnn, (torch.nn.LSTM, FastRNNLayer)):\n",
        "            packed = nn.utils.rnn.pack_padded_sequence(embeddings, tokens_lens.cpu(), enforce_sorted=False)\n",
        "            packed_out, (hidden, _) = self.rnn(packed) # hidden shape: (1, B, hidden_dim)\n",
        "            last_hidden = hidden[-1] #(B, hidden_dim)\n",
        "        else:\n",
        "            output, (hidden, _) = self.rnn(embeddings)\n",
        "            last_hidden = hidden  # (B, H)\n",
        "        # Pass output from rnn to linear layer\n",
        "        # Note: each object in batch has its own length\n",
        "        #     so we must take rnn hidden state after the last token for each text in batch\n",
        "        logits = self.output(last_hidden) # (B, output_size)\n",
        "        return logits\n"
      ]
    },
    {
      "cell_type": "markdown",
      "metadata": {
        "id": "LbOIVlL4ICLY"
      },
      "source": [
        "[Исходный код LSTM](http://pytorch.org/docs/master/_modules/torch/nn/modules/rnn.html#LSTM)"
      ]
    },
    {
      "cell_type": "markdown",
      "metadata": {
        "id": "F8BB-QzoICLY"
      },
      "source": [
        "Допишите функции для обучения и оценки модели:\n",
        "\n",
        "**tip:**\n",
        "1. В функции `evaluate` при подсчёте метрик учитывайте, что батчи могут иметь разный размер. (в частности последний батч)\n",
        "\n",
        "**Важно:** Мы предсказываем `rating`, не `label`."
      ]
    },
    {
      "cell_type": "code",
      "execution_count": 225,
      "metadata": {
        "ExecuteTime": {
          "end_time": "2024-03-30T21:25:02.709854Z",
          "start_time": "2024-03-30T21:25:02.699539Z"
        },
        "id": "5m4UMRBhICLY"
      },
      "outputs": [],
      "source": [
        "import time\n",
        "import pickle\n",
        "import os\n",
        "def train_epoch(dataloader, model, loss_fn, optimizer, device):\n",
        "    model.train()\n",
        "    for idx, data in enumerate(dataloader):\n",
        "        # 1. Take data from batch\n",
        "        tokens = data['tokens'].to(device)\n",
        "        tokens_lens = data['tokens_lens'].to(device)\n",
        "        ratings = data['ratings'].to(device)\n",
        "        # 2. Perform forward pass\n",
        "        outputs = model(tokens, tokens_lens)\n",
        "        # 3. Evaluate loss\n",
        "        loss = loss_fn(outputs, ratings)\n",
        "        # 4. Make optimizer step\n",
        "        optimizer.zero_grad()\n",
        "        loss.backward()\n",
        "        optimizer.step()\n",
        "\n",
        "def evaluate(dataloader, model, loss_fn, device):\n",
        "    model.eval()\n",
        "\n",
        "    total_loss = 0.0\n",
        "    total_accuracy = 0.0\n",
        "    with torch.no_grad():\n",
        "        for idx, data in enumerate(dataloader):\n",
        "            # 1. Take data from batch\n",
        "            tokens = data['tokens'].to(device)\n",
        "            tokens_lens = data['tokens_lens'].to(device)\n",
        "            ratings = data['ratings'].to(device)\n",
        "            # 2. Perform forward pass\n",
        "            outputs = model(tokens, tokens_lens)\n",
        "            # 3. Evaluate loss\n",
        "            loss = loss_fn(outputs, ratings)\n",
        "            # 4. Evaluate accuracy\n",
        "            predictions = outputs.argmax(dim=1)\n",
        "            correct = (predictions == ratings).sum().item()\n",
        "            batch_size = ratings.size(0)\n",
        "            total_loss += loss.item() * batch_size\n",
        "            total_accuracy += correct\n",
        "\n",
        "    return total_loss / len(dataloader.dataset), total_accuracy / len(dataloader.dataset)\n",
        "\n",
        "\n",
        "def train(\n",
        "    train_loader, test_loader, model, loss_fn, optimizer, device, num_epochs, save_path=None\n",
        "):\n",
        "    test_losses = []\n",
        "    train_losses = []\n",
        "    test_accuracies = []\n",
        "    train_accuracies = []\n",
        "    epoch_times = []\n",
        "    start_model_time = time.time()\n",
        "    for epoch in range(num_epochs):\n",
        "        start_time = time.time()\n",
        "        train_epoch(train_loader, model, loss_fn, optimizer, device)\n",
        "\n",
        "        train_loss, train_acc = evaluate(train_loader, model, loss_fn, device)\n",
        "        train_accuracies.append(train_acc)\n",
        "        train_losses.append(train_loss)\n",
        "\n",
        "        test_loss, test_acc = evaluate(test_loader, model, loss_fn, device)\n",
        "        test_accuracies.append(test_acc)\n",
        "        test_losses.append(test_loss)\n",
        "\n",
        "        epoch_time = time.time() - start_time\n",
        "        epoch_times.append(epoch_time)\n",
        "        print(\n",
        "            'Epoch: {0:d}/{1:d}. Loss (Train/Test): {2:.3f}/{3:.3f}. Accuracy (Train/Test): {4:.3f}/{5:.3f}'.format(\n",
        "                epoch + 1, num_epochs, train_losses[-1], test_losses[-1], train_accuracies[-1], test_accuracies[-1]\n",
        "            )\n",
        "        )\n",
        "    training_time = time.time() - start_model_time\n",
        "    if save_path:\n",
        "        os.makedirs(os.path.dirname(save_path), exist_ok=True)\n",
        "        results = {\n",
        "            \"train_losses\": train_losses,\n",
        "            \"test_losses\": test_losses,\n",
        "            \"train_acc\": train_accuracies,\n",
        "            \"test_acc\": test_accuracies,\n",
        "            \"epoch_times\": epoch_times,\n",
        "            \"training_time\": training_time,\n",
        "            \"num_epochs\": num_epochs\n",
        "        }\n",
        "        with open(save_path, \"wb\") as f:\n",
        "            pickle.dump(results, f)\n",
        "        print(f\"\\nМетрики сохранены в (pickle): {save_path}\")\n",
        "    return train_losses, train_accuracies, test_losses, test_accuracies"
      ]
    },
    {
      "cell_type": "markdown",
      "metadata": {
        "id": "gaTleTHZICLZ"
      },
      "source": [
        "Создадим модель:"
      ]
    },
    {
      "cell_type": "code",
      "source": [
        "import torch.nn as nn"
      ],
      "metadata": {
        "id": "YPPZsKi8MnBX"
      },
      "execution_count": 226,
      "outputs": []
    },
    {
      "cell_type": "code",
      "execution_count": 227,
      "metadata": {
        "ExecuteTime": {
          "end_time": "2024-03-30T21:25:03.029866Z",
          "start_time": "2024-03-30T21:25:02.711287Z"
        },
        "id": "v32FUsGwICLZ"
      },
      "outputs": [],
      "source": [
        "set_global_seed(42)\n",
        "\n",
        "model = RNNClassifier(\n",
        "    embedding_dim=embedding_dim, hidden_dim=hidden_dim, output_size=10, tokenizer=tokenizer,\n",
        "    rec_layer=torch.nn.LSTM, dropout=None\n",
        ").to(device)\n",
        "\n",
        "check_numel(model, 244234, 0)"
      ]
    },
    {
      "cell_type": "markdown",
      "metadata": {
        "id": "SYq_4dueICLa"
      },
      "source": [
        "Создадим класс для подсчёта функции потерь и оптимизатор:"
      ]
    },
    {
      "cell_type": "code",
      "execution_count": 228,
      "metadata": {
        "ExecuteTime": {
          "end_time": "2024-03-30T21:25:03.541742Z",
          "start_time": "2024-03-30T21:25:03.031367Z"
        },
        "id": "D5Yl9X9MICLa"
      },
      "outputs": [],
      "source": [
        "loss_fn = torch.nn.CrossEntropyLoss(reduction='mean')\n",
        "optimizer = torch.optim.Adam(model.parameters(), lr=learning_rate)"
      ]
    },
    {
      "cell_type": "markdown",
      "metadata": {
        "id": "Z0Z9lSFhICLa"
      },
      "source": [
        "Попробуем обучить модель:"
      ]
    },
    {
      "cell_type": "markdown",
      "metadata": {
        "id": "jCx6w2ATICLa"
      },
      "source": [
        "**Сохраните все метрики и время работы модели. Это потребуется в конце первой части для построения графиков обучения и сравнения времени работы для всех моделей в этой секции**\n",
        "\n",
        "**Возможно стоит сохранить результаты в виде файлов и скачать их**\n",
        "\n",
        "**Обратите внимание, что надо сохранить и время**"
      ]
    },
    {
      "cell_type": "code",
      "execution_count": 229,
      "metadata": {
        "id": "Nml3B3xAICLb",
        "colab": {
          "base_uri": "https://localhost:8080/"
        },
        "outputId": "7d317fa6-eb3f-4f7e-a056-ab00096234d7"
      },
      "outputs": [
        {
          "output_type": "stream",
          "name": "stdout",
          "text": [
            "Epoch: 1/15. Loss (Train/Test): 1.996/1.999. Accuracy (Train/Test): 0.240/0.238\n",
            "Epoch: 2/15. Loss (Train/Test): 1.704/1.736. Accuracy (Train/Test): 0.352/0.346\n",
            "Epoch: 3/15. Loss (Train/Test): 1.578/1.646. Accuracy (Train/Test): 0.387/0.364\n",
            "Epoch: 4/15. Loss (Train/Test): 1.543/1.646. Accuracy (Train/Test): 0.401/0.377\n",
            "Epoch: 5/15. Loss (Train/Test): 1.451/1.584. Accuracy (Train/Test): 0.433/0.385\n",
            "Epoch: 6/15. Loss (Train/Test): 1.383/1.576. Accuracy (Train/Test): 0.457/0.393\n",
            "Epoch: 7/15. Loss (Train/Test): 1.334/1.575. Accuracy (Train/Test): 0.473/0.396\n",
            "Epoch: 8/15. Loss (Train/Test): 1.268/1.577. Accuracy (Train/Test): 0.503/0.395\n",
            "Epoch: 9/15. Loss (Train/Test): 1.215/1.598. Accuracy (Train/Test): 0.526/0.395\n",
            "Epoch: 10/15. Loss (Train/Test): 1.159/1.643. Accuracy (Train/Test): 0.551/0.387\n",
            "Epoch: 11/15. Loss (Train/Test): 1.083/1.683. Accuracy (Train/Test): 0.588/0.382\n",
            "Epoch: 12/15. Loss (Train/Test): 1.027/1.733. Accuracy (Train/Test): 0.618/0.372\n",
            "Epoch: 13/15. Loss (Train/Test): 0.937/1.817. Accuracy (Train/Test): 0.652/0.368\n",
            "Epoch: 14/15. Loss (Train/Test): 0.848/1.896. Accuracy (Train/Test): 0.697/0.370\n",
            "Epoch: 15/15. Loss (Train/Test): 0.763/2.009. Accuracy (Train/Test): 0.734/0.361\n",
            "\n",
            "Метрики сохранены в (pickle): ./models/first_model_metrics.pkl\n"
          ]
        }
      ],
      "source": [
        "train_losses_pure, train_accuracies_pure, test_losses_pure, test_accuracies_pure = train(\n",
        "    train_dataloader, test_dataloader, model, loss_fn, optimizer, device, num_epochs, './models/first_model_metrics.pkl'\n",
        ")"
      ]
    },
    {
      "cell_type": "markdown",
      "metadata": {
        "id": "E-IQmbyfICLb"
      },
      "source": [
        "Нерегуляризованные LSTM часто быстро переобучаются (и мы это видим по точности на контроле). Чтобы с этим бороться, часто используют *L2-регуляризацию* и *дропаут*.\n",
        "Однако способов накладывать дропаут на рекуррентный слой достаточно много, и далеко не все хорошо работают. По [ссылке](https://medium.com/@bingobee01/a-review-of-dropout-as-applied-to-rnns-72e79ecd5b7b) доступен хороший обзор дропаутов для RNN.\n",
        "\n",
        "Мы реализуем два варианта DropOut для RNN (и третий дополнительно). Заодно увидим, что для реализации различных усовершенствований рекуррентной архитектуры приходится \"вскрывать\" слой до различной \"глубины\"."
      ]
    },
    {
      "cell_type": "markdown",
      "metadata": {
        "id": "Z_oI0gMYICLb"
      },
      "source": [
        "## `Реализация дропаута по статье Гала и Гарамани. Variational Dropout (1 балл)`"
      ]
    },
    {
      "cell_type": "markdown",
      "metadata": {
        "id": "_16q7ZofICLb"
      },
      "source": [
        "Начнем с дропаута, описанного в [статье Гала и Гарамани](https://arxiv.org/abs/1512.05287).\n",
        "Для этого нам потребуется перейти от использования слоя `torch.nn.LSTM`, полностью скрывающего от нас рекуррентную логику, к использованию слоя `torch.nn.LSTMCell`, обрабатывающего лишь один временной шаг нашей последовательности (а всю логику вокруг придется реализовать самостоятельно).\n",
        "\n",
        "Для начала напишем функцию, которая позволит нам получать $h_0$ и $c_0$, которые мы будем использовать в качестве инициализаций.\n",
        "\n",
        "**tips:**\n",
        "\n",
        "1. Используйте some_existing_tensor, как тензор в котором содержится информация о типе данных, девайсе целевого тензора. Обратите внимание на функцию [new_ones](https://pytorch.org/docs/stable/generated/torch.Tensor.new_ones.html)."
      ]
    },
    {
      "cell_type": "code",
      "execution_count": 230,
      "metadata": {
        "id": "lsZzG9eXICLc"
      },
      "outputs": [],
      "source": [
        "def init_h0_c0(num_objects, hidden_size, some_existing_tensor):\n",
        "    \"\"\"\n",
        "    return h0 and c0, use some_existing_tensor.new_zeros() to gen them\n",
        "    h0 shape: num_objects x hidden_size\n",
        "    c0 shape: num_objects x hidden_size\n",
        "    \"\"\"\n",
        "    return some_existing_tensor.new_zeros(num_objects, hidden_size), some_existing_tensor.new_zeros(num_objects, hidden_size)\n"
      ]
    },
    {
      "cell_type": "markdown",
      "metadata": {
        "id": "2ppLgiaRICLc"
      },
      "source": [
        "Допишите класс `RNNLayer`. При `dropout=0` ваш класс должен работать как обычный слой LSTM, а при `dropout > 0` накладывать бинарную маску на входной и скрытый вектор на каждом временном шаге, причем эта маска должна быть одинаковой во все моменты времени.\n",
        "\n",
        "Дропаут Гала и Гарамани в виде формул (m обозначает маску дропаута):\n",
        "\n",
        "$$\n",
        "h_{t-1} = h_{t-1}*m_h, \\, x_t = x_t * m_x\n",
        "$$\n",
        "\n",
        "Далее обычный шаг рекуррентной архитектуры, например, LSTM:\n",
        "\n",
        "$$\n",
        "i = \\sigma(h_{t-1}W^i + x_t U^i+b_i) \\quad\n",
        "o = \\sigma(h_{t-1}W^o + x_t U^o+b_o)\n",
        "$$\n",
        "$$\n",
        "f = \\sigma(h_{t-1}W^f + x_t U^f+b_f) \\quad\n",
        "g = tanh(h_{t-1} W^g + x_t U^g+b_g)\n",
        "$$\n",
        "$$\n",
        "c_t = f \\odot c_{t-1} +  i \\odot  g \\quad\n",
        "h_t =  o \\odot tanh(c_t)\n",
        "$$\n",
        "\n",
        "**Важно**: Мы считаем, что объекты в батче независимы, то есть маски для них должны быть разные.\n",
        "\n",
        "**tips:**\n",
        "\n",
        "1. Для получения бернулливской случайной величины достаточно вызвать `.bernoulli()` от массива содержащего вероятности.\n"
      ]
    },
    {
      "cell_type": "code",
      "execution_count": 231,
      "metadata": {
        "ExecuteTime": {
          "end_time": "2024-03-30T21:26:14.063117Z",
          "start_time": "2024-03-30T21:26:14.052307Z"
        },
        "id": "tAV5kv4GICLc"
      },
      "outputs": [],
      "source": [
        "def gen_dropout_mask(input_size, hidden_size, is_training, p, some_existing_tensor):\n",
        "    \"\"\"\n",
        "    is_training: if True, gen masks from Bernoulli\n",
        "                 if False, gen masks consisting of (1-p)\n",
        "\n",
        "    return dropout masks of size input_size, hidden_size if p is not None\n",
        "    return one masks if p is None\n",
        "    \"\"\"\n",
        "    device = some_existing_tensor.device\n",
        "    if p is None:\n",
        "        return torch.ones(input_size, hidden_size, device=device)\n",
        "    if is_training:\n",
        "        return torch.bernoulli(torch.full((input_size, hidden_size), 1 - p, device=device))\n",
        "    else:\n",
        "        return torch.full((input_size, hidden_size), (1-p), device=device)"
      ]
    },
    {
      "cell_type": "code",
      "execution_count": 232,
      "metadata": {
        "id": "mriZHD8EICLc",
        "colab": {
          "base_uri": "https://localhost:8080/"
        },
        "outputId": "d279dfe6-6fb8-4e04-c5e0-dd7357c41f23"
      },
      "outputs": [
        {
          "output_type": "stream",
          "name": "stdout",
          "text": [
            "m.mean(): 0.8808\n"
          ]
        }
      ],
      "source": [
        "set_global_seed(42)\n",
        "p = 0.12\n",
        "m = gen_dropout_mask(100, 120, is_training=True, p=p, some_existing_tensor=torch.tensor(1.))\n",
        "\n",
        "\n",
        "print(f'm.mean(): {m.mean():0.4f}')\n",
        "assert m.shape == (100, 120)\n",
        "assert (1 - p) - 0.005 <= m.mean() <= (1 - p) + 0.005"
      ]
    },
    {
      "cell_type": "markdown",
      "metadata": {
        "ExecuteTime": {
          "end_time": "2021-04-01T21:09:12.282613Z",
          "start_time": "2021-04-01T21:09:12.256019Z"
        },
        "id": "d4NF3UA9ICLd"
      },
      "source": [
        "Допишите класс-обёртку над `LSTMCell` для реализации Variational Dropout. **Используйте только цикл по времени**"
      ]
    },
    {
      "cell_type": "markdown",
      "metadata": {
        "id": "IXTwHRZBICLd"
      },
      "source": [
        "**Для каждого тензора в функции `forward` подпишите в комментарии его размеры**"
      ]
    },
    {
      "cell_type": "code",
      "execution_count": 233,
      "metadata": {
        "ExecuteTime": {
          "end_time": "2024-03-30T21:26:14.072540Z",
          "start_time": "2024-03-30T21:26:14.064809Z"
        },
        "id": "3mHYxFTAICLd"
      },
      "outputs": [],
      "source": [
        "class RNNLayer(torch.nn.Module):\n",
        "    def __init__(self, input_size, hidden_size, dropout=None):\n",
        "        super().__init__()\n",
        "\n",
        "        self.dropout = dropout\n",
        "        self.input_size = input_size\n",
        "        self.hidden_size = hidden_size\n",
        "\n",
        "        self.rnn_cell = torch.nn.LSTMCell(self.input_size, self.hidden_size)\n",
        "\n",
        "    def forward(self, x):\n",
        "        batch_size = x.shape[1]\n",
        "        seq_len = x.shape[0]\n",
        "        # Initialize h_0, c_0\n",
        "        h_0, c_0 = init_h0_c0(batch_size, self.hidden_size, x)\n",
        "\n",
        "        # Gen masks for input and hidden state\n",
        "        input_mask = gen_dropout_mask(batch_size, self.input_size, True, self.dropout, x)\n",
        "        hidden_mask = gen_dropout_mask(batch_size, self.hidden_size, True, self.dropout, x)\n",
        "        # Implement recurrent logic and return what nn.LSTM returns\n",
        "        # Do not forget to apply generated dropout masks!\n",
        "        output = []\n",
        "        for t in range(seq_len):\n",
        "          input_t = x[t] #(batch_size, input_size)\n",
        "          input_t = input_t * input_mask\n",
        "          h_0 = h_0 * hidden_mask\n",
        "          h_0, c_0 = self.rnn_cell(input_t, (h_0, c_0))\n",
        "          output.append(h_0.unsqueeze(0))\n",
        "        output = torch.cat(output, dim=0)\n",
        "        return output, (h_0, c_0)"
      ]
    },
    {
      "cell_type": "code",
      "execution_count": 234,
      "metadata": {
        "id": "Co7x17ONICLd"
      },
      "outputs": [],
      "source": [
        "layer = RNNLayer(32, 64, dropout=None)\n",
        "dummy_input = torch.ones((10, 16, 32))\n",
        "\n",
        "out = layer(dummy_input)\n",
        "\n",
        "assert out[0].shape == (10, 16, 64)\n",
        "assert out[1][0].shape == (16, 64)\n",
        "assert out[1][1].shape == (16, 64)"
      ]
    },
    {
      "cell_type": "markdown",
      "metadata": {
        "id": "9mAhrX1QICLe"
      },
      "source": [
        "Протестируйте реализованную модель с выключенным дропаутом (слой `RNNLayer` надо передать в `RNNClassifier` в качестве `rec_layer`). Замерьте время обучения. Сильно ли оно увеличилось по сравнению с `torch.nn.LSTM` (LSTM \"из коробки\")?"
      ]
    },
    {
      "cell_type": "markdown",
      "metadata": {
        "id": "vwGZ2JvUICLe"
      },
      "source": [
        "**Сохраните все метрики и время работы модели. Это потребуется в конце первой части для построения графиков обучения и сравнения времени работы для всех моделей в этой секции**\n",
        "\n",
        "**Возможно стоит сохранить результаты в виде файлов и скачать их**"
      ]
    },
    {
      "cell_type": "code",
      "execution_count": 235,
      "metadata": {
        "ExecuteTime": {
          "end_time": "2024-03-30T21:37:48.546191Z",
          "start_time": "2024-03-30T21:26:14.073988Z"
        },
        "id": "SXDBJ1yPICLe",
        "colab": {
          "base_uri": "https://localhost:8080/"
        },
        "outputId": "77b5f8aa-fa49-4e99-8b83-2d8df61365f8"
      },
      "outputs": [
        {
          "output_type": "stream",
          "name": "stdout",
          "text": [
            "Epoch: 1/15. Loss (Train/Test): 2.028/2.026. Accuracy (Train/Test): 0.209/0.203\n",
            "Epoch: 2/15. Loss (Train/Test): 2.014/2.018. Accuracy (Train/Test): 0.213/0.201\n",
            "Epoch: 3/15. Loss (Train/Test): 1.966/1.981. Accuracy (Train/Test): 0.246/0.238\n",
            "Epoch: 4/15. Loss (Train/Test): 1.786/1.815. Accuracy (Train/Test): 0.333/0.326\n",
            "Epoch: 5/15. Loss (Train/Test): 1.712/1.762. Accuracy (Train/Test): 0.354/0.338\n",
            "Epoch: 6/15. Loss (Train/Test): 1.614/1.692. Accuracy (Train/Test): 0.379/0.353\n",
            "Epoch: 7/15. Loss (Train/Test): 1.552/1.669. Accuracy (Train/Test): 0.395/0.356\n",
            "Epoch: 8/15. Loss (Train/Test): 1.496/1.644. Accuracy (Train/Test): 0.410/0.361\n",
            "Epoch: 9/15. Loss (Train/Test): 1.447/1.662. Accuracy (Train/Test): 0.428/0.359\n",
            "Epoch: 10/15. Loss (Train/Test): 1.399/1.652. Accuracy (Train/Test): 0.443/0.362\n",
            "Epoch: 11/15. Loss (Train/Test): 1.357/1.683. Accuracy (Train/Test): 0.464/0.355\n",
            "Epoch: 12/15. Loss (Train/Test): 1.300/1.705. Accuracy (Train/Test): 0.481/0.360\n",
            "Epoch: 13/15. Loss (Train/Test): 1.236/1.735. Accuracy (Train/Test): 0.508/0.354\n",
            "Epoch: 14/15. Loss (Train/Test): 1.216/1.813. Accuracy (Train/Test): 0.509/0.353\n",
            "Epoch: 15/15. Loss (Train/Test): 1.108/1.883. Accuracy (Train/Test): 0.569/0.349\n",
            "\n",
            "Метрики сохранены в (pickle): ./models/second_model_metrics_nodropout.pkl\n"
          ]
        }
      ],
      "source": [
        "set_global_seed(42)\n",
        "\n",
        "model = RNNClassifier(\n",
        "    embedding_dim=embedding_dim, hidden_dim=hidden_dim, output_size=10, tokenizer=tokenizer,\n",
        "    rec_layer=RNNLayer, dropout=None\n",
        ").to(device)\n",
        "\n",
        "loss_fn = torch.nn.CrossEntropyLoss(reduction='mean')\n",
        "optimizer = torch.optim.Adam(model.parameters(), lr=learning_rate)\n",
        "\n",
        "train_losses_pure, train_accuracies_pure, test_losses_pure, test_accuracies_pure = train(\n",
        "    train_dataloader, test_dataloader, model, loss_fn, optimizer, device, num_epochs, './models/second_model_metrics_nodropout.pkl'\n",
        ")"
      ]
    },
    {
      "cell_type": "markdown",
      "metadata": {
        "id": "ha4nAKzDICLf"
      },
      "source": [
        "Протестируйте полученную модель с `dropout=0.25`, вновь замерив время обучения. Получилось ли побороть переобучение? Сильно ли дольше обучается данная модель по сравнению с предыдущей? (доп. время тратится на генерацию масок дропаута)."
      ]
    },
    {
      "cell_type": "code",
      "execution_count": 236,
      "metadata": {
        "id": "RmiKgadLICLf",
        "colab": {
          "base_uri": "https://localhost:8080/"
        },
        "outputId": "463672ee-4991-4af6-c162-688c986571e3"
      },
      "outputs": [
        {
          "output_type": "stream",
          "name": "stdout",
          "text": [
            "Epoch: 1/15. Loss (Train/Test): 2.028/2.027. Accuracy (Train/Test): 0.206/0.201\n",
            "Epoch: 2/15. Loss (Train/Test): 2.022/2.024. Accuracy (Train/Test): 0.210/0.202\n",
            "Epoch: 3/15. Loss (Train/Test): 2.010/2.016. Accuracy (Train/Test): 0.210/0.201\n",
            "Epoch: 4/15. Loss (Train/Test): 2.008/2.014. Accuracy (Train/Test): 0.217/0.209\n",
            "Epoch: 5/15. Loss (Train/Test): 1.955/1.970. Accuracy (Train/Test): 0.266/0.257\n",
            "Epoch: 6/15. Loss (Train/Test): 1.826/1.860. Accuracy (Train/Test): 0.327/0.318\n",
            "Epoch: 7/15. Loss (Train/Test): 1.753/1.789. Accuracy (Train/Test): 0.348/0.339\n",
            "Epoch: 8/15. Loss (Train/Test): 1.702/1.757. Accuracy (Train/Test): 0.362/0.343\n",
            "Epoch: 9/15. Loss (Train/Test): 1.660/1.725. Accuracy (Train/Test): 0.373/0.352\n",
            "Epoch: 10/15. Loss (Train/Test): 1.636/1.707. Accuracy (Train/Test): 0.377/0.353\n",
            "Epoch: 11/15. Loss (Train/Test): 1.609/1.686. Accuracy (Train/Test): 0.384/0.357\n",
            "Epoch: 12/15. Loss (Train/Test): 1.585/1.672. Accuracy (Train/Test): 0.388/0.360\n",
            "Epoch: 13/15. Loss (Train/Test): 1.568/1.668. Accuracy (Train/Test): 0.396/0.362\n",
            "Epoch: 14/15. Loss (Train/Test): 1.542/1.660. Accuracy (Train/Test): 0.405/0.367\n",
            "Epoch: 15/15. Loss (Train/Test): 1.523/1.659. Accuracy (Train/Test): 0.408/0.368\n",
            "\n",
            "Метрики сохранены в (pickle): ./models/second_model_metrics_dropout.pkl\n"
          ]
        }
      ],
      "source": [
        "set_global_seed(42)\n",
        "\n",
        "model = RNNClassifier(\n",
        "    embedding_dim=embedding_dim, hidden_dim=hidden_dim, output_size=10, tokenizer=tokenizer,\n",
        "    rec_layer=RNNLayer, dropout=0.25\n",
        ").to(device)\n",
        "\n",
        "loss_fn = torch.nn.CrossEntropyLoss(reduction='mean')\n",
        "optimizer = torch.optim.Adam(model.parameters(), lr=learning_rate)\n",
        "\n",
        "train_losses_pure, train_accuracies_pure, test_losses_pure, test_accuracies_pure = train(\n",
        "    train_dataloader, test_dataloader, model, loss_fn, optimizer, device, num_epochs, './models/second_model_metrics_dropout.pkl'\n",
        ")"
      ]
    },
    {
      "cell_type": "markdown",
      "source": [
        "Побороть переобучение получилось, модель работает намного дольше предыдущей"
      ],
      "metadata": {
        "id": "qWXspeXEzfMp"
      }
    },
    {
      "cell_type": "markdown",
      "metadata": {
        "id": "E8dSc07gICLf"
      },
      "source": [
        "## `Реализация дропаута по статье Гала и Гарамани. Дубль 2 (1 балл)`"
      ]
    },
    {
      "cell_type": "markdown",
      "metadata": {
        "id": "nDAXUerkICLg"
      },
      "source": [
        "<начало взлома pytorch>"
      ]
    },
    {
      "cell_type": "markdown",
      "metadata": {
        "id": "37Amx_jGICLg"
      },
      "source": [
        "При разворачивании цикла по времени средствами python обучение рекуррентной нейросети сильно замедляется. Однако для реализации дропаута Гала и Гарамани необязательно явно задавать в коде умножение нейронов на маски. Можно схитрить и обойтись использованием слоя `torch.nn.LSTM`: перед вызовом `forward` слоя `torch.nn.LSTM` подменять его веса на веса, домноженные **по строкам** на маски. А обучаемые веса хранить отдельно. Именно так этот дропаут реализован в библиотеке `fastai`, код из которой использован в ячейке ниже.\n",
        "\n",
        "Благодаря такому подходу мы используем быстрый код слоя `torch.nn.LSTM`, который гарантировано написан хорошо и правильно, но подменяем веса так, чтобы получить необходимый эффект.\n",
        "\n",
        "Для начала посмотрим на стандартный слой `nn.LSTM` и вспомним дропаут Гала и Гарамани (m обозначает маску дропаута):\n",
        "\n",
        "$$\n",
        "h_{t-1} = h_{t-1}*m_h, \\, x_t = x_t * m_x\n",
        "$$\n",
        "\n",
        "Далее обычный шаг рекуррентной архитектуры, например, LSTM:\n",
        "\n",
        "$$\n",
        "i = \\sigma(h_{t-1}W^i + x_t U^i+b_i) \\quad\n",
        "o = \\sigma(h_{t-1}W^o + x_t U^o+b_o)\n",
        "$$\n",
        "$$\n",
        "f = \\sigma(h_{t-1}W^f + x_t U^f+b_f) \\quad\n",
        "g = tanh(h_{t-1} W^g + x_t U^g+b_g)\n",
        "$$\n",
        "$$\n",
        "c_t = f \\odot c_{t-1} +  i \\odot  g \\quad\n",
        "h_t =  o \\odot tanh(c_t)\n",
        "$$"
      ]
    },
    {
      "cell_type": "markdown",
      "metadata": {
        "id": "_7wVv-HcICLg"
      },
      "source": [
        "Сначал посмотрим на параметры слоя `nn.LSTM`."
      ]
    },
    {
      "cell_type": "code",
      "execution_count": 237,
      "metadata": {
        "id": "asAnZUI7ICLg",
        "colab": {
          "base_uri": "https://localhost:8080/"
        },
        "outputId": "b40cee36-ac97-47c8-e6a7-d621f76b39ae"
      },
      "outputs": [
        {
          "output_type": "stream",
          "name": "stdout",
          "text": [
            "weight_ih_l0: torch.Size([512, 32])\n",
            "weight_hh_l0: torch.Size([512, 128])\n",
            "bias_ih_l0  : torch.Size([512])\n",
            "bias_hh_l0  : torch.Size([512])\n",
            "weight_ih_l1: torch.Size([512, 128])\n",
            "weight_hh_l1: torch.Size([512, 128])\n",
            "bias_ih_l1  : torch.Size([512])\n",
            "bias_hh_l1  : torch.Size([512])\n"
          ]
        }
      ],
      "source": [
        "lstm = torch.nn.LSTM(embedding_dim, hidden_dim, num_layers=2)\n",
        "\n",
        "for tag, p in lstm.named_parameters():\n",
        "    print(f\"{tag:<12}: {p.shape}\")"
      ]
    },
    {
      "cell_type": "markdown",
      "metadata": {
        "id": "hrIm1Sf3ICLh"
      },
      "source": [
        "Подробнее про каждый отдельный модуль можно почитать на [официальной странице](https://pytorch.org/docs/stable/generated/torch.nn.LSTM.html), важно, что умножая каждую строку весов **weight\\_\\*\\*\\_\\*\\*** на маску, мы получим те же вычисления, что и при умножении $h_{t-1}$ и $x_t$ на маску. Для проверки этого факта рассмотрим игрушечный пример:"
      ]
    },
    {
      "cell_type": "code",
      "execution_count": 238,
      "metadata": {
        "id": "M4Hv6boBICLh",
        "colab": {
          "base_uri": "https://localhost:8080/"
        },
        "outputId": "7ce7d74e-937e-4a2c-cc84-a9011f8faf85"
      },
      "outputs": [
        {
          "output_type": "execute_result",
          "data": {
            "text/plain": [
              "tensor(True)"
            ]
          },
          "metadata": {},
          "execution_count": 238
        }
      ],
      "source": [
        "set_global_seed(42)\n",
        "\n",
        "W = torch.randn((hidden_dim * 4, hidden_dim))\n",
        "x = torch.arange(hidden_dim).float()\n",
        "mask = (torch.arange(hidden_dim) % 2 == 0).long()\n",
        "\n",
        "res1 = W @ (x * mask)\n",
        "\n",
        "res2 = (W * mask[None, :]) @ x\n",
        "\n",
        "torch.isclose(res1, res2).all()"
      ]
    },
    {
      "cell_type": "markdown",
      "metadata": {
        "id": "deSi2zD9ICLh"
      },
      "source": [
        "Реализуйте слой, который с помощью подмены весов реализует  дропаут Гала и Гарамани, в виде обертки над `torch.nn.LSTM`. Допишите класс:"
      ]
    },
    {
      "cell_type": "code",
      "execution_count": 239,
      "metadata": {
        "ExecuteTime": {
          "end_time": "2024-03-30T21:50:53.808422Z",
          "start_time": "2024-03-30T21:50:53.806289Z"
        },
        "id": "veGyEOD9ICLi"
      },
      "outputs": [],
      "source": [
        "import warnings"
      ]
    },
    {
      "cell_type": "code",
      "source": [
        "def gen_dropout_mask(input_size, hidden_size, is_training, p, some_existing_tensor):\n",
        "    \"\"\"\n",
        "    is_training: if True, gen masks from Bernoulli\n",
        "                 if False, gen masks consisting of (1-p)\n",
        "\n",
        "    return dropout masks of size input_size, hidden_size if p is not None\n",
        "    return one masks if p is None\n",
        "    \"\"\"\n",
        "    device = some_existing_tensor.data.device if hasattr(some_existing_tensor, 'data') else some_existing_tensor.device\n",
        "\n",
        "    if p is None:\n",
        "        return torch.ones(input_size, hidden_size, device=device)\n",
        "    if is_training:\n",
        "        return torch.bernoulli(torch.full((input_size, hidden_size), 1 - p, device=device))\n",
        "    else:\n",
        "        return torch.full((input_size, hidden_size), (1-p), device=device)"
      ],
      "metadata": {
        "id": "uvOcZ0f4uCAm"
      },
      "execution_count": 244,
      "outputs": []
    },
    {
      "cell_type": "code",
      "execution_count": 245,
      "metadata": {
        "ExecuteTime": {
          "end_time": "2024-03-30T21:50:53.819063Z",
          "start_time": "2024-03-30T21:50:53.810046Z"
        },
        "id": "dyskLfr3ICLi"
      },
      "outputs": [],
      "source": [
        "class FastRNNLayer(torch.nn.Module):\n",
        "    def __init__(self, input_size, hidden_size, dropout=0.0, layers_dropout=0.0, num_layers=1):\n",
        "        super().__init__()\n",
        "\n",
        "        self.input_size = input_size\n",
        "        self.hidden_size = hidden_size\n",
        "\n",
        "        self.num_layers = num_layers\n",
        "\n",
        "        self.dropout = dropout\n",
        "        self.layers_dropout = layers_dropout\n",
        "        self.module = torch.nn.LSTM(input_size, hidden_size, dropout=layers_dropout, num_layers=num_layers)\n",
        "\n",
        "        self.layer_names = []\n",
        "        for layer_n in range(self.num_layers):\n",
        "            self.layer_names += [f'weight_hh_l{layer_n}', f'weight_ih_l{layer_n}']\n",
        "\n",
        "        for layer in self.layer_names:\n",
        "            # Get torch.nn.Parameter with weights from torch.nn.LSTM instance\n",
        "            w = getattr(self.module, layer)\n",
        "\n",
        "            # Remove it from model\n",
        "            delattr(self.module, layer)\n",
        "\n",
        "            # And create new torch.nn.Parameter with the same data but different name\n",
        "            self.register_parameter(f'{layer}_raw', torch.nn.Parameter(w.data))\n",
        "\n",
        "            # Note. In torch.nn.LSTM.forward parameter with name `layer` will be used\n",
        "            #     so we must initialize it using `layer_raw` before forward pass\n",
        "\n",
        "    def _setweights(self, x):\n",
        "        \"\"\"\n",
        "            Apply dropout to the raw weights.\n",
        "        \"\"\"\n",
        "        for layer in self.layer_names:\n",
        "            # Get torch.nn.Parameter with weights\n",
        "            raw_w = getattr(self, f'{layer}_raw')\n",
        "\n",
        "            # Generate mask (use function gen_dropout_mask)\n",
        "            input_size, hidden_size = raw_w.shape[0], raw_w.shape[1]\n",
        "            mask = gen_dropout_mask(input_size, hidden_size, True, self.dropout, x)\n",
        "\n",
        "            # Apply dropout mask\n",
        "            masked_raw_w = raw_w * mask\n",
        "\n",
        "            # Set modified weights in its place\n",
        "            setattr(self.module, layer, masked_raw_w)\n",
        "\n",
        "    def forward(self, x, h_c=None):\n",
        "        \"\"\"\n",
        "        :param x: tensor containing the features of the input sequence.\n",
        "        :param Optional[Tuple[torch.Tensor, torch.Tensor]] h_c: initial hidden state and initial cell state\n",
        "        \"\"\"\n",
        "        with warnings.catch_warnings():\n",
        "            # To avoid the warning that comes because the weights aren't flattened.\n",
        "            warnings.simplefilter(\"ignore\")\n",
        "\n",
        "            # Set new weights of self.module and call its forward\n",
        "            self._setweights(x)\n",
        "            # Pass h_c with x if it is not None. Otherwise pass only x\n",
        "            if h_c is None:\n",
        "                output, (h_n, c_n) = self.module(x)\n",
        "            else:\n",
        "                output, (h_n, c_n) = self.module(x, h_c)\n",
        "            return output, (h_n, c_n)\n",
        "\n",
        "    def reset(self):\n",
        "        if hasattr(self.module, 'reset'):\n",
        "            self.module.reset()"
      ]
    },
    {
      "cell_type": "code",
      "execution_count": 246,
      "metadata": {
        "id": "nSesWKM_ICLi"
      },
      "outputs": [],
      "source": [
        "layer = FastRNNLayer(32, 64, dropout=None)\n",
        "dummy_input = torch.ones((10, 16, 32))\n",
        "\n",
        "out = layer(dummy_input)\n",
        "\n",
        "assert out[0].shape == (10, 16, 64)\n",
        "assert out[1][0].shape == (1, 16, 64)\n",
        "assert out[1][1].shape == (1, 16, 64)"
      ]
    },
    {
      "cell_type": "markdown",
      "metadata": {
        "id": "WuejRJQLICLj"
      },
      "source": [
        "Протестируйте реализованную модель с выключенным дропаутом (слой `FastRNNLayer` надо передать в `RNNClassifier` в качестве `rec_layer`). Замерьте время обучения. Убедитесь, что модель выдаёт такое же качество, как и оригинальная реализация LSTM."
      ]
    },
    {
      "cell_type": "markdown",
      "metadata": {
        "id": "P1CQDtj-ICLj"
      },
      "source": [
        "**Сохраните все метрики и время работы модели. Это потребуется в конце первой части для построения графиков обучения и сравнения времени работы для всех моделей в этой секции**\n",
        "\n",
        "**Возможно стоит сохранить результаты в виде файлов и скачать их**"
      ]
    },
    {
      "cell_type": "code",
      "execution_count": 247,
      "metadata": {
        "id": "TJDVOxPeICLj",
        "colab": {
          "base_uri": "https://localhost:8080/"
        },
        "outputId": "4c45fefd-c856-44df-de7a-647ff923cfa7"
      },
      "outputs": [
        {
          "output_type": "stream",
          "name": "stdout",
          "text": [
            "Epoch: 1/15. Loss (Train/Test): 1.996/1.999. Accuracy (Train/Test): 0.240/0.238\n",
            "Epoch: 2/15. Loss (Train/Test): 1.704/1.736. Accuracy (Train/Test): 0.352/0.346\n",
            "Epoch: 3/15. Loss (Train/Test): 1.578/1.646. Accuracy (Train/Test): 0.387/0.364\n",
            "Epoch: 4/15. Loss (Train/Test): 1.543/1.646. Accuracy (Train/Test): 0.401/0.377\n",
            "Epoch: 5/15. Loss (Train/Test): 1.451/1.584. Accuracy (Train/Test): 0.433/0.385\n",
            "Epoch: 6/15. Loss (Train/Test): 1.383/1.576. Accuracy (Train/Test): 0.457/0.393\n",
            "Epoch: 7/15. Loss (Train/Test): 1.334/1.575. Accuracy (Train/Test): 0.473/0.396\n",
            "Epoch: 8/15. Loss (Train/Test): 1.268/1.577. Accuracy (Train/Test): 0.503/0.395\n",
            "Epoch: 9/15. Loss (Train/Test): 1.215/1.598. Accuracy (Train/Test): 0.526/0.395\n",
            "Epoch: 10/15. Loss (Train/Test): 1.159/1.643. Accuracy (Train/Test): 0.551/0.387\n",
            "Epoch: 11/15. Loss (Train/Test): 1.083/1.683. Accuracy (Train/Test): 0.588/0.382\n",
            "Epoch: 12/15. Loss (Train/Test): 1.027/1.733. Accuracy (Train/Test): 0.618/0.372\n",
            "Epoch: 13/15. Loss (Train/Test): 0.937/1.817. Accuracy (Train/Test): 0.652/0.368\n",
            "Epoch: 14/15. Loss (Train/Test): 0.848/1.896. Accuracy (Train/Test): 0.697/0.370\n",
            "Epoch: 15/15. Loss (Train/Test): 0.763/2.009. Accuracy (Train/Test): 0.734/0.361\n",
            "\n",
            "Метрики сохранены в (pickle): ./models/third_model_metrics_nodropout.pkl\n"
          ]
        }
      ],
      "source": [
        "set_global_seed(42)\n",
        "\n",
        "model = RNNClassifier(\n",
        "    embedding_dim=embedding_dim, hidden_dim=hidden_dim, output_size=10, tokenizer=tokenizer,\n",
        "    rec_layer=FastRNNLayer, dropout=None\n",
        ").to(device)\n",
        "\n",
        "loss_fn = torch.nn.CrossEntropyLoss(reduction='mean')\n",
        "optimizer = torch.optim.Adam(model.parameters(), lr=learning_rate)\n",
        "\n",
        "train_losses_pure, train_accuracies_pure, test_losses_pure, test_accuracies_pure = train(\n",
        "    train_dataloader, test_dataloader, model, loss_fn, optimizer, device, num_epochs, './models/third_model_metrics_nodropout.pkl'\n",
        ")"
      ]
    },
    {
      "cell_type": "markdown",
      "metadata": {
        "id": "JrwxX5YaICLj"
      },
      "source": [
        "Протестируйте полученный слой (вновь подставив его в `RNNClassifier` в качестве `rec_layer`) с `dropout=0.25`. Сравните время обучения с предыдущими моделями. Проследите, чтобы качество получилось такое же, как при первой реализации этого дропаута."
      ]
    },
    {
      "cell_type": "code",
      "execution_count": 248,
      "metadata": {
        "id": "CKoXSoOlICLj",
        "colab": {
          "base_uri": "https://localhost:8080/"
        },
        "outputId": "eb35856e-7787-4ca8-d161-98b573a4e192"
      },
      "outputs": [
        {
          "output_type": "stream",
          "name": "stdout",
          "text": [
            "Epoch: 1/15. Loss (Train/Test): 2.022/2.022. Accuracy (Train/Test): 0.225/0.232\n",
            "Epoch: 2/15. Loss (Train/Test): 1.788/1.803. Accuracy (Train/Test): 0.331/0.335\n",
            "Epoch: 3/15. Loss (Train/Test): 1.672/1.713. Accuracy (Train/Test): 0.359/0.355\n",
            "Epoch: 4/15. Loss (Train/Test): 1.605/1.663. Accuracy (Train/Test): 0.376/0.367\n",
            "Epoch: 5/15. Loss (Train/Test): 1.541/1.622. Accuracy (Train/Test): 0.402/0.374\n",
            "Epoch: 6/15. Loss (Train/Test): 1.496/1.602. Accuracy (Train/Test): 0.417/0.382\n",
            "Epoch: 7/15. Loss (Train/Test): 1.461/1.586. Accuracy (Train/Test): 0.426/0.390\n",
            "Epoch: 8/15. Loss (Train/Test): 1.435/1.582. Accuracy (Train/Test): 0.437/0.390\n",
            "Epoch: 9/15. Loss (Train/Test): 1.389/1.566. Accuracy (Train/Test): 0.454/0.397\n",
            "Epoch: 10/15. Loss (Train/Test): 1.372/1.563. Accuracy (Train/Test): 0.458/0.393\n",
            "Epoch: 11/15. Loss (Train/Test): 1.345/1.561. Accuracy (Train/Test): 0.469/0.401\n",
            "Epoch: 12/15. Loss (Train/Test): 1.322/1.570. Accuracy (Train/Test): 0.477/0.399\n",
            "Epoch: 13/15. Loss (Train/Test): 1.298/1.578. Accuracy (Train/Test): 0.487/0.394\n",
            "Epoch: 14/15. Loss (Train/Test): 1.289/1.612. Accuracy (Train/Test): 0.491/0.398\n",
            "Epoch: 15/15. Loss (Train/Test): 1.281/1.592. Accuracy (Train/Test): 0.495/0.399\n",
            "\n",
            "Метрики сохранены в (pickle): ./models/third_model_metrics_dropout.pkl\n"
          ]
        }
      ],
      "source": [
        "set_global_seed(42)\n",
        "\n",
        "model = RNNClassifier(\n",
        "    embedding_dim=embedding_dim, hidden_dim=hidden_dim, output_size=10, tokenizer=tokenizer,\n",
        "    rec_layer=FastRNNLayer, dropout= 0.25\n",
        ").to(device)\n",
        "\n",
        "loss_fn = torch.nn.CrossEntropyLoss(reduction='mean')\n",
        "optimizer = torch.optim.Adam(model.parameters(), lr=learning_rate)\n",
        "\n",
        "train_losses_pure, train_accuracies_pure, test_losses_pure, test_accuracies_pure = train(\n",
        "    train_dataloader, test_dataloader, model, loss_fn, optimizer, device, num_epochs, './models/third_model_metrics_dropout.pkl'\n",
        ")"
      ]
    },
    {
      "cell_type": "markdown",
      "metadata": {
        "id": "xcsSsuDlICLk"
      },
      "source": [
        "</конец взлома pytorch>"
      ]
    },
    {
      "cell_type": "markdown",
      "metadata": {
        "id": "mnAF5CnIICLk"
      },
      "source": [
        "## `Реализация дропаута по статье Семениуты и др. (1 балл)`"
      ]
    },
    {
      "cell_type": "markdown",
      "metadata": {
        "id": "o3XLQUKqICLk"
      },
      "source": [
        "Перейдем к реализации дропаута для LSTM по статье [Semeniuta et al](http://www.aclweb.org/anthology/C16-1165).\n",
        "\n",
        "Этот метод применения дропаута не менее популярен, чем предыдущий. Его особенность состоит в том, что он придуман специально для гейтовых архитектур. В контексте LSTM этот дропаут накладывается только на информационный поток ($m_h$ — маска дропаута):\n",
        "$$\n",
        "i = \\sigma(h_{t-1}W^i + x_t U^i+b_i) \\quad\n",
        "o = \\sigma(h_{t-1}W^o + x_t U^o+b_o)\n",
        "$$\n",
        "$$\n",
        "f = \\sigma(h_{t-1}W^f + x_t U^f+b_f) \\quad\n",
        "g = tanh(h_{t-1} W^g + x_t U^g+b_g)\n",
        "$$\n",
        "$$\n",
        "c_t = f \\odot c_{t-1} +  i \\odot g \\odot {\\bf m_h} \\quad\n",
        "h_t =  o \\odot tanh(c_t)\n",
        "$$\n",
        "**На входы $x_t$ маска накладывается как в предыдущем дропауте.** Впрочем, на входы маску можно наложить вообще до вызова рекуррентного слоя.\n",
        "\n",
        "Согласно статье, маска дропаута может быть как одинаковая, так и разная для всех моментов времени. Мы сделаем одинаковую для всех моментов времени.\n",
        "\n",
        "Для реализации этого дропаута можно:\n",
        "1. самостоятельно реализовать LSTM (интерфейса LSTMCell не хватит)\n",
        "2. снова воспользоваться трюком с установкой весов (но тут мы опираемся на свойство $tanh(0)=0$, к тому же, трюк в данном случае выглядит менее тривиально, чем с дропаутом Гала).\n",
        "\n",
        "**Внимание:** Раньше мы реализовывали через LSTMCell и модель работала долго, теперь при рукописном варианте будет работать еще дольше!\n",
        "\n",
        "Предлагается реализовать дропаут по сценарию 1. Допишите класс:"
      ]
    },
    {
      "cell_type": "markdown",
      "metadata": {
        "id": "DhxA1SO3ICLk"
      },
      "source": [
        "**Для каждого тензора в функции `forward` подпишите в комментарии его размеры**"
      ]
    },
    {
      "cell_type": "code",
      "execution_count": 249,
      "metadata": {
        "ExecuteTime": {
          "end_time": "2024-03-30T21:53:49.270179Z",
          "start_time": "2024-03-30T21:53:49.265063Z"
        },
        "id": "z2QOkft-ICLk"
      },
      "outputs": [],
      "source": [
        "class HandmadeLSTM(torch.nn.Module):\n",
        "    def __init__(self, input_size, hidden_size, dropout=0.0):\n",
        "        super().__init__()\n",
        "\n",
        "        self.dropout = dropout\n",
        "        self.input_size = input_size\n",
        "        self.hidden_size = hidden_size\n",
        "\n",
        "        self.input_weights = torch.nn.Linear(input_size, 4 * hidden_size)\n",
        "        self.hidden_weights = torch.nn.Linear(hidden_size, 4 * hidden_size)\n",
        "\n",
        "        self.reset_params()\n",
        "\n",
        "    def reset_params(self):\n",
        "        \"\"\"\n",
        "        Initialization as in Pytorch.\n",
        "        Do not forget to call this method!\n",
        "        https://pytorch.org/docs/stable/_modules/torch/nn/modules/rnn.html#LSTM\n",
        "        \"\"\"\n",
        "        stdv = 1.0 / np.sqrt(self.hidden_size)\n",
        "        for weight in self.parameters():\n",
        "            torch.nn.init.uniform_(weight, -stdv, stdv)\n",
        "\n",
        "    def forward(self, x):\n",
        "        # Use functions init_h0_c0 and gen_dropout_masks defined above\n",
        "        T, B, _ = x.shape\n",
        "        h_t, c_t = init_h0_c0(B, self.hidden_size, x)\n",
        "        outputs = []\n",
        "        mh = gen_dropout_mask(B, self.hidden_size, self.training, self.dropout, x)  # (B, H)\n",
        "\n",
        "        # Implement recurrent logic to mimic torch.nn.LSTM\n",
        "        # Do not forget to apply dropout mask\n",
        "        for t in range(T):\n",
        "            x_t = x[t]  # (B, input_size)\n",
        "            gates = self.input_weights(x_t) + self.hidden_weights(h_t)  # (B, 4H)\n",
        "            i, f, o, g = gates.chunk(4, dim=1)  #  (B, H)\n",
        "            i = torch.sigmoid(i)\n",
        "            f = torch.sigmoid(f)\n",
        "            o = torch.sigmoid(o)\n",
        "            g = torch.tanh(g)\n",
        "            g = g * mh\n",
        "            c_t = f * c_t + i * g\n",
        "            h_t = o * torch.tanh(c_t)\n",
        "            outputs.append(h_t.unsqueeze(0))  # (1, B, H)\n",
        "        output = torch.cat(outputs, dim=0)  # (T, B, H)\n",
        "        return output, (h_t, c_t)"
      ]
    },
    {
      "cell_type": "code",
      "execution_count": 250,
      "metadata": {
        "id": "1SNq-jXGICLk"
      },
      "outputs": [],
      "source": [
        "layer = HandmadeLSTM(32, 64, dropout=None)\n",
        "dummy_input = torch.ones((10, 16, 32))\n",
        "\n",
        "out = layer(dummy_input)\n",
        "\n",
        "assert out[0].shape == (10, 16, 64)\n",
        "assert out[1][0].shape == (16, 64)\n",
        "assert out[1][1].shape == (16, 64)"
      ]
    },
    {
      "cell_type": "markdown",
      "metadata": {
        "id": "A8d5K4RkICLl"
      },
      "source": [
        "Протестируйте вашу реализацию без дропаута (проконтролируйте качество и сравните время обучения с временем обучения `torch.nn.LSTM` и `RNNLayer`), а также с `dropout=0.25`. Сравните качество модели с таким дропаутом с качеством модели с дропаутом Гала и Гарамани."
      ]
    },
    {
      "cell_type": "markdown",
      "metadata": {
        "id": "4iRpttyIICLl"
      },
      "source": [
        "**Сохраните все метрики и время работы модели. Это потребуется в конце первой части для построения графиков обучения и сравнения времени работы для всех моделей в этой секции**\n",
        "\n",
        "**Возможно стоит сохранить результаты в виде файлов и скачать их**"
      ]
    },
    {
      "cell_type": "code",
      "source": [
        "num_epochs = 5"
      ],
      "metadata": {
        "id": "qLQDRnKMuj_p"
      },
      "execution_count": 251,
      "outputs": []
    },
    {
      "cell_type": "code",
      "execution_count": 252,
      "metadata": {
        "id": "igcWYqZZICLl",
        "colab": {
          "base_uri": "https://localhost:8080/"
        },
        "outputId": "fab1aa31-b3ac-4dd9-f855-6f8c67cec19f"
      },
      "outputs": [
        {
          "output_type": "stream",
          "name": "stdout",
          "text": [
            "Epoch: 1/5. Loss (Train/Test): 2.023/2.022. Accuracy (Train/Test): 0.208/0.203\n",
            "Epoch: 2/5. Loss (Train/Test): 2.022/2.022. Accuracy (Train/Test): 0.195/0.199\n",
            "Epoch: 3/5. Loss (Train/Test): 2.001/2.007. Accuracy (Train/Test): 0.218/0.202\n",
            "Epoch: 4/5. Loss (Train/Test): 2.087/2.100. Accuracy (Train/Test): 0.224/0.214\n",
            "Epoch: 5/5. Loss (Train/Test): 1.811/1.841. Accuracy (Train/Test): 0.332/0.321\n",
            "\n",
            "Метрики сохранены в (pickle): ./models/fourth_model_metrics_nodropout.pkl\n"
          ]
        }
      ],
      "source": [
        "set_global_seed(42)\n",
        "\n",
        "model = RNNClassifier(\n",
        "    embedding_dim=embedding_dim, hidden_dim=hidden_dim, output_size=10, tokenizer=tokenizer,\n",
        "    rec_layer=HandmadeLSTM, dropout= None\n",
        ").to(device)\n",
        "\n",
        "loss_fn = torch.nn.CrossEntropyLoss(reduction='mean')\n",
        "optimizer = torch.optim.Adam(model.parameters(), lr=learning_rate)\n",
        "\n",
        "train_losses_pure, train_accuracies_pure, test_losses_pure, test_accuracies_pure = train(\n",
        "    train_dataloader, test_dataloader, model, loss_fn, optimizer, device, num_epochs, './models/fourth_model_metrics_nodropout.pkl'\n",
        ")"
      ]
    },
    {
      "cell_type": "code",
      "execution_count": 253,
      "metadata": {
        "id": "-QE7k0ZdICLl",
        "colab": {
          "base_uri": "https://localhost:8080/"
        },
        "outputId": "92e729fb-0b74-4271-87b7-0323bd7e69fd"
      },
      "outputs": [
        {
          "output_type": "stream",
          "name": "stdout",
          "text": [
            "Epoch: 1/5. Loss (Train/Test): 2.028/2.027. Accuracy (Train/Test): 0.206/0.202\n",
            "Epoch: 2/5. Loss (Train/Test): 2.023/2.023. Accuracy (Train/Test): 0.209/0.202\n",
            "Epoch: 3/5. Loss (Train/Test): 2.007/2.013. Accuracy (Train/Test): 0.213/0.202\n",
            "Epoch: 4/5. Loss (Train/Test): 1.991/2.004. Accuracy (Train/Test): 0.221/0.202\n",
            "Epoch: 5/5. Loss (Train/Test): 1.967/1.979. Accuracy (Train/Test): 0.264/0.262\n",
            "\n",
            "Метрики сохранены в (pickle): ./models/fourth_model_metrics_dropout.pkl\n"
          ]
        }
      ],
      "source": [
        "set_global_seed(42)\n",
        "\n",
        "model = RNNClassifier(\n",
        "    embedding_dim=embedding_dim, hidden_dim=hidden_dim, output_size=10, tokenizer=tokenizer,\n",
        "    rec_layer=HandmadeLSTM, dropout= 0.25\n",
        ").to(device)\n",
        "\n",
        "loss_fn = torch.nn.CrossEntropyLoss(reduction='mean')\n",
        "optimizer = torch.optim.Adam(model.parameters(), lr=learning_rate)\n",
        "\n",
        "train_losses_pure, train_accuracies_pure, test_losses_pure, test_accuracies_pure = train(\n",
        "    train_dataloader, test_dataloader, model, loss_fn, optimizer, device, num_epochs, './models/fourth_model_metrics_dropout.pkl'\n",
        ")"
      ]
    },
    {
      "cell_type": "markdown",
      "metadata": {
        "ExecuteTime": {
          "end_time": "2021-04-01T23:33:28.831346Z",
          "start_time": "2021-04-01T23:33:28.810453Z"
        },
        "id": "iJCiD1DSICLl"
      },
      "source": [
        "## `Сравнение всех предложенных моделей (1 балл)`"
      ]
    },
    {
      "cell_type": "markdown",
      "metadata": {
        "ExecuteTime": {
          "end_time": "2021-04-01T23:48:05.361634Z",
          "start_time": "2021-04-01T23:48:05.333901Z"
        },
        "id": "9qQrcc3TICLl"
      },
      "source": [
        "Используя замеры времени заполните табличку с временем работы четырёх реализованных моделей в следующей ячейке:"
      ]
    },
    {
      "cell_type": "markdown",
      "metadata": {
        "id": "OX-vGbJ2ICLm"
      },
      "source": [
        "| torch.nn.LSTM | RNNLayer | FastRNNLayer | HandmadeLSTM |\n",
        "|---------------|----------|--------------|--------------|\n",
        "| 2m 56s        | 15m 32s  | 2m 54s       | 26m 45s      |"
      ]
    },
    {
      "cell_type": "code",
      "execution_count": 254,
      "metadata": {
        "ExecuteTime": {
          "end_time": "2024-03-30T22:43:31.566217Z",
          "start_time": "2024-03-30T22:43:31.389958Z"
        },
        "id": "82BKw01tICLm"
      },
      "outputs": [],
      "source": [
        "import matplotlib.pyplot as plt"
      ]
    },
    {
      "cell_type": "code",
      "source": [
        "model_paths = [\n",
        "    ('first_model', './models/first_model_metrics.pkl'),\n",
        "    ('second_model_nodropout', './models/second_model_metrics_nodropout.pkl'),\n",
        "    ('second_model_dropout', './models/second_model_metrics_dropout.pkl'),\n",
        "    ('third_model_nodropout', './models/third_model_metrics_nodropout.pkl'),\n",
        "    ('third_model_dropout', './models/third_model_metrics_dropout.pkl'),\n",
        "    ('fourth_model_nodropout', './models/fourth_model_metrics_nodropout.pkl'),\n",
        "    ('fourth_model_dropout', './models/fourth_model_metrics_dropout.pkl')\n",
        "]\n",
        "models_data = {}\n",
        "for name, path in model_paths:\n",
        "    with open(path, 'rb') as f:\n",
        "        models_data[name] = pickle.load(f)\n",
        "print(\"Время обучения моделей:\")\n",
        "for name, data in models_data.items():\n",
        "    print(f\"{name}: {data['training_time']:.2f} секунд ({data['num_epochs']} эпох)\")"
      ],
      "metadata": {
        "colab": {
          "base_uri": "https://localhost:8080/"
        },
        "id": "LcteLEekx0wv",
        "outputId": "891ab4cb-c43b-419f-8c62-41d8525df8dc"
      },
      "execution_count": 256,
      "outputs": [
        {
          "output_type": "stream",
          "name": "stdout",
          "text": [
            "Время обучения моделей:\n",
            "first_model: 176.86 секунд (15 эпох)\n",
            "second_model_nodropout: 942.47 секунд (15 эпох)\n",
            "second_model_dropout: 932.61 секунд (15 эпох)\n",
            "third_model_nodropout: 176.48 секунд (15 эпох)\n",
            "third_model_dropout: 174.86 секунд (15 эпох)\n",
            "fourth_model_nodropout: 535.46 секунд (5 эпох)\n",
            "fourth_model_dropout: 551.35 секунд (5 эпох)\n"
          ]
        }
      ]
    },
    {
      "cell_type": "markdown",
      "metadata": {
        "id": "f0kixvHoICLm"
      },
      "source": [
        "Крайне желательно рисовать графики в векторном формате.\n",
        "\n",
        "Если по каким-то причинам, отрисовка не будет работать, закомментируйте следующую ячейку."
      ]
    },
    {
      "cell_type": "code",
      "execution_count": 255,
      "metadata": {
        "ExecuteTime": {
          "end_time": "2024-03-30T22:43:31.573342Z",
          "start_time": "2024-03-30T22:43:31.567690Z"
        },
        "id": "YSjIU4SqICLm"
      },
      "outputs": [],
      "source": [
        "%matplotlib inline\n",
        "\n",
        "import matplotlib_inline\n",
        "from IPython.display import set_matplotlib_formats\n",
        "\n",
        "matplotlib_inline.backend_inline.set_matplotlib_formats('pdf', 'svg')"
      ]
    },
    {
      "cell_type": "markdown",
      "metadata": {
        "id": "4XCL_zjhICLm"
      },
      "source": [
        "Нарисуйте два графика — функция потерь и качество на обучающей и тестовой выборке для всех 7 моделей обученных выше."
      ]
    },
    {
      "cell_type": "code",
      "execution_count": 257,
      "metadata": {
        "ExecuteTime": {
          "end_time": "2024-03-30T22:43:32.290598Z",
          "start_time": "2024-03-30T22:43:31.575031Z"
        },
        "id": "o74Ty7e1ICLn",
        "colab": {
          "base_uri": "https://localhost:8080/",
          "height": 970
        },
        "outputId": "9a736c26-13df-4552-f69c-18aa45ae9a80"
      },
      "outputs": [
        {
          "output_type": "display_data",
          "data": {
            "text/plain": [
              "<Figure size 1000x1000 with 2 Axes>"
            ],
            "image/svg+xml": "<?xml version=\"1.0\" encoding=\"utf-8\" standalone=\"no\"?>\n<!DOCTYPE svg PUBLIC \"-//W3C//DTD SVG 1.1//EN\"\n  \"http://www.w3.org/Graphics/SVG/1.1/DTD/svg11.dtd\">\n<svg xmlns:xlink=\"http://www.w3.org/1999/xlink\" width=\"712.773125pt\" height=\"711.034375pt\" viewBox=\"0 0 712.773125 711.034375\" xmlns=\"http://www.w3.org/2000/svg\" version=\"1.1\">\n <metadata>\n  <rdf:RDF xmlns:dc=\"http://purl.org/dc/elements/1.1/\" xmlns:cc=\"http://creativecommons.org/ns#\" xmlns:rdf=\"http://www.w3.org/1999/02/22-rdf-syntax-ns#\">\n   <cc:Work>\n    <dc:type rdf:resource=\"http://purl.org/dc/dcmitype/StillImage\"/>\n    <dc:date>2025-04-07T01:12:25.858188</dc:date>\n    <dc:format>image/svg+xml</dc:format>\n    <dc:creator>\n     <cc:Agent>\n      <dc:title>Matplotlib v3.10.0, https://matplotlib.org/</dc:title>\n     </cc:Agent>\n    </dc:creator>\n   </cc:Work>\n  </rdf:RDF>\n </metadata>\n <defs>\n  <style type=\"text/css\">*{stroke-linejoin: round; stroke-linecap: butt}</style>\n </defs>\n <g id=\"figure_1\">\n  <g id=\"patch_1\">\n   <path d=\"M 0 711.034375 \nL 712.773125 711.034375 \nL 712.773125 0 \nL 0 0 \nz\n\" style=\"fill: #ffffff\"/>\n  </g>\n  <g id=\"axes_1\">\n   <g id=\"patch_2\">\n    <path d=\"M 30.103125 318.878125 \nL 705.573125 318.878125 \nL 705.573125 22.318125 \nL 30.103125 22.318125 \nz\n\" style=\"fill: #ffffff\"/>\n   </g>\n   <g id=\"matplotlib.axis_1\">\n    <g id=\"xtick_1\">\n     <g id=\"line2d_1\">\n      <path d=\"M 104.667995 318.878125 \nL 104.667995 22.318125 \n\" clip-path=\"url(#p4091b2d6c2)\" style=\"fill: none; stroke: #b0b0b0; stroke-width: 0.8; stroke-linecap: square\"/>\n     </g>\n     <g id=\"line2d_2\">\n      <defs>\n       <path id=\"m05e361dd8b\" d=\"M 0 0 \nL 0 3.5 \n\" style=\"stroke: #000000; stroke-width: 0.8\"/>\n      </defs>\n      <g>\n       <use xlink:href=\"#m05e361dd8b\" x=\"104.667995\" y=\"318.878125\" style=\"stroke: #000000; stroke-width: 0.8\"/>\n      </g>\n     </g>\n     <g id=\"text_1\">\n      <!-- 2 -->\n      <g transform=\"translate(101.486745 333.476562) scale(0.1 -0.1)\">\n       <defs>\n        <path id=\"DejaVuSans-32\" d=\"M 1228 531 \nL 3431 531 \nL 3431 0 \nL 469 0 \nL 469 531 \nQ 828 903 1448 1529 \nQ 2069 2156 2228 2338 \nQ 2531 2678 2651 2914 \nQ 2772 3150 2772 3378 \nQ 2772 3750 2511 3984 \nQ 2250 4219 1831 4219 \nQ 1534 4219 1204 4116 \nQ 875 4013 500 3803 \nL 500 4441 \nQ 881 4594 1212 4672 \nQ 1544 4750 1819 4750 \nQ 2544 4750 2975 4387 \nQ 3406 4025 3406 3419 \nQ 3406 3131 3298 2873 \nQ 3191 2616 2906 2266 \nQ 2828 2175 2409 1742 \nQ 1991 1309 1228 531 \nz\n\" transform=\"scale(0.015625)\"/>\n       </defs>\n       <use xlink:href=\"#DejaVuSans-32\"/>\n      </g>\n     </g>\n    </g>\n    <g id=\"xtick_2\">\n     <g id=\"line2d_3\">\n      <path d=\"M 192.391372 318.878125 \nL 192.391372 22.318125 \n\" clip-path=\"url(#p4091b2d6c2)\" style=\"fill: none; stroke: #b0b0b0; stroke-width: 0.8; stroke-linecap: square\"/>\n     </g>\n     <g id=\"line2d_4\">\n      <g>\n       <use xlink:href=\"#m05e361dd8b\" x=\"192.391372\" y=\"318.878125\" style=\"stroke: #000000; stroke-width: 0.8\"/>\n      </g>\n     </g>\n     <g id=\"text_2\">\n      <!-- 4 -->\n      <g transform=\"translate(189.210122 333.476562) scale(0.1 -0.1)\">\n       <defs>\n        <path id=\"DejaVuSans-34\" d=\"M 2419 4116 \nL 825 1625 \nL 2419 1625 \nL 2419 4116 \nz\nM 2253 4666 \nL 3047 4666 \nL 3047 1625 \nL 3713 1625 \nL 3713 1100 \nL 3047 1100 \nL 3047 0 \nL 2419 0 \nL 2419 1100 \nL 313 1100 \nL 313 1709 \nL 2253 4666 \nz\n\" transform=\"scale(0.015625)\"/>\n       </defs>\n       <use xlink:href=\"#DejaVuSans-34\"/>\n      </g>\n     </g>\n    </g>\n    <g id=\"xtick_3\">\n     <g id=\"line2d_5\">\n      <path d=\"M 280.114748 318.878125 \nL 280.114748 22.318125 \n\" clip-path=\"url(#p4091b2d6c2)\" style=\"fill: none; stroke: #b0b0b0; stroke-width: 0.8; stroke-linecap: square\"/>\n     </g>\n     <g id=\"line2d_6\">\n      <g>\n       <use xlink:href=\"#m05e361dd8b\" x=\"280.114748\" y=\"318.878125\" style=\"stroke: #000000; stroke-width: 0.8\"/>\n      </g>\n     </g>\n     <g id=\"text_3\">\n      <!-- 6 -->\n      <g transform=\"translate(276.933498 333.476562) scale(0.1 -0.1)\">\n       <defs>\n        <path id=\"DejaVuSans-36\" d=\"M 2113 2584 \nQ 1688 2584 1439 2293 \nQ 1191 2003 1191 1497 \nQ 1191 994 1439 701 \nQ 1688 409 2113 409 \nQ 2538 409 2786 701 \nQ 3034 994 3034 1497 \nQ 3034 2003 2786 2293 \nQ 2538 2584 2113 2584 \nz\nM 3366 4563 \nL 3366 3988 \nQ 3128 4100 2886 4159 \nQ 2644 4219 2406 4219 \nQ 1781 4219 1451 3797 \nQ 1122 3375 1075 2522 \nQ 1259 2794 1537 2939 \nQ 1816 3084 2150 3084 \nQ 2853 3084 3261 2657 \nQ 3669 2231 3669 1497 \nQ 3669 778 3244 343 \nQ 2819 -91 2113 -91 \nQ 1303 -91 875 529 \nQ 447 1150 447 2328 \nQ 447 3434 972 4092 \nQ 1497 4750 2381 4750 \nQ 2619 4750 2861 4703 \nQ 3103 4656 3366 4563 \nz\n\" transform=\"scale(0.015625)\"/>\n       </defs>\n       <use xlink:href=\"#DejaVuSans-36\"/>\n      </g>\n     </g>\n    </g>\n    <g id=\"xtick_4\">\n     <g id=\"line2d_7\">\n      <path d=\"M 367.838125 318.878125 \nL 367.838125 22.318125 \n\" clip-path=\"url(#p4091b2d6c2)\" style=\"fill: none; stroke: #b0b0b0; stroke-width: 0.8; stroke-linecap: square\"/>\n     </g>\n     <g id=\"line2d_8\">\n      <g>\n       <use xlink:href=\"#m05e361dd8b\" x=\"367.838125\" y=\"318.878125\" style=\"stroke: #000000; stroke-width: 0.8\"/>\n      </g>\n     </g>\n     <g id=\"text_4\">\n      <!-- 8 -->\n      <g transform=\"translate(364.656875 333.476562) scale(0.1 -0.1)\">\n       <defs>\n        <path id=\"DejaVuSans-38\" d=\"M 2034 2216 \nQ 1584 2216 1326 1975 \nQ 1069 1734 1069 1313 \nQ 1069 891 1326 650 \nQ 1584 409 2034 409 \nQ 2484 409 2743 651 \nQ 3003 894 3003 1313 \nQ 3003 1734 2745 1975 \nQ 2488 2216 2034 2216 \nz\nM 1403 2484 \nQ 997 2584 770 2862 \nQ 544 3141 544 3541 \nQ 544 4100 942 4425 \nQ 1341 4750 2034 4750 \nQ 2731 4750 3128 4425 \nQ 3525 4100 3525 3541 \nQ 3525 3141 3298 2862 \nQ 3072 2584 2669 2484 \nQ 3125 2378 3379 2068 \nQ 3634 1759 3634 1313 \nQ 3634 634 3220 271 \nQ 2806 -91 2034 -91 \nQ 1263 -91 848 271 \nQ 434 634 434 1313 \nQ 434 1759 690 2068 \nQ 947 2378 1403 2484 \nz\nM 1172 3481 \nQ 1172 3119 1398 2916 \nQ 1625 2713 2034 2713 \nQ 2441 2713 2670 2916 \nQ 2900 3119 2900 3481 \nQ 2900 3844 2670 4047 \nQ 2441 4250 2034 4250 \nQ 1625 4250 1398 4047 \nQ 1172 3844 1172 3481 \nz\n\" transform=\"scale(0.015625)\"/>\n       </defs>\n       <use xlink:href=\"#DejaVuSans-38\"/>\n      </g>\n     </g>\n    </g>\n    <g id=\"xtick_5\">\n     <g id=\"line2d_9\">\n      <path d=\"M 455.561502 318.878125 \nL 455.561502 22.318125 \n\" clip-path=\"url(#p4091b2d6c2)\" style=\"fill: none; stroke: #b0b0b0; stroke-width: 0.8; stroke-linecap: square\"/>\n     </g>\n     <g id=\"line2d_10\">\n      <g>\n       <use xlink:href=\"#m05e361dd8b\" x=\"455.561502\" y=\"318.878125\" style=\"stroke: #000000; stroke-width: 0.8\"/>\n      </g>\n     </g>\n     <g id=\"text_5\">\n      <!-- 10 -->\n      <g transform=\"translate(449.199002 333.476562) scale(0.1 -0.1)\">\n       <defs>\n        <path id=\"DejaVuSans-31\" d=\"M 794 531 \nL 1825 531 \nL 1825 4091 \nL 703 3866 \nL 703 4441 \nL 1819 4666 \nL 2450 4666 \nL 2450 531 \nL 3481 531 \nL 3481 0 \nL 794 0 \nL 794 531 \nz\n\" transform=\"scale(0.015625)\"/>\n        <path id=\"DejaVuSans-30\" d=\"M 2034 4250 \nQ 1547 4250 1301 3770 \nQ 1056 3291 1056 2328 \nQ 1056 1369 1301 889 \nQ 1547 409 2034 409 \nQ 2525 409 2770 889 \nQ 3016 1369 3016 2328 \nQ 3016 3291 2770 3770 \nQ 2525 4250 2034 4250 \nz\nM 2034 4750 \nQ 2819 4750 3233 4129 \nQ 3647 3509 3647 2328 \nQ 3647 1150 3233 529 \nQ 2819 -91 2034 -91 \nQ 1250 -91 836 529 \nQ 422 1150 422 2328 \nQ 422 3509 836 4129 \nQ 1250 4750 2034 4750 \nz\n\" transform=\"scale(0.015625)\"/>\n       </defs>\n       <use xlink:href=\"#DejaVuSans-31\"/>\n       <use xlink:href=\"#DejaVuSans-30\" transform=\"translate(63.623047 0)\"/>\n      </g>\n     </g>\n    </g>\n    <g id=\"xtick_6\">\n     <g id=\"line2d_11\">\n      <path d=\"M 543.284878 318.878125 \nL 543.284878 22.318125 \n\" clip-path=\"url(#p4091b2d6c2)\" style=\"fill: none; stroke: #b0b0b0; stroke-width: 0.8; stroke-linecap: square\"/>\n     </g>\n     <g id=\"line2d_12\">\n      <g>\n       <use xlink:href=\"#m05e361dd8b\" x=\"543.284878\" y=\"318.878125\" style=\"stroke: #000000; stroke-width: 0.8\"/>\n      </g>\n     </g>\n     <g id=\"text_6\">\n      <!-- 12 -->\n      <g transform=\"translate(536.922378 333.476562) scale(0.1 -0.1)\">\n       <use xlink:href=\"#DejaVuSans-31\"/>\n       <use xlink:href=\"#DejaVuSans-32\" transform=\"translate(63.623047 0)\"/>\n      </g>\n     </g>\n    </g>\n    <g id=\"xtick_7\">\n     <g id=\"line2d_13\">\n      <path d=\"M 631.008255 318.878125 \nL 631.008255 22.318125 \n\" clip-path=\"url(#p4091b2d6c2)\" style=\"fill: none; stroke: #b0b0b0; stroke-width: 0.8; stroke-linecap: square\"/>\n     </g>\n     <g id=\"line2d_14\">\n      <g>\n       <use xlink:href=\"#m05e361dd8b\" x=\"631.008255\" y=\"318.878125\" style=\"stroke: #000000; stroke-width: 0.8\"/>\n      </g>\n     </g>\n     <g id=\"text_7\">\n      <!-- 14 -->\n      <g transform=\"translate(624.645755 333.476562) scale(0.1 -0.1)\">\n       <use xlink:href=\"#DejaVuSans-31\"/>\n       <use xlink:href=\"#DejaVuSans-34\" transform=\"translate(63.623047 0)\"/>\n      </g>\n     </g>\n    </g>\n    <g id=\"text_8\">\n     <!-- Epoch -->\n     <g transform=\"translate(352.527187 347.154687) scale(0.1 -0.1)\">\n      <defs>\n       <path id=\"DejaVuSans-45\" d=\"M 628 4666 \nL 3578 4666 \nL 3578 4134 \nL 1259 4134 \nL 1259 2753 \nL 3481 2753 \nL 3481 2222 \nL 1259 2222 \nL 1259 531 \nL 3634 531 \nL 3634 0 \nL 628 0 \nL 628 4666 \nz\n\" transform=\"scale(0.015625)\"/>\n       <path id=\"DejaVuSans-70\" d=\"M 1159 525 \nL 1159 -1331 \nL 581 -1331 \nL 581 3500 \nL 1159 3500 \nL 1159 2969 \nQ 1341 3281 1617 3432 \nQ 1894 3584 2278 3584 \nQ 2916 3584 3314 3078 \nQ 3713 2572 3713 1747 \nQ 3713 922 3314 415 \nQ 2916 -91 2278 -91 \nQ 1894 -91 1617 61 \nQ 1341 213 1159 525 \nz\nM 3116 1747 \nQ 3116 2381 2855 2742 \nQ 2594 3103 2138 3103 \nQ 1681 3103 1420 2742 \nQ 1159 2381 1159 1747 \nQ 1159 1113 1420 752 \nQ 1681 391 2138 391 \nQ 2594 391 2855 752 \nQ 3116 1113 3116 1747 \nz\n\" transform=\"scale(0.015625)\"/>\n       <path id=\"DejaVuSans-6f\" d=\"M 1959 3097 \nQ 1497 3097 1228 2736 \nQ 959 2375 959 1747 \nQ 959 1119 1226 758 \nQ 1494 397 1959 397 \nQ 2419 397 2687 759 \nQ 2956 1122 2956 1747 \nQ 2956 2369 2687 2733 \nQ 2419 3097 1959 3097 \nz\nM 1959 3584 \nQ 2709 3584 3137 3096 \nQ 3566 2609 3566 1747 \nQ 3566 888 3137 398 \nQ 2709 -91 1959 -91 \nQ 1206 -91 779 398 \nQ 353 888 353 1747 \nQ 353 2609 779 3096 \nQ 1206 3584 1959 3584 \nz\n\" transform=\"scale(0.015625)\"/>\n       <path id=\"DejaVuSans-63\" d=\"M 3122 3366 \nL 3122 2828 \nQ 2878 2963 2633 3030 \nQ 2388 3097 2138 3097 \nQ 1578 3097 1268 2742 \nQ 959 2388 959 1747 \nQ 959 1106 1268 751 \nQ 1578 397 2138 397 \nQ 2388 397 2633 464 \nQ 2878 531 3122 666 \nL 3122 134 \nQ 2881 22 2623 -34 \nQ 2366 -91 2075 -91 \nQ 1284 -91 818 406 \nQ 353 903 353 1747 \nQ 353 2603 823 3093 \nQ 1294 3584 2113 3584 \nQ 2378 3584 2631 3529 \nQ 2884 3475 3122 3366 \nz\n\" transform=\"scale(0.015625)\"/>\n       <path id=\"DejaVuSans-68\" d=\"M 3513 2113 \nL 3513 0 \nL 2938 0 \nL 2938 2094 \nQ 2938 2591 2744 2837 \nQ 2550 3084 2163 3084 \nQ 1697 3084 1428 2787 \nQ 1159 2491 1159 1978 \nL 1159 0 \nL 581 0 \nL 581 4863 \nL 1159 4863 \nL 1159 2956 \nQ 1366 3272 1645 3428 \nQ 1925 3584 2291 3584 \nQ 2894 3584 3203 3211 \nQ 3513 2838 3513 2113 \nz\n\" transform=\"scale(0.015625)\"/>\n      </defs>\n      <use xlink:href=\"#DejaVuSans-45\"/>\n      <use xlink:href=\"#DejaVuSans-70\" transform=\"translate(63.183594 0)\"/>\n      <use xlink:href=\"#DejaVuSans-6f\" transform=\"translate(126.660156 0)\"/>\n      <use xlink:href=\"#DejaVuSans-63\" transform=\"translate(187.841797 0)\"/>\n      <use xlink:href=\"#DejaVuSans-68\" transform=\"translate(242.822266 0)\"/>\n     </g>\n    </g>\n   </g>\n   <g id=\"matplotlib.axis_2\">\n    <g id=\"ytick_1\">\n     <g id=\"line2d_15\">\n      <path d=\"M 30.103125 297.908052 \nL 705.573125 297.908052 \n\" clip-path=\"url(#p4091b2d6c2)\" style=\"fill: none; stroke: #b0b0b0; stroke-width: 0.8; stroke-linecap: square\"/>\n     </g>\n     <g id=\"line2d_16\">\n      <defs>\n       <path id=\"m82dfbeb18c\" d=\"M 0 0 \nL -3.5 0 \n\" style=\"stroke: #000000; stroke-width: 0.8\"/>\n      </defs>\n      <g>\n       <use xlink:href=\"#m82dfbeb18c\" x=\"30.103125\" y=\"297.908052\" style=\"stroke: #000000; stroke-width: 0.8\"/>\n      </g>\n     </g>\n     <g id=\"text_9\">\n      <!-- 0.8 -->\n      <g transform=\"translate(7.2 301.70727) scale(0.1 -0.1)\">\n       <defs>\n        <path id=\"DejaVuSans-2e\" d=\"M 684 794 \nL 1344 794 \nL 1344 0 \nL 684 0 \nL 684 794 \nz\n\" transform=\"scale(0.015625)\"/>\n       </defs>\n       <use xlink:href=\"#DejaVuSans-30\"/>\n       <use xlink:href=\"#DejaVuSans-2e\" transform=\"translate(63.623047 0)\"/>\n       <use xlink:href=\"#DejaVuSans-38\" transform=\"translate(95.410156 0)\"/>\n      </g>\n     </g>\n    </g>\n    <g id=\"ytick_2\">\n     <g id=\"line2d_17\">\n      <path d=\"M 30.103125 257.57523 \nL 705.573125 257.57523 \n\" clip-path=\"url(#p4091b2d6c2)\" style=\"fill: none; stroke: #b0b0b0; stroke-width: 0.8; stroke-linecap: square\"/>\n     </g>\n     <g id=\"line2d_18\">\n      <g>\n       <use xlink:href=\"#m82dfbeb18c\" x=\"30.103125\" y=\"257.57523\" style=\"stroke: #000000; stroke-width: 0.8\"/>\n      </g>\n     </g>\n     <g id=\"text_10\">\n      <!-- 1.0 -->\n      <g transform=\"translate(7.2 261.374449) scale(0.1 -0.1)\">\n       <use xlink:href=\"#DejaVuSans-31\"/>\n       <use xlink:href=\"#DejaVuSans-2e\" transform=\"translate(63.623047 0)\"/>\n       <use xlink:href=\"#DejaVuSans-30\" transform=\"translate(95.410156 0)\"/>\n      </g>\n     </g>\n    </g>\n    <g id=\"ytick_3\">\n     <g id=\"line2d_19\">\n      <path d=\"M 30.103125 217.242409 \nL 705.573125 217.242409 \n\" clip-path=\"url(#p4091b2d6c2)\" style=\"fill: none; stroke: #b0b0b0; stroke-width: 0.8; stroke-linecap: square\"/>\n     </g>\n     <g id=\"line2d_20\">\n      <g>\n       <use xlink:href=\"#m82dfbeb18c\" x=\"30.103125\" y=\"217.242409\" style=\"stroke: #000000; stroke-width: 0.8\"/>\n      </g>\n     </g>\n     <g id=\"text_11\">\n      <!-- 1.2 -->\n      <g transform=\"translate(7.2 221.041628) scale(0.1 -0.1)\">\n       <use xlink:href=\"#DejaVuSans-31\"/>\n       <use xlink:href=\"#DejaVuSans-2e\" transform=\"translate(63.623047 0)\"/>\n       <use xlink:href=\"#DejaVuSans-32\" transform=\"translate(95.410156 0)\"/>\n      </g>\n     </g>\n    </g>\n    <g id=\"ytick_4\">\n     <g id=\"line2d_21\">\n      <path d=\"M 30.103125 176.909588 \nL 705.573125 176.909588 \n\" clip-path=\"url(#p4091b2d6c2)\" style=\"fill: none; stroke: #b0b0b0; stroke-width: 0.8; stroke-linecap: square\"/>\n     </g>\n     <g id=\"line2d_22\">\n      <g>\n       <use xlink:href=\"#m82dfbeb18c\" x=\"30.103125\" y=\"176.909588\" style=\"stroke: #000000; stroke-width: 0.8\"/>\n      </g>\n     </g>\n     <g id=\"text_12\">\n      <!-- 1.4 -->\n      <g transform=\"translate(7.2 180.708807) scale(0.1 -0.1)\">\n       <use xlink:href=\"#DejaVuSans-31\"/>\n       <use xlink:href=\"#DejaVuSans-2e\" transform=\"translate(63.623047 0)\"/>\n       <use xlink:href=\"#DejaVuSans-34\" transform=\"translate(95.410156 0)\"/>\n      </g>\n     </g>\n    </g>\n    <g id=\"ytick_5\">\n     <g id=\"line2d_23\">\n      <path d=\"M 30.103125 136.576766 \nL 705.573125 136.576766 \n\" clip-path=\"url(#p4091b2d6c2)\" style=\"fill: none; stroke: #b0b0b0; stroke-width: 0.8; stroke-linecap: square\"/>\n     </g>\n     <g id=\"line2d_24\">\n      <g>\n       <use xlink:href=\"#m82dfbeb18c\" x=\"30.103125\" y=\"136.576766\" style=\"stroke: #000000; stroke-width: 0.8\"/>\n      </g>\n     </g>\n     <g id=\"text_13\">\n      <!-- 1.6 -->\n      <g transform=\"translate(7.2 140.375985) scale(0.1 -0.1)\">\n       <use xlink:href=\"#DejaVuSans-31\"/>\n       <use xlink:href=\"#DejaVuSans-2e\" transform=\"translate(63.623047 0)\"/>\n       <use xlink:href=\"#DejaVuSans-36\" transform=\"translate(95.410156 0)\"/>\n      </g>\n     </g>\n    </g>\n    <g id=\"ytick_6\">\n     <g id=\"line2d_25\">\n      <path d=\"M 30.103125 96.243945 \nL 705.573125 96.243945 \n\" clip-path=\"url(#p4091b2d6c2)\" style=\"fill: none; stroke: #b0b0b0; stroke-width: 0.8; stroke-linecap: square\"/>\n     </g>\n     <g id=\"line2d_26\">\n      <g>\n       <use xlink:href=\"#m82dfbeb18c\" x=\"30.103125\" y=\"96.243945\" style=\"stroke: #000000; stroke-width: 0.8\"/>\n      </g>\n     </g>\n     <g id=\"text_14\">\n      <!-- 1.8 -->\n      <g transform=\"translate(7.2 100.043164) scale(0.1 -0.1)\">\n       <use xlink:href=\"#DejaVuSans-31\"/>\n       <use xlink:href=\"#DejaVuSans-2e\" transform=\"translate(63.623047 0)\"/>\n       <use xlink:href=\"#DejaVuSans-38\" transform=\"translate(95.410156 0)\"/>\n      </g>\n     </g>\n    </g>\n    <g id=\"ytick_7\">\n     <g id=\"line2d_27\">\n      <path d=\"M 30.103125 55.911124 \nL 705.573125 55.911124 \n\" clip-path=\"url(#p4091b2d6c2)\" style=\"fill: none; stroke: #b0b0b0; stroke-width: 0.8; stroke-linecap: square\"/>\n     </g>\n     <g id=\"line2d_28\">\n      <g>\n       <use xlink:href=\"#m82dfbeb18c\" x=\"30.103125\" y=\"55.911124\" style=\"stroke: #000000; stroke-width: 0.8\"/>\n      </g>\n     </g>\n     <g id=\"text_15\">\n      <!-- 2.0 -->\n      <g transform=\"translate(7.2 59.710343) scale(0.1 -0.1)\">\n       <use xlink:href=\"#DejaVuSans-32\"/>\n       <use xlink:href=\"#DejaVuSans-2e\" transform=\"translate(63.623047 0)\"/>\n       <use xlink:href=\"#DejaVuSans-30\" transform=\"translate(95.410156 0)\"/>\n      </g>\n     </g>\n    </g>\n   </g>\n   <g id=\"line2d_29\">\n    <path d=\"M 60.806307 56.733297 \nL 104.667995 115.69938 \nL 148.529683 141.071387 \nL 192.391372 148.001419 \nL 236.25306 166.678051 \nL 280.114748 180.321028 \nL 323.976437 190.25696 \nL 367.838125 203.515543 \nL 411.699813 214.302915 \nL 455.561502 225.516701 \nL 499.42319 240.740569 \nL 543.284878 252.150102 \nL 587.146567 270.33058 \nL 631.008255 288.277629 \nL 674.869943 305.398125 \n\" clip-path=\"url(#p4091b2d6c2)\" style=\"fill: none; stroke: #000000; stroke-width: 1.5; stroke-linecap: square\"/>\n   </g>\n   <g id=\"line2d_30\">\n    <path d=\"M 60.806307 56.023934 \nL 104.667995 109.229353 \nL 148.529683 127.238275 \nL 192.391372 127.350716 \nL 236.25306 139.874819 \nL 280.114748 141.323755 \nL 323.976437 141.662356 \nL 367.838125 141.137173 \nL 411.699813 137.043349 \nL 455.561502 127.889061 \nL 499.42319 119.852435 \nL 543.284878 109.774594 \nL 587.146567 92.715132 \nL 631.008255 76.853916 \nL 674.869943 54.191743 \n\" clip-path=\"url(#p4091b2d6c2)\" style=\"fill: none; stroke-dasharray: 5.55,2.4; stroke-dashoffset: 0; stroke: #000000; stroke-width: 1.5\"/>\n   </g>\n   <g id=\"line2d_31\">\n    <path d=\"M 60.806307 50.279542 \nL 104.667995 53.041774 \nL 148.529683 62.667224 \nL 192.391372 99.010705 \nL 236.25306 113.890113 \nL 280.114748 133.799372 \nL 323.976437 146.303925 \nL 367.838125 157.554516 \nL 411.699813 167.375886 \nL 455.561502 177.193004 \nL 499.42319 185.582148 \nL 543.284878 197.097647 \nL 587.146567 209.973367 \nL 631.008255 214.057557 \nL 674.869943 235.768649 \n\" clip-path=\"url(#p4091b2d6c2)\" style=\"fill: none; stroke: #ff0000; stroke-width: 1.5; stroke-linecap: square\"/>\n   </g>\n   <g id=\"line2d_32\">\n    <path d=\"M 60.806307 50.576513 \nL 104.667995 52.30603 \nL 148.529683 59.720012 \nL 192.391372 93.182368 \nL 236.25306 103.820807 \nL 280.114748 118.040471 \nL 323.976437 122.704456 \nL 367.838125 127.64365 \nL 411.699813 124.000971 \nL 455.561502 125.99131 \nL 499.42319 119.924525 \nL 543.284878 115.318413 \nL 587.146567 109.352151 \nL 631.008255 93.666081 \nL 674.869943 79.566735 \n\" clip-path=\"url(#p4091b2d6c2)\" style=\"fill: none; stroke-dasharray: 5.55,2.4; stroke-dashoffset: 0; stroke: #ff0000; stroke-width: 1.5\"/>\n   </g>\n   <g id=\"line2d_33\">\n    <path d=\"M 60.806307 50.177523 \nL 104.667995 51.448976 \nL 148.529683 53.891341 \nL 192.391372 54.344525 \nL 236.25306 65.026663 \nL 280.114748 90.907632 \nL 323.976437 105.79694 \nL 367.838125 115.998446 \nL 411.699813 124.455754 \nL 455.561502 129.317365 \nL 499.42319 134.7889 \nL 543.284878 139.649473 \nL 587.146567 143.057089 \nL 631.008255 148.371844 \nL 674.869943 152.170586 \n\" clip-path=\"url(#p4091b2d6c2)\" style=\"fill: none; stroke: #0000ff; stroke-width: 1.5; stroke-linecap: square\"/>\n   </g>\n   <g id=\"line2d_34\">\n    <path d=\"M 60.806307 50.546702 \nL 104.667995 51.064138 \nL 148.529683 52.70748 \nL 192.391372 53.001675 \nL 236.25306 61.980714 \nL 280.114748 84.177906 \nL 323.976437 98.466893 \nL 367.838125 104.977416 \nL 411.699813 111.353188 \nL 455.561502 114.940733 \nL 499.42319 119.203166 \nL 543.284878 122.047007 \nL 587.146567 122.894391 \nL 631.008255 124.421111 \nL 674.869943 124.698298 \n\" clip-path=\"url(#p4091b2d6c2)\" style=\"fill: none; stroke-dasharray: 5.55,2.4; stroke-dashoffset: 0; stroke: #0000ff; stroke-width: 1.5\"/>\n   </g>\n   <g id=\"line2d_35\">\n    <path d=\"M 60.806307 56.733297 \nL 104.667995 115.69938 \nL 148.529683 141.071387 \nL 192.391372 148.001419 \nL 236.25306 166.678051 \nL 280.114748 180.321028 \nL 323.976437 190.25696 \nL 367.838125 203.515543 \nL 411.699813 214.302915 \nL 455.561502 225.516701 \nL 499.42319 240.740569 \nL 543.284878 252.150102 \nL 587.146567 270.33058 \nL 631.008255 288.277629 \nL 674.869943 305.398125 \n\" clip-path=\"url(#p4091b2d6c2)\" style=\"fill: none; stroke: #008000; stroke-width: 1.5; stroke-linecap: square\"/>\n   </g>\n   <g id=\"line2d_36\">\n    <path d=\"M 60.806307 56.023934 \nL 104.667995 109.229353 \nL 148.529683 127.238275 \nL 192.391372 127.350716 \nL 236.25306 139.874819 \nL 280.114748 141.323755 \nL 323.976437 141.662356 \nL 367.838125 141.137173 \nL 411.699813 137.043349 \nL 455.561502 127.889061 \nL 499.42319 119.852435 \nL 543.284878 109.774594 \nL 587.146567 92.715132 \nL 631.008255 76.853916 \nL 674.869943 54.191743 \n\" clip-path=\"url(#p4091b2d6c2)\" style=\"fill: none; stroke-dasharray: 5.55,2.4; stroke-dashoffset: 0; stroke: #008000; stroke-width: 1.5\"/>\n   </g>\n   <g id=\"line2d_37\">\n    <path d=\"M 60.806307 51.423657 \nL 104.667995 98.692669 \nL 148.529683 122.139966 \nL 192.391372 135.636753 \nL 236.25306 148.466978 \nL 280.114748 157.61756 \nL 323.976437 164.652381 \nL 367.838125 169.868968 \nL 411.699813 179.144055 \nL 455.561502 182.506418 \nL 499.42319 187.970655 \nL 543.284878 192.582832 \nL 587.146567 197.468706 \nL 631.008255 199.282292 \nL 674.869943 200.888124 \n\" clip-path=\"url(#p4091b2d6c2)\" style=\"fill: none; stroke: #ffa500; stroke-width: 1.5; stroke-linecap: square\"/>\n   </g>\n   <g id=\"line2d_38\">\n    <path d=\"M 60.806307 51.478605 \nL 104.667995 95.644136 \nL 148.529683 113.789516 \nL 192.391372 123.92747 \nL 236.25306 132.096657 \nL 280.114748 136.208345 \nL 323.976437 139.490117 \nL 367.838125 140.201314 \nL 411.699813 143.365613 \nL 455.561502 144.094045 \nL 499.42319 144.392383 \nL 543.284878 142.584658 \nL 587.146567 140.960897 \nL 631.008255 134.057309 \nL 674.869943 138.120355 \n\" clip-path=\"url(#p4091b2d6c2)\" style=\"fill: none; stroke-dasharray: 5.55,2.4; stroke-dashoffset: 0; stroke: #ffa500; stroke-width: 1.5\"/>\n   </g>\n   <g id=\"line2d_39\">\n    <path d=\"M 60.806307 51.174689 \nL 104.667995 51.50775 \nL 148.529683 55.784304 \nL 192.391372 38.278045 \nL 236.25306 93.951277 \n\" clip-path=\"url(#p4091b2d6c2)\" style=\"fill: none; stroke: #800080; stroke-width: 1.5; stroke-linecap: square\"/>\n   </g>\n   <g id=\"line2d_40\">\n    <path d=\"M 60.806307 51.478066 \nL 104.667995 51.379408 \nL 148.529683 54.531318 \nL 192.391372 35.798125 \nL 236.25306 87.897342 \n\" clip-path=\"url(#p4091b2d6c2)\" style=\"fill: none; stroke-dasharray: 5.55,2.4; stroke-dashoffset: 0; stroke: #800080; stroke-width: 1.5\"/>\n   </g>\n   <g id=\"line2d_41\">\n    <path d=\"M 60.806307 50.254473 \nL 104.667995 51.347118 \nL 148.529683 54.487997 \nL 192.391372 57.811066 \nL 236.25306 62.564014 \n\" clip-path=\"url(#p4091b2d6c2)\" style=\"fill: none; stroke: #00ffff; stroke-width: 1.5; stroke-linecap: square\"/>\n   </g>\n   <g id=\"line2d_42\">\n    <path d=\"M 60.806307 50.535873 \nL 104.667995 51.28641 \nL 148.529683 53.295196 \nL 192.391372 55.167572 \nL 236.25306 60.20733 \n\" clip-path=\"url(#p4091b2d6c2)\" style=\"fill: none; stroke-dasharray: 5.55,2.4; stroke-dashoffset: 0; stroke: #00ffff; stroke-width: 1.5\"/>\n   </g>\n   <g id=\"patch_3\">\n    <path d=\"M 30.103125 318.878125 \nL 30.103125 22.318125 \n\" style=\"fill: none; stroke: #000000; stroke-width: 0.8; stroke-linejoin: miter; stroke-linecap: square\"/>\n   </g>\n   <g id=\"patch_4\">\n    <path d=\"M 705.573125 318.878125 \nL 705.573125 22.318125 \n\" style=\"fill: none; stroke: #000000; stroke-width: 0.8; stroke-linejoin: miter; stroke-linecap: square\"/>\n   </g>\n   <g id=\"patch_5\">\n    <path d=\"M 30.103125 318.878125 \nL 705.573125 318.878125 \n\" style=\"fill: none; stroke: #000000; stroke-width: 0.8; stroke-linejoin: miter; stroke-linecap: square\"/>\n   </g>\n   <g id=\"patch_6\">\n    <path d=\"M 30.103125 22.318125 \nL 705.573125 22.318125 \n\" style=\"fill: none; stroke: #000000; stroke-width: 0.8; stroke-linejoin: miter; stroke-linecap: square\"/>\n   </g>\n   <g id=\"text_16\">\n    <!-- CrossEntropy Loss -->\n    <g transform=\"translate(313.017812 16.318125) scale(0.12 -0.12)\">\n     <defs>\n      <path id=\"DejaVuSans-43\" d=\"M 4122 4306 \nL 4122 3641 \nQ 3803 3938 3442 4084 \nQ 3081 4231 2675 4231 \nQ 1875 4231 1450 3742 \nQ 1025 3253 1025 2328 \nQ 1025 1406 1450 917 \nQ 1875 428 2675 428 \nQ 3081 428 3442 575 \nQ 3803 722 4122 1019 \nL 4122 359 \nQ 3791 134 3420 21 \nQ 3050 -91 2638 -91 \nQ 1578 -91 968 557 \nQ 359 1206 359 2328 \nQ 359 3453 968 4101 \nQ 1578 4750 2638 4750 \nQ 3056 4750 3426 4639 \nQ 3797 4528 4122 4306 \nz\n\" transform=\"scale(0.015625)\"/>\n      <path id=\"DejaVuSans-72\" d=\"M 2631 2963 \nQ 2534 3019 2420 3045 \nQ 2306 3072 2169 3072 \nQ 1681 3072 1420 2755 \nQ 1159 2438 1159 1844 \nL 1159 0 \nL 581 0 \nL 581 3500 \nL 1159 3500 \nL 1159 2956 \nQ 1341 3275 1631 3429 \nQ 1922 3584 2338 3584 \nQ 2397 3584 2469 3576 \nQ 2541 3569 2628 3553 \nL 2631 2963 \nz\n\" transform=\"scale(0.015625)\"/>\n      <path id=\"DejaVuSans-73\" d=\"M 2834 3397 \nL 2834 2853 \nQ 2591 2978 2328 3040 \nQ 2066 3103 1784 3103 \nQ 1356 3103 1142 2972 \nQ 928 2841 928 2578 \nQ 928 2378 1081 2264 \nQ 1234 2150 1697 2047 \nL 1894 2003 \nQ 2506 1872 2764 1633 \nQ 3022 1394 3022 966 \nQ 3022 478 2636 193 \nQ 2250 -91 1575 -91 \nQ 1294 -91 989 -36 \nQ 684 19 347 128 \nL 347 722 \nQ 666 556 975 473 \nQ 1284 391 1588 391 \nQ 1994 391 2212 530 \nQ 2431 669 2431 922 \nQ 2431 1156 2273 1281 \nQ 2116 1406 1581 1522 \nL 1381 1569 \nQ 847 1681 609 1914 \nQ 372 2147 372 2553 \nQ 372 3047 722 3315 \nQ 1072 3584 1716 3584 \nQ 2034 3584 2315 3537 \nQ 2597 3491 2834 3397 \nz\n\" transform=\"scale(0.015625)\"/>\n      <path id=\"DejaVuSans-6e\" d=\"M 3513 2113 \nL 3513 0 \nL 2938 0 \nL 2938 2094 \nQ 2938 2591 2744 2837 \nQ 2550 3084 2163 3084 \nQ 1697 3084 1428 2787 \nQ 1159 2491 1159 1978 \nL 1159 0 \nL 581 0 \nL 581 3500 \nL 1159 3500 \nL 1159 2956 \nQ 1366 3272 1645 3428 \nQ 1925 3584 2291 3584 \nQ 2894 3584 3203 3211 \nQ 3513 2838 3513 2113 \nz\n\" transform=\"scale(0.015625)\"/>\n      <path id=\"DejaVuSans-74\" d=\"M 1172 4494 \nL 1172 3500 \nL 2356 3500 \nL 2356 3053 \nL 1172 3053 \nL 1172 1153 \nQ 1172 725 1289 603 \nQ 1406 481 1766 481 \nL 2356 481 \nL 2356 0 \nL 1766 0 \nQ 1100 0 847 248 \nQ 594 497 594 1153 \nL 594 3053 \nL 172 3053 \nL 172 3500 \nL 594 3500 \nL 594 4494 \nL 1172 4494 \nz\n\" transform=\"scale(0.015625)\"/>\n      <path id=\"DejaVuSans-79\" d=\"M 2059 -325 \nQ 1816 -950 1584 -1140 \nQ 1353 -1331 966 -1331 \nL 506 -1331 \nL 506 -850 \nL 844 -850 \nQ 1081 -850 1212 -737 \nQ 1344 -625 1503 -206 \nL 1606 56 \nL 191 3500 \nL 800 3500 \nL 1894 763 \nL 2988 3500 \nL 3597 3500 \nL 2059 -325 \nz\n\" transform=\"scale(0.015625)\"/>\n      <path id=\"DejaVuSans-20\" transform=\"scale(0.015625)\"/>\n      <path id=\"DejaVuSans-4c\" d=\"M 628 4666 \nL 1259 4666 \nL 1259 531 \nL 3531 531 \nL 3531 0 \nL 628 0 \nL 628 4666 \nz\n\" transform=\"scale(0.015625)\"/>\n     </defs>\n     <use xlink:href=\"#DejaVuSans-43\"/>\n     <use xlink:href=\"#DejaVuSans-72\" transform=\"translate(69.824219 0)\"/>\n     <use xlink:href=\"#DejaVuSans-6f\" transform=\"translate(108.6875 0)\"/>\n     <use xlink:href=\"#DejaVuSans-73\" transform=\"translate(169.869141 0)\"/>\n     <use xlink:href=\"#DejaVuSans-73\" transform=\"translate(221.96875 0)\"/>\n     <use xlink:href=\"#DejaVuSans-45\" transform=\"translate(274.068359 0)\"/>\n     <use xlink:href=\"#DejaVuSans-6e\" transform=\"translate(337.251953 0)\"/>\n     <use xlink:href=\"#DejaVuSans-74\" transform=\"translate(400.630859 0)\"/>\n     <use xlink:href=\"#DejaVuSans-72\" transform=\"translate(439.839844 0)\"/>\n     <use xlink:href=\"#DejaVuSans-6f\" transform=\"translate(478.703125 0)\"/>\n     <use xlink:href=\"#DejaVuSans-70\" transform=\"translate(539.884766 0)\"/>\n     <use xlink:href=\"#DejaVuSans-79\" transform=\"translate(603.361328 0)\"/>\n     <use xlink:href=\"#DejaVuSans-20\" transform=\"translate(662.541016 0)\"/>\n     <use xlink:href=\"#DejaVuSans-4c\" transform=\"translate(694.328125 0)\"/>\n     <use xlink:href=\"#DejaVuSans-6f\" transform=\"translate(748.291016 0)\"/>\n     <use xlink:href=\"#DejaVuSans-73\" transform=\"translate(809.472656 0)\"/>\n     <use xlink:href=\"#DejaVuSans-73\" transform=\"translate(861.572266 0)\"/>\n    </g>\n   </g>\n   <g id=\"legend_1\">\n    <g id=\"patch_7\">\n     <path d=\"M 37.103125 313.878125 \nL 231.698438 313.878125 \nQ 233.698438 313.878125 233.698438 311.878125 \nL 233.698438 103.490625 \nQ 233.698438 101.490625 231.698438 101.490625 \nL 37.103125 101.490625 \nQ 35.103125 101.490625 35.103125 103.490625 \nL 35.103125 311.878125 \nQ 35.103125 313.878125 37.103125 313.878125 \nz\n\" style=\"fill: #ffffff; opacity: 0.8; stroke: #cccccc; stroke-linejoin: miter\"/>\n    </g>\n    <g id=\"line2d_43\">\n     <path d=\"M 39.103125 109.589062 \nL 49.103125 109.589062 \nL 59.103125 109.589062 \n\" style=\"fill: none; stroke: #000000; stroke-width: 1.5; stroke-linecap: square\"/>\n    </g>\n    <g id=\"text_17\">\n     <!-- first_model (train) -->\n     <g transform=\"translate(67.103125 113.089062) scale(0.1 -0.1)\">\n      <defs>\n       <path id=\"DejaVuSans-66\" d=\"M 2375 4863 \nL 2375 4384 \nL 1825 4384 \nQ 1516 4384 1395 4259 \nQ 1275 4134 1275 3809 \nL 1275 3500 \nL 2222 3500 \nL 2222 3053 \nL 1275 3053 \nL 1275 0 \nL 697 0 \nL 697 3053 \nL 147 3053 \nL 147 3500 \nL 697 3500 \nL 697 3744 \nQ 697 4328 969 4595 \nQ 1241 4863 1831 4863 \nL 2375 4863 \nz\n\" transform=\"scale(0.015625)\"/>\n       <path id=\"DejaVuSans-69\" d=\"M 603 3500 \nL 1178 3500 \nL 1178 0 \nL 603 0 \nL 603 3500 \nz\nM 603 4863 \nL 1178 4863 \nL 1178 4134 \nL 603 4134 \nL 603 4863 \nz\n\" transform=\"scale(0.015625)\"/>\n       <path id=\"DejaVuSans-5f\" d=\"M 3263 -1063 \nL 3263 -1509 \nL -63 -1509 \nL -63 -1063 \nL 3263 -1063 \nz\n\" transform=\"scale(0.015625)\"/>\n       <path id=\"DejaVuSans-6d\" d=\"M 3328 2828 \nQ 3544 3216 3844 3400 \nQ 4144 3584 4550 3584 \nQ 5097 3584 5394 3201 \nQ 5691 2819 5691 2113 \nL 5691 0 \nL 5113 0 \nL 5113 2094 \nQ 5113 2597 4934 2840 \nQ 4756 3084 4391 3084 \nQ 3944 3084 3684 2787 \nQ 3425 2491 3425 1978 \nL 3425 0 \nL 2847 0 \nL 2847 2094 \nQ 2847 2600 2669 2842 \nQ 2491 3084 2119 3084 \nQ 1678 3084 1418 2786 \nQ 1159 2488 1159 1978 \nL 1159 0 \nL 581 0 \nL 581 3500 \nL 1159 3500 \nL 1159 2956 \nQ 1356 3278 1631 3431 \nQ 1906 3584 2284 3584 \nQ 2666 3584 2933 3390 \nQ 3200 3197 3328 2828 \nz\n\" transform=\"scale(0.015625)\"/>\n       <path id=\"DejaVuSans-64\" d=\"M 2906 2969 \nL 2906 4863 \nL 3481 4863 \nL 3481 0 \nL 2906 0 \nL 2906 525 \nQ 2725 213 2448 61 \nQ 2172 -91 1784 -91 \nQ 1150 -91 751 415 \nQ 353 922 353 1747 \nQ 353 2572 751 3078 \nQ 1150 3584 1784 3584 \nQ 2172 3584 2448 3432 \nQ 2725 3281 2906 2969 \nz\nM 947 1747 \nQ 947 1113 1208 752 \nQ 1469 391 1925 391 \nQ 2381 391 2643 752 \nQ 2906 1113 2906 1747 \nQ 2906 2381 2643 2742 \nQ 2381 3103 1925 3103 \nQ 1469 3103 1208 2742 \nQ 947 2381 947 1747 \nz\n\" transform=\"scale(0.015625)\"/>\n       <path id=\"DejaVuSans-65\" d=\"M 3597 1894 \nL 3597 1613 \nL 953 1613 \nQ 991 1019 1311 708 \nQ 1631 397 2203 397 \nQ 2534 397 2845 478 \nQ 3156 559 3463 722 \nL 3463 178 \nQ 3153 47 2828 -22 \nQ 2503 -91 2169 -91 \nQ 1331 -91 842 396 \nQ 353 884 353 1716 \nQ 353 2575 817 3079 \nQ 1281 3584 2069 3584 \nQ 2775 3584 3186 3129 \nQ 3597 2675 3597 1894 \nz\nM 3022 2063 \nQ 3016 2534 2758 2815 \nQ 2500 3097 2075 3097 \nQ 1594 3097 1305 2825 \nQ 1016 2553 972 2059 \nL 3022 2063 \nz\n\" transform=\"scale(0.015625)\"/>\n       <path id=\"DejaVuSans-6c\" d=\"M 603 4863 \nL 1178 4863 \nL 1178 0 \nL 603 0 \nL 603 4863 \nz\n\" transform=\"scale(0.015625)\"/>\n       <path id=\"DejaVuSans-28\" d=\"M 1984 4856 \nQ 1566 4138 1362 3434 \nQ 1159 2731 1159 2009 \nQ 1159 1288 1364 580 \nQ 1569 -128 1984 -844 \nL 1484 -844 \nQ 1016 -109 783 600 \nQ 550 1309 550 2009 \nQ 550 2706 781 3412 \nQ 1013 4119 1484 4856 \nL 1984 4856 \nz\n\" transform=\"scale(0.015625)\"/>\n       <path id=\"DejaVuSans-61\" d=\"M 2194 1759 \nQ 1497 1759 1228 1600 \nQ 959 1441 959 1056 \nQ 959 750 1161 570 \nQ 1363 391 1709 391 \nQ 2188 391 2477 730 \nQ 2766 1069 2766 1631 \nL 2766 1759 \nL 2194 1759 \nz\nM 3341 1997 \nL 3341 0 \nL 2766 0 \nL 2766 531 \nQ 2569 213 2275 61 \nQ 1981 -91 1556 -91 \nQ 1019 -91 701 211 \nQ 384 513 384 1019 \nQ 384 1609 779 1909 \nQ 1175 2209 1959 2209 \nL 2766 2209 \nL 2766 2266 \nQ 2766 2663 2505 2880 \nQ 2244 3097 1772 3097 \nQ 1472 3097 1187 3025 \nQ 903 2953 641 2809 \nL 641 3341 \nQ 956 3463 1253 3523 \nQ 1550 3584 1831 3584 \nQ 2591 3584 2966 3190 \nQ 3341 2797 3341 1997 \nz\n\" transform=\"scale(0.015625)\"/>\n       <path id=\"DejaVuSans-29\" d=\"M 513 4856 \nL 1013 4856 \nQ 1481 4119 1714 3412 \nQ 1947 2706 1947 2009 \nQ 1947 1309 1714 600 \nQ 1481 -109 1013 -844 \nL 513 -844 \nQ 928 -128 1133 580 \nQ 1338 1288 1338 2009 \nQ 1338 2731 1133 3434 \nQ 928 4138 513 4856 \nz\n\" transform=\"scale(0.015625)\"/>\n      </defs>\n      <use xlink:href=\"#DejaVuSans-66\"/>\n      <use xlink:href=\"#DejaVuSans-69\" transform=\"translate(35.205078 0)\"/>\n      <use xlink:href=\"#DejaVuSans-72\" transform=\"translate(62.988281 0)\"/>\n      <use xlink:href=\"#DejaVuSans-73\" transform=\"translate(104.101562 0)\"/>\n      <use xlink:href=\"#DejaVuSans-74\" transform=\"translate(156.201172 0)\"/>\n      <use xlink:href=\"#DejaVuSans-5f\" transform=\"translate(195.410156 0)\"/>\n      <use xlink:href=\"#DejaVuSans-6d\" transform=\"translate(245.410156 0)\"/>\n      <use xlink:href=\"#DejaVuSans-6f\" transform=\"translate(342.822266 0)\"/>\n      <use xlink:href=\"#DejaVuSans-64\" transform=\"translate(404.003906 0)\"/>\n      <use xlink:href=\"#DejaVuSans-65\" transform=\"translate(467.480469 0)\"/>\n      <use xlink:href=\"#DejaVuSans-6c\" transform=\"translate(529.003906 0)\"/>\n      <use xlink:href=\"#DejaVuSans-20\" transform=\"translate(556.787109 0)\"/>\n      <use xlink:href=\"#DejaVuSans-28\" transform=\"translate(588.574219 0)\"/>\n      <use xlink:href=\"#DejaVuSans-74\" transform=\"translate(627.587891 0)\"/>\n      <use xlink:href=\"#DejaVuSans-72\" transform=\"translate(666.796875 0)\"/>\n      <use xlink:href=\"#DejaVuSans-61\" transform=\"translate(707.910156 0)\"/>\n      <use xlink:href=\"#DejaVuSans-69\" transform=\"translate(769.189453 0)\"/>\n      <use xlink:href=\"#DejaVuSans-6e\" transform=\"translate(796.972656 0)\"/>\n      <use xlink:href=\"#DejaVuSans-29\" transform=\"translate(860.351562 0)\"/>\n     </g>\n    </g>\n    <g id=\"line2d_44\">\n     <path d=\"M 39.103125 124.545312 \nL 49.103125 124.545312 \nL 59.103125 124.545312 \n\" style=\"fill: none; stroke-dasharray: 5.55,2.4; stroke-dashoffset: 0; stroke: #000000; stroke-width: 1.5\"/>\n    </g>\n    <g id=\"text_18\">\n     <!-- first_model (test) -->\n     <g transform=\"translate(67.103125 128.045312) scale(0.1 -0.1)\">\n      <use xlink:href=\"#DejaVuSans-66\"/>\n      <use xlink:href=\"#DejaVuSans-69\" transform=\"translate(35.205078 0)\"/>\n      <use xlink:href=\"#DejaVuSans-72\" transform=\"translate(62.988281 0)\"/>\n      <use xlink:href=\"#DejaVuSans-73\" transform=\"translate(104.101562 0)\"/>\n      <use xlink:href=\"#DejaVuSans-74\" transform=\"translate(156.201172 0)\"/>\n      <use xlink:href=\"#DejaVuSans-5f\" transform=\"translate(195.410156 0)\"/>\n      <use xlink:href=\"#DejaVuSans-6d\" transform=\"translate(245.410156 0)\"/>\n      <use xlink:href=\"#DejaVuSans-6f\" transform=\"translate(342.822266 0)\"/>\n      <use xlink:href=\"#DejaVuSans-64\" transform=\"translate(404.003906 0)\"/>\n      <use xlink:href=\"#DejaVuSans-65\" transform=\"translate(467.480469 0)\"/>\n      <use xlink:href=\"#DejaVuSans-6c\" transform=\"translate(529.003906 0)\"/>\n      <use xlink:href=\"#DejaVuSans-20\" transform=\"translate(556.787109 0)\"/>\n      <use xlink:href=\"#DejaVuSans-28\" transform=\"translate(588.574219 0)\"/>\n      <use xlink:href=\"#DejaVuSans-74\" transform=\"translate(627.587891 0)\"/>\n      <use xlink:href=\"#DejaVuSans-65\" transform=\"translate(666.796875 0)\"/>\n      <use xlink:href=\"#DejaVuSans-73\" transform=\"translate(728.320312 0)\"/>\n      <use xlink:href=\"#DejaVuSans-74\" transform=\"translate(780.419922 0)\"/>\n      <use xlink:href=\"#DejaVuSans-29\" transform=\"translate(819.628906 0)\"/>\n     </g>\n    </g>\n    <g id=\"line2d_45\">\n     <path d=\"M 39.103125 139.501562 \nL 49.103125 139.501562 \nL 59.103125 139.501562 \n\" style=\"fill: none; stroke: #ff0000; stroke-width: 1.5; stroke-linecap: square\"/>\n    </g>\n    <g id=\"text_19\">\n     <!-- second_model_nodropout (train) -->\n     <g transform=\"translate(67.103125 143.001562) scale(0.1 -0.1)\">\n      <defs>\n       <path id=\"DejaVuSans-75\" d=\"M 544 1381 \nL 544 3500 \nL 1119 3500 \nL 1119 1403 \nQ 1119 906 1312 657 \nQ 1506 409 1894 409 \nQ 2359 409 2629 706 \nQ 2900 1003 2900 1516 \nL 2900 3500 \nL 3475 3500 \nL 3475 0 \nL 2900 0 \nL 2900 538 \nQ 2691 219 2414 64 \nQ 2138 -91 1772 -91 \nQ 1169 -91 856 284 \nQ 544 659 544 1381 \nz\nM 1991 3584 \nL 1991 3584 \nz\n\" transform=\"scale(0.015625)\"/>\n      </defs>\n      <use xlink:href=\"#DejaVuSans-73\"/>\n      <use xlink:href=\"#DejaVuSans-65\" transform=\"translate(52.099609 0)\"/>\n      <use xlink:href=\"#DejaVuSans-63\" transform=\"translate(113.623047 0)\"/>\n      <use xlink:href=\"#DejaVuSans-6f\" transform=\"translate(168.603516 0)\"/>\n      <use xlink:href=\"#DejaVuSans-6e\" transform=\"translate(229.785156 0)\"/>\n      <use xlink:href=\"#DejaVuSans-64\" transform=\"translate(293.164062 0)\"/>\n      <use xlink:href=\"#DejaVuSans-5f\" transform=\"translate(356.640625 0)\"/>\n      <use xlink:href=\"#DejaVuSans-6d\" transform=\"translate(406.640625 0)\"/>\n      <use xlink:href=\"#DejaVuSans-6f\" transform=\"translate(504.052734 0)\"/>\n      <use xlink:href=\"#DejaVuSans-64\" transform=\"translate(565.234375 0)\"/>\n      <use xlink:href=\"#DejaVuSans-65\" transform=\"translate(628.710938 0)\"/>\n      <use xlink:href=\"#DejaVuSans-6c\" transform=\"translate(690.234375 0)\"/>\n      <use xlink:href=\"#DejaVuSans-5f\" transform=\"translate(718.017578 0)\"/>\n      <use xlink:href=\"#DejaVuSans-6e\" transform=\"translate(768.017578 0)\"/>\n      <use xlink:href=\"#DejaVuSans-6f\" transform=\"translate(831.396484 0)\"/>\n      <use xlink:href=\"#DejaVuSans-64\" transform=\"translate(892.578125 0)\"/>\n      <use xlink:href=\"#DejaVuSans-72\" transform=\"translate(956.054688 0)\"/>\n      <use xlink:href=\"#DejaVuSans-6f\" transform=\"translate(994.917969 0)\"/>\n      <use xlink:href=\"#DejaVuSans-70\" transform=\"translate(1056.099609 0)\"/>\n      <use xlink:href=\"#DejaVuSans-6f\" transform=\"translate(1119.576172 0)\"/>\n      <use xlink:href=\"#DejaVuSans-75\" transform=\"translate(1180.757812 0)\"/>\n      <use xlink:href=\"#DejaVuSans-74\" transform=\"translate(1244.136719 0)\"/>\n      <use xlink:href=\"#DejaVuSans-20\" transform=\"translate(1283.345703 0)\"/>\n      <use xlink:href=\"#DejaVuSans-28\" transform=\"translate(1315.132812 0)\"/>\n      <use xlink:href=\"#DejaVuSans-74\" transform=\"translate(1354.146484 0)\"/>\n      <use xlink:href=\"#DejaVuSans-72\" transform=\"translate(1393.355469 0)\"/>\n      <use xlink:href=\"#DejaVuSans-61\" transform=\"translate(1434.46875 0)\"/>\n      <use xlink:href=\"#DejaVuSans-69\" transform=\"translate(1495.748047 0)\"/>\n      <use xlink:href=\"#DejaVuSans-6e\" transform=\"translate(1523.53125 0)\"/>\n      <use xlink:href=\"#DejaVuSans-29\" transform=\"translate(1586.910156 0)\"/>\n     </g>\n    </g>\n    <g id=\"line2d_46\">\n     <path d=\"M 39.103125 154.457812 \nL 49.103125 154.457812 \nL 59.103125 154.457812 \n\" style=\"fill: none; stroke-dasharray: 5.55,2.4; stroke-dashoffset: 0; stroke: #ff0000; stroke-width: 1.5\"/>\n    </g>\n    <g id=\"text_20\">\n     <!-- second_model_nodropout (test) -->\n     <g transform=\"translate(67.103125 157.957812) scale(0.1 -0.1)\">\n      <use xlink:href=\"#DejaVuSans-73\"/>\n      <use xlink:href=\"#DejaVuSans-65\" transform=\"translate(52.099609 0)\"/>\n      <use xlink:href=\"#DejaVuSans-63\" transform=\"translate(113.623047 0)\"/>\n      <use xlink:href=\"#DejaVuSans-6f\" transform=\"translate(168.603516 0)\"/>\n      <use xlink:href=\"#DejaVuSans-6e\" transform=\"translate(229.785156 0)\"/>\n      <use xlink:href=\"#DejaVuSans-64\" transform=\"translate(293.164062 0)\"/>\n      <use xlink:href=\"#DejaVuSans-5f\" transform=\"translate(356.640625 0)\"/>\n      <use xlink:href=\"#DejaVuSans-6d\" transform=\"translate(406.640625 0)\"/>\n      <use xlink:href=\"#DejaVuSans-6f\" transform=\"translate(504.052734 0)\"/>\n      <use xlink:href=\"#DejaVuSans-64\" transform=\"translate(565.234375 0)\"/>\n      <use xlink:href=\"#DejaVuSans-65\" transform=\"translate(628.710938 0)\"/>\n      <use xlink:href=\"#DejaVuSans-6c\" transform=\"translate(690.234375 0)\"/>\n      <use xlink:href=\"#DejaVuSans-5f\" transform=\"translate(718.017578 0)\"/>\n      <use xlink:href=\"#DejaVuSans-6e\" transform=\"translate(768.017578 0)\"/>\n      <use xlink:href=\"#DejaVuSans-6f\" transform=\"translate(831.396484 0)\"/>\n      <use xlink:href=\"#DejaVuSans-64\" transform=\"translate(892.578125 0)\"/>\n      <use xlink:href=\"#DejaVuSans-72\" transform=\"translate(956.054688 0)\"/>\n      <use xlink:href=\"#DejaVuSans-6f\" transform=\"translate(994.917969 0)\"/>\n      <use xlink:href=\"#DejaVuSans-70\" transform=\"translate(1056.099609 0)\"/>\n      <use xlink:href=\"#DejaVuSans-6f\" transform=\"translate(1119.576172 0)\"/>\n      <use xlink:href=\"#DejaVuSans-75\" transform=\"translate(1180.757812 0)\"/>\n      <use xlink:href=\"#DejaVuSans-74\" transform=\"translate(1244.136719 0)\"/>\n      <use xlink:href=\"#DejaVuSans-20\" transform=\"translate(1283.345703 0)\"/>\n      <use xlink:href=\"#DejaVuSans-28\" transform=\"translate(1315.132812 0)\"/>\n      <use xlink:href=\"#DejaVuSans-74\" transform=\"translate(1354.146484 0)\"/>\n      <use xlink:href=\"#DejaVuSans-65\" transform=\"translate(1393.355469 0)\"/>\n      <use xlink:href=\"#DejaVuSans-73\" transform=\"translate(1454.878906 0)\"/>\n      <use xlink:href=\"#DejaVuSans-74\" transform=\"translate(1506.978516 0)\"/>\n      <use xlink:href=\"#DejaVuSans-29\" transform=\"translate(1546.1875 0)\"/>\n     </g>\n    </g>\n    <g id=\"line2d_47\">\n     <path d=\"M 39.103125 169.414062 \nL 49.103125 169.414062 \nL 59.103125 169.414062 \n\" style=\"fill: none; stroke: #0000ff; stroke-width: 1.5; stroke-linecap: square\"/>\n    </g>\n    <g id=\"text_21\">\n     <!-- second_model_dropout (train) -->\n     <g transform=\"translate(67.103125 172.914062) scale(0.1 -0.1)\">\n      <use xlink:href=\"#DejaVuSans-73\"/>\n      <use xlink:href=\"#DejaVuSans-65\" transform=\"translate(52.099609 0)\"/>\n      <use xlink:href=\"#DejaVuSans-63\" transform=\"translate(113.623047 0)\"/>\n      <use xlink:href=\"#DejaVuSans-6f\" transform=\"translate(168.603516 0)\"/>\n      <use xlink:href=\"#DejaVuSans-6e\" transform=\"translate(229.785156 0)\"/>\n      <use xlink:href=\"#DejaVuSans-64\" transform=\"translate(293.164062 0)\"/>\n      <use xlink:href=\"#DejaVuSans-5f\" transform=\"translate(356.640625 0)\"/>\n      <use xlink:href=\"#DejaVuSans-6d\" transform=\"translate(406.640625 0)\"/>\n      <use xlink:href=\"#DejaVuSans-6f\" transform=\"translate(504.052734 0)\"/>\n      <use xlink:href=\"#DejaVuSans-64\" transform=\"translate(565.234375 0)\"/>\n      <use xlink:href=\"#DejaVuSans-65\" transform=\"translate(628.710938 0)\"/>\n      <use xlink:href=\"#DejaVuSans-6c\" transform=\"translate(690.234375 0)\"/>\n      <use xlink:href=\"#DejaVuSans-5f\" transform=\"translate(718.017578 0)\"/>\n      <use xlink:href=\"#DejaVuSans-64\" transform=\"translate(768.017578 0)\"/>\n      <use xlink:href=\"#DejaVuSans-72\" transform=\"translate(831.494141 0)\"/>\n      <use xlink:href=\"#DejaVuSans-6f\" transform=\"translate(870.357422 0)\"/>\n      <use xlink:href=\"#DejaVuSans-70\" transform=\"translate(931.539062 0)\"/>\n      <use xlink:href=\"#DejaVuSans-6f\" transform=\"translate(995.015625 0)\"/>\n      <use xlink:href=\"#DejaVuSans-75\" transform=\"translate(1056.197266 0)\"/>\n      <use xlink:href=\"#DejaVuSans-74\" transform=\"translate(1119.576172 0)\"/>\n      <use xlink:href=\"#DejaVuSans-20\" transform=\"translate(1158.785156 0)\"/>\n      <use xlink:href=\"#DejaVuSans-28\" transform=\"translate(1190.572266 0)\"/>\n      <use xlink:href=\"#DejaVuSans-74\" transform=\"translate(1229.585938 0)\"/>\n      <use xlink:href=\"#DejaVuSans-72\" transform=\"translate(1268.794922 0)\"/>\n      <use xlink:href=\"#DejaVuSans-61\" transform=\"translate(1309.908203 0)\"/>\n      <use xlink:href=\"#DejaVuSans-69\" transform=\"translate(1371.1875 0)\"/>\n      <use xlink:href=\"#DejaVuSans-6e\" transform=\"translate(1398.970703 0)\"/>\n      <use xlink:href=\"#DejaVuSans-29\" transform=\"translate(1462.349609 0)\"/>\n     </g>\n    </g>\n    <g id=\"line2d_48\">\n     <path d=\"M 39.103125 184.370312 \nL 49.103125 184.370312 \nL 59.103125 184.370312 \n\" style=\"fill: none; stroke-dasharray: 5.55,2.4; stroke-dashoffset: 0; stroke: #0000ff; stroke-width: 1.5\"/>\n    </g>\n    <g id=\"text_22\">\n     <!-- second_model_dropout (test) -->\n     <g transform=\"translate(67.103125 187.870312) scale(0.1 -0.1)\">\n      <use xlink:href=\"#DejaVuSans-73\"/>\n      <use xlink:href=\"#DejaVuSans-65\" transform=\"translate(52.099609 0)\"/>\n      <use xlink:href=\"#DejaVuSans-63\" transform=\"translate(113.623047 0)\"/>\n      <use xlink:href=\"#DejaVuSans-6f\" transform=\"translate(168.603516 0)\"/>\n      <use xlink:href=\"#DejaVuSans-6e\" transform=\"translate(229.785156 0)\"/>\n      <use xlink:href=\"#DejaVuSans-64\" transform=\"translate(293.164062 0)\"/>\n      <use xlink:href=\"#DejaVuSans-5f\" transform=\"translate(356.640625 0)\"/>\n      <use xlink:href=\"#DejaVuSans-6d\" transform=\"translate(406.640625 0)\"/>\n      <use xlink:href=\"#DejaVuSans-6f\" transform=\"translate(504.052734 0)\"/>\n      <use xlink:href=\"#DejaVuSans-64\" transform=\"translate(565.234375 0)\"/>\n      <use xlink:href=\"#DejaVuSans-65\" transform=\"translate(628.710938 0)\"/>\n      <use xlink:href=\"#DejaVuSans-6c\" transform=\"translate(690.234375 0)\"/>\n      <use xlink:href=\"#DejaVuSans-5f\" transform=\"translate(718.017578 0)\"/>\n      <use xlink:href=\"#DejaVuSans-64\" transform=\"translate(768.017578 0)\"/>\n      <use xlink:href=\"#DejaVuSans-72\" transform=\"translate(831.494141 0)\"/>\n      <use xlink:href=\"#DejaVuSans-6f\" transform=\"translate(870.357422 0)\"/>\n      <use xlink:href=\"#DejaVuSans-70\" transform=\"translate(931.539062 0)\"/>\n      <use xlink:href=\"#DejaVuSans-6f\" transform=\"translate(995.015625 0)\"/>\n      <use xlink:href=\"#DejaVuSans-75\" transform=\"translate(1056.197266 0)\"/>\n      <use xlink:href=\"#DejaVuSans-74\" transform=\"translate(1119.576172 0)\"/>\n      <use xlink:href=\"#DejaVuSans-20\" transform=\"translate(1158.785156 0)\"/>\n      <use xlink:href=\"#DejaVuSans-28\" transform=\"translate(1190.572266 0)\"/>\n      <use xlink:href=\"#DejaVuSans-74\" transform=\"translate(1229.585938 0)\"/>\n      <use xlink:href=\"#DejaVuSans-65\" transform=\"translate(1268.794922 0)\"/>\n      <use xlink:href=\"#DejaVuSans-73\" transform=\"translate(1330.318359 0)\"/>\n      <use xlink:href=\"#DejaVuSans-74\" transform=\"translate(1382.417969 0)\"/>\n      <use xlink:href=\"#DejaVuSans-29\" transform=\"translate(1421.626953 0)\"/>\n     </g>\n    </g>\n    <g id=\"line2d_49\">\n     <path d=\"M 39.103125 199.326562 \nL 49.103125 199.326562 \nL 59.103125 199.326562 \n\" style=\"fill: none; stroke: #008000; stroke-width: 1.5; stroke-linecap: square\"/>\n    </g>\n    <g id=\"text_23\">\n     <!-- third_model_nodropout (train) -->\n     <g transform=\"translate(67.103125 202.826562) scale(0.1 -0.1)\">\n      <use xlink:href=\"#DejaVuSans-74\"/>\n      <use xlink:href=\"#DejaVuSans-68\" transform=\"translate(39.208984 0)\"/>\n      <use xlink:href=\"#DejaVuSans-69\" transform=\"translate(102.587891 0)\"/>\n      <use xlink:href=\"#DejaVuSans-72\" transform=\"translate(130.371094 0)\"/>\n      <use xlink:href=\"#DejaVuSans-64\" transform=\"translate(169.734375 0)\"/>\n      <use xlink:href=\"#DejaVuSans-5f\" transform=\"translate(233.210938 0)\"/>\n      <use xlink:href=\"#DejaVuSans-6d\" transform=\"translate(283.210938 0)\"/>\n      <use xlink:href=\"#DejaVuSans-6f\" transform=\"translate(380.623047 0)\"/>\n      <use xlink:href=\"#DejaVuSans-64\" transform=\"translate(441.804688 0)\"/>\n      <use xlink:href=\"#DejaVuSans-65\" transform=\"translate(505.28125 0)\"/>\n      <use xlink:href=\"#DejaVuSans-6c\" transform=\"translate(566.804688 0)\"/>\n      <use xlink:href=\"#DejaVuSans-5f\" transform=\"translate(594.587891 0)\"/>\n      <use xlink:href=\"#DejaVuSans-6e\" transform=\"translate(644.587891 0)\"/>\n      <use xlink:href=\"#DejaVuSans-6f\" transform=\"translate(707.966797 0)\"/>\n      <use xlink:href=\"#DejaVuSans-64\" transform=\"translate(769.148438 0)\"/>\n      <use xlink:href=\"#DejaVuSans-72\" transform=\"translate(832.625 0)\"/>\n      <use xlink:href=\"#DejaVuSans-6f\" transform=\"translate(871.488281 0)\"/>\n      <use xlink:href=\"#DejaVuSans-70\" transform=\"translate(932.669922 0)\"/>\n      <use xlink:href=\"#DejaVuSans-6f\" transform=\"translate(996.146484 0)\"/>\n      <use xlink:href=\"#DejaVuSans-75\" transform=\"translate(1057.328125 0)\"/>\n      <use xlink:href=\"#DejaVuSans-74\" transform=\"translate(1120.707031 0)\"/>\n      <use xlink:href=\"#DejaVuSans-20\" transform=\"translate(1159.916016 0)\"/>\n      <use xlink:href=\"#DejaVuSans-28\" transform=\"translate(1191.703125 0)\"/>\n      <use xlink:href=\"#DejaVuSans-74\" transform=\"translate(1230.716797 0)\"/>\n      <use xlink:href=\"#DejaVuSans-72\" transform=\"translate(1269.925781 0)\"/>\n      <use xlink:href=\"#DejaVuSans-61\" transform=\"translate(1311.039062 0)\"/>\n      <use xlink:href=\"#DejaVuSans-69\" transform=\"translate(1372.318359 0)\"/>\n      <use xlink:href=\"#DejaVuSans-6e\" transform=\"translate(1400.101562 0)\"/>\n      <use xlink:href=\"#DejaVuSans-29\" transform=\"translate(1463.480469 0)\"/>\n     </g>\n    </g>\n    <g id=\"line2d_50\">\n     <path d=\"M 39.103125 214.282812 \nL 49.103125 214.282812 \nL 59.103125 214.282812 \n\" style=\"fill: none; stroke-dasharray: 5.55,2.4; stroke-dashoffset: 0; stroke: #008000; stroke-width: 1.5\"/>\n    </g>\n    <g id=\"text_24\">\n     <!-- third_model_nodropout (test) -->\n     <g transform=\"translate(67.103125 217.782812) scale(0.1 -0.1)\">\n      <use xlink:href=\"#DejaVuSans-74\"/>\n      <use xlink:href=\"#DejaVuSans-68\" transform=\"translate(39.208984 0)\"/>\n      <use xlink:href=\"#DejaVuSans-69\" transform=\"translate(102.587891 0)\"/>\n      <use xlink:href=\"#DejaVuSans-72\" transform=\"translate(130.371094 0)\"/>\n      <use xlink:href=\"#DejaVuSans-64\" transform=\"translate(169.734375 0)\"/>\n      <use xlink:href=\"#DejaVuSans-5f\" transform=\"translate(233.210938 0)\"/>\n      <use xlink:href=\"#DejaVuSans-6d\" transform=\"translate(283.210938 0)\"/>\n      <use xlink:href=\"#DejaVuSans-6f\" transform=\"translate(380.623047 0)\"/>\n      <use xlink:href=\"#DejaVuSans-64\" transform=\"translate(441.804688 0)\"/>\n      <use xlink:href=\"#DejaVuSans-65\" transform=\"translate(505.28125 0)\"/>\n      <use xlink:href=\"#DejaVuSans-6c\" transform=\"translate(566.804688 0)\"/>\n      <use xlink:href=\"#DejaVuSans-5f\" transform=\"translate(594.587891 0)\"/>\n      <use xlink:href=\"#DejaVuSans-6e\" transform=\"translate(644.587891 0)\"/>\n      <use xlink:href=\"#DejaVuSans-6f\" transform=\"translate(707.966797 0)\"/>\n      <use xlink:href=\"#DejaVuSans-64\" transform=\"translate(769.148438 0)\"/>\n      <use xlink:href=\"#DejaVuSans-72\" transform=\"translate(832.625 0)\"/>\n      <use xlink:href=\"#DejaVuSans-6f\" transform=\"translate(871.488281 0)\"/>\n      <use xlink:href=\"#DejaVuSans-70\" transform=\"translate(932.669922 0)\"/>\n      <use xlink:href=\"#DejaVuSans-6f\" transform=\"translate(996.146484 0)\"/>\n      <use xlink:href=\"#DejaVuSans-75\" transform=\"translate(1057.328125 0)\"/>\n      <use xlink:href=\"#DejaVuSans-74\" transform=\"translate(1120.707031 0)\"/>\n      <use xlink:href=\"#DejaVuSans-20\" transform=\"translate(1159.916016 0)\"/>\n      <use xlink:href=\"#DejaVuSans-28\" transform=\"translate(1191.703125 0)\"/>\n      <use xlink:href=\"#DejaVuSans-74\" transform=\"translate(1230.716797 0)\"/>\n      <use xlink:href=\"#DejaVuSans-65\" transform=\"translate(1269.925781 0)\"/>\n      <use xlink:href=\"#DejaVuSans-73\" transform=\"translate(1331.449219 0)\"/>\n      <use xlink:href=\"#DejaVuSans-74\" transform=\"translate(1383.548828 0)\"/>\n      <use xlink:href=\"#DejaVuSans-29\" transform=\"translate(1422.757812 0)\"/>\n     </g>\n    </g>\n    <g id=\"line2d_51\">\n     <path d=\"M 39.103125 229.239062 \nL 49.103125 229.239062 \nL 59.103125 229.239062 \n\" style=\"fill: none; stroke: #ffa500; stroke-width: 1.5; stroke-linecap: square\"/>\n    </g>\n    <g id=\"text_25\">\n     <!-- third_model_dropout (train) -->\n     <g transform=\"translate(67.103125 232.739062) scale(0.1 -0.1)\">\n      <use xlink:href=\"#DejaVuSans-74\"/>\n      <use xlink:href=\"#DejaVuSans-68\" transform=\"translate(39.208984 0)\"/>\n      <use xlink:href=\"#DejaVuSans-69\" transform=\"translate(102.587891 0)\"/>\n      <use xlink:href=\"#DejaVuSans-72\" transform=\"translate(130.371094 0)\"/>\n      <use xlink:href=\"#DejaVuSans-64\" transform=\"translate(169.734375 0)\"/>\n      <use xlink:href=\"#DejaVuSans-5f\" transform=\"translate(233.210938 0)\"/>\n      <use xlink:href=\"#DejaVuSans-6d\" transform=\"translate(283.210938 0)\"/>\n      <use xlink:href=\"#DejaVuSans-6f\" transform=\"translate(380.623047 0)\"/>\n      <use xlink:href=\"#DejaVuSans-64\" transform=\"translate(441.804688 0)\"/>\n      <use xlink:href=\"#DejaVuSans-65\" transform=\"translate(505.28125 0)\"/>\n      <use xlink:href=\"#DejaVuSans-6c\" transform=\"translate(566.804688 0)\"/>\n      <use xlink:href=\"#DejaVuSans-5f\" transform=\"translate(594.587891 0)\"/>\n      <use xlink:href=\"#DejaVuSans-64\" transform=\"translate(644.587891 0)\"/>\n      <use xlink:href=\"#DejaVuSans-72\" transform=\"translate(708.064453 0)\"/>\n      <use xlink:href=\"#DejaVuSans-6f\" transform=\"translate(746.927734 0)\"/>\n      <use xlink:href=\"#DejaVuSans-70\" transform=\"translate(808.109375 0)\"/>\n      <use xlink:href=\"#DejaVuSans-6f\" transform=\"translate(871.585938 0)\"/>\n      <use xlink:href=\"#DejaVuSans-75\" transform=\"translate(932.767578 0)\"/>\n      <use xlink:href=\"#DejaVuSans-74\" transform=\"translate(996.146484 0)\"/>\n      <use xlink:href=\"#DejaVuSans-20\" transform=\"translate(1035.355469 0)\"/>\n      <use xlink:href=\"#DejaVuSans-28\" transform=\"translate(1067.142578 0)\"/>\n      <use xlink:href=\"#DejaVuSans-74\" transform=\"translate(1106.15625 0)\"/>\n      <use xlink:href=\"#DejaVuSans-72\" transform=\"translate(1145.365234 0)\"/>\n      <use xlink:href=\"#DejaVuSans-61\" transform=\"translate(1186.478516 0)\"/>\n      <use xlink:href=\"#DejaVuSans-69\" transform=\"translate(1247.757812 0)\"/>\n      <use xlink:href=\"#DejaVuSans-6e\" transform=\"translate(1275.541016 0)\"/>\n      <use xlink:href=\"#DejaVuSans-29\" transform=\"translate(1338.919922 0)\"/>\n     </g>\n    </g>\n    <g id=\"line2d_52\">\n     <path d=\"M 39.103125 244.195312 \nL 49.103125 244.195312 \nL 59.103125 244.195312 \n\" style=\"fill: none; stroke-dasharray: 5.55,2.4; stroke-dashoffset: 0; stroke: #ffa500; stroke-width: 1.5\"/>\n    </g>\n    <g id=\"text_26\">\n     <!-- third_model_dropout (test) -->\n     <g transform=\"translate(67.103125 247.695312) scale(0.1 -0.1)\">\n      <use xlink:href=\"#DejaVuSans-74\"/>\n      <use xlink:href=\"#DejaVuSans-68\" transform=\"translate(39.208984 0)\"/>\n      <use xlink:href=\"#DejaVuSans-69\" transform=\"translate(102.587891 0)\"/>\n      <use xlink:href=\"#DejaVuSans-72\" transform=\"translate(130.371094 0)\"/>\n      <use xlink:href=\"#DejaVuSans-64\" transform=\"translate(169.734375 0)\"/>\n      <use xlink:href=\"#DejaVuSans-5f\" transform=\"translate(233.210938 0)\"/>\n      <use xlink:href=\"#DejaVuSans-6d\" transform=\"translate(283.210938 0)\"/>\n      <use xlink:href=\"#DejaVuSans-6f\" transform=\"translate(380.623047 0)\"/>\n      <use xlink:href=\"#DejaVuSans-64\" transform=\"translate(441.804688 0)\"/>\n      <use xlink:href=\"#DejaVuSans-65\" transform=\"translate(505.28125 0)\"/>\n      <use xlink:href=\"#DejaVuSans-6c\" transform=\"translate(566.804688 0)\"/>\n      <use xlink:href=\"#DejaVuSans-5f\" transform=\"translate(594.587891 0)\"/>\n      <use xlink:href=\"#DejaVuSans-64\" transform=\"translate(644.587891 0)\"/>\n      <use xlink:href=\"#DejaVuSans-72\" transform=\"translate(708.064453 0)\"/>\n      <use xlink:href=\"#DejaVuSans-6f\" transform=\"translate(746.927734 0)\"/>\n      <use xlink:href=\"#DejaVuSans-70\" transform=\"translate(808.109375 0)\"/>\n      <use xlink:href=\"#DejaVuSans-6f\" transform=\"translate(871.585938 0)\"/>\n      <use xlink:href=\"#DejaVuSans-75\" transform=\"translate(932.767578 0)\"/>\n      <use xlink:href=\"#DejaVuSans-74\" transform=\"translate(996.146484 0)\"/>\n      <use xlink:href=\"#DejaVuSans-20\" transform=\"translate(1035.355469 0)\"/>\n      <use xlink:href=\"#DejaVuSans-28\" transform=\"translate(1067.142578 0)\"/>\n      <use xlink:href=\"#DejaVuSans-74\" transform=\"translate(1106.15625 0)\"/>\n      <use xlink:href=\"#DejaVuSans-65\" transform=\"translate(1145.365234 0)\"/>\n      <use xlink:href=\"#DejaVuSans-73\" transform=\"translate(1206.888672 0)\"/>\n      <use xlink:href=\"#DejaVuSans-74\" transform=\"translate(1258.988281 0)\"/>\n      <use xlink:href=\"#DejaVuSans-29\" transform=\"translate(1298.197266 0)\"/>\n     </g>\n    </g>\n    <g id=\"line2d_53\">\n     <path d=\"M 39.103125 259.151562 \nL 49.103125 259.151562 \nL 59.103125 259.151562 \n\" style=\"fill: none; stroke: #800080; stroke-width: 1.5; stroke-linecap: square\"/>\n    </g>\n    <g id=\"text_27\">\n     <!-- fourth_model_nodropout (train) -->\n     <g transform=\"translate(67.103125 262.651562) scale(0.1 -0.1)\">\n      <use xlink:href=\"#DejaVuSans-66\"/>\n      <use xlink:href=\"#DejaVuSans-6f\" transform=\"translate(35.205078 0)\"/>\n      <use xlink:href=\"#DejaVuSans-75\" transform=\"translate(96.386719 0)\"/>\n      <use xlink:href=\"#DejaVuSans-72\" transform=\"translate(159.765625 0)\"/>\n      <use xlink:href=\"#DejaVuSans-74\" transform=\"translate(200.878906 0)\"/>\n      <use xlink:href=\"#DejaVuSans-68\" transform=\"translate(240.087891 0)\"/>\n      <use xlink:href=\"#DejaVuSans-5f\" transform=\"translate(303.466797 0)\"/>\n      <use xlink:href=\"#DejaVuSans-6d\" transform=\"translate(353.466797 0)\"/>\n      <use xlink:href=\"#DejaVuSans-6f\" transform=\"translate(450.878906 0)\"/>\n      <use xlink:href=\"#DejaVuSans-64\" transform=\"translate(512.060547 0)\"/>\n      <use xlink:href=\"#DejaVuSans-65\" transform=\"translate(575.537109 0)\"/>\n      <use xlink:href=\"#DejaVuSans-6c\" transform=\"translate(637.060547 0)\"/>\n      <use xlink:href=\"#DejaVuSans-5f\" transform=\"translate(664.84375 0)\"/>\n      <use xlink:href=\"#DejaVuSans-6e\" transform=\"translate(714.84375 0)\"/>\n      <use xlink:href=\"#DejaVuSans-6f\" transform=\"translate(778.222656 0)\"/>\n      <use xlink:href=\"#DejaVuSans-64\" transform=\"translate(839.404297 0)\"/>\n      <use xlink:href=\"#DejaVuSans-72\" transform=\"translate(902.880859 0)\"/>\n      <use xlink:href=\"#DejaVuSans-6f\" transform=\"translate(941.744141 0)\"/>\n      <use xlink:href=\"#DejaVuSans-70\" transform=\"translate(1002.925781 0)\"/>\n      <use xlink:href=\"#DejaVuSans-6f\" transform=\"translate(1066.402344 0)\"/>\n      <use xlink:href=\"#DejaVuSans-75\" transform=\"translate(1127.583984 0)\"/>\n      <use xlink:href=\"#DejaVuSans-74\" transform=\"translate(1190.962891 0)\"/>\n      <use xlink:href=\"#DejaVuSans-20\" transform=\"translate(1230.171875 0)\"/>\n      <use xlink:href=\"#DejaVuSans-28\" transform=\"translate(1261.958984 0)\"/>\n      <use xlink:href=\"#DejaVuSans-74\" transform=\"translate(1300.972656 0)\"/>\n      <use xlink:href=\"#DejaVuSans-72\" transform=\"translate(1340.181641 0)\"/>\n      <use xlink:href=\"#DejaVuSans-61\" transform=\"translate(1381.294922 0)\"/>\n      <use xlink:href=\"#DejaVuSans-69\" transform=\"translate(1442.574219 0)\"/>\n      <use xlink:href=\"#DejaVuSans-6e\" transform=\"translate(1470.357422 0)\"/>\n      <use xlink:href=\"#DejaVuSans-29\" transform=\"translate(1533.736328 0)\"/>\n     </g>\n    </g>\n    <g id=\"line2d_54\">\n     <path d=\"M 39.103125 274.107812 \nL 49.103125 274.107812 \nL 59.103125 274.107812 \n\" style=\"fill: none; stroke-dasharray: 5.55,2.4; stroke-dashoffset: 0; stroke: #800080; stroke-width: 1.5\"/>\n    </g>\n    <g id=\"text_28\">\n     <!-- fourth_model_nodropout (test) -->\n     <g transform=\"translate(67.103125 277.607812) scale(0.1 -0.1)\">\n      <use xlink:href=\"#DejaVuSans-66\"/>\n      <use xlink:href=\"#DejaVuSans-6f\" transform=\"translate(35.205078 0)\"/>\n      <use xlink:href=\"#DejaVuSans-75\" transform=\"translate(96.386719 0)\"/>\n      <use xlink:href=\"#DejaVuSans-72\" transform=\"translate(159.765625 0)\"/>\n      <use xlink:href=\"#DejaVuSans-74\" transform=\"translate(200.878906 0)\"/>\n      <use xlink:href=\"#DejaVuSans-68\" transform=\"translate(240.087891 0)\"/>\n      <use xlink:href=\"#DejaVuSans-5f\" transform=\"translate(303.466797 0)\"/>\n      <use xlink:href=\"#DejaVuSans-6d\" transform=\"translate(353.466797 0)\"/>\n      <use xlink:href=\"#DejaVuSans-6f\" transform=\"translate(450.878906 0)\"/>\n      <use xlink:href=\"#DejaVuSans-64\" transform=\"translate(512.060547 0)\"/>\n      <use xlink:href=\"#DejaVuSans-65\" transform=\"translate(575.537109 0)\"/>\n      <use xlink:href=\"#DejaVuSans-6c\" transform=\"translate(637.060547 0)\"/>\n      <use xlink:href=\"#DejaVuSans-5f\" transform=\"translate(664.84375 0)\"/>\n      <use xlink:href=\"#DejaVuSans-6e\" transform=\"translate(714.84375 0)\"/>\n      <use xlink:href=\"#DejaVuSans-6f\" transform=\"translate(778.222656 0)\"/>\n      <use xlink:href=\"#DejaVuSans-64\" transform=\"translate(839.404297 0)\"/>\n      <use xlink:href=\"#DejaVuSans-72\" transform=\"translate(902.880859 0)\"/>\n      <use xlink:href=\"#DejaVuSans-6f\" transform=\"translate(941.744141 0)\"/>\n      <use xlink:href=\"#DejaVuSans-70\" transform=\"translate(1002.925781 0)\"/>\n      <use xlink:href=\"#DejaVuSans-6f\" transform=\"translate(1066.402344 0)\"/>\n      <use xlink:href=\"#DejaVuSans-75\" transform=\"translate(1127.583984 0)\"/>\n      <use xlink:href=\"#DejaVuSans-74\" transform=\"translate(1190.962891 0)\"/>\n      <use xlink:href=\"#DejaVuSans-20\" transform=\"translate(1230.171875 0)\"/>\n      <use xlink:href=\"#DejaVuSans-28\" transform=\"translate(1261.958984 0)\"/>\n      <use xlink:href=\"#DejaVuSans-74\" transform=\"translate(1300.972656 0)\"/>\n      <use xlink:href=\"#DejaVuSans-65\" transform=\"translate(1340.181641 0)\"/>\n      <use xlink:href=\"#DejaVuSans-73\" transform=\"translate(1401.705078 0)\"/>\n      <use xlink:href=\"#DejaVuSans-74\" transform=\"translate(1453.804688 0)\"/>\n      <use xlink:href=\"#DejaVuSans-29\" transform=\"translate(1493.013672 0)\"/>\n     </g>\n    </g>\n    <g id=\"line2d_55\">\n     <path d=\"M 39.103125 289.064062 \nL 49.103125 289.064062 \nL 59.103125 289.064062 \n\" style=\"fill: none; stroke: #00ffff; stroke-width: 1.5; stroke-linecap: square\"/>\n    </g>\n    <g id=\"text_29\">\n     <!-- fourth_model_dropout (train) -->\n     <g transform=\"translate(67.103125 292.564062) scale(0.1 -0.1)\">\n      <use xlink:href=\"#DejaVuSans-66\"/>\n      <use xlink:href=\"#DejaVuSans-6f\" transform=\"translate(35.205078 0)\"/>\n      <use xlink:href=\"#DejaVuSans-75\" transform=\"translate(96.386719 0)\"/>\n      <use xlink:href=\"#DejaVuSans-72\" transform=\"translate(159.765625 0)\"/>\n      <use xlink:href=\"#DejaVuSans-74\" transform=\"translate(200.878906 0)\"/>\n      <use xlink:href=\"#DejaVuSans-68\" transform=\"translate(240.087891 0)\"/>\n      <use xlink:href=\"#DejaVuSans-5f\" transform=\"translate(303.466797 0)\"/>\n      <use xlink:href=\"#DejaVuSans-6d\" transform=\"translate(353.466797 0)\"/>\n      <use xlink:href=\"#DejaVuSans-6f\" transform=\"translate(450.878906 0)\"/>\n      <use xlink:href=\"#DejaVuSans-64\" transform=\"translate(512.060547 0)\"/>\n      <use xlink:href=\"#DejaVuSans-65\" transform=\"translate(575.537109 0)\"/>\n      <use xlink:href=\"#DejaVuSans-6c\" transform=\"translate(637.060547 0)\"/>\n      <use xlink:href=\"#DejaVuSans-5f\" transform=\"translate(664.84375 0)\"/>\n      <use xlink:href=\"#DejaVuSans-64\" transform=\"translate(714.84375 0)\"/>\n      <use xlink:href=\"#DejaVuSans-72\" transform=\"translate(778.320312 0)\"/>\n      <use xlink:href=\"#DejaVuSans-6f\" transform=\"translate(817.183594 0)\"/>\n      <use xlink:href=\"#DejaVuSans-70\" transform=\"translate(878.365234 0)\"/>\n      <use xlink:href=\"#DejaVuSans-6f\" transform=\"translate(941.841797 0)\"/>\n      <use xlink:href=\"#DejaVuSans-75\" transform=\"translate(1003.023438 0)\"/>\n      <use xlink:href=\"#DejaVuSans-74\" transform=\"translate(1066.402344 0)\"/>\n      <use xlink:href=\"#DejaVuSans-20\" transform=\"translate(1105.611328 0)\"/>\n      <use xlink:href=\"#DejaVuSans-28\" transform=\"translate(1137.398438 0)\"/>\n      <use xlink:href=\"#DejaVuSans-74\" transform=\"translate(1176.412109 0)\"/>\n      <use xlink:href=\"#DejaVuSans-72\" transform=\"translate(1215.621094 0)\"/>\n      <use xlink:href=\"#DejaVuSans-61\" transform=\"translate(1256.734375 0)\"/>\n      <use xlink:href=\"#DejaVuSans-69\" transform=\"translate(1318.013672 0)\"/>\n      <use xlink:href=\"#DejaVuSans-6e\" transform=\"translate(1345.796875 0)\"/>\n      <use xlink:href=\"#DejaVuSans-29\" transform=\"translate(1409.175781 0)\"/>\n     </g>\n    </g>\n    <g id=\"line2d_56\">\n     <path d=\"M 39.103125 304.020312 \nL 49.103125 304.020312 \nL 59.103125 304.020312 \n\" style=\"fill: none; stroke-dasharray: 5.55,2.4; stroke-dashoffset: 0; stroke: #00ffff; stroke-width: 1.5\"/>\n    </g>\n    <g id=\"text_30\">\n     <!-- fourth_model_dropout (test) -->\n     <g transform=\"translate(67.103125 307.520312) scale(0.1 -0.1)\">\n      <use xlink:href=\"#DejaVuSans-66\"/>\n      <use xlink:href=\"#DejaVuSans-6f\" transform=\"translate(35.205078 0)\"/>\n      <use xlink:href=\"#DejaVuSans-75\" transform=\"translate(96.386719 0)\"/>\n      <use xlink:href=\"#DejaVuSans-72\" transform=\"translate(159.765625 0)\"/>\n      <use xlink:href=\"#DejaVuSans-74\" transform=\"translate(200.878906 0)\"/>\n      <use xlink:href=\"#DejaVuSans-68\" transform=\"translate(240.087891 0)\"/>\n      <use xlink:href=\"#DejaVuSans-5f\" transform=\"translate(303.466797 0)\"/>\n      <use xlink:href=\"#DejaVuSans-6d\" transform=\"translate(353.466797 0)\"/>\n      <use xlink:href=\"#DejaVuSans-6f\" transform=\"translate(450.878906 0)\"/>\n      <use xlink:href=\"#DejaVuSans-64\" transform=\"translate(512.060547 0)\"/>\n      <use xlink:href=\"#DejaVuSans-65\" transform=\"translate(575.537109 0)\"/>\n      <use xlink:href=\"#DejaVuSans-6c\" transform=\"translate(637.060547 0)\"/>\n      <use xlink:href=\"#DejaVuSans-5f\" transform=\"translate(664.84375 0)\"/>\n      <use xlink:href=\"#DejaVuSans-64\" transform=\"translate(714.84375 0)\"/>\n      <use xlink:href=\"#DejaVuSans-72\" transform=\"translate(778.320312 0)\"/>\n      <use xlink:href=\"#DejaVuSans-6f\" transform=\"translate(817.183594 0)\"/>\n      <use xlink:href=\"#DejaVuSans-70\" transform=\"translate(878.365234 0)\"/>\n      <use xlink:href=\"#DejaVuSans-6f\" transform=\"translate(941.841797 0)\"/>\n      <use xlink:href=\"#DejaVuSans-75\" transform=\"translate(1003.023438 0)\"/>\n      <use xlink:href=\"#DejaVuSans-74\" transform=\"translate(1066.402344 0)\"/>\n      <use xlink:href=\"#DejaVuSans-20\" transform=\"translate(1105.611328 0)\"/>\n      <use xlink:href=\"#DejaVuSans-28\" transform=\"translate(1137.398438 0)\"/>\n      <use xlink:href=\"#DejaVuSans-74\" transform=\"translate(1176.412109 0)\"/>\n      <use xlink:href=\"#DejaVuSans-65\" transform=\"translate(1215.621094 0)\"/>\n      <use xlink:href=\"#DejaVuSans-73\" transform=\"translate(1277.144531 0)\"/>\n      <use xlink:href=\"#DejaVuSans-74\" transform=\"translate(1329.244141 0)\"/>\n      <use xlink:href=\"#DejaVuSans-29\" transform=\"translate(1368.453125 0)\"/>\n     </g>\n    </g>\n   </g>\n  </g>\n  <g id=\"axes_2\">\n   <g id=\"patch_8\">\n    <path d=\"M 30.103125 673.478125 \nL 705.573125 673.478125 \nL 705.573125 376.918125 \nL 30.103125 376.918125 \nz\n\" style=\"fill: #ffffff\"/>\n   </g>\n   <g id=\"matplotlib.axis_3\">\n    <g id=\"xtick_8\">\n     <g id=\"line2d_57\">\n      <path d=\"M 104.667995 673.478125 \nL 104.667995 376.918125 \n\" clip-path=\"url(#pc17b75fef0)\" style=\"fill: none; stroke: #b0b0b0; stroke-width: 0.8; stroke-linecap: square\"/>\n     </g>\n     <g id=\"line2d_58\">\n      <g>\n       <use xlink:href=\"#m05e361dd8b\" x=\"104.667995\" y=\"673.478125\" style=\"stroke: #000000; stroke-width: 0.8\"/>\n      </g>\n     </g>\n     <g id=\"text_31\">\n      <!-- 2 -->\n      <g transform=\"translate(101.486745 688.076562) scale(0.1 -0.1)\">\n       <use xlink:href=\"#DejaVuSans-32\"/>\n      </g>\n     </g>\n    </g>\n    <g id=\"xtick_9\">\n     <g id=\"line2d_59\">\n      <path d=\"M 192.391372 673.478125 \nL 192.391372 376.918125 \n\" clip-path=\"url(#pc17b75fef0)\" style=\"fill: none; stroke: #b0b0b0; stroke-width: 0.8; stroke-linecap: square\"/>\n     </g>\n     <g id=\"line2d_60\">\n      <g>\n       <use xlink:href=\"#m05e361dd8b\" x=\"192.391372\" y=\"673.478125\" style=\"stroke: #000000; stroke-width: 0.8\"/>\n      </g>\n     </g>\n     <g id=\"text_32\">\n      <!-- 4 -->\n      <g transform=\"translate(189.210122 688.076562) scale(0.1 -0.1)\">\n       <use xlink:href=\"#DejaVuSans-34\"/>\n      </g>\n     </g>\n    </g>\n    <g id=\"xtick_10\">\n     <g id=\"line2d_61\">\n      <path d=\"M 280.114748 673.478125 \nL 280.114748 376.918125 \n\" clip-path=\"url(#pc17b75fef0)\" style=\"fill: none; stroke: #b0b0b0; stroke-width: 0.8; stroke-linecap: square\"/>\n     </g>\n     <g id=\"line2d_62\">\n      <g>\n       <use xlink:href=\"#m05e361dd8b\" x=\"280.114748\" y=\"673.478125\" style=\"stroke: #000000; stroke-width: 0.8\"/>\n      </g>\n     </g>\n     <g id=\"text_33\">\n      <!-- 6 -->\n      <g transform=\"translate(276.933498 688.076562) scale(0.1 -0.1)\">\n       <use xlink:href=\"#DejaVuSans-36\"/>\n      </g>\n     </g>\n    </g>\n    <g id=\"xtick_11\">\n     <g id=\"line2d_63\">\n      <path d=\"M 367.838125 673.478125 \nL 367.838125 376.918125 \n\" clip-path=\"url(#pc17b75fef0)\" style=\"fill: none; stroke: #b0b0b0; stroke-width: 0.8; stroke-linecap: square\"/>\n     </g>\n     <g id=\"line2d_64\">\n      <g>\n       <use xlink:href=\"#m05e361dd8b\" x=\"367.838125\" y=\"673.478125\" style=\"stroke: #000000; stroke-width: 0.8\"/>\n      </g>\n     </g>\n     <g id=\"text_34\">\n      <!-- 8 -->\n      <g transform=\"translate(364.656875 688.076562) scale(0.1 -0.1)\">\n       <use xlink:href=\"#DejaVuSans-38\"/>\n      </g>\n     </g>\n    </g>\n    <g id=\"xtick_12\">\n     <g id=\"line2d_65\">\n      <path d=\"M 455.561502 673.478125 \nL 455.561502 376.918125 \n\" clip-path=\"url(#pc17b75fef0)\" style=\"fill: none; stroke: #b0b0b0; stroke-width: 0.8; stroke-linecap: square\"/>\n     </g>\n     <g id=\"line2d_66\">\n      <g>\n       <use xlink:href=\"#m05e361dd8b\" x=\"455.561502\" y=\"673.478125\" style=\"stroke: #000000; stroke-width: 0.8\"/>\n      </g>\n     </g>\n     <g id=\"text_35\">\n      <!-- 10 -->\n      <g transform=\"translate(449.199002 688.076562) scale(0.1 -0.1)\">\n       <use xlink:href=\"#DejaVuSans-31\"/>\n       <use xlink:href=\"#DejaVuSans-30\" transform=\"translate(63.623047 0)\"/>\n      </g>\n     </g>\n    </g>\n    <g id=\"xtick_13\">\n     <g id=\"line2d_67\">\n      <path d=\"M 543.284878 673.478125 \nL 543.284878 376.918125 \n\" clip-path=\"url(#pc17b75fef0)\" style=\"fill: none; stroke: #b0b0b0; stroke-width: 0.8; stroke-linecap: square\"/>\n     </g>\n     <g id=\"line2d_68\">\n      <g>\n       <use xlink:href=\"#m05e361dd8b\" x=\"543.284878\" y=\"673.478125\" style=\"stroke: #000000; stroke-width: 0.8\"/>\n      </g>\n     </g>\n     <g id=\"text_36\">\n      <!-- 12 -->\n      <g transform=\"translate(536.922378 688.076562) scale(0.1 -0.1)\">\n       <use xlink:href=\"#DejaVuSans-31\"/>\n       <use xlink:href=\"#DejaVuSans-32\" transform=\"translate(63.623047 0)\"/>\n      </g>\n     </g>\n    </g>\n    <g id=\"xtick_14\">\n     <g id=\"line2d_69\">\n      <path d=\"M 631.008255 673.478125 \nL 631.008255 376.918125 \n\" clip-path=\"url(#pc17b75fef0)\" style=\"fill: none; stroke: #b0b0b0; stroke-width: 0.8; stroke-linecap: square\"/>\n     </g>\n     <g id=\"line2d_70\">\n      <g>\n       <use xlink:href=\"#m05e361dd8b\" x=\"631.008255\" y=\"673.478125\" style=\"stroke: #000000; stroke-width: 0.8\"/>\n      </g>\n     </g>\n     <g id=\"text_37\">\n      <!-- 14 -->\n      <g transform=\"translate(624.645755 688.076562) scale(0.1 -0.1)\">\n       <use xlink:href=\"#DejaVuSans-31\"/>\n       <use xlink:href=\"#DejaVuSans-34\" transform=\"translate(63.623047 0)\"/>\n      </g>\n     </g>\n    </g>\n    <g id=\"text_38\">\n     <!-- Epoch -->\n     <g transform=\"translate(352.527187 701.754687) scale(0.1 -0.1)\">\n      <use xlink:href=\"#DejaVuSans-45\"/>\n      <use xlink:href=\"#DejaVuSans-70\" transform=\"translate(63.183594 0)\"/>\n      <use xlink:href=\"#DejaVuSans-6f\" transform=\"translate(126.660156 0)\"/>\n      <use xlink:href=\"#DejaVuSans-63\" transform=\"translate(187.841797 0)\"/>\n      <use xlink:href=\"#DejaVuSans-68\" transform=\"translate(242.822266 0)\"/>\n     </g>\n    </g>\n   </g>\n   <g id=\"matplotlib.axis_4\">\n    <g id=\"ytick_8\">\n     <g id=\"line2d_71\">\n      <path d=\"M 30.103125 657.456617 \nL 705.573125 657.456617 \n\" clip-path=\"url(#pc17b75fef0)\" style=\"fill: none; stroke: #b0b0b0; stroke-width: 0.8; stroke-linecap: square\"/>\n     </g>\n     <g id=\"line2d_72\">\n      <g>\n       <use xlink:href=\"#m82dfbeb18c\" x=\"30.103125\" y=\"657.456617\" style=\"stroke: #000000; stroke-width: 0.8\"/>\n      </g>\n     </g>\n     <g id=\"text_39\">\n      <!-- 0.2 -->\n      <g transform=\"translate(7.2 661.255835) scale(0.1 -0.1)\">\n       <use xlink:href=\"#DejaVuSans-30\"/>\n       <use xlink:href=\"#DejaVuSans-2e\" transform=\"translate(63.623047 0)\"/>\n       <use xlink:href=\"#DejaVuSans-32\" transform=\"translate(95.410156 0)\"/>\n      </g>\n     </g>\n    </g>\n    <g id=\"ytick_9\">\n     <g id=\"line2d_73\">\n      <path d=\"M 30.103125 607.426925 \nL 705.573125 607.426925 \n\" clip-path=\"url(#pc17b75fef0)\" style=\"fill: none; stroke: #b0b0b0; stroke-width: 0.8; stroke-linecap: square\"/>\n     </g>\n     <g id=\"line2d_74\">\n      <g>\n       <use xlink:href=\"#m82dfbeb18c\" x=\"30.103125\" y=\"607.426925\" style=\"stroke: #000000; stroke-width: 0.8\"/>\n      </g>\n     </g>\n     <g id=\"text_40\">\n      <!-- 0.3 -->\n      <g transform=\"translate(7.2 611.226144) scale(0.1 -0.1)\">\n       <defs>\n        <path id=\"DejaVuSans-33\" d=\"M 2597 2516 \nQ 3050 2419 3304 2112 \nQ 3559 1806 3559 1356 \nQ 3559 666 3084 287 \nQ 2609 -91 1734 -91 \nQ 1441 -91 1130 -33 \nQ 819 25 488 141 \nL 488 750 \nQ 750 597 1062 519 \nQ 1375 441 1716 441 \nQ 2309 441 2620 675 \nQ 2931 909 2931 1356 \nQ 2931 1769 2642 2001 \nQ 2353 2234 1838 2234 \nL 1294 2234 \nL 1294 2753 \nL 1863 2753 \nQ 2328 2753 2575 2939 \nQ 2822 3125 2822 3475 \nQ 2822 3834 2567 4026 \nQ 2313 4219 1838 4219 \nQ 1578 4219 1281 4162 \nQ 984 4106 628 3988 \nL 628 4550 \nQ 988 4650 1302 4700 \nQ 1616 4750 1894 4750 \nQ 2613 4750 3031 4423 \nQ 3450 4097 3450 3541 \nQ 3450 3153 3228 2886 \nQ 3006 2619 2597 2516 \nz\n\" transform=\"scale(0.015625)\"/>\n       </defs>\n       <use xlink:href=\"#DejaVuSans-30\"/>\n       <use xlink:href=\"#DejaVuSans-2e\" transform=\"translate(63.623047 0)\"/>\n       <use xlink:href=\"#DejaVuSans-33\" transform=\"translate(95.410156 0)\"/>\n      </g>\n     </g>\n    </g>\n    <g id=\"ytick_10\">\n     <g id=\"line2d_75\">\n      <path d=\"M 30.103125 557.397234 \nL 705.573125 557.397234 \n\" clip-path=\"url(#pc17b75fef0)\" style=\"fill: none; stroke: #b0b0b0; stroke-width: 0.8; stroke-linecap: square\"/>\n     </g>\n     <g id=\"line2d_76\">\n      <g>\n       <use xlink:href=\"#m82dfbeb18c\" x=\"30.103125\" y=\"557.397234\" style=\"stroke: #000000; stroke-width: 0.8\"/>\n      </g>\n     </g>\n     <g id=\"text_41\">\n      <!-- 0.4 -->\n      <g transform=\"translate(7.2 561.196453) scale(0.1 -0.1)\">\n       <use xlink:href=\"#DejaVuSans-30\"/>\n       <use xlink:href=\"#DejaVuSans-2e\" transform=\"translate(63.623047 0)\"/>\n       <use xlink:href=\"#DejaVuSans-34\" transform=\"translate(95.410156 0)\"/>\n      </g>\n     </g>\n    </g>\n    <g id=\"ytick_11\">\n     <g id=\"line2d_77\">\n      <path d=\"M 30.103125 507.367543 \nL 705.573125 507.367543 \n\" clip-path=\"url(#pc17b75fef0)\" style=\"fill: none; stroke: #b0b0b0; stroke-width: 0.8; stroke-linecap: square\"/>\n     </g>\n     <g id=\"line2d_78\">\n      <g>\n       <use xlink:href=\"#m82dfbeb18c\" x=\"30.103125\" y=\"507.367543\" style=\"stroke: #000000; stroke-width: 0.8\"/>\n      </g>\n     </g>\n     <g id=\"text_42\">\n      <!-- 0.5 -->\n      <g transform=\"translate(7.2 511.166762) scale(0.1 -0.1)\">\n       <defs>\n        <path id=\"DejaVuSans-35\" d=\"M 691 4666 \nL 3169 4666 \nL 3169 4134 \nL 1269 4134 \nL 1269 2991 \nQ 1406 3038 1543 3061 \nQ 1681 3084 1819 3084 \nQ 2600 3084 3056 2656 \nQ 3513 2228 3513 1497 \nQ 3513 744 3044 326 \nQ 2575 -91 1722 -91 \nQ 1428 -91 1123 -41 \nQ 819 9 494 109 \nL 494 744 \nQ 775 591 1075 516 \nQ 1375 441 1709 441 \nQ 2250 441 2565 725 \nQ 2881 1009 2881 1497 \nQ 2881 1984 2565 2268 \nQ 2250 2553 1709 2553 \nQ 1456 2553 1204 2497 \nQ 953 2441 691 2322 \nL 691 4666 \nz\n\" transform=\"scale(0.015625)\"/>\n       </defs>\n       <use xlink:href=\"#DejaVuSans-30\"/>\n       <use xlink:href=\"#DejaVuSans-2e\" transform=\"translate(63.623047 0)\"/>\n       <use xlink:href=\"#DejaVuSans-35\" transform=\"translate(95.410156 0)\"/>\n      </g>\n     </g>\n    </g>\n    <g id=\"ytick_12\">\n     <g id=\"line2d_79\">\n      <path d=\"M 30.103125 457.337852 \nL 705.573125 457.337852 \n\" clip-path=\"url(#pc17b75fef0)\" style=\"fill: none; stroke: #b0b0b0; stroke-width: 0.8; stroke-linecap: square\"/>\n     </g>\n     <g id=\"line2d_80\">\n      <g>\n       <use xlink:href=\"#m82dfbeb18c\" x=\"30.103125\" y=\"457.337852\" style=\"stroke: #000000; stroke-width: 0.8\"/>\n      </g>\n     </g>\n     <g id=\"text_43\">\n      <!-- 0.6 -->\n      <g transform=\"translate(7.2 461.137071) scale(0.1 -0.1)\">\n       <use xlink:href=\"#DejaVuSans-30\"/>\n       <use xlink:href=\"#DejaVuSans-2e\" transform=\"translate(63.623047 0)\"/>\n       <use xlink:href=\"#DejaVuSans-36\" transform=\"translate(95.410156 0)\"/>\n      </g>\n     </g>\n    </g>\n    <g id=\"ytick_13\">\n     <g id=\"line2d_81\">\n      <path d=\"M 30.103125 407.308161 \nL 705.573125 407.308161 \n\" clip-path=\"url(#pc17b75fef0)\" style=\"fill: none; stroke: #b0b0b0; stroke-width: 0.8; stroke-linecap: square\"/>\n     </g>\n     <g id=\"line2d_82\">\n      <g>\n       <use xlink:href=\"#m82dfbeb18c\" x=\"30.103125\" y=\"407.308161\" style=\"stroke: #000000; stroke-width: 0.8\"/>\n      </g>\n     </g>\n     <g id=\"text_44\">\n      <!-- 0.7 -->\n      <g transform=\"translate(7.2 411.107379) scale(0.1 -0.1)\">\n       <defs>\n        <path id=\"DejaVuSans-37\" d=\"M 525 4666 \nL 3525 4666 \nL 3525 4397 \nL 1831 0 \nL 1172 0 \nL 2766 4134 \nL 525 4134 \nL 525 4666 \nz\n\" transform=\"scale(0.015625)\"/>\n       </defs>\n       <use xlink:href=\"#DejaVuSans-30\"/>\n       <use xlink:href=\"#DejaVuSans-2e\" transform=\"translate(63.623047 0)\"/>\n       <use xlink:href=\"#DejaVuSans-37\" transform=\"translate(95.410156 0)\"/>\n      </g>\n     </g>\n    </g>\n   </g>\n   <g id=\"line2d_83\">\n    <path d=\"M 60.806307 637.524788 \nL 104.667995 581.651629 \nL 148.529683 564.081201 \nL 192.391372 556.81689 \nL 236.25306 540.907448 \nL 280.114748 528.780251 \nL 323.976437 520.655429 \nL 367.838125 506.106795 \nL 411.699813 494.339811 \nL 455.561502 481.712317 \nL 499.42319 463.321403 \nL 543.284878 448.132389 \nL 587.146567 431.08227 \nL 631.008255 408.989158 \nL 674.869943 390.398125 \n\" clip-path=\"url(#pc17b75fef0)\" style=\"fill: none; stroke: #000000; stroke-width: 1.5; stroke-linecap: square\"/>\n   </g>\n   <g id=\"line2d_84\">\n    <path d=\"M 60.806307 638.585417 \nL 104.667995 584.33322 \nL 148.529683 575.287852 \nL 192.391372 569.124194 \nL 236.25306 564.941712 \nL 280.114748 560.779241 \nL 323.976437 559.318374 \nL 367.838125 559.818671 \nL 411.699813 559.938743 \nL 455.561502 564.141237 \nL 499.42319 566.502638 \nL 543.284878 571.545631 \nL 587.146567 573.266652 \nL 631.008255 572.486189 \nL 674.869943 577.088921 \n\" clip-path=\"url(#pc17b75fef0)\" style=\"fill: none; stroke-dasharray: 5.55,2.4; stroke-dashoffset: 0; stroke: #000000; stroke-width: 1.5\"/>\n   </g>\n   <g id=\"line2d_85\">\n    <path d=\"M 60.806307 653.074016 \nL 104.667995 651.132864 \nL 148.529683 634.382923 \nL 192.391372 590.857092 \nL 236.25306 580.270809 \nL 280.114748 568.143612 \nL 323.976437 560.038802 \nL 367.838125 552.434289 \nL 411.699813 543.248838 \nL 455.561502 535.664336 \nL 499.42319 525.578351 \nL 543.284878 516.653054 \nL 587.146567 503.345156 \nL 631.008255 502.924906 \nL 674.869943 472.807032 \n\" clip-path=\"url(#pc17b75fef0)\" style=\"fill: none; stroke: #ff0000; stroke-width: 1.5; stroke-linecap: square\"/>\n   </g>\n   <g id=\"line2d_86\">\n    <path d=\"M 60.806307 656.115821 \nL 104.667995 657.076391 \nL 148.529683 638.645453 \nL 192.391372 594.499253 \nL 236.25306 588.515702 \nL 280.114748 580.771106 \nL 323.976437 579.410298 \nL 367.838125 576.948838 \nL 411.699813 578.029479 \nL 455.561502 576.608636 \nL 499.42319 579.930607 \nL 543.284878 577.269028 \nL 587.146567 580.270809 \nL 631.008255 580.71107 \nL 674.869943 582.73227 \n\" clip-path=\"url(#pc17b75fef0)\" style=\"fill: none; stroke-dasharray: 5.55,2.4; stroke-dashoffset: 0; stroke: #ff0000; stroke-width: 1.5\"/>\n   </g>\n   <g id=\"line2d_87\">\n    <path d=\"M 60.806307 654.434823 \nL 104.667995 652.613743 \nL 148.529683 652.213505 \nL 192.391372 649.031617 \nL 236.25306 624.497056 \nL 280.114748 593.678766 \nL 323.976437 583.452697 \nL 367.838125 576.408517 \nL 411.699813 570.925263 \nL 455.561502 568.944087 \nL 499.42319 565.201866 \nL 543.284878 563.54088 \nL 587.146567 559.398422 \nL 631.008255 554.815702 \nL 674.869943 553.534942 \n\" clip-path=\"url(#pc17b75fef0)\" style=\"fill: none; stroke: #0000ff; stroke-width: 1.5; stroke-linecap: square\"/>\n   </g>\n   <g id=\"line2d_88\">\n    <path d=\"M 60.806307 657.036367 \nL 104.667995 656.53607 \nL 148.529683 657.196462 \nL 192.391372 652.753826 \nL 236.25306 628.739574 \nL 280.114748 598.221462 \nL 323.976437 587.935358 \nL 367.838125 585.754063 \nL 411.699813 581.45151 \nL 455.561502 581.011249 \nL 499.42319 579.090108 \nL 543.284878 577.60923 \nL 587.146567 576.608636 \nL 631.008255 574.007092 \nL 674.869943 573.506795 \n\" clip-path=\"url(#pc17b75fef0)\" style=\"fill: none; stroke-dasharray: 5.55,2.4; stroke-dashoffset: 0; stroke: #0000ff; stroke-width: 1.5\"/>\n   </g>\n   <g id=\"line2d_89\">\n    <path d=\"M 60.806307 637.524788 \nL 104.667995 581.651629 \nL 148.529683 564.081201 \nL 192.391372 556.81689 \nL 236.25306 540.907448 \nL 280.114748 528.780251 \nL 323.976437 520.655429 \nL 367.838125 506.106795 \nL 411.699813 494.339811 \nL 455.561502 481.712317 \nL 499.42319 463.321403 \nL 543.284878 448.132389 \nL 587.146567 431.08227 \nL 631.008255 408.989158 \nL 674.869943 390.398125 \n\" clip-path=\"url(#pc17b75fef0)\" style=\"fill: none; stroke: #008000; stroke-width: 1.5; stroke-linecap: square\"/>\n   </g>\n   <g id=\"line2d_90\">\n    <path d=\"M 60.806307 638.585417 \nL 104.667995 584.33322 \nL 148.529683 575.287852 \nL 192.391372 569.124194 \nL 236.25306 564.941712 \nL 280.114748 560.779241 \nL 323.976437 559.318374 \nL 367.838125 559.818671 \nL 411.699813 559.938743 \nL 455.561502 564.141237 \nL 499.42319 566.502638 \nL 543.284878 571.545631 \nL 587.146567 573.266652 \nL 631.008255 572.486189 \nL 674.869943 577.088921 \n\" clip-path=\"url(#pc17b75fef0)\" style=\"fill: none; stroke-dasharray: 5.55,2.4; stroke-dashoffset: 0; stroke: #008000; stroke-width: 1.5\"/>\n   </g>\n   <g id=\"line2d_91\">\n    <path d=\"M 60.806307 644.809111 \nL 104.667995 591.817662 \nL 148.529683 577.709289 \nL 192.391372 569.464396 \nL 236.25306 556.196522 \nL 280.114748 548.772115 \nL 323.976437 544.629657 \nL 367.838125 538.786189 \nL 411.699813 530.141058 \nL 455.561502 528.33999 \nL 499.42319 522.7967 \nL 543.284878 518.85436 \nL 587.146567 514.091534 \nL 631.008255 512.070334 \nL 674.869943 509.768968 \n\" clip-path=\"url(#pc17b75fef0)\" style=\"fill: none; stroke: #ffa500; stroke-width: 1.5; stroke-linecap: square\"/>\n   </g>\n   <g id=\"line2d_92\">\n    <path d=\"M 60.806307 641.427104 \nL 104.667995 590.136664 \nL 148.529683 580.090702 \nL 192.391372 573.786961 \nL 236.25306 570.36493 \nL 280.114748 566.402579 \nL 323.976437 562.36018 \nL 367.838125 562.440227 \nL 411.699813 559.138268 \nL 455.561502 560.899313 \nL 499.42319 556.976985 \nL 543.284878 557.977579 \nL 587.146567 560.298956 \nL 631.008255 558.217721 \nL 674.869943 557.937555 \n\" clip-path=\"url(#pc17b75fef0)\" style=\"fill: none; stroke-dasharray: 5.55,2.4; stroke-dashoffset: 0; stroke: #ffa500; stroke-width: 1.5\"/>\n   </g>\n   <g id=\"line2d_93\">\n    <path d=\"M 60.806307 653.354182 \nL 104.667995 659.998125 \nL 148.529683 648.691415 \nL 192.391372 645.629598 \nL 236.25306 591.377401 \n\" clip-path=\"url(#pc17b75fef0)\" style=\"fill: none; stroke: #800080; stroke-width: 1.5; stroke-linecap: square\"/>\n   </g>\n   <g id=\"line2d_94\">\n    <path d=\"M 60.806307 655.935714 \nL 104.667995 657.81683 \nL 148.529683 656.255904 \nL 192.391372 650.572531 \nL 236.25306 596.900678 \n\" clip-path=\"url(#pc17b75fef0)\" style=\"fill: none; stroke-dasharray: 5.55,2.4; stroke-dashoffset: 0; stroke: #800080; stroke-width: 1.5\"/>\n   </g>\n   <g id=\"line2d_95\">\n    <path d=\"M 60.806307 654.514871 \nL 104.667995 652.773838 \nL 148.529683 650.792662 \nL 192.391372 647.190524 \nL 236.25306 625.377579 \n\" clip-path=\"url(#pc17b75fef0)\" style=\"fill: none; stroke: #00ffff; stroke-width: 1.5; stroke-linecap: square\"/>\n   </g>\n   <g id=\"line2d_96\">\n    <path d=\"M 60.806307 656.375975 \nL 104.667995 656.516058 \nL 148.529683 656.53607 \nL 192.391372 656.355963 \nL 236.25306 626.358161 \n\" clip-path=\"url(#pc17b75fef0)\" style=\"fill: none; stroke-dasharray: 5.55,2.4; stroke-dashoffset: 0; stroke: #00ffff; stroke-width: 1.5\"/>\n   </g>\n   <g id=\"patch_9\">\n    <path d=\"M 30.103125 673.478125 \nL 30.103125 376.918125 \n\" style=\"fill: none; stroke: #000000; stroke-width: 0.8; stroke-linejoin: miter; stroke-linecap: square\"/>\n   </g>\n   <g id=\"patch_10\">\n    <path d=\"M 705.573125 673.478125 \nL 705.573125 376.918125 \n\" style=\"fill: none; stroke: #000000; stroke-width: 0.8; stroke-linejoin: miter; stroke-linecap: square\"/>\n   </g>\n   <g id=\"patch_11\">\n    <path d=\"M 30.103125 673.478125 \nL 705.573125 673.478125 \n\" style=\"fill: none; stroke: #000000; stroke-width: 0.8; stroke-linejoin: miter; stroke-linecap: square\"/>\n   </g>\n   <g id=\"patch_12\">\n    <path d=\"M 30.103125 376.918125 \nL 705.573125 376.918125 \n\" style=\"fill: none; stroke: #000000; stroke-width: 0.8; stroke-linejoin: miter; stroke-linecap: square\"/>\n   </g>\n   <g id=\"text_45\">\n    <!-- Accuracy -->\n    <g transform=\"translate(340.444375 370.918125) scale(0.12 -0.12)\">\n     <defs>\n      <path id=\"DejaVuSans-41\" d=\"M 2188 4044 \nL 1331 1722 \nL 3047 1722 \nL 2188 4044 \nz\nM 1831 4666 \nL 2547 4666 \nL 4325 0 \nL 3669 0 \nL 3244 1197 \nL 1141 1197 \nL 716 0 \nL 50 0 \nL 1831 4666 \nz\n\" transform=\"scale(0.015625)\"/>\n     </defs>\n     <use xlink:href=\"#DejaVuSans-41\"/>\n     <use xlink:href=\"#DejaVuSans-63\" transform=\"translate(66.658203 0)\"/>\n     <use xlink:href=\"#DejaVuSans-63\" transform=\"translate(121.638672 0)\"/>\n     <use xlink:href=\"#DejaVuSans-75\" transform=\"translate(176.619141 0)\"/>\n     <use xlink:href=\"#DejaVuSans-72\" transform=\"translate(239.998047 0)\"/>\n     <use xlink:href=\"#DejaVuSans-61\" transform=\"translate(281.111328 0)\"/>\n     <use xlink:href=\"#DejaVuSans-63\" transform=\"translate(342.390625 0)\"/>\n     <use xlink:href=\"#DejaVuSans-79\" transform=\"translate(397.371094 0)\"/>\n    </g>\n   </g>\n   <g id=\"legend_2\">\n    <g id=\"patch_13\">\n     <path d=\"M 37.103125 594.305625 \nL 231.698438 594.305625 \nQ 233.698438 594.305625 233.698438 592.305625 \nL 233.698438 383.918125 \nQ 233.698438 381.918125 231.698438 381.918125 \nL 37.103125 381.918125 \nQ 35.103125 381.918125 35.103125 383.918125 \nL 35.103125 592.305625 \nQ 35.103125 594.305625 37.103125 594.305625 \nz\n\" style=\"fill: #ffffff; opacity: 0.8; stroke: #cccccc; stroke-linejoin: miter\"/>\n    </g>\n    <g id=\"line2d_97\">\n     <path d=\"M 39.103125 390.016562 \nL 49.103125 390.016562 \nL 59.103125 390.016562 \n\" style=\"fill: none; stroke: #000000; stroke-width: 1.5; stroke-linecap: square\"/>\n    </g>\n    <g id=\"text_46\">\n     <!-- first_model (train) -->\n     <g transform=\"translate(67.103125 393.516562) scale(0.1 -0.1)\">\n      <use xlink:href=\"#DejaVuSans-66\"/>\n      <use xlink:href=\"#DejaVuSans-69\" transform=\"translate(35.205078 0)\"/>\n      <use xlink:href=\"#DejaVuSans-72\" transform=\"translate(62.988281 0)\"/>\n      <use xlink:href=\"#DejaVuSans-73\" transform=\"translate(104.101562 0)\"/>\n      <use xlink:href=\"#DejaVuSans-74\" transform=\"translate(156.201172 0)\"/>\n      <use xlink:href=\"#DejaVuSans-5f\" transform=\"translate(195.410156 0)\"/>\n      <use xlink:href=\"#DejaVuSans-6d\" transform=\"translate(245.410156 0)\"/>\n      <use xlink:href=\"#DejaVuSans-6f\" transform=\"translate(342.822266 0)\"/>\n      <use xlink:href=\"#DejaVuSans-64\" transform=\"translate(404.003906 0)\"/>\n      <use xlink:href=\"#DejaVuSans-65\" transform=\"translate(467.480469 0)\"/>\n      <use xlink:href=\"#DejaVuSans-6c\" transform=\"translate(529.003906 0)\"/>\n      <use xlink:href=\"#DejaVuSans-20\" transform=\"translate(556.787109 0)\"/>\n      <use xlink:href=\"#DejaVuSans-28\" transform=\"translate(588.574219 0)\"/>\n      <use xlink:href=\"#DejaVuSans-74\" transform=\"translate(627.587891 0)\"/>\n      <use xlink:href=\"#DejaVuSans-72\" transform=\"translate(666.796875 0)\"/>\n      <use xlink:href=\"#DejaVuSans-61\" transform=\"translate(707.910156 0)\"/>\n      <use xlink:href=\"#DejaVuSans-69\" transform=\"translate(769.189453 0)\"/>\n      <use xlink:href=\"#DejaVuSans-6e\" transform=\"translate(796.972656 0)\"/>\n      <use xlink:href=\"#DejaVuSans-29\" transform=\"translate(860.351562 0)\"/>\n     </g>\n    </g>\n    <g id=\"line2d_98\">\n     <path d=\"M 39.103125 404.972812 \nL 49.103125 404.972812 \nL 59.103125 404.972812 \n\" style=\"fill: none; stroke-dasharray: 5.55,2.4; stroke-dashoffset: 0; stroke: #000000; stroke-width: 1.5\"/>\n    </g>\n    <g id=\"text_47\">\n     <!-- first_model (test) -->\n     <g transform=\"translate(67.103125 408.472812) scale(0.1 -0.1)\">\n      <use xlink:href=\"#DejaVuSans-66\"/>\n      <use xlink:href=\"#DejaVuSans-69\" transform=\"translate(35.205078 0)\"/>\n      <use xlink:href=\"#DejaVuSans-72\" transform=\"translate(62.988281 0)\"/>\n      <use xlink:href=\"#DejaVuSans-73\" transform=\"translate(104.101562 0)\"/>\n      <use xlink:href=\"#DejaVuSans-74\" transform=\"translate(156.201172 0)\"/>\n      <use xlink:href=\"#DejaVuSans-5f\" transform=\"translate(195.410156 0)\"/>\n      <use xlink:href=\"#DejaVuSans-6d\" transform=\"translate(245.410156 0)\"/>\n      <use xlink:href=\"#DejaVuSans-6f\" transform=\"translate(342.822266 0)\"/>\n      <use xlink:href=\"#DejaVuSans-64\" transform=\"translate(404.003906 0)\"/>\n      <use xlink:href=\"#DejaVuSans-65\" transform=\"translate(467.480469 0)\"/>\n      <use xlink:href=\"#DejaVuSans-6c\" transform=\"translate(529.003906 0)\"/>\n      <use xlink:href=\"#DejaVuSans-20\" transform=\"translate(556.787109 0)\"/>\n      <use xlink:href=\"#DejaVuSans-28\" transform=\"translate(588.574219 0)\"/>\n      <use xlink:href=\"#DejaVuSans-74\" transform=\"translate(627.587891 0)\"/>\n      <use xlink:href=\"#DejaVuSans-65\" transform=\"translate(666.796875 0)\"/>\n      <use xlink:href=\"#DejaVuSans-73\" transform=\"translate(728.320312 0)\"/>\n      <use xlink:href=\"#DejaVuSans-74\" transform=\"translate(780.419922 0)\"/>\n      <use xlink:href=\"#DejaVuSans-29\" transform=\"translate(819.628906 0)\"/>\n     </g>\n    </g>\n    <g id=\"line2d_99\">\n     <path d=\"M 39.103125 419.929062 \nL 49.103125 419.929062 \nL 59.103125 419.929062 \n\" style=\"fill: none; stroke: #ff0000; stroke-width: 1.5; stroke-linecap: square\"/>\n    </g>\n    <g id=\"text_48\">\n     <!-- second_model_nodropout (train) -->\n     <g transform=\"translate(67.103125 423.429062) scale(0.1 -0.1)\">\n      <use xlink:href=\"#DejaVuSans-73\"/>\n      <use xlink:href=\"#DejaVuSans-65\" transform=\"translate(52.099609 0)\"/>\n      <use xlink:href=\"#DejaVuSans-63\" transform=\"translate(113.623047 0)\"/>\n      <use xlink:href=\"#DejaVuSans-6f\" transform=\"translate(168.603516 0)\"/>\n      <use xlink:href=\"#DejaVuSans-6e\" transform=\"translate(229.785156 0)\"/>\n      <use xlink:href=\"#DejaVuSans-64\" transform=\"translate(293.164062 0)\"/>\n      <use xlink:href=\"#DejaVuSans-5f\" transform=\"translate(356.640625 0)\"/>\n      <use xlink:href=\"#DejaVuSans-6d\" transform=\"translate(406.640625 0)\"/>\n      <use xlink:href=\"#DejaVuSans-6f\" transform=\"translate(504.052734 0)\"/>\n      <use xlink:href=\"#DejaVuSans-64\" transform=\"translate(565.234375 0)\"/>\n      <use xlink:href=\"#DejaVuSans-65\" transform=\"translate(628.710938 0)\"/>\n      <use xlink:href=\"#DejaVuSans-6c\" transform=\"translate(690.234375 0)\"/>\n      <use xlink:href=\"#DejaVuSans-5f\" transform=\"translate(718.017578 0)\"/>\n      <use xlink:href=\"#DejaVuSans-6e\" transform=\"translate(768.017578 0)\"/>\n      <use xlink:href=\"#DejaVuSans-6f\" transform=\"translate(831.396484 0)\"/>\n      <use xlink:href=\"#DejaVuSans-64\" transform=\"translate(892.578125 0)\"/>\n      <use xlink:href=\"#DejaVuSans-72\" transform=\"translate(956.054688 0)\"/>\n      <use xlink:href=\"#DejaVuSans-6f\" transform=\"translate(994.917969 0)\"/>\n      <use xlink:href=\"#DejaVuSans-70\" transform=\"translate(1056.099609 0)\"/>\n      <use xlink:href=\"#DejaVuSans-6f\" transform=\"translate(1119.576172 0)\"/>\n      <use xlink:href=\"#DejaVuSans-75\" transform=\"translate(1180.757812 0)\"/>\n      <use xlink:href=\"#DejaVuSans-74\" transform=\"translate(1244.136719 0)\"/>\n      <use xlink:href=\"#DejaVuSans-20\" transform=\"translate(1283.345703 0)\"/>\n      <use xlink:href=\"#DejaVuSans-28\" transform=\"translate(1315.132812 0)\"/>\n      <use xlink:href=\"#DejaVuSans-74\" transform=\"translate(1354.146484 0)\"/>\n      <use xlink:href=\"#DejaVuSans-72\" transform=\"translate(1393.355469 0)\"/>\n      <use xlink:href=\"#DejaVuSans-61\" transform=\"translate(1434.46875 0)\"/>\n      <use xlink:href=\"#DejaVuSans-69\" transform=\"translate(1495.748047 0)\"/>\n      <use xlink:href=\"#DejaVuSans-6e\" transform=\"translate(1523.53125 0)\"/>\n      <use xlink:href=\"#DejaVuSans-29\" transform=\"translate(1586.910156 0)\"/>\n     </g>\n    </g>\n    <g id=\"line2d_100\">\n     <path d=\"M 39.103125 434.885312 \nL 49.103125 434.885312 \nL 59.103125 434.885312 \n\" style=\"fill: none; stroke-dasharray: 5.55,2.4; stroke-dashoffset: 0; stroke: #ff0000; stroke-width: 1.5\"/>\n    </g>\n    <g id=\"text_49\">\n     <!-- second_model_nodropout (test) -->\n     <g transform=\"translate(67.103125 438.385312) scale(0.1 -0.1)\">\n      <use xlink:href=\"#DejaVuSans-73\"/>\n      <use xlink:href=\"#DejaVuSans-65\" transform=\"translate(52.099609 0)\"/>\n      <use xlink:href=\"#DejaVuSans-63\" transform=\"translate(113.623047 0)\"/>\n      <use xlink:href=\"#DejaVuSans-6f\" transform=\"translate(168.603516 0)\"/>\n      <use xlink:href=\"#DejaVuSans-6e\" transform=\"translate(229.785156 0)\"/>\n      <use xlink:href=\"#DejaVuSans-64\" transform=\"translate(293.164062 0)\"/>\n      <use xlink:href=\"#DejaVuSans-5f\" transform=\"translate(356.640625 0)\"/>\n      <use xlink:href=\"#DejaVuSans-6d\" transform=\"translate(406.640625 0)\"/>\n      <use xlink:href=\"#DejaVuSans-6f\" transform=\"translate(504.052734 0)\"/>\n      <use xlink:href=\"#DejaVuSans-64\" transform=\"translate(565.234375 0)\"/>\n      <use xlink:href=\"#DejaVuSans-65\" transform=\"translate(628.710938 0)\"/>\n      <use xlink:href=\"#DejaVuSans-6c\" transform=\"translate(690.234375 0)\"/>\n      <use xlink:href=\"#DejaVuSans-5f\" transform=\"translate(718.017578 0)\"/>\n      <use xlink:href=\"#DejaVuSans-6e\" transform=\"translate(768.017578 0)\"/>\n      <use xlink:href=\"#DejaVuSans-6f\" transform=\"translate(831.396484 0)\"/>\n      <use xlink:href=\"#DejaVuSans-64\" transform=\"translate(892.578125 0)\"/>\n      <use xlink:href=\"#DejaVuSans-72\" transform=\"translate(956.054688 0)\"/>\n      <use xlink:href=\"#DejaVuSans-6f\" transform=\"translate(994.917969 0)\"/>\n      <use xlink:href=\"#DejaVuSans-70\" transform=\"translate(1056.099609 0)\"/>\n      <use xlink:href=\"#DejaVuSans-6f\" transform=\"translate(1119.576172 0)\"/>\n      <use xlink:href=\"#DejaVuSans-75\" transform=\"translate(1180.757812 0)\"/>\n      <use xlink:href=\"#DejaVuSans-74\" transform=\"translate(1244.136719 0)\"/>\n      <use xlink:href=\"#DejaVuSans-20\" transform=\"translate(1283.345703 0)\"/>\n      <use xlink:href=\"#DejaVuSans-28\" transform=\"translate(1315.132812 0)\"/>\n      <use xlink:href=\"#DejaVuSans-74\" transform=\"translate(1354.146484 0)\"/>\n      <use xlink:href=\"#DejaVuSans-65\" transform=\"translate(1393.355469 0)\"/>\n      <use xlink:href=\"#DejaVuSans-73\" transform=\"translate(1454.878906 0)\"/>\n      <use xlink:href=\"#DejaVuSans-74\" transform=\"translate(1506.978516 0)\"/>\n      <use xlink:href=\"#DejaVuSans-29\" transform=\"translate(1546.1875 0)\"/>\n     </g>\n    </g>\n    <g id=\"line2d_101\">\n     <path d=\"M 39.103125 449.841562 \nL 49.103125 449.841562 \nL 59.103125 449.841562 \n\" style=\"fill: none; stroke: #0000ff; stroke-width: 1.5; stroke-linecap: square\"/>\n    </g>\n    <g id=\"text_50\">\n     <!-- second_model_dropout (train) -->\n     <g transform=\"translate(67.103125 453.341562) scale(0.1 -0.1)\">\n      <use xlink:href=\"#DejaVuSans-73\"/>\n      <use xlink:href=\"#DejaVuSans-65\" transform=\"translate(52.099609 0)\"/>\n      <use xlink:href=\"#DejaVuSans-63\" transform=\"translate(113.623047 0)\"/>\n      <use xlink:href=\"#DejaVuSans-6f\" transform=\"translate(168.603516 0)\"/>\n      <use xlink:href=\"#DejaVuSans-6e\" transform=\"translate(229.785156 0)\"/>\n      <use xlink:href=\"#DejaVuSans-64\" transform=\"translate(293.164062 0)\"/>\n      <use xlink:href=\"#DejaVuSans-5f\" transform=\"translate(356.640625 0)\"/>\n      <use xlink:href=\"#DejaVuSans-6d\" transform=\"translate(406.640625 0)\"/>\n      <use xlink:href=\"#DejaVuSans-6f\" transform=\"translate(504.052734 0)\"/>\n      <use xlink:href=\"#DejaVuSans-64\" transform=\"translate(565.234375 0)\"/>\n      <use xlink:href=\"#DejaVuSans-65\" transform=\"translate(628.710938 0)\"/>\n      <use xlink:href=\"#DejaVuSans-6c\" transform=\"translate(690.234375 0)\"/>\n      <use xlink:href=\"#DejaVuSans-5f\" transform=\"translate(718.017578 0)\"/>\n      <use xlink:href=\"#DejaVuSans-64\" transform=\"translate(768.017578 0)\"/>\n      <use xlink:href=\"#DejaVuSans-72\" transform=\"translate(831.494141 0)\"/>\n      <use xlink:href=\"#DejaVuSans-6f\" transform=\"translate(870.357422 0)\"/>\n      <use xlink:href=\"#DejaVuSans-70\" transform=\"translate(931.539062 0)\"/>\n      <use xlink:href=\"#DejaVuSans-6f\" transform=\"translate(995.015625 0)\"/>\n      <use xlink:href=\"#DejaVuSans-75\" transform=\"translate(1056.197266 0)\"/>\n      <use xlink:href=\"#DejaVuSans-74\" transform=\"translate(1119.576172 0)\"/>\n      <use xlink:href=\"#DejaVuSans-20\" transform=\"translate(1158.785156 0)\"/>\n      <use xlink:href=\"#DejaVuSans-28\" transform=\"translate(1190.572266 0)\"/>\n      <use xlink:href=\"#DejaVuSans-74\" transform=\"translate(1229.585938 0)\"/>\n      <use xlink:href=\"#DejaVuSans-72\" transform=\"translate(1268.794922 0)\"/>\n      <use xlink:href=\"#DejaVuSans-61\" transform=\"translate(1309.908203 0)\"/>\n      <use xlink:href=\"#DejaVuSans-69\" transform=\"translate(1371.1875 0)\"/>\n      <use xlink:href=\"#DejaVuSans-6e\" transform=\"translate(1398.970703 0)\"/>\n      <use xlink:href=\"#DejaVuSans-29\" transform=\"translate(1462.349609 0)\"/>\n     </g>\n    </g>\n    <g id=\"line2d_102\">\n     <path d=\"M 39.103125 464.797812 \nL 49.103125 464.797812 \nL 59.103125 464.797812 \n\" style=\"fill: none; stroke-dasharray: 5.55,2.4; stroke-dashoffset: 0; stroke: #0000ff; stroke-width: 1.5\"/>\n    </g>\n    <g id=\"text_51\">\n     <!-- second_model_dropout (test) -->\n     <g transform=\"translate(67.103125 468.297812) scale(0.1 -0.1)\">\n      <use xlink:href=\"#DejaVuSans-73\"/>\n      <use xlink:href=\"#DejaVuSans-65\" transform=\"translate(52.099609 0)\"/>\n      <use xlink:href=\"#DejaVuSans-63\" transform=\"translate(113.623047 0)\"/>\n      <use xlink:href=\"#DejaVuSans-6f\" transform=\"translate(168.603516 0)\"/>\n      <use xlink:href=\"#DejaVuSans-6e\" transform=\"translate(229.785156 0)\"/>\n      <use xlink:href=\"#DejaVuSans-64\" transform=\"translate(293.164062 0)\"/>\n      <use xlink:href=\"#DejaVuSans-5f\" transform=\"translate(356.640625 0)\"/>\n      <use xlink:href=\"#DejaVuSans-6d\" transform=\"translate(406.640625 0)\"/>\n      <use xlink:href=\"#DejaVuSans-6f\" transform=\"translate(504.052734 0)\"/>\n      <use xlink:href=\"#DejaVuSans-64\" transform=\"translate(565.234375 0)\"/>\n      <use xlink:href=\"#DejaVuSans-65\" transform=\"translate(628.710938 0)\"/>\n      <use xlink:href=\"#DejaVuSans-6c\" transform=\"translate(690.234375 0)\"/>\n      <use xlink:href=\"#DejaVuSans-5f\" transform=\"translate(718.017578 0)\"/>\n      <use xlink:href=\"#DejaVuSans-64\" transform=\"translate(768.017578 0)\"/>\n      <use xlink:href=\"#DejaVuSans-72\" transform=\"translate(831.494141 0)\"/>\n      <use xlink:href=\"#DejaVuSans-6f\" transform=\"translate(870.357422 0)\"/>\n      <use xlink:href=\"#DejaVuSans-70\" transform=\"translate(931.539062 0)\"/>\n      <use xlink:href=\"#DejaVuSans-6f\" transform=\"translate(995.015625 0)\"/>\n      <use xlink:href=\"#DejaVuSans-75\" transform=\"translate(1056.197266 0)\"/>\n      <use xlink:href=\"#DejaVuSans-74\" transform=\"translate(1119.576172 0)\"/>\n      <use xlink:href=\"#DejaVuSans-20\" transform=\"translate(1158.785156 0)\"/>\n      <use xlink:href=\"#DejaVuSans-28\" transform=\"translate(1190.572266 0)\"/>\n      <use xlink:href=\"#DejaVuSans-74\" transform=\"translate(1229.585938 0)\"/>\n      <use xlink:href=\"#DejaVuSans-65\" transform=\"translate(1268.794922 0)\"/>\n      <use xlink:href=\"#DejaVuSans-73\" transform=\"translate(1330.318359 0)\"/>\n      <use xlink:href=\"#DejaVuSans-74\" transform=\"translate(1382.417969 0)\"/>\n      <use xlink:href=\"#DejaVuSans-29\" transform=\"translate(1421.626953 0)\"/>\n     </g>\n    </g>\n    <g id=\"line2d_103\">\n     <path d=\"M 39.103125 479.754062 \nL 49.103125 479.754062 \nL 59.103125 479.754062 \n\" style=\"fill: none; stroke: #008000; stroke-width: 1.5; stroke-linecap: square\"/>\n    </g>\n    <g id=\"text_52\">\n     <!-- third_model_nodropout (train) -->\n     <g transform=\"translate(67.103125 483.254062) scale(0.1 -0.1)\">\n      <use xlink:href=\"#DejaVuSans-74\"/>\n      <use xlink:href=\"#DejaVuSans-68\" transform=\"translate(39.208984 0)\"/>\n      <use xlink:href=\"#DejaVuSans-69\" transform=\"translate(102.587891 0)\"/>\n      <use xlink:href=\"#DejaVuSans-72\" transform=\"translate(130.371094 0)\"/>\n      <use xlink:href=\"#DejaVuSans-64\" transform=\"translate(169.734375 0)\"/>\n      <use xlink:href=\"#DejaVuSans-5f\" transform=\"translate(233.210938 0)\"/>\n      <use xlink:href=\"#DejaVuSans-6d\" transform=\"translate(283.210938 0)\"/>\n      <use xlink:href=\"#DejaVuSans-6f\" transform=\"translate(380.623047 0)\"/>\n      <use xlink:href=\"#DejaVuSans-64\" transform=\"translate(441.804688 0)\"/>\n      <use xlink:href=\"#DejaVuSans-65\" transform=\"translate(505.28125 0)\"/>\n      <use xlink:href=\"#DejaVuSans-6c\" transform=\"translate(566.804688 0)\"/>\n      <use xlink:href=\"#DejaVuSans-5f\" transform=\"translate(594.587891 0)\"/>\n      <use xlink:href=\"#DejaVuSans-6e\" transform=\"translate(644.587891 0)\"/>\n      <use xlink:href=\"#DejaVuSans-6f\" transform=\"translate(707.966797 0)\"/>\n      <use xlink:href=\"#DejaVuSans-64\" transform=\"translate(769.148438 0)\"/>\n      <use xlink:href=\"#DejaVuSans-72\" transform=\"translate(832.625 0)\"/>\n      <use xlink:href=\"#DejaVuSans-6f\" transform=\"translate(871.488281 0)\"/>\n      <use xlink:href=\"#DejaVuSans-70\" transform=\"translate(932.669922 0)\"/>\n      <use xlink:href=\"#DejaVuSans-6f\" transform=\"translate(996.146484 0)\"/>\n      <use xlink:href=\"#DejaVuSans-75\" transform=\"translate(1057.328125 0)\"/>\n      <use xlink:href=\"#DejaVuSans-74\" transform=\"translate(1120.707031 0)\"/>\n      <use xlink:href=\"#DejaVuSans-20\" transform=\"translate(1159.916016 0)\"/>\n      <use xlink:href=\"#DejaVuSans-28\" transform=\"translate(1191.703125 0)\"/>\n      <use xlink:href=\"#DejaVuSans-74\" transform=\"translate(1230.716797 0)\"/>\n      <use xlink:href=\"#DejaVuSans-72\" transform=\"translate(1269.925781 0)\"/>\n      <use xlink:href=\"#DejaVuSans-61\" transform=\"translate(1311.039062 0)\"/>\n      <use xlink:href=\"#DejaVuSans-69\" transform=\"translate(1372.318359 0)\"/>\n      <use xlink:href=\"#DejaVuSans-6e\" transform=\"translate(1400.101562 0)\"/>\n      <use xlink:href=\"#DejaVuSans-29\" transform=\"translate(1463.480469 0)\"/>\n     </g>\n    </g>\n    <g id=\"line2d_104\">\n     <path d=\"M 39.103125 494.710312 \nL 49.103125 494.710312 \nL 59.103125 494.710312 \n\" style=\"fill: none; stroke-dasharray: 5.55,2.4; stroke-dashoffset: 0; stroke: #008000; stroke-width: 1.5\"/>\n    </g>\n    <g id=\"text_53\">\n     <!-- third_model_nodropout (test) -->\n     <g transform=\"translate(67.103125 498.210312) scale(0.1 -0.1)\">\n      <use xlink:href=\"#DejaVuSans-74\"/>\n      <use xlink:href=\"#DejaVuSans-68\" transform=\"translate(39.208984 0)\"/>\n      <use xlink:href=\"#DejaVuSans-69\" transform=\"translate(102.587891 0)\"/>\n      <use xlink:href=\"#DejaVuSans-72\" transform=\"translate(130.371094 0)\"/>\n      <use xlink:href=\"#DejaVuSans-64\" transform=\"translate(169.734375 0)\"/>\n      <use xlink:href=\"#DejaVuSans-5f\" transform=\"translate(233.210938 0)\"/>\n      <use xlink:href=\"#DejaVuSans-6d\" transform=\"translate(283.210938 0)\"/>\n      <use xlink:href=\"#DejaVuSans-6f\" transform=\"translate(380.623047 0)\"/>\n      <use xlink:href=\"#DejaVuSans-64\" transform=\"translate(441.804688 0)\"/>\n      <use xlink:href=\"#DejaVuSans-65\" transform=\"translate(505.28125 0)\"/>\n      <use xlink:href=\"#DejaVuSans-6c\" transform=\"translate(566.804688 0)\"/>\n      <use xlink:href=\"#DejaVuSans-5f\" transform=\"translate(594.587891 0)\"/>\n      <use xlink:href=\"#DejaVuSans-6e\" transform=\"translate(644.587891 0)\"/>\n      <use xlink:href=\"#DejaVuSans-6f\" transform=\"translate(707.966797 0)\"/>\n      <use xlink:href=\"#DejaVuSans-64\" transform=\"translate(769.148438 0)\"/>\n      <use xlink:href=\"#DejaVuSans-72\" transform=\"translate(832.625 0)\"/>\n      <use xlink:href=\"#DejaVuSans-6f\" transform=\"translate(871.488281 0)\"/>\n      <use xlink:href=\"#DejaVuSans-70\" transform=\"translate(932.669922 0)\"/>\n      <use xlink:href=\"#DejaVuSans-6f\" transform=\"translate(996.146484 0)\"/>\n      <use xlink:href=\"#DejaVuSans-75\" transform=\"translate(1057.328125 0)\"/>\n      <use xlink:href=\"#DejaVuSans-74\" transform=\"translate(1120.707031 0)\"/>\n      <use xlink:href=\"#DejaVuSans-20\" transform=\"translate(1159.916016 0)\"/>\n      <use xlink:href=\"#DejaVuSans-28\" transform=\"translate(1191.703125 0)\"/>\n      <use xlink:href=\"#DejaVuSans-74\" transform=\"translate(1230.716797 0)\"/>\n      <use xlink:href=\"#DejaVuSans-65\" transform=\"translate(1269.925781 0)\"/>\n      <use xlink:href=\"#DejaVuSans-73\" transform=\"translate(1331.449219 0)\"/>\n      <use xlink:href=\"#DejaVuSans-74\" transform=\"translate(1383.548828 0)\"/>\n      <use xlink:href=\"#DejaVuSans-29\" transform=\"translate(1422.757812 0)\"/>\n     </g>\n    </g>\n    <g id=\"line2d_105\">\n     <path d=\"M 39.103125 509.666562 \nL 49.103125 509.666562 \nL 59.103125 509.666562 \n\" style=\"fill: none; stroke: #ffa500; stroke-width: 1.5; stroke-linecap: square\"/>\n    </g>\n    <g id=\"text_54\">\n     <!-- third_model_dropout (train) -->\n     <g transform=\"translate(67.103125 513.166562) scale(0.1 -0.1)\">\n      <use xlink:href=\"#DejaVuSans-74\"/>\n      <use xlink:href=\"#DejaVuSans-68\" transform=\"translate(39.208984 0)\"/>\n      <use xlink:href=\"#DejaVuSans-69\" transform=\"translate(102.587891 0)\"/>\n      <use xlink:href=\"#DejaVuSans-72\" transform=\"translate(130.371094 0)\"/>\n      <use xlink:href=\"#DejaVuSans-64\" transform=\"translate(169.734375 0)\"/>\n      <use xlink:href=\"#DejaVuSans-5f\" transform=\"translate(233.210938 0)\"/>\n      <use xlink:href=\"#DejaVuSans-6d\" transform=\"translate(283.210938 0)\"/>\n      <use xlink:href=\"#DejaVuSans-6f\" transform=\"translate(380.623047 0)\"/>\n      <use xlink:href=\"#DejaVuSans-64\" transform=\"translate(441.804688 0)\"/>\n      <use xlink:href=\"#DejaVuSans-65\" transform=\"translate(505.28125 0)\"/>\n      <use xlink:href=\"#DejaVuSans-6c\" transform=\"translate(566.804688 0)\"/>\n      <use xlink:href=\"#DejaVuSans-5f\" transform=\"translate(594.587891 0)\"/>\n      <use xlink:href=\"#DejaVuSans-64\" transform=\"translate(644.587891 0)\"/>\n      <use xlink:href=\"#DejaVuSans-72\" transform=\"translate(708.064453 0)\"/>\n      <use xlink:href=\"#DejaVuSans-6f\" transform=\"translate(746.927734 0)\"/>\n      <use xlink:href=\"#DejaVuSans-70\" transform=\"translate(808.109375 0)\"/>\n      <use xlink:href=\"#DejaVuSans-6f\" transform=\"translate(871.585938 0)\"/>\n      <use xlink:href=\"#DejaVuSans-75\" transform=\"translate(932.767578 0)\"/>\n      <use xlink:href=\"#DejaVuSans-74\" transform=\"translate(996.146484 0)\"/>\n      <use xlink:href=\"#DejaVuSans-20\" transform=\"translate(1035.355469 0)\"/>\n      <use xlink:href=\"#DejaVuSans-28\" transform=\"translate(1067.142578 0)\"/>\n      <use xlink:href=\"#DejaVuSans-74\" transform=\"translate(1106.15625 0)\"/>\n      <use xlink:href=\"#DejaVuSans-72\" transform=\"translate(1145.365234 0)\"/>\n      <use xlink:href=\"#DejaVuSans-61\" transform=\"translate(1186.478516 0)\"/>\n      <use xlink:href=\"#DejaVuSans-69\" transform=\"translate(1247.757812 0)\"/>\n      <use xlink:href=\"#DejaVuSans-6e\" transform=\"translate(1275.541016 0)\"/>\n      <use xlink:href=\"#DejaVuSans-29\" transform=\"translate(1338.919922 0)\"/>\n     </g>\n    </g>\n    <g id=\"line2d_106\">\n     <path d=\"M 39.103125 524.622812 \nL 49.103125 524.622812 \nL 59.103125 524.622812 \n\" style=\"fill: none; stroke-dasharray: 5.55,2.4; stroke-dashoffset: 0; stroke: #ffa500; stroke-width: 1.5\"/>\n    </g>\n    <g id=\"text_55\">\n     <!-- third_model_dropout (test) -->\n     <g transform=\"translate(67.103125 528.122812) scale(0.1 -0.1)\">\n      <use xlink:href=\"#DejaVuSans-74\"/>\n      <use xlink:href=\"#DejaVuSans-68\" transform=\"translate(39.208984 0)\"/>\n      <use xlink:href=\"#DejaVuSans-69\" transform=\"translate(102.587891 0)\"/>\n      <use xlink:href=\"#DejaVuSans-72\" transform=\"translate(130.371094 0)\"/>\n      <use xlink:href=\"#DejaVuSans-64\" transform=\"translate(169.734375 0)\"/>\n      <use xlink:href=\"#DejaVuSans-5f\" transform=\"translate(233.210938 0)\"/>\n      <use xlink:href=\"#DejaVuSans-6d\" transform=\"translate(283.210938 0)\"/>\n      <use xlink:href=\"#DejaVuSans-6f\" transform=\"translate(380.623047 0)\"/>\n      <use xlink:href=\"#DejaVuSans-64\" transform=\"translate(441.804688 0)\"/>\n      <use xlink:href=\"#DejaVuSans-65\" transform=\"translate(505.28125 0)\"/>\n      <use xlink:href=\"#DejaVuSans-6c\" transform=\"translate(566.804688 0)\"/>\n      <use xlink:href=\"#DejaVuSans-5f\" transform=\"translate(594.587891 0)\"/>\n      <use xlink:href=\"#DejaVuSans-64\" transform=\"translate(644.587891 0)\"/>\n      <use xlink:href=\"#DejaVuSans-72\" transform=\"translate(708.064453 0)\"/>\n      <use xlink:href=\"#DejaVuSans-6f\" transform=\"translate(746.927734 0)\"/>\n      <use xlink:href=\"#DejaVuSans-70\" transform=\"translate(808.109375 0)\"/>\n      <use xlink:href=\"#DejaVuSans-6f\" transform=\"translate(871.585938 0)\"/>\n      <use xlink:href=\"#DejaVuSans-75\" transform=\"translate(932.767578 0)\"/>\n      <use xlink:href=\"#DejaVuSans-74\" transform=\"translate(996.146484 0)\"/>\n      <use xlink:href=\"#DejaVuSans-20\" transform=\"translate(1035.355469 0)\"/>\n      <use xlink:href=\"#DejaVuSans-28\" transform=\"translate(1067.142578 0)\"/>\n      <use xlink:href=\"#DejaVuSans-74\" transform=\"translate(1106.15625 0)\"/>\n      <use xlink:href=\"#DejaVuSans-65\" transform=\"translate(1145.365234 0)\"/>\n      <use xlink:href=\"#DejaVuSans-73\" transform=\"translate(1206.888672 0)\"/>\n      <use xlink:href=\"#DejaVuSans-74\" transform=\"translate(1258.988281 0)\"/>\n      <use xlink:href=\"#DejaVuSans-29\" transform=\"translate(1298.197266 0)\"/>\n     </g>\n    </g>\n    <g id=\"line2d_107\">\n     <path d=\"M 39.103125 539.579062 \nL 49.103125 539.579062 \nL 59.103125 539.579062 \n\" style=\"fill: none; stroke: #800080; stroke-width: 1.5; stroke-linecap: square\"/>\n    </g>\n    <g id=\"text_56\">\n     <!-- fourth_model_nodropout (train) -->\n     <g transform=\"translate(67.103125 543.079062) scale(0.1 -0.1)\">\n      <use xlink:href=\"#DejaVuSans-66\"/>\n      <use xlink:href=\"#DejaVuSans-6f\" transform=\"translate(35.205078 0)\"/>\n      <use xlink:href=\"#DejaVuSans-75\" transform=\"translate(96.386719 0)\"/>\n      <use xlink:href=\"#DejaVuSans-72\" transform=\"translate(159.765625 0)\"/>\n      <use xlink:href=\"#DejaVuSans-74\" transform=\"translate(200.878906 0)\"/>\n      <use xlink:href=\"#DejaVuSans-68\" transform=\"translate(240.087891 0)\"/>\n      <use xlink:href=\"#DejaVuSans-5f\" transform=\"translate(303.466797 0)\"/>\n      <use xlink:href=\"#DejaVuSans-6d\" transform=\"translate(353.466797 0)\"/>\n      <use xlink:href=\"#DejaVuSans-6f\" transform=\"translate(450.878906 0)\"/>\n      <use xlink:href=\"#DejaVuSans-64\" transform=\"translate(512.060547 0)\"/>\n      <use xlink:href=\"#DejaVuSans-65\" transform=\"translate(575.537109 0)\"/>\n      <use xlink:href=\"#DejaVuSans-6c\" transform=\"translate(637.060547 0)\"/>\n      <use xlink:href=\"#DejaVuSans-5f\" transform=\"translate(664.84375 0)\"/>\n      <use xlink:href=\"#DejaVuSans-6e\" transform=\"translate(714.84375 0)\"/>\n      <use xlink:href=\"#DejaVuSans-6f\" transform=\"translate(778.222656 0)\"/>\n      <use xlink:href=\"#DejaVuSans-64\" transform=\"translate(839.404297 0)\"/>\n      <use xlink:href=\"#DejaVuSans-72\" transform=\"translate(902.880859 0)\"/>\n      <use xlink:href=\"#DejaVuSans-6f\" transform=\"translate(941.744141 0)\"/>\n      <use xlink:href=\"#DejaVuSans-70\" transform=\"translate(1002.925781 0)\"/>\n      <use xlink:href=\"#DejaVuSans-6f\" transform=\"translate(1066.402344 0)\"/>\n      <use xlink:href=\"#DejaVuSans-75\" transform=\"translate(1127.583984 0)\"/>\n      <use xlink:href=\"#DejaVuSans-74\" transform=\"translate(1190.962891 0)\"/>\n      <use xlink:href=\"#DejaVuSans-20\" transform=\"translate(1230.171875 0)\"/>\n      <use xlink:href=\"#DejaVuSans-28\" transform=\"translate(1261.958984 0)\"/>\n      <use xlink:href=\"#DejaVuSans-74\" transform=\"translate(1300.972656 0)\"/>\n      <use xlink:href=\"#DejaVuSans-72\" transform=\"translate(1340.181641 0)\"/>\n      <use xlink:href=\"#DejaVuSans-61\" transform=\"translate(1381.294922 0)\"/>\n      <use xlink:href=\"#DejaVuSans-69\" transform=\"translate(1442.574219 0)\"/>\n      <use xlink:href=\"#DejaVuSans-6e\" transform=\"translate(1470.357422 0)\"/>\n      <use xlink:href=\"#DejaVuSans-29\" transform=\"translate(1533.736328 0)\"/>\n     </g>\n    </g>\n    <g id=\"line2d_108\">\n     <path d=\"M 39.103125 554.535312 \nL 49.103125 554.535312 \nL 59.103125 554.535312 \n\" style=\"fill: none; stroke-dasharray: 5.55,2.4; stroke-dashoffset: 0; stroke: #800080; stroke-width: 1.5\"/>\n    </g>\n    <g id=\"text_57\">\n     <!-- fourth_model_nodropout (test) -->\n     <g transform=\"translate(67.103125 558.035312) scale(0.1 -0.1)\">\n      <use xlink:href=\"#DejaVuSans-66\"/>\n      <use xlink:href=\"#DejaVuSans-6f\" transform=\"translate(35.205078 0)\"/>\n      <use xlink:href=\"#DejaVuSans-75\" transform=\"translate(96.386719 0)\"/>\n      <use xlink:href=\"#DejaVuSans-72\" transform=\"translate(159.765625 0)\"/>\n      <use xlink:href=\"#DejaVuSans-74\" transform=\"translate(200.878906 0)\"/>\n      <use xlink:href=\"#DejaVuSans-68\" transform=\"translate(240.087891 0)\"/>\n      <use xlink:href=\"#DejaVuSans-5f\" transform=\"translate(303.466797 0)\"/>\n      <use xlink:href=\"#DejaVuSans-6d\" transform=\"translate(353.466797 0)\"/>\n      <use xlink:href=\"#DejaVuSans-6f\" transform=\"translate(450.878906 0)\"/>\n      <use xlink:href=\"#DejaVuSans-64\" transform=\"translate(512.060547 0)\"/>\n      <use xlink:href=\"#DejaVuSans-65\" transform=\"translate(575.537109 0)\"/>\n      <use xlink:href=\"#DejaVuSans-6c\" transform=\"translate(637.060547 0)\"/>\n      <use xlink:href=\"#DejaVuSans-5f\" transform=\"translate(664.84375 0)\"/>\n      <use xlink:href=\"#DejaVuSans-6e\" transform=\"translate(714.84375 0)\"/>\n      <use xlink:href=\"#DejaVuSans-6f\" transform=\"translate(778.222656 0)\"/>\n      <use xlink:href=\"#DejaVuSans-64\" transform=\"translate(839.404297 0)\"/>\n      <use xlink:href=\"#DejaVuSans-72\" transform=\"translate(902.880859 0)\"/>\n      <use xlink:href=\"#DejaVuSans-6f\" transform=\"translate(941.744141 0)\"/>\n      <use xlink:href=\"#DejaVuSans-70\" transform=\"translate(1002.925781 0)\"/>\n      <use xlink:href=\"#DejaVuSans-6f\" transform=\"translate(1066.402344 0)\"/>\n      <use xlink:href=\"#DejaVuSans-75\" transform=\"translate(1127.583984 0)\"/>\n      <use xlink:href=\"#DejaVuSans-74\" transform=\"translate(1190.962891 0)\"/>\n      <use xlink:href=\"#DejaVuSans-20\" transform=\"translate(1230.171875 0)\"/>\n      <use xlink:href=\"#DejaVuSans-28\" transform=\"translate(1261.958984 0)\"/>\n      <use xlink:href=\"#DejaVuSans-74\" transform=\"translate(1300.972656 0)\"/>\n      <use xlink:href=\"#DejaVuSans-65\" transform=\"translate(1340.181641 0)\"/>\n      <use xlink:href=\"#DejaVuSans-73\" transform=\"translate(1401.705078 0)\"/>\n      <use xlink:href=\"#DejaVuSans-74\" transform=\"translate(1453.804688 0)\"/>\n      <use xlink:href=\"#DejaVuSans-29\" transform=\"translate(1493.013672 0)\"/>\n     </g>\n    </g>\n    <g id=\"line2d_109\">\n     <path d=\"M 39.103125 569.491562 \nL 49.103125 569.491562 \nL 59.103125 569.491562 \n\" style=\"fill: none; stroke: #00ffff; stroke-width: 1.5; stroke-linecap: square\"/>\n    </g>\n    <g id=\"text_58\">\n     <!-- fourth_model_dropout (train) -->\n     <g transform=\"translate(67.103125 572.991562) scale(0.1 -0.1)\">\n      <use xlink:href=\"#DejaVuSans-66\"/>\n      <use xlink:href=\"#DejaVuSans-6f\" transform=\"translate(35.205078 0)\"/>\n      <use xlink:href=\"#DejaVuSans-75\" transform=\"translate(96.386719 0)\"/>\n      <use xlink:href=\"#DejaVuSans-72\" transform=\"translate(159.765625 0)\"/>\n      <use xlink:href=\"#DejaVuSans-74\" transform=\"translate(200.878906 0)\"/>\n      <use xlink:href=\"#DejaVuSans-68\" transform=\"translate(240.087891 0)\"/>\n      <use xlink:href=\"#DejaVuSans-5f\" transform=\"translate(303.466797 0)\"/>\n      <use xlink:href=\"#DejaVuSans-6d\" transform=\"translate(353.466797 0)\"/>\n      <use xlink:href=\"#DejaVuSans-6f\" transform=\"translate(450.878906 0)\"/>\n      <use xlink:href=\"#DejaVuSans-64\" transform=\"translate(512.060547 0)\"/>\n      <use xlink:href=\"#DejaVuSans-65\" transform=\"translate(575.537109 0)\"/>\n      <use xlink:href=\"#DejaVuSans-6c\" transform=\"translate(637.060547 0)\"/>\n      <use xlink:href=\"#DejaVuSans-5f\" transform=\"translate(664.84375 0)\"/>\n      <use xlink:href=\"#DejaVuSans-64\" transform=\"translate(714.84375 0)\"/>\n      <use xlink:href=\"#DejaVuSans-72\" transform=\"translate(778.320312 0)\"/>\n      <use xlink:href=\"#DejaVuSans-6f\" transform=\"translate(817.183594 0)\"/>\n      <use xlink:href=\"#DejaVuSans-70\" transform=\"translate(878.365234 0)\"/>\n      <use xlink:href=\"#DejaVuSans-6f\" transform=\"translate(941.841797 0)\"/>\n      <use xlink:href=\"#DejaVuSans-75\" transform=\"translate(1003.023438 0)\"/>\n      <use xlink:href=\"#DejaVuSans-74\" transform=\"translate(1066.402344 0)\"/>\n      <use xlink:href=\"#DejaVuSans-20\" transform=\"translate(1105.611328 0)\"/>\n      <use xlink:href=\"#DejaVuSans-28\" transform=\"translate(1137.398438 0)\"/>\n      <use xlink:href=\"#DejaVuSans-74\" transform=\"translate(1176.412109 0)\"/>\n      <use xlink:href=\"#DejaVuSans-72\" transform=\"translate(1215.621094 0)\"/>\n      <use xlink:href=\"#DejaVuSans-61\" transform=\"translate(1256.734375 0)\"/>\n      <use xlink:href=\"#DejaVuSans-69\" transform=\"translate(1318.013672 0)\"/>\n      <use xlink:href=\"#DejaVuSans-6e\" transform=\"translate(1345.796875 0)\"/>\n      <use xlink:href=\"#DejaVuSans-29\" transform=\"translate(1409.175781 0)\"/>\n     </g>\n    </g>\n    <g id=\"line2d_110\">\n     <path d=\"M 39.103125 584.447812 \nL 49.103125 584.447812 \nL 59.103125 584.447812 \n\" style=\"fill: none; stroke-dasharray: 5.55,2.4; stroke-dashoffset: 0; stroke: #00ffff; stroke-width: 1.5\"/>\n    </g>\n    <g id=\"text_59\">\n     <!-- fourth_model_dropout (test) -->\n     <g transform=\"translate(67.103125 587.947812) scale(0.1 -0.1)\">\n      <use xlink:href=\"#DejaVuSans-66\"/>\n      <use xlink:href=\"#DejaVuSans-6f\" transform=\"translate(35.205078 0)\"/>\n      <use xlink:href=\"#DejaVuSans-75\" transform=\"translate(96.386719 0)\"/>\n      <use xlink:href=\"#DejaVuSans-72\" transform=\"translate(159.765625 0)\"/>\n      <use xlink:href=\"#DejaVuSans-74\" transform=\"translate(200.878906 0)\"/>\n      <use xlink:href=\"#DejaVuSans-68\" transform=\"translate(240.087891 0)\"/>\n      <use xlink:href=\"#DejaVuSans-5f\" transform=\"translate(303.466797 0)\"/>\n      <use xlink:href=\"#DejaVuSans-6d\" transform=\"translate(353.466797 0)\"/>\n      <use xlink:href=\"#DejaVuSans-6f\" transform=\"translate(450.878906 0)\"/>\n      <use xlink:href=\"#DejaVuSans-64\" transform=\"translate(512.060547 0)\"/>\n      <use xlink:href=\"#DejaVuSans-65\" transform=\"translate(575.537109 0)\"/>\n      <use xlink:href=\"#DejaVuSans-6c\" transform=\"translate(637.060547 0)\"/>\n      <use xlink:href=\"#DejaVuSans-5f\" transform=\"translate(664.84375 0)\"/>\n      <use xlink:href=\"#DejaVuSans-64\" transform=\"translate(714.84375 0)\"/>\n      <use xlink:href=\"#DejaVuSans-72\" transform=\"translate(778.320312 0)\"/>\n      <use xlink:href=\"#DejaVuSans-6f\" transform=\"translate(817.183594 0)\"/>\n      <use xlink:href=\"#DejaVuSans-70\" transform=\"translate(878.365234 0)\"/>\n      <use xlink:href=\"#DejaVuSans-6f\" transform=\"translate(941.841797 0)\"/>\n      <use xlink:href=\"#DejaVuSans-75\" transform=\"translate(1003.023438 0)\"/>\n      <use xlink:href=\"#DejaVuSans-74\" transform=\"translate(1066.402344 0)\"/>\n      <use xlink:href=\"#DejaVuSans-20\" transform=\"translate(1105.611328 0)\"/>\n      <use xlink:href=\"#DejaVuSans-28\" transform=\"translate(1137.398438 0)\"/>\n      <use xlink:href=\"#DejaVuSans-74\" transform=\"translate(1176.412109 0)\"/>\n      <use xlink:href=\"#DejaVuSans-65\" transform=\"translate(1215.621094 0)\"/>\n      <use xlink:href=\"#DejaVuSans-73\" transform=\"translate(1277.144531 0)\"/>\n      <use xlink:href=\"#DejaVuSans-74\" transform=\"translate(1329.244141 0)\"/>\n      <use xlink:href=\"#DejaVuSans-29\" transform=\"translate(1368.453125 0)\"/>\n     </g>\n    </g>\n   </g>\n  </g>\n </g>\n <defs>\n  <clipPath id=\"p4091b2d6c2\">\n   <rect x=\"30.103125\" y=\"22.318125\" width=\"675.47\" height=\"296.56\"/>\n  </clipPath>\n  <clipPath id=\"pc17b75fef0\">\n   <rect x=\"30.103125\" y=\"376.918125\" width=\"675.47\" height=\"296.56\"/>\n  </clipPath>\n </defs>\n</svg>\n",
            "application/pdf": "[encoded data removed]"
          },
          "metadata": {}
        }
      ],
      "source": [
        "fig, axes = plt.subplots(2, 1, figsize=(10, 10))\n",
        "colors = ['black', 'red', 'blue', 'green', 'orange', 'purple', 'cyan']\n",
        "\n",
        "for idx, (name, data) in enumerate(models_data.items()):\n",
        "    epochs = np.arange(1, data['num_epochs'] + 1)\n",
        "    axes[0].plot(epochs, data['train_losses'], color=colors[idx], linestyle='-', label=f'{name} (train)')\n",
        "    axes[0].plot(epochs, data['test_losses'], color=colors[idx], linestyle='--', label=f'{name} (test)')\n",
        "for idx, (name, data) in enumerate(models_data.items()):\n",
        "    epochs = np.arange(1, data['num_epochs'] + 1)\n",
        "    axes[1].plot(epochs, data['train_acc'], color=colors[idx], linestyle='-', label=f'{name} (train)')\n",
        "    axes[1].plot(epochs, data['test_acc'], color=colors[idx], linestyle='--', label=f'{name} (test)')\n",
        "\n",
        "axes[0].legend()\n",
        "axes[0].grid(True)\n",
        "axes[0].set_xlabel('Epoch')\n",
        "axes[0].set_title('CrossEntropy Loss')\n",
        "\n",
        "axes[1].legend()\n",
        "axes[1].grid(True)\n",
        "axes[1].set_xlabel('Epoch')\n",
        "axes[1].set_title('Accuracy')\n",
        "\n",
        "fig.tight_layout()\n",
        "plt.savefig(\"results.png\")\n",
        "plt.show()"
      ]
    },
    {
      "cell_type": "markdown",
      "metadata": {
        "id": "JUAF5gPaICLn"
      },
      "source": [
        "Сделайте итоговые выводы о качестве работы моделей с разными реализациями DropOut:"
      ]
    },
    {
      "cell_type": "markdown",
      "source": [
        "Первая модель - без дропаута, вторая - обертка над LSTMCell, третья - FastRNN, четвёртая - HandmadeRNN"
      ],
      "metadata": {
        "id": "FI5AcuGj4KYE"
      }
    },
    {
      "cell_type": "markdown",
      "metadata": {
        "id": "Q7aY7vQPICLn"
      },
      "source": [
        "**Ответ:** Модели работают похоже, естественно, отсутствия dropout приводит к переобучению. Наиболее выдающиеся результаты показали FastRNN и RNNLayer (обёртка над LSTMCell)"
      ]
    },
    {
      "cell_type": "markdown",
      "metadata": {
        "collapsed": true,
        "id": "irfZHV6oICLn"
      },
      "source": [
        "## `Бонус. Zoneout (0.5 балла)`"
      ]
    },
    {
      "cell_type": "markdown",
      "metadata": {
        "collapsed": true,
        "id": "R2Fn9YFdICLn"
      },
      "source": [
        "Это еще одна модификация идеи дропаута применительно к рекуррентным нейросетям. В Zoneout на каждом временном шаге с вероятностью $p$ компонента скрытого состояния обновляется, а с вероятностью $1-p$ берется с предыдущего шага.\n",
        "В Виде формул ($m^t_h$ - бинарная маска):\n",
        "\n",
        "(сначала обычный рекуррентный переход, например LSTM)\n",
        "$$\n",
        "i = \\sigma(h_{t-1}W^i + x_t U^i+b_i) \\quad\n",
        "o = \\sigma(h_{t-1}W^o + x_t U^o+b_o)\n",
        "$$\n",
        "$$\n",
        "f = \\sigma(h_{t-1}W^f + x_t U^f+b_f) \\quad\n",
        "g = tanh(h_{t-1} W^g + x_t U^g+b_g)\n",
        "$$\n",
        "$$\n",
        "c_t = f \\odot c_{t-1} +  i \\odot  g \\quad\n",
        "h_t =  o \\odot tanh(c_t)\n",
        "$$\n",
        "Затем Zoneout:\n",
        "$$\n",
        "h_t = h_t * m_h^t + h_{t-1}*(1-m_h^t)\n",
        "$$\n",
        "В этом методе маска уже должна быть разная во все моменты времени (иначе метод упрощается до дропаута Гала и Гарамани). На входы $x_t$ вновь можно накладывать маску до начала работы рекуррентного слоя.  \n",
        "\n",
        "Если у вас осталось время, вы можете реализовать этот метод. Выберите основу из трех рассмотренных случаев самостоятельно.\n",
        "\n",
        "**Полный балл ставится только при наличии качественного и количественного сравнения с предыдущими моделями.**"
      ]
    },
    {
      "cell_type": "markdown",
      "metadata": {
        "ExecuteTime": {
          "end_time": "2021-03-31T16:05:00.702763Z",
          "start_time": "2021-03-31T16:05:00.674835Z"
        },
        "id": "mG1bsbdTICLo"
      },
      "source": [
        "# `Часть 2. Language Modeling с помощью LSTM (5 баллов)`"
      ]
    },
    {
      "cell_type": "markdown",
      "metadata": {
        "id": "APJurenJICLo"
      },
      "source": [
        "Во второй части мы попробуем обучить модель для генерации отзывов по их началу."
      ]
    },
    {
      "cell_type": "markdown",
      "metadata": {
        "id": "rWgr4WfhICLo"
      },
      "source": [
        "Концептуально модель будет выглядеть следующим образом:\n",
        "    \n",
        "![image info](https://www.researchgate.net/publication/350391597/figure/fig1/AS:1005416683167744@1616721425265/Structure-of-the-long-short-term-memory-language-model-LSTMLM.png)"
      ]
    },
    {
      "cell_type": "markdown",
      "metadata": {
        "id": "nzKjRvPKICLo"
      },
      "source": [
        "В процессе обучения будем тренировать сеть предсказывать вероятность следующего символа при условии всех предыдущих. Эту вероятность можно моделировать с помощью скрытого состояния $h^{(t)}$ пропуская его через линейный слой с выходной размерностью равной размерности словаря:\n",
        "$$\n",
        "p(x^{t}|x^{t-1}, ..., x^{1}) = SoftMax(Linear(h^{(t)}))\n",
        "$$"
      ]
    },
    {
      "cell_type": "markdown",
      "metadata": {
        "id": "owq8uBnCICLo"
      },
      "source": [
        "Обратите внимание, что для вычисления $p(x^{t}|x^{t-1}, ..., x^{1})$ для всех моментов времени достаточно сделать один проход по RNN, а затем применить линейное преобразование ко всем скрытым состояниям."
      ]
    },
    {
      "cell_type": "markdown",
      "metadata": {
        "ExecuteTime": {
          "end_time": "2021-04-02T00:37:56.100520Z",
          "start_time": "2021-04-02T00:37:56.072747Z"
        },
        "id": "MJWHw0YxICLo"
      },
      "source": [
        "В качестве функции потерь необходимо использовать `CrossEntropy`."
      ]
    },
    {
      "cell_type": "markdown",
      "metadata": {
        "id": "-E0_8nKXICLp"
      },
      "source": [
        "Рассмотрим другой важный момент. Для того, чтобы решить данную задачу, модель должна уметь определять момент начала генерации предложения и оповещать о завершении генерации — конце предложения. Для этого добавим в словарь вспомогательные токены `<sos>`, `<eos>`. Добавив `<sos>` в начало каждого предложения и `<eos>` в конец.\n",
        "\n",
        "Модель сможет начинать генерацию как только ей будет передан токен `<sos>` и заканчивать генерацию, как только на очередном месте самым вероятным токеном оказывается `<eos>`."
      ]
    },
    {
      "cell_type": "markdown",
      "metadata": {
        "id": "G8LpmW2WICLp"
      },
      "source": [
        "Для решения этой задачи мы воспользуемся уже реализованной LSTM с дропаутом `FastRNNLayer` и классом `RNNClassifier`, то есть архитектура сети принципиально не поменяется."
      ]
    },
    {
      "cell_type": "markdown",
      "metadata": {
        "id": "sMkL99Q5ICLp"
      },
      "source": [
        "## `Реализация модели и цикла обучения (2 балла)`"
      ]
    },
    {
      "cell_type": "markdown",
      "metadata": {
        "id": "kxg8H9zWICLp"
      },
      "source": [
        "**Не используйте циклы в `RNNLM`, `LMCrossEntropyLoss`, `LMAccuracy`**"
      ]
    },
    {
      "cell_type": "code",
      "execution_count": 258,
      "metadata": {
        "ExecuteTime": {
          "end_time": "2024-03-30T22:43:32.296358Z",
          "start_time": "2024-03-30T22:43:32.292787Z"
        },
        "id": "XMjvaApbICLp"
      },
      "outputs": [],
      "source": [
        "class RNNLM(RNNClassifier):\n",
        "    def __init__(\n",
        "        self, embedding_dim, hidden_dim, tokenizer, dropout=0.5, layers_dropout=0.5, num_layers=1\n",
        "    ):\n",
        "        super().__init__(\n",
        "            embedding_dim=embedding_dim, hidden_dim=hidden_dim,\n",
        "            output_size=tokenizer.get_vocab_size(), tokenizer=tokenizer,\n",
        "            rec_layer=FastRNNLayer, dropout=dropout, layers_dropout=layers_dropout, num_layers=num_layers\n",
        "        )\n",
        "\n",
        "    def forward(self, tokens, tokens_lens):\n",
        "        \"\"\"\n",
        "        :param torch.Tensor(dtype=torch.long) tokens:\n",
        "            Batch of texts represented with tokens. Shape: [T, B]\n",
        "        :param torch.Tensor(dtype=torch.long) tokens_lens:\n",
        "            Number of non-padding tokens for each object in batch. Shape: [B]\n",
        "        :return torch.Tensor:\n",
        "            Distribution of next token for each time step. Shape: [T, B, V], V — size of vocabulary\n",
        "        \"\"\"\n",
        "        # Make embeddings for all tokens\n",
        "        embeddings = self.word_embeddings(tokens)\n",
        "        # Forward pass embeddings through network\n",
        "        rnn_output, _ = self.rnn(embeddings)\n",
        "        # Take all hidden states from the last layer of LSTM for each step and perform linear transformation\n",
        "        logits = self.output(rnn_output)\n",
        "        return logits"
      ]
    },
    {
      "cell_type": "markdown",
      "metadata": {
        "id": "ImknF-8HICLp"
      },
      "source": [
        "Реализуем функцию потерь для данной задачи.\n",
        "\n",
        "Моменты на которые нужно обратить внимание:\n",
        "1. Распределение вероятности следующего токена для последнего токена в последовательности не участвует в подсчёте функции потерь.\n",
        "2. Необходимо учитывать, что в одном батче могут быть тексты разной длины."
      ]
    },
    {
      "cell_type": "markdown",
      "metadata": {
        "id": "swqeNYIbICLp"
      },
      "source": [
        "Для решения второй проблемы можно воспользоваться функцией `torch.nn.utils.rnn.pack_padded_sequence`.\n",
        "\n",
        "Принимая на вход батч тензоров и длину каждого тензора без учёта паддинга эта функция позволяет получить все элементы в тензорах, которые не относятся к паддингу в виде плоского массива:"
      ]
    },
    {
      "cell_type": "code",
      "execution_count": 259,
      "metadata": {
        "ExecuteTime": {
          "end_time": "2024-03-30T22:43:32.679509Z",
          "start_time": "2024-03-30T22:43:32.676456Z"
        },
        "id": "Ysdde1S8ICLq"
      },
      "outputs": [],
      "source": [
        "padded_tensors = torch.tensor([\n",
        "    [[1, 11, 111], [2, 22, 222], [3, 33, 333]],\n",
        "    [[4, 44, 444], [5, 55, 555], [6, 66, 666]],\n",
        "    [[7, 77, 777], [0, 0, 0], [8, 88, 888]],\n",
        "    [[9, 99, 999], [0, 0, 0], [0, 0, 0]]\n",
        "])\n",
        "tensors_lens = torch.tensor([4, 2, 3])"
      ]
    },
    {
      "cell_type": "markdown",
      "metadata": {
        "id": "P08T2tUTICLq"
      },
      "source": [
        "Обратите внимание, что `torch.nn.utils.rnn.pack_padded_sequence` автоматически переупорядочивает тензоры в батче по убыванию их длины."
      ]
    },
    {
      "cell_type": "code",
      "execution_count": 260,
      "metadata": {
        "ExecuteTime": {
          "end_time": "2024-03-30T22:43:32.986692Z",
          "start_time": "2024-03-30T22:43:32.982235Z"
        },
        "id": "346ogj9kICLq",
        "colab": {
          "base_uri": "https://localhost:8080/"
        },
        "outputId": "4ea34395-cb29-4dd3-e278-d027ac521046"
      },
      "outputs": [
        {
          "output_type": "execute_result",
          "data": {
            "text/plain": [
              "PackedSequence(data=tensor([[  1,  11, 111],\n",
              "        [  3,  33, 333],\n",
              "        [  2,  22, 222],\n",
              "        [  4,  44, 444],\n",
              "        [  6,  66, 666],\n",
              "        [  5,  55, 555],\n",
              "        [  7,  77, 777],\n",
              "        [  8,  88, 888],\n",
              "        [  9,  99, 999]]), batch_sizes=tensor([3, 3, 2, 1]), sorted_indices=tensor([0, 2, 1]), unsorted_indices=tensor([0, 2, 1]))"
            ]
          },
          "metadata": {},
          "execution_count": 260
        }
      ],
      "source": [
        "torch.nn.utils.rnn.pack_padded_sequence(padded_tensors, tensors_lens, batch_first=False, enforce_sorted=False)"
      ]
    },
    {
      "cell_type": "code",
      "execution_count": 261,
      "metadata": {
        "ExecuteTime": {
          "end_time": "2024-03-30T22:43:33.678363Z",
          "start_time": "2024-03-30T22:43:33.675046Z"
        },
        "id": "2QbhjXCNICLq"
      },
      "outputs": [],
      "source": [
        "class LMCrossEntropyLoss(torch.nn.CrossEntropyLoss):\n",
        "    def __init__(self, *args, **kwargs):\n",
        "        super().__init__(*args, **kwargs)\n",
        "\n",
        "    def forward(self, outputs, tokens, tokens_lens):\n",
        "        \"\"\"\n",
        "        :param torch.Tensor outputs: Output from RNNLM.forward. Shape: [T, B, V]\n",
        "        :param torch.Tensor tokens: Batch of tokens. Shape: [T, B]\n",
        "        :param torch.Tensor tokens_lens: Length of each sequence in batch\n",
        "        :return torch.Tensor: CrossEntropyLoss between corresponding logits and tokens\n",
        "        \"\"\"\n",
        "        # Use torch.nn.utils.rnn.pack_padded_sequence().data to remove padding and flatten logits and tokens\n",
        "        # Do not forget specify enforce_sorted=False and correct value of batch_first\n",
        "        # YOUR CODE HERE\n",
        "        logits = outputs[:-1]      # (T-1, B, V)\n",
        "        targets = tokens[1:]       # (T-1, B)\n",
        "        lengths = tokens_lens - 1\n",
        "        packed_logits = nn.utils.rnn.pack_padded_sequence(logits, lengths.cpu(), batch_first=False, enforce_sorted=False)\n",
        "        packed_targets = nn.utils.rnn.pack_padded_sequence(targets, lengths.cpu(), batch_first=False, enforce_sorted=False)\n",
        "\n",
        "        # Use super().forward(..., ...) to compute CrossEntropyLoss\n",
        "        return super().forward(packed_logits.data, packed_targets.data)"
      ]
    },
    {
      "cell_type": "markdown",
      "metadata": {
        "id": "miXs9HKtICLq"
      },
      "source": [
        "Проверим как работает класс `LMCrossEntropyLoss`. Важно помнить, что при языковом моделировании мы предсказываем следующий токен, то есть `tokens` и `outputs` смещены друг относительно друга."
      ]
    },
    {
      "cell_type": "code",
      "execution_count": 262,
      "metadata": {
        "id": "gdFsw-XFICLq",
        "colab": {
          "base_uri": "https://localhost:8080/"
        },
        "outputId": "a09ff38e-42ad-4bb9-8aac-be512624d716"
      },
      "outputs": [
        {
          "output_type": "execute_result",
          "data": {
            "text/plain": [
              "tensor([ 3.3636,  0.4519, 23.0000])"
            ]
          },
          "metadata": {},
          "execution_count": 262
        }
      ],
      "source": [
        "loss = LMCrossEntropyLoss(reduction='none')\n",
        "max_len_testing    = 3\n",
        "batch_size_testing = 2\n",
        "vocab_size_testing = 5\n",
        "\n",
        "logits = torch.zeros((max_len_testing, batch_size_testing, vocab_size_testing))\n",
        "tokens = torch.zeros((max_len_testing, batch_size_testing)).long()\n",
        "lens   = torch.tensor([2, 3])\n",
        "\n",
        "logits[:, 0, 0] = torch.tensor([1, -1, 0])\n",
        "logits[:, 0, 1] = torch.tensor([2, 3,  0])\n",
        "logits[:, 0, 2] = torch.tensor([3, 2,  0])\n",
        "logits[:, 0, 3] = torch.tensor([4, 2,  0])\n",
        "logits[:, 0, 4] = torch.tensor([5, 2,  0])\n",
        "\n",
        "\n",
        "logits[:, 1, 0] = torch.tensor([-1, 10, 2])\n",
        "logits[:, 1, 1] = torch.tensor([2, 30,  1])\n",
        "logits[:, 1, 2] = torch.tensor([4, 20,  1])\n",
        "logits[:, 1, 3] = torch.tensor([5, -10, 4])\n",
        "logits[:, 1, 4] = torch.tensor([1, 7,  13])\n",
        "\n",
        "tokens[:, 0]    = torch.tensor([1, 4, 0])\n",
        "tokens[:, 1]    = torch.tensor([3, 1, 4])\n",
        "\n",
        "\n",
        "loss(outputs=logits, tokens=tokens, tokens_lens=lens)"
      ]
    },
    {
      "cell_type": "markdown",
      "metadata": {
        "id": "1zUGpHQeICLr"
      },
      "source": [
        "Для оценки качества нам также необходимо вычислять долю правильно предсказанных токенов. Реализуйте класс для вычисления точности."
      ]
    },
    {
      "cell_type": "code",
      "execution_count": 263,
      "metadata": {
        "ExecuteTime": {
          "end_time": "2024-03-30T22:43:34.348345Z",
          "start_time": "2024-03-30T22:43:34.343850Z"
        },
        "id": "MQ-cJP5TICLr"
      },
      "outputs": [],
      "source": [
        "class LMAccuracy(torch.nn.Module):\n",
        "    def __init__(self):\n",
        "        super().__init__()\n",
        "\n",
        "    def forward(self, outputs, tokens, tokens_lens):\n",
        "        \"\"\"\n",
        "        :param torch.Tensor outputs: Output from RNNLM.forward. Shape: [T, B, V]\n",
        "        :param torch.Tensor tokens: Batch of tokens. Shape: [T, B]\n",
        "        :param torch.Tensor tokens_lens: Length of each sequence in batch\n",
        "        :return torch.Tensor: Accuracy for given logits and tokens\n",
        "        \"\"\"\n",
        "        # Use torch.nn.utils.rnn.pack_padded_sequence().data to remove padding and flatten logits and tokens\n",
        "        # Do not forget specify enforce_sorted=False and correct value of batch_first\n",
        "        # YOUR CODE HERE\n",
        "        logits = outputs[:-1]      # (T-1, B, V)\n",
        "        targets = tokens[1:]       # (T-1, B)\n",
        "        lengths = tokens_lens - 1\n",
        "        packed_logits = nn.utils.rnn.pack_padded_sequence(logits, lengths.cpu(), batch_first=False, enforce_sorted=False)\n",
        "        packed_targets = nn.utils.rnn.pack_padded_sequence(targets, lengths.cpu(), batch_first=False, enforce_sorted=False)\n",
        "        predictions = packed_logits.data.argmax(dim=1)\n",
        "        gold = packed_targets.data\n",
        "        correct = (predictions == gold).sum().float()\n",
        "        total = gold.numel()\n",
        "        return correct / total"
      ]
    },
    {
      "cell_type": "markdown",
      "metadata": {
        "id": "5Uur-OSOICLr"
      },
      "source": [
        "Проверим как работает класс `LMAccuracy`."
      ]
    },
    {
      "cell_type": "code",
      "execution_count": 264,
      "metadata": {
        "id": "WLd5AX3fICLr",
        "colab": {
          "base_uri": "https://localhost:8080/"
        },
        "outputId": "fcde67a6-a398-43a4-dc20-152e4839d770"
      },
      "outputs": [
        {
          "output_type": "execute_result",
          "data": {
            "text/plain": [
              "tensor(0.3333)"
            ]
          },
          "metadata": {},
          "execution_count": 264
        }
      ],
      "source": [
        "metric = LMAccuracy()\n",
        "max_len_testing    = 3\n",
        "batch_size_testing = 2\n",
        "vocab_size_testing = 5\n",
        "\n",
        "logits = torch.zeros((max_len_testing, batch_size_testing, vocab_size_testing))\n",
        "tokens = torch.zeros((max_len_testing, batch_size_testing)).long()\n",
        "lens   = torch.tensor([2, 3])\n",
        "\n",
        "logits[:, 0, 0] = torch.tensor([1, -1, 0])\n",
        "logits[:, 0, 1] = torch.tensor([2, 3,  0])\n",
        "logits[:, 0, 2] = torch.tensor([3, 2,  0])\n",
        "logits[:, 0, 3] = torch.tensor([4, 2,  0])\n",
        "logits[:, 0, 4] = torch.tensor([5, 2,  0])\n",
        "\n",
        "\n",
        "logits[:, 1, 0] = torch.tensor([-1, 10, 2])\n",
        "logits[:, 1, 1] = torch.tensor([2, 30,  1])\n",
        "logits[:, 1, 2] = torch.tensor([4, 20,  1])\n",
        "logits[:, 1, 3] = torch.tensor([5, -10, 4])\n",
        "logits[:, 1, 4] = torch.tensor([1, 7,  13])\n",
        "\n",
        "tokens[:, 0]    = torch.tensor([1, 4, 0])\n",
        "tokens[:, 1]    = torch.tensor([3, 1, 4])\n",
        "\n",
        "\n",
        "metric(outputs=logits, tokens=tokens, tokens_lens=lens)"
      ]
    },
    {
      "cell_type": "code",
      "execution_count": 265,
      "metadata": {
        "id": "LNLfBU1wICLr"
      },
      "outputs": [],
      "source": [
        "metric = LMAccuracy()\n",
        "max_len_testing    = 10\n",
        "batch_size_testing = 3\n",
        "vocab_size_testing = 200\n",
        "\n",
        "set_global_seed(42)\n",
        "logits = torch.randn((max_len_testing, batch_size_testing, vocab_size_testing))\n",
        "logits[:, :, 1] = 1000\n",
        "\n",
        "tokens = torch.randint(low=0, high=vocab_size_testing, size=(max_len_testing, batch_size_testing))\n",
        "tokens[:5, :] = 1\n",
        "lens   = torch.tensor([10, 4, 9])\n",
        "\n",
        "assert metric(outputs=logits, tokens=tokens, tokens_lens=lens) == (4 + 3 + 4) / (lens - 1).sum()"
      ]
    },
    {
      "cell_type": "markdown",
      "metadata": {
        "id": "rTZKLqIuICLr"
      },
      "source": [
        "Модифицируйте функции `train_epoch`, `evaluate`, `train` для обучения LM.\n",
        "\n",
        "**При вычислении точности, обратите внимание на то, что мы не предсказываем первый токен в каждой последовательности и токены, относящиеся к паддингу.**"
      ]
    },
    {
      "cell_type": "code",
      "execution_count": 266,
      "metadata": {
        "ExecuteTime": {
          "end_time": "2024-03-30T22:43:35.025284Z",
          "start_time": "2024-03-30T22:43:35.019283Z"
        },
        "id": "FCXEZCCRICLr"
      },
      "outputs": [],
      "source": [
        "def train_epoch_lm(dataloader, model, loss_fn, optimizer, device):\n",
        "    model.train()\n",
        "    for idx, data in enumerate(dataloader):\n",
        "        # 1. Take data from batch\n",
        "        tokens = data['tokens']\n",
        "        tokens_lens = data['tokens_lens']\n",
        "        tokens = tokens.to(device)\n",
        "        tokens_lens = tokens_lens.to(device)\n",
        "        # 2. Perform forward pass\n",
        "        outputs = model(tokens, tokens_lens)\n",
        "        # 3. Evaluate loss\n",
        "        loss = loss_fn(outputs, tokens, tokens_lens)\n",
        "        # 4. Make optimizer step\n",
        "        optimizer.zero_grad()\n",
        "        loss.backward()\n",
        "        optimizer.step()\n",
        "\n",
        "def evaluate_lm(dataloader, model, loss_fn, device):\n",
        "    model.eval()\n",
        "\n",
        "    total_tokens = 0\n",
        "    total_loss = 0.0\n",
        "    total_accuracy = 0.0\n",
        "\n",
        "    accuracy_fn = LMAccuracy()\n",
        "    with torch.no_grad():\n",
        "        for idx, data in enumerate(dataloader):\n",
        "            # 1. Take data from batch\n",
        "            tokens = data['tokens']\n",
        "            tokens_lens = data['tokens_lens']\n",
        "            tokens = tokens.to(device)\n",
        "            tokens_lens = tokens_lens.to(device)\n",
        "            # 2. Perform forward pass\n",
        "            outputs = model(tokens, tokens_lens)\n",
        "            # 3. Evaluate loss\n",
        "            loss = loss_fn(outputs, tokens, tokens_lens)\n",
        "            total_loss += loss.item() * tokens_lens.sum().item()\n",
        "            # 4. Evaluate accuracy\n",
        "            accuracy = accuracy_fn(outputs, tokens, tokens_lens)\n",
        "            total_accuracy += accuracy.item() * tokens_lens.sum().item()\n",
        "            total_tokens += (tokens_lens - 1).sum().item()\n",
        "\n",
        "    return total_loss / total_tokens, total_accuracy / total_tokens\n",
        "\n",
        "def train_lm(\n",
        "    train_loader, test_loader, model, loss_fn, optimizer, device, num_epochs\n",
        "):\n",
        "    test_losses = []\n",
        "    train_losses = []\n",
        "    test_accuracies = []\n",
        "    train_accuracies = []\n",
        "    for epoch in range(num_epochs):\n",
        "        train_epoch_lm(train_loader, model, loss_fn, optimizer, device)\n",
        "\n",
        "        train_loss, train_acc = evaluate_lm(train_loader, model, loss_fn, device)\n",
        "        train_accuracies.append(train_acc)\n",
        "        train_losses.append(train_loss)\n",
        "\n",
        "        test_loss, test_acc = evaluate_lm(test_loader, model, loss_fn, device)\n",
        "        test_accuracies.append(test_acc)\n",
        "        test_losses.append(test_loss)\n",
        "\n",
        "        print(\n",
        "            'Epoch: {0:d}/{1:d}. Loss (Train/Test): {2:.3f}/{3:.3f}. Accuracy (Train/Test): {4:.3f}/{5:.3f}'.format(\n",
        "                epoch + 1, num_epochs, train_losses[-1], test_losses[-1], train_accuracies[-1], test_accuracies[-1]\n",
        "            )\n",
        "        )\n",
        "    return train_losses, train_accuracies, test_losses, test_accuracies"
      ]
    },
    {
      "cell_type": "markdown",
      "metadata": {
        "id": "GJcXyGdEICLs"
      },
      "source": [
        "Теперь у нас всё готово для обучения модели."
      ]
    },
    {
      "cell_type": "markdown",
      "metadata": {
        "ExecuteTime": {
          "end_time": "2021-04-02T01:06:12.736180Z",
          "start_time": "2021-04-02T01:06:12.708814Z"
        },
        "id": "ftO6WF9MICLs"
      },
      "source": [
        "Создадим токенизатор с `<sos>`, `<eos>` токенами.\n",
        "\n",
        "Обратите внимание, что в отличие от классификации текстов нам необходимо значительно увеличить размер словаря, чтобы доля `<unk>` токенов была не велика.\n",
        "\n",
        "Так же, так как задача генерации значительно сложнее задачи классификации текстов будем обучать модель только на префиксах рецензий длины $20$. Это позволяет значительно ускорить обучение."
      ]
    },
    {
      "cell_type": "code",
      "execution_count": 267,
      "metadata": {
        "id": "IEHQ92NFICLs"
      },
      "outputs": [],
      "source": [
        "# min_freq=8 is approximately equivalent to max_size=30000.\n",
        "#   You can lower min_freq in order to make model vocabulary more diverse\n",
        "trainer = trainers.WordLevelTrainer(\n",
        "    min_frequency  = 8,\n",
        "    special_tokens = ['<pad>', '<unk>', '<sos>', '<eos>'],\n",
        ")\n",
        "\n",
        "tokenizer = tokenizers.Tokenizer(\n",
        "    model = tokenizers.models.WordLevel(unk_token=\"<unk>\")\n",
        ")"
      ]
    },
    {
      "cell_type": "code",
      "execution_count": 268,
      "metadata": {
        "id": "fEDacZYXICLs",
        "colab": {
          "base_uri": "https://localhost:8080/"
        },
        "outputId": "2de32319-e425-4eb3-e3d0-3456de7845da"
      },
      "outputs": [
        {
          "output_type": "stream",
          "name": "stderr",
          "text": [
            "100%|██████████| 50000/50000 [00:45<00:00, 1110.40it/s]\n"
          ]
        }
      ],
      "source": [
        "tokenizer.train_from_iterator(tqdm(get_data_iterator(), total=50_000), trainer=trainer)"
      ]
    },
    {
      "cell_type": "code",
      "execution_count": 269,
      "metadata": {
        "id": "yXYdFE94ICLv",
        "colab": {
          "base_uri": "https://localhost:8080/"
        },
        "outputId": "a97c8085-aecc-4021-eee8-f1831a03e5f9"
      },
      "outputs": [
        {
          "output_type": "stream",
          "name": "stdout",
          "text": [
            "ID = 0, token = <pad>\n",
            "ID = 1, token = <unk>\n",
            "ID = 2, token = <sos>\n",
            "ID = 3, token = <eos>\n",
            "ID = 4, token = movie\n",
            "ID = 5, token = film\n",
            "ID = 6, token = one\n",
            "ID = 7, token = like\n",
            "ID = 8, token = good\n",
            "ID = 9, token = even\n"
          ]
        }
      ],
      "source": [
        "assert tokenizer.get_vocab_size() == 30000\n",
        "\n",
        "for i in range(10):\n",
        "    token = tokenizer.id_to_token(i)\n",
        "    print(f\"ID = {i}, token = {token}\")\n"
      ]
    },
    {
      "cell_type": "code",
      "source": [
        "test_data_path = './aclImdb/test'\n",
        "train_data_path = './aclImdb/train'"
      ],
      "metadata": {
        "id": "tu_JeXb0J-kd"
      },
      "execution_count": 270,
      "outputs": []
    },
    {
      "cell_type": "code",
      "execution_count": 271,
      "metadata": {
        "ExecuteTime": {
          "end_time": "2024-03-30T22:43:49.510042Z",
          "start_time": "2024-03-30T22:43:36.069005Z"
        },
        "id": "95PfGclVICLw"
      },
      "outputs": [],
      "source": [
        "lm_test_dataset = LargeMovieReviewDataset(test_data_path, tokenizer, max_len=20, pad_sos=True, pad_eos=True)\n",
        "lm_train_dataset = LargeMovieReviewDataset(train_data_path, tokenizer, max_len=20, pad_sos=True, pad_eos=True)"
      ]
    },
    {
      "cell_type": "markdown",
      "metadata": {
        "id": "268y3PkZICLw"
      },
      "source": [
        "Создадим даталоадеры для тестовой и обучающей выборок:"
      ]
    },
    {
      "cell_type": "code",
      "execution_count": 272,
      "metadata": {
        "ExecuteTime": {
          "end_time": "2024-03-30T22:43:49.514599Z",
          "start_time": "2024-03-30T22:43:49.511905Z"
        },
        "id": "Eyx_WGSuICLw"
      },
      "outputs": [],
      "source": [
        "lm_test_dataloader = DataLoader(\n",
        "    lm_test_dataset, batch_size=196, shuffle=False, num_workers=2,\n",
        "    collate_fn=partial(collate_fn, padding_value=tokenizer.token_to_id('<pad>'))\n",
        ")\n",
        "lm_train_dataloader = DataLoader(\n",
        "    lm_train_dataset, batch_size=196, shuffle=True, num_workers=2,\n",
        "    collate_fn=partial(collate_fn, padding_value=tokenizer.token_to_id('<pad>'))\n",
        ")"
      ]
    },
    {
      "cell_type": "markdown",
      "metadata": {
        "id": "LUfB0IqkICLw"
      },
      "source": [
        "Убедитесь, что все предложения имеют в начале `<sos>` токен, а в конце — `<eos>` токен."
      ]
    },
    {
      "cell_type": "code",
      "execution_count": 273,
      "metadata": {
        "ExecuteTime": {
          "end_time": "2024-03-30T22:43:49.750508Z",
          "start_time": "2024-03-30T22:43:49.516160Z"
        },
        "id": "2y85xrrLICLw",
        "colab": {
          "base_uri": "https://localhost:8080/"
        },
        "collapsed": true,
        "outputId": "3764b712-df93-4ad1-d4dd-04ba01718cec"
      },
      "outputs": [
        {
          "output_type": "execute_result",
          "data": {
            "text/plain": [
              "(tensor([[    2,     2,     2,  ...,     2,     2,     2],\n",
              "         [    5,     4,    41,  ...,   873,   117, 26861],\n",
              "         [   65,   232,   152,  ...,    66,     1, 16128],\n",
              "         ...,\n",
              "         [  209,     5, 29533,  ...,   781,    72,  1007],\n",
              "         [  106,   570,   138,  ...,   735,   389,   117],\n",
              "         [    3,     3,     3,  ...,     3,     3,     3]]),\n",
              " tensor([22, 22, 22, 22, 22, 22, 22, 22, 22, 22, 22, 22, 22, 22, 22, 22, 22, 22,\n",
              "         22, 22, 22, 22, 22, 22, 22, 22, 22, 22, 22, 22, 22, 22, 22, 22, 22, 22,\n",
              "         22, 22, 22, 22, 22, 22, 22, 22, 22, 22, 22, 22, 22, 22, 22, 22, 22, 22,\n",
              "         22, 22, 22, 22, 22, 22, 22, 22, 22, 22, 22, 22, 22, 22, 22, 22, 22, 22,\n",
              "         22, 22, 22, 22, 22, 22, 22, 22, 22, 22, 22, 22, 22, 22, 22, 22, 22, 22,\n",
              "         22, 22, 22, 22, 22, 22, 22, 22, 22, 22, 22, 22, 22, 22, 22, 22, 22, 22,\n",
              "         22, 22, 22, 22, 22, 22, 22, 22, 22, 22, 22, 22, 22, 22, 22, 22, 22, 22,\n",
              "         22, 22, 22, 22, 22, 22, 22, 22, 22, 22, 22, 22, 22, 22, 22, 22, 22, 22,\n",
              "         22, 22, 22, 22, 22, 22, 22, 22, 22, 22, 22, 22, 22, 22, 22, 22, 22, 22,\n",
              "         22, 22, 22, 22, 22, 22, 22, 22, 22, 22, 22, 22, 22, 22, 22, 22, 22, 22,\n",
              "         22, 22, 22, 22, 22, 22, 22, 22, 22, 22, 22, 22, 22, 22, 22, 22]))"
            ]
          },
          "metadata": {},
          "execution_count": 273
        }
      ],
      "source": [
        "batch = next(iter(lm_train_dataloader))\n",
        "batch['tokens'], batch['tokens_lens']"
      ]
    },
    {
      "cell_type": "markdown",
      "metadata": {
        "id": "bzuuVgAnICLx"
      },
      "source": [
        "Создадим модель, функцию потерь и оптимизатор:"
      ]
    },
    {
      "cell_type": "code",
      "execution_count": 274,
      "metadata": {
        "ExecuteTime": {
          "end_time": "2024-03-30T22:44:12.583751Z",
          "start_time": "2024-03-30T22:44:12.396308Z"
        },
        "id": "z8pzh0-dICLx"
      },
      "outputs": [],
      "source": [
        "lm_model = RNNLM(\n",
        "    embedding_dim=512, hidden_dim=512, tokenizer=tokenizer, dropout=0.6, layers_dropout=0.6, num_layers=2\n",
        ").to(device=device)"
      ]
    },
    {
      "cell_type": "code",
      "execution_count": 275,
      "metadata": {
        "ExecuteTime": {
          "end_time": "2024-03-30T22:44:13.200355Z",
          "start_time": "2024-03-30T22:44:13.197422Z"
        },
        "id": "6u6ZIxpIICLx"
      },
      "outputs": [],
      "source": [
        "lm_loss_fn = LMCrossEntropyLoss(reduction='mean')\n",
        "lm_optimizer = torch.optim.Adam(lm_model.parameters(), lr=0.005, weight_decay=1.2e-6)"
      ]
    },
    {
      "cell_type": "markdown",
      "metadata": {
        "id": "XJekNFn1ICLx"
      },
      "source": [
        "Обучим модель:"
      ]
    },
    {
      "cell_type": "code",
      "execution_count": 276,
      "metadata": {
        "ExecuteTime": {
          "end_time": "2024-03-30T22:43:49.959423Z",
          "start_time": "2024-03-30T22:43:49.950621Z"
        },
        "id": "BBUYAPA0ICLy",
        "colab": {
          "base_uri": "https://localhost:8080/"
        },
        "outputId": "412f29e8-ade2-4eb0-9dc0-149fefcf23e8"
      },
      "outputs": [
        {
          "output_type": "stream",
          "name": "stdout",
          "text": [
            "CPU times: user 855 µs, sys: 2 ms, total: 2.85 ms\n",
            "Wall time: 2.9 ms\n"
          ]
        }
      ],
      "source": [
        "%%time\n",
        "lm_model = torch.compile(lm_model)"
      ]
    },
    {
      "cell_type": "code",
      "execution_count": 277,
      "metadata": {
        "ExecuteTime": {
          "end_time": "2024-03-30T22:45:24.729739Z",
          "start_time": "2024-03-30T22:44:15.095894Z"
        },
        "id": "ekh5xLiIICLy",
        "colab": {
          "base_uri": "https://localhost:8080/"
        },
        "outputId": "18919ea5-1446-4a8b-b251-52763252386e"
      },
      "outputs": [
        {
          "output_type": "stream",
          "name": "stdout",
          "text": [
            "Epoch: 1/10. Loss (Train/Test): 7.838/7.972. Accuracy (Train/Test): 0.094/0.094\n",
            "Epoch: 2/10. Loss (Train/Test): 7.666/7.876. Accuracy (Train/Test): 0.097/0.097\n",
            "Epoch: 3/10. Loss (Train/Test): 7.441/7.752. Accuracy (Train/Test): 0.102/0.102\n",
            "Epoch: 4/10. Loss (Train/Test): 7.220/7.664. Accuracy (Train/Test): 0.110/0.107\n",
            "Epoch: 5/10. Loss (Train/Test): 7.000/7.617. Accuracy (Train/Test): 0.115/0.111\n",
            "Epoch: 6/10. Loss (Train/Test): 6.811/7.631. Accuracy (Train/Test): 0.119/0.112\n",
            "Epoch: 7/10. Loss (Train/Test): 6.584/7.626. Accuracy (Train/Test): 0.125/0.115\n",
            "Epoch: 8/10. Loss (Train/Test): 6.400/7.674. Accuracy (Train/Test): 0.130/0.115\n",
            "Epoch: 9/10. Loss (Train/Test): 6.189/7.717. Accuracy (Train/Test): 0.137/0.116\n",
            "Epoch: 10/10. Loss (Train/Test): 6.021/7.784. Accuracy (Train/Test): 0.145/0.114\n"
          ]
        }
      ],
      "source": [
        "lm_train_losses, lm_train_accuracies, lm_test_losses, lm_test_accuracies = train_lm(\n",
        "    lm_train_dataloader, lm_test_dataloader, lm_model, lm_loss_fn, lm_optimizer, device, 10\n",
        ")"
      ]
    },
    {
      "cell_type": "markdown",
      "metadata": {
        "id": "G13XigKAICLy"
      },
      "source": [
        "## `Реализация декодера (1 балл)`"
      ]
    },
    {
      "cell_type": "markdown",
      "metadata": {
        "id": "TeCB_6brICLy"
      },
      "source": [
        "Теперь, реализуем последнюю деталь — декодирование с использованием обученной модели.\n",
        "Есть несколько вариантов. Рассмотрим два самых простых:\n",
        "1. **Жадное декодирование.** На каждом шаге мы выбираем токен с максимальной вероятностью и используем его для обновления скрытого состояния RNN.\n",
        "2. **Top-k sampling.** На очередном шаге рассматриваются $k$ токенов с самыми большими вероятностями. Остальные токены игнорируются. Из выбранных токенов семплируется следующий токен пропорционально их вероятностям.\n",
        "\n",
        "Прочитать подробнее про разные варианты декодирования можно по ссылкам:\n",
        "1. [От huggingface](https://huggingface.co/blog/how-to-generate)\n",
        "2. [На towardsdatascience](https://towardsdatascience.com/decoding-strategies-that-you-need-to-know-for-response-generation-ba95ee0faadc)"
      ]
    },
    {
      "cell_type": "markdown",
      "metadata": {
        "id": "QiR-tZ1sICLy"
      },
      "source": [
        "Существенным в процессе декодирования является критерий останова. Как только очередной самый вероятный символ оказался `<eos>`, то данная последовательность считается сгенерированной. Однако, может так оказаться, что `<eos>` никогда не будет выбран, тогда необходимо прекратить генерацию, как только длина последовательности перейдёт порог `max_generated_len`."
      ]
    },
    {
      "cell_type": "code",
      "source": [
        "@torch.no_grad()\n",
        "def decode(\n",
        "    model, start_tokens, start_tokens_lens,\n",
        "    max_generated_len=20, top_k=None, eos_idx=10  # или tokenizer.token_to_id('<eos>')\n",
        "):\n",
        "    \"\"\"\n",
        "    :param RNNLM model: Model\n",
        "    :param torch.Tensor start_tokens: Batch of seed tokens. Shape: [T, B]\n",
        "    :param torch.Tensor start_tokens_lens: Length of each sequence in batch. Shape: [B]\n",
        "    :param int max_generated_len: Maximum length of generated samples\n",
        "    :param Optional[int] top_k: Number of tokens with the largest probability to sample from\n",
        "    :return Tuple[torch.Tensor, torch.Tensor]:\n",
        "        Newly predicted tokens and length of generated part. Shape [T*, B], [B]\n",
        "    \"\"\"\n",
        "\n",
        "    # Get embedding for start_tokens\n",
        "    embedding = model.word_embeddings(start_tokens)\n",
        "\n",
        "    # Initial hidden and cell states\n",
        "    all_h, all_c = [], []\n",
        "    h = embedding.new_zeros([model.rnn.num_layers, start_tokens.shape[1], model.hidden_dim])\n",
        "    c = embedding.new_zeros([model.rnn.num_layers, start_tokens.shape[1], model.hidden_dim])\n",
        "\n",
        "    for time_step in range(start_tokens.shape[0]):\n",
        "        _, (h, c) = model.rnn(embedding[time_step:time_step+1], (h, c))\n",
        "        all_h.append(h)\n",
        "        all_c.append(c)\n",
        "\n",
        "    # Stack to get shape: [num_layers, T, B, H]\n",
        "    all_h = torch.stack(all_h, dim=1)\n",
        "    all_c = torch.stack(all_c, dim=1)\n",
        "\n",
        "    # Get last hidden state and cell state for each sample in batch\n",
        "    h = all_h[:, start_tokens_lens - 1, torch.arange(start_tokens.shape[1])]\n",
        "    c = all_c[:, start_tokens_lens - 1, torch.arange(start_tokens.shape[1])]\n",
        "\n",
        "    # Initialize generation loop\n",
        "    predicted_tokens = []\n",
        "    decoded_lens = torch.zeros_like(start_tokens_lens, dtype=torch.long)\n",
        "    is_finished_decoding = torch.zeros_like(start_tokens_lens, dtype=torch.bool)\n",
        "\n",
        "    # Get last tokens in each sample\n",
        "    last_token = start_tokens[start_tokens_lens - 1, torch.arange(start_tokens.shape[1])]\n",
        "\n",
        "    for _ in range(max_generated_len):\n",
        "        # Get logits from last hidden state (last layer)\n",
        "        logits = model.output(h[-1])\n",
        "\n",
        "        if top_k is not None:\n",
        "            # Top-k sampling\n",
        "            topk_values, _ = torch.topk(logits, top_k)\n",
        "            threshold = topk_values[:, -1].unsqueeze(1)\n",
        "            logits = logits.masked_fill(logits < threshold, -1e10)\n",
        "            next_token = torch.distributions.Categorical(logits=logits).sample().unsqueeze(1)\n",
        "        else:\n",
        "            # Greedy decoding\n",
        "            next_token = logits.argmax(dim=-1, keepdim=True)\n",
        "\n",
        "        predicted_tokens.append(next_token)\n",
        "\n",
        "        # Update decoded length and finished mask\n",
        "        decoded_lens += (~is_finished_decoding)\n",
        "        is_finished_decoding |= (next_token.squeeze(-1) == eos_idx)\n",
        "\n",
        "        if torch.all(is_finished_decoding):\n",
        "            break\n",
        "\n",
        "        # Compute embedding for next token\n",
        "        embedding = model.word_embeddings(next_token.t())\n",
        "\n",
        "        # Update hidden and cell states\n",
        "        _, (h, c) = model.rnn(embedding, (h, c))\n",
        "\n",
        "    return torch.cat(predicted_tokens, dim=1).t(), decoded_lens\n"
      ],
      "metadata": {
        "id": "HkgYuGc-eGiZ"
      },
      "execution_count": 278,
      "outputs": []
    },
    {
      "cell_type": "markdown",
      "metadata": {
        "id": "8dSqYXtPICLy"
      },
      "source": [
        "Для тестирования создадим удобный класс `FakeLM`, который будет реализовывать весь необходимый функционал, а именно:\n",
        "\n",
        "- `word_embeddings` - по токенам возвращает их эмбеддинги;\n",
        "\n",
        "- `output` - по вектору контекста (h) возвращает вероятности следующих токенов;\n",
        "\n",
        "- `rnn` - обновляет контекст. Будем использовать класс `FakeRNN`.\n",
        "\n",
        "Для простоты будем считать, что эмбеддинг токена и есть сам токен, а процесс генерации является марковским, то есть все переходы можно описать матрицей.\n",
        "\n",
        "Такая постановка поможет нам удобно задать все переходы и нарисовать их на бумаге (если возникнет необходимость в отладке). Кроме того, мы можем не думать об обновлении контекста, так как контекст и есть текущее слово (его эмбеддинг)."
      ]
    },
    {
      "cell_type": "code",
      "execution_count": 279,
      "metadata": {
        "id": "z2GicVCbICLz"
      },
      "outputs": [],
      "source": [
        "class FakeRNN:\n",
        "\n",
        "    def __init__(self):\n",
        "\n",
        "        self.num_layers = 1\n",
        "\n",
        "    def __call__(self, embedding, h_c):\n",
        "        \"\"\"\n",
        "        :param torch.Tensor embedding: Batch of embedding. Shape: [T, B, E]\n",
        "        :param Optional[Tuple[torch.Tensor, torch.Tensor]] h_c: initial hidden state and initial cell state\n",
        "        \"\"\"\n",
        "\n",
        "        return None, (embedding, torch.zeros_like(embedding))\n",
        "\n",
        "\n",
        "class FakeLM:\n",
        "\n",
        "    def __init__(self, rnn, transition_matrix):\n",
        "        self.rnn = rnn\n",
        "        self.transition_matrix = transition_matrix\n",
        "        self.hidden_dim = 1\n",
        "\n",
        "    def word_embeddings(self, tokens):\n",
        "        \"\"\"\n",
        "        :param torch.Tensor tokens: Batch of seed tokens. Shape: [T, B] or [B]\n",
        "        :return torch.Tensor\n",
        "            Batch of tokens embeddings. Shape: [T, BS, E] or [B, E]\n",
        "        \"\"\"\n",
        "\n",
        "        return tokens[..., None].float()\n",
        "\n",
        "    def output(self, h):\n",
        "        \"\"\"\n",
        "        :param torch.Tensor h: Batch of seed tokens. Shape: [B, E]\n",
        "        :return torch.Tensor.\n",
        "            Batch of new_tokens logits. Shape: [B, V]\n",
        "        \"\"\"\n",
        "\n",
        "        idx  = h.long().ravel().cpu().numpy()\n",
        "        logits = list(self.transition_matrix[i] for i in idx)\n",
        "        logits = torch.stack(logits, dim=0).float()\n",
        "        return logits\n",
        "\n"
      ]
    },
    {
      "cell_type": "markdown",
      "metadata": {
        "id": "whTBx38RICLz"
      },
      "source": [
        "#### `Тест 1`\n",
        "\n",
        "Зададим переходную матрицу `transitions` так, чтобы после токена $i$ вероятней всего следовал токен $i + 1$ mod $V$, где $V$ размер словаря. Тогда мы ожидаем получить циклические последовательности."
      ]
    },
    {
      "cell_type": "code",
      "execution_count": 280,
      "metadata": {
        "id": "VTzKa2EcICLz"
      },
      "outputs": [],
      "source": [
        "transitions = {\n",
        "    0: torch.tensor([4, 5, 0, 0, 0]),\n",
        "    1: torch.tensor([0, 4, 5, 0, 0]),\n",
        "    2: torch.tensor([0, 0, 4, 5, 0]),\n",
        "    3: torch.tensor([0, 0, 0, 4, 5]),\n",
        "    4: torch.tensor([5, 0, 0, 0, 4]),\n",
        "}\n",
        "\n",
        "fake_lm = FakeLM(FakeRNN(), transitions)"
      ]
    },
    {
      "cell_type": "code",
      "execution_count": 281,
      "metadata": {
        "id": "CScRO60XICL0"
      },
      "outputs": [],
      "source": [
        "decoded_tokens, decoded_lens = decode(\n",
        "    model             = fake_lm,\n",
        "    start_tokens      = torch.zeros((4, 3)),\n",
        "    start_tokens_lens = torch.tensor([1, 2, 3]),\n",
        "    eos_idx           = 10,\n",
        "    max_generated_len = 8\n",
        ")\n"
      ]
    },
    {
      "cell_type": "code",
      "execution_count": 282,
      "metadata": {
        "id": "9KJh7EUkICL0"
      },
      "outputs": [],
      "source": [
        "assert decoded_tokens.shape == (8, 3), f\"Shape = {decoded_tokens.shape}\"\n",
        "assert (decoded_tokens[:, 0] == torch.tensor([1, 2, 3, 4, 0, 1, 2, 3])).all()\n",
        "assert (decoded_tokens[:, 1] == torch.tensor([1, 2, 3, 4, 0, 1, 2, 3])).all()\n",
        "assert (decoded_tokens[:, 2] == torch.tensor([1, 2, 3, 4, 0, 1, 2, 3])).all()"
      ]
    },
    {
      "cell_type": "markdown",
      "metadata": {
        "id": "yD36sgPHICL1"
      },
      "source": [
        "#### `Тест 2`\n",
        "\n",
        "Усложним и зададим разные начальные токены."
      ]
    },
    {
      "cell_type": "code",
      "execution_count": 284,
      "metadata": {
        "id": "ydMO0aZPICL1"
      },
      "outputs": [],
      "source": [
        "start_tokens = torch.tensor(\n",
        "    [\n",
        "        [0, 0, 0],\n",
        "        [0, 1, 1],\n",
        "        [0, 0, 2],\n",
        "        [0, 0, 0]\n",
        "    ]\n",
        ")\n",
        "\n",
        "decoded_tokens, decoded_lens = decode(\n",
        "    model             = fake_lm,\n",
        "    start_tokens      = start_tokens,\n",
        "    start_tokens_lens = torch.tensor([1, 2, 3]),\n",
        "    eos_idx           = 10,\n",
        "    max_generated_len = 8\n",
        ")"
      ]
    },
    {
      "cell_type": "code",
      "execution_count": 285,
      "metadata": {
        "id": "nokn-CJ_ICL1"
      },
      "outputs": [],
      "source": [
        "assert decoded_tokens.shape == (8, 3), f\"Shape = {decoded_tokens.shape}\"\n",
        "assert (decoded_tokens[:, 0] == torch.tensor([1, 2, 3, 4, 0, 1, 2, 3])).all()\n",
        "assert (decoded_tokens[:, 1] == torch.tensor([2, 3, 4, 0, 1, 2, 3, 4])).all()\n",
        "assert (decoded_tokens[:, 2] == torch.tensor([3, 4, 0, 1, 2, 3, 4, 0])).all()"
      ]
    },
    {
      "cell_type": "code",
      "execution_count": 286,
      "metadata": {
        "id": "7IeQg2aOICL1"
      },
      "outputs": [],
      "source": [
        "decoded_tokens, decoded_lens = decode(\n",
        "    model             = fake_lm,\n",
        "    start_tokens      = start_tokens,\n",
        "    start_tokens_lens = torch.tensor([1, 2, 3]),\n",
        "    eos_idx           = 4,\n",
        "    max_generated_len = 8\n",
        ")\n",
        "assert (decoded_lens == torch.tensor([4, 3, 2])).all()\n",
        "\n",
        "assert (decoded_tokens[:, 0] == torch.tensor([1, 2, 3, 4])).all()\n",
        "assert (decoded_tokens[:, 1] == torch.tensor([2, 3, 4, 0])).all()\n",
        "assert (decoded_tokens[:, 2] == torch.tensor([3, 4, 0, 1])).all()"
      ]
    },
    {
      "cell_type": "markdown",
      "metadata": {
        "id": "PQQE6w32ICL1"
      },
      "source": [
        "#### `Тест 3`\n",
        "\n",
        "Перейдем к тестированию `top_k`. Благодаря этому параметру мы можем увеличить разнообразие текстов. Поскольку проверять недетерминированную генерацию достаточно трудно, мы проверим, что в среднем генерируются адекватные последовательности.\n",
        "\n",
        "При заданной нами переходной матрице мы ожидаем:\n",
        "\n",
        "- При `top_k = 1` получим детерминированную генерацию;\n",
        "\n",
        "- При `top_k = 2` получим последовательности, где в почти в половине случаев будем стоять на месте;\n",
        "\n",
        "- При `top_k > 2` получим похожее на `top_k = 2`."
      ]
    },
    {
      "cell_type": "code",
      "execution_count": 287,
      "metadata": {
        "id": "Pby7apheICL1"
      },
      "outputs": [],
      "source": [
        "set_global_seed(42)\n",
        "\n",
        "decoded_tokens, decoded_lens = decode(\n",
        "    model             = fake_lm,\n",
        "    start_tokens      = torch.zeros((4, 3)),\n",
        "    start_tokens_lens = torch.tensor([1, 2, 3]),\n",
        "    eos_idx           = 10,\n",
        "    max_generated_len = 8,\n",
        "    top_k             = 1\n",
        ")"
      ]
    },
    {
      "cell_type": "code",
      "execution_count": 288,
      "metadata": {
        "id": "iEg5AsS8ICL1"
      },
      "outputs": [],
      "source": [
        "assert decoded_tokens.shape == (8, 3), f\"Shape = {decoded_tokens.shape}\"\n",
        "assert (decoded_tokens[:, 0] == torch.tensor([1, 2, 3, 4, 0, 1, 2, 3])).all()\n",
        "assert (decoded_tokens[:, 1] == torch.tensor([1, 2, 3, 4, 0, 1, 2, 3])).all()\n",
        "assert (decoded_tokens[:, 2] == torch.tensor([1, 2, 3, 4, 0, 1, 2, 3])).all()"
      ]
    },
    {
      "cell_type": "code",
      "execution_count": 289,
      "metadata": {
        "id": "RIs3gmUFICL1",
        "colab": {
          "base_uri": "https://localhost:8080/"
        },
        "outputId": "16410c47-336a-4607-94d9-7b6f49e1dbf4"
      },
      "outputs": [
        {
          "output_type": "execute_result",
          "data": {
            "text/plain": [
              "tensor([[1, 1, 1],\n",
              "        [1, 2, 1],\n",
              "        [2, 3, 1],\n",
              "        [3, 4, 2],\n",
              "        [4, 0, 3],\n",
              "        [0, 0, 4],\n",
              "        [1, 1, 0],\n",
              "        [2, 2, 1]])"
            ]
          },
          "metadata": {},
          "execution_count": 289
        }
      ],
      "source": [
        "set_global_seed(42)\n",
        "\n",
        "decoded_tokens_k2, decoded_lens = decode(\n",
        "    model             = fake_lm,\n",
        "    start_tokens      = torch.zeros((4, 3)),\n",
        "    start_tokens_lens = torch.tensor([1, 2, 3]),\n",
        "    eos_idx           = 10,\n",
        "    max_generated_len = 8,\n",
        "    top_k             = 2\n",
        ")\n",
        "\n",
        "decoded_tokens_k2"
      ]
    },
    {
      "cell_type": "code",
      "execution_count": 140,
      "metadata": {
        "id": "y9D_C8tjICL1"
      },
      "outputs": [],
      "source": [
        "set_global_seed(42)\n",
        "\n",
        "decoded_tokens_k3, decoded_lens = decode(\n",
        "    model             = fake_lm,\n",
        "    start_tokens      = torch.zeros((4, 3)),\n",
        "    start_tokens_lens = torch.tensor([1, 2, 3]),\n",
        "    eos_idx           = 10,\n",
        "    max_generated_len = 8,\n",
        "    top_k             = 3\n",
        ")"
      ]
    },
    {
      "cell_type": "code",
      "execution_count": 141,
      "metadata": {
        "id": "EARQR5NIICL2"
      },
      "outputs": [],
      "source": [
        "assert (decoded_tokens_k3 == decoded_tokens_k2).all()"
      ]
    },
    {
      "cell_type": "markdown",
      "metadata": {
        "ExecuteTime": {
          "end_time": "2021-04-02T01:38:06.232189Z",
          "start_time": "2021-04-02T01:38:06.205413Z"
        },
        "id": "IHddSPzbICL2"
      },
      "source": [
        "Попробуем сгенерировать продолжения для нескольких префиксов:"
      ]
    },
    {
      "cell_type": "code",
      "execution_count": 142,
      "metadata": {
        "ExecuteTime": {
          "end_time": "2024-03-30T22:46:25.138264Z",
          "start_time": "2024-03-30T22:46:25.135301Z"
        },
        "id": "ajED1KEIICL2",
        "colab": {
          "base_uri": "https://localhost:8080/"
        },
        "outputId": "c53f899c-c2c1-4de5-c69a-82c4fe838051"
      },
      "outputs": [
        {
          "output_type": "execute_result",
          "data": {
            "text/plain": [
              "tensor([[  2,   2,   2,   2],\n",
              "        [  0,   1,   1,   1],\n",
              "        [  0, 390,  42, 146],\n",
              "        [  0,   4,   4,   4]])"
            ]
          },
          "metadata": {},
          "execution_count": 142
        }
      ],
      "source": [
        "start_tokens = torch.tensor([\n",
        "    lm_model.tokenizer.encode(['<sos>', '<pad>', '<pad>', '<pad>'], is_pretokenized=True).ids,\n",
        "    lm_model.tokenizer.encode(['<sos>', 'my', 'favorite', 'movie'], is_pretokenized=True).ids,\n",
        "    lm_model.tokenizer.encode(['<sos>', 'the', 'best', 'movie'],    is_pretokenized=True).ids,\n",
        "    lm_model.tokenizer.encode(['<sos>', 'the', 'worst', 'movie'],   is_pretokenized=True).ids,\n",
        "]).T\n",
        "\n",
        "start_tokens_lens = torch.tensor([1, 4, 4, 4])\n",
        "start_tokens"
      ]
    },
    {
      "cell_type": "code",
      "execution_count": 143,
      "metadata": {
        "ExecuteTime": {
          "end_time": "2024-03-30T22:46:25.775584Z",
          "start_time": "2024-03-30T22:46:25.524089Z"
        },
        "id": "j-cuFbHLICL2"
      },
      "outputs": [],
      "source": [
        "set_global_seed(42)\n",
        "\n",
        "lm_model = lm_model.cpu()\n",
        "lm_model.eval()\n",
        "decoded_tokens, decoded_lens = decode(lm_model, start_tokens, start_tokens_lens, max_generated_len=10, top_k=5)"
      ]
    },
    {
      "cell_type": "code",
      "execution_count": 144,
      "metadata": {
        "ExecuteTime": {
          "end_time": "2024-03-30T22:46:25.826630Z",
          "start_time": "2024-03-30T22:46:25.777128Z"
        },
        "id": "ULLxaQXQICL3",
        "colab": {
          "base_uri": "https://localhost:8080/",
          "height": 86
        },
        "outputId": "150a4142-862f-4185-d023-7aaaa771ef51"
      },
      "outputs": [
        {
          "output_type": "display_data",
          "data": {
            "text/plain": [
              "<IPython.core.display.Markdown object>"
            ],
            "text/markdown": "<div class=\"alert alert-block alert-info\"> <b>&lt;sos&gt; first saw movie &lt;unk&gt; &lt;unk&gt; movie festival first movie really</b></div>"
          },
          "metadata": {}
        },
        {
          "output_type": "display_data",
          "data": {
            "text/plain": [
              "<IPython.core.display.Markdown object>"
            ],
            "text/markdown": "<div class=\"alert alert-block alert-info\"> <b>&lt;sos&gt; &lt;unk&gt; favorite movie time first saw movie &lt;unk&gt; &lt;unk&gt; &lt;unk&gt; really liked movie</b></div>"
          },
          "metadata": {}
        },
        {
          "output_type": "display_data",
          "data": {
            "text/plain": [
              "<IPython.core.display.Markdown object>"
            ],
            "text/markdown": "<div class=\"alert alert-block alert-info\"> <b>&lt;sos&gt; &lt;unk&gt; best movie ever made movie bad acting bad directing bad acting bad</b></div>"
          },
          "metadata": {}
        },
        {
          "output_type": "display_data",
          "data": {
            "text/plain": [
              "<IPython.core.display.Markdown object>"
            ],
            "text/markdown": "<div class=\"alert alert-block alert-info\"> <b>&lt;sos&gt; &lt;unk&gt; worst movie ever seen life &lt;unk&gt; &lt;unk&gt; movie bad acting bad acting</b></div>"
          },
          "metadata": {}
        }
      ],
      "source": [
        "for text_idx in range(start_tokens.shape[1]):\n",
        "    decoded_text_tokens = decoded_tokens[:decoded_lens[text_idx], text_idx]\n",
        "    tokens = start_tokens[:start_tokens_lens[text_idx], text_idx].tolist() + decoded_text_tokens.tolist()\n",
        "    words = lm_model.tokenizer.decode(tokens, skip_special_tokens=False).split(' ')\n",
        "\n",
        "    text = ' '.join(words).replace('<', '&lt;').replace('>', '&gt;')\n",
        "    display(Markdown(f'<div class=\"alert alert-block alert-info\"> <b>{text}</b></div>'))"
      ]
    },
    {
      "cell_type": "markdown",
      "metadata": {
        "id": "YAfXeFRlICL3"
      },
      "source": [
        "Попробуйте выполнить семплирование для разных $k$. Сравните результаты top-k семплирования с жадным декодированием. Опишите ваши наблюдения."
      ]
    },
    {
      "cell_type": "code",
      "execution_count": 147,
      "metadata": {
        "ExecuteTime": {
          "end_time": "2024-03-30T22:46:28.556188Z",
          "start_time": "2024-03-30T22:46:28.553997Z"
        },
        "id": "lqe9VaDwICL3",
        "colab": {
          "base_uri": "https://localhost:8080/",
          "height": 454
        },
        "outputId": "8a33c112-6162-43cd-c48b-7a3af461c8bb"
      },
      "outputs": [
        {
          "output_type": "display_data",
          "data": {
            "text/plain": [
              "<IPython.core.display.Markdown object>"
            ],
            "text/markdown": "<h4>**Top-k = Greedy**</h4>"
          },
          "metadata": {}
        },
        {
          "output_type": "display_data",
          "data": {
            "text/plain": [
              "<IPython.core.display.Markdown object>"
            ],
            "text/markdown": "<div class=\"alert alert-block alert-info\"> <b>&lt;sos&gt; movie one worst movies ever seen life &lt;unk&gt; &lt;unk&gt; &lt;unk&gt;</b></div>"
          },
          "metadata": {}
        },
        {
          "output_type": "display_data",
          "data": {
            "text/plain": [
              "<IPython.core.display.Markdown object>"
            ],
            "text/markdown": "<div class=\"alert alert-block alert-info\"> <b>&lt;sos&gt; &lt;unk&gt; favorite movie ever made &lt;unk&gt; &lt;unk&gt; &lt;unk&gt; &lt;unk&gt; &lt;unk&gt; &lt;unk&gt; &lt;unk&gt; &lt;unk&gt;</b></div>"
          },
          "metadata": {}
        },
        {
          "output_type": "display_data",
          "data": {
            "text/plain": [
              "<IPython.core.display.Markdown object>"
            ],
            "text/markdown": "<div class=\"alert alert-block alert-info\"> <b>&lt;sos&gt; &lt;unk&gt; best movie ever made &lt;unk&gt; &lt;unk&gt; &lt;unk&gt; &lt;unk&gt; &lt;unk&gt; &lt;unk&gt; &lt;unk&gt; &lt;unk&gt;</b></div>"
          },
          "metadata": {}
        },
        {
          "output_type": "display_data",
          "data": {
            "text/plain": [
              "<IPython.core.display.Markdown object>"
            ],
            "text/markdown": "<div class=\"alert alert-block alert-info\"> <b>&lt;sos&gt; &lt;unk&gt; worst movie ever seen life &lt;unk&gt; &lt;unk&gt; &lt;unk&gt; &lt;unk&gt; &lt;unk&gt; &lt;unk&gt; &lt;unk&gt;</b></div>"
          },
          "metadata": {}
        },
        {
          "output_type": "display_data",
          "data": {
            "text/plain": [
              "<IPython.core.display.Markdown object>"
            ],
            "text/markdown": "<h4>**Top-k = 1**</h4>"
          },
          "metadata": {}
        },
        {
          "output_type": "display_data",
          "data": {
            "text/plain": [
              "<IPython.core.display.Markdown object>"
            ],
            "text/markdown": "<div class=\"alert alert-block alert-info\"> <b>&lt;sos&gt; movie bad acting bad acting bad acting bad directing bad</b></div>"
          },
          "metadata": {}
        },
        {
          "output_type": "display_data",
          "data": {
            "text/plain": [
              "<IPython.core.display.Markdown object>"
            ],
            "text/markdown": "<div class=\"alert alert-block alert-info\"> <b>&lt;sos&gt; &lt;unk&gt; favorite movie ever seen movie &lt;unk&gt; &lt;unk&gt; &lt;unk&gt; &lt;unk&gt; &lt;unk&gt; &lt;unk&gt; &lt;unk&gt;</b></div>"
          },
          "metadata": {}
        },
        {
          "output_type": "display_data",
          "data": {
            "text/plain": [
              "<IPython.core.display.Markdown object>"
            ],
            "text/markdown": "<div class=\"alert alert-block alert-info\"> <b>&lt;sos&gt; &lt;unk&gt; best movie ever seen life life &lt;unk&gt; &lt;unk&gt; &lt;unk&gt; &lt;unk&gt; &lt;unk&gt; &lt;unk&gt;</b></div>"
          },
          "metadata": {}
        },
        {
          "output_type": "display_data",
          "data": {
            "text/plain": [
              "<IPython.core.display.Markdown object>"
            ],
            "text/markdown": "<div class=\"alert alert-block alert-info\"> <b>&lt;sos&gt; &lt;unk&gt; worst movie ever seen life life &lt;unk&gt; &lt;unk&gt; &lt;unk&gt; &lt;unk&gt; &lt;unk&gt; &lt;unk&gt;</b></div>"
          },
          "metadata": {}
        },
        {
          "output_type": "display_data",
          "data": {
            "text/plain": [
              "<IPython.core.display.Markdown object>"
            ],
            "text/markdown": "<h4>**Top-k = 3**</h4>"
          },
          "metadata": {}
        },
        {
          "output_type": "display_data",
          "data": {
            "text/plain": [
              "<IPython.core.display.Markdown object>"
            ],
            "text/markdown": "<div class=\"alert alert-block alert-info\"> <b>&lt;sos&gt; movie bad movie bad bad movie bad acting bad bad</b></div>"
          },
          "metadata": {}
        },
        {
          "output_type": "display_data",
          "data": {
            "text/plain": [
              "<IPython.core.display.Markdown object>"
            ],
            "text/markdown": "<div class=\"alert alert-block alert-info\"> <b>&lt;sos&gt; &lt;unk&gt; favorite movie time first saw movie &lt;unk&gt; &lt;unk&gt; &lt;unk&gt; really liked movie</b></div>"
          },
          "metadata": {}
        },
        {
          "output_type": "display_data",
          "data": {
            "text/plain": [
              "<IPython.core.display.Markdown object>"
            ],
            "text/markdown": "<div class=\"alert alert-block alert-info\"> <b>&lt;sos&gt; &lt;unk&gt; best movie ever made movie &lt;unk&gt; &lt;unk&gt; &lt;unk&gt; movie made one &lt;unk&gt;</b></div>"
          },
          "metadata": {}
        },
        {
          "output_type": "display_data",
          "data": {
            "text/plain": [
              "<IPython.core.display.Markdown object>"
            ],
            "text/markdown": "<div class=\"alert alert-block alert-info\"> <b>&lt;sos&gt; &lt;unk&gt; worst movie ever seen life &lt;unk&gt; &lt;unk&gt; movie bad acting bad acting</b></div>"
          },
          "metadata": {}
        },
        {
          "output_type": "display_data",
          "data": {
            "text/plain": [
              "<IPython.core.display.Markdown object>"
            ],
            "text/markdown": "<h4>**Top-k = 5**</h4>"
          },
          "metadata": {}
        },
        {
          "output_type": "display_data",
          "data": {
            "text/plain": [
              "<IPython.core.display.Markdown object>"
            ],
            "text/markdown": "<div class=\"alert alert-block alert-info\"> <b>&lt;sos&gt; first saw movie &lt;unk&gt; &lt;unk&gt; movie festival first movie really</b></div>"
          },
          "metadata": {}
        },
        {
          "output_type": "display_data",
          "data": {
            "text/plain": [
              "<IPython.core.display.Markdown object>"
            ],
            "text/markdown": "<div class=\"alert alert-block alert-info\"> <b>&lt;sos&gt; &lt;unk&gt; favorite movie time first saw movie &lt;unk&gt; &lt;unk&gt; &lt;unk&gt; really liked movie</b></div>"
          },
          "metadata": {}
        },
        {
          "output_type": "display_data",
          "data": {
            "text/plain": [
              "<IPython.core.display.Markdown object>"
            ],
            "text/markdown": "<div class=\"alert alert-block alert-info\"> <b>&lt;sos&gt; &lt;unk&gt; best movie ever made movie bad acting bad directing bad acting bad</b></div>"
          },
          "metadata": {}
        },
        {
          "output_type": "display_data",
          "data": {
            "text/plain": [
              "<IPython.core.display.Markdown object>"
            ],
            "text/markdown": "<div class=\"alert alert-block alert-info\"> <b>&lt;sos&gt; &lt;unk&gt; worst movie ever seen life &lt;unk&gt; &lt;unk&gt; movie bad acting bad acting</b></div>"
          },
          "metadata": {}
        }
      ],
      "source": [
        "from IPython.display import Markdown, display\n",
        "\n",
        "def display_generated_examples(lm_model, ks=[None, 1, 3, 5, 10], max_len=10):\n",
        "    set_global_seed(42)\n",
        "    start_tokens = torch.tensor([\n",
        "        lm_model.tokenizer.encode(['<sos>', '<pad>', '<pad>', '<pad>'], is_pretokenized=True).ids,\n",
        "        lm_model.tokenizer.encode(['<sos>', 'my', 'favorite', 'movie'], is_pretokenized=True).ids,\n",
        "        lm_model.tokenizer.encode(['<sos>', 'the', 'best', 'movie'],    is_pretokenized=True).ids,\n",
        "        lm_model.tokenizer.encode(['<sos>', 'the', 'worst', 'movie'],   is_pretokenized=True).ids,\n",
        "    ]).T\n",
        "\n",
        "    start_tokens_lens = torch.tensor([1, 4, 4, 4])\n",
        "\n",
        "    for k in ks:\n",
        "        set_global_seed(42)\n",
        "        decoded_tokens, decoded_lens = decode(\n",
        "            model=lm_model.cpu(),\n",
        "            start_tokens=start_tokens,\n",
        "            start_tokens_lens=start_tokens_lens,\n",
        "            eos_idx=lm_model.tokenizer.token_to_id('<eos>'),\n",
        "            max_generated_len=max_len,\n",
        "            top_k=k\n",
        "        )\n",
        "\n",
        "        title = f\"**Top-k = {k if k is not None else 'Greedy'}**\"\n",
        "        display(Markdown(f'<h4>{title}</h4>'))\n",
        "\n",
        "        for text_idx in range(start_tokens.shape[1]):\n",
        "            decoded_text_tokens = decoded_tokens[:decoded_lens[text_idx], text_idx]\n",
        "            tokens = start_tokens[:start_tokens_lens[text_idx], text_idx].tolist() + decoded_text_tokens.tolist()\n",
        "            words = lm_model.tokenizer.decode(tokens, skip_special_tokens=False).split(' ')\n",
        "            text = ' '.join(words).replace('<', '&lt;').replace('>', '&gt;')\n",
        "            display(Markdown(f'<div class=\"alert alert-block alert-info\"> <b>{text}</b></div>'))\n",
        "display_generated_examples(lm_model, ks=[None, 1, 3, 5])"
      ]
    },
    {
      "cell_type": "markdown",
      "metadata": {
        "id": "o4hLzmGcICL3"
      },
      "source": [
        "**Ответ:**"
      ]
    },
    {
      "cell_type": "markdown",
      "metadata": {
        "id": "guCcA4n9ICL4"
      },
      "source": [
        "## `Beam Search (2 балла)`"
      ]
    },
    {
      "cell_type": "markdown",
      "metadata": {
        "id": "7-UPYTdyICL4"
      },
      "source": [
        "Рассмотрим более продвинутый алгоритм для декодирования. Реализуйте алгоритм Beam Search.\n",
        "\n",
        "Прочитать подробнее про Beam Search можно по ссылкам:\n",
        "1. [От huggingface](https://huggingface.co/blog/how-to-generate#beam-search)\n",
        "2. [На wiki](https://en.wikipedia.org/w/index.php?title=Beam_search&oldid=1248868876)"
      ]
    },
    {
      "cell_type": "markdown",
      "metadata": {
        "id": "Hfqr7onkICL4"
      },
      "source": [
        "Несколько замечаний по имплементации:\n",
        "\n",
        "1. При больших размерах `beam_size` число гипотез ($B \\times \\text{beam\\_size}$) на очередном шаге может быть слишком большим. Поэтому может потребоваться разбить все гипотезы на отдельные батчи и делать forward-pass в несколько итераций. Используйте [`torch.split`](https://pytorch.org/docs/stable/generated/torch.split.html)\n",
        "2. Для выбора лучших гипотез используйте [`torch.topk`](https://pytorch.org/docs/stable/generated/torch.topk.html). Обратите внимание на индексы, которые возвращает эта функция (может пригодиться метод [`torch.remainder`](https://pytorch.org/docs/stable/generated/torch.remainder.html))\n",
        "3. Можно отслеживать, какие элементы в батче (или какие гипотезы) закончили генерацию. Делая forward-pass только для незавершённых гипотез, можно ускорить декодинг, однако, это усложнит реализацию"
      ]
    },
    {
      "cell_type": "markdown",
      "metadata": {
        "id": "IJj0Me7QICL4"
      },
      "source": [
        "Будем реализовывать в 2 части:\n",
        "\n",
        "- Получение всей необходимой информации из `start_tokens` в функции `beam_search_encode_start`.\n",
        "\n",
        "- Генерация и декодирования в функции `decode_beam_search`."
      ]
    },
    {
      "cell_type": "code",
      "execution_count": 154,
      "metadata": {
        "id": "nixdZAm_ICL5"
      },
      "outputs": [],
      "source": [
        "@torch.no_grad()\n",
        "def beam_search_encode_start(model, start_tokens, start_tokens_lens, beam_size):\n",
        "    \"\"\"\n",
        "    :param RNNLM model: Model\n",
        "    :param torch.Tensor start_tokens: Batch of seed tokens. Shape: [T, B]\n",
        "    :param torch.Tensor start_tokens_lens: Length of each sequence in batch. Shape: [B]\n",
        "    :param int beam_size: Size of beam\n",
        "    :return Tuple[torch.Tensor, torch.Tensor, torch.Tensor, torch.Tensor, torch.Tensor].\n",
        "        Initialization h and c for each hypotheses, New tokens,\n",
        "        Initialize log probabilities, Initialize hypothesis\n",
        "        Shape [L, B * BS, H], [L, B * BS, H], [B * BS], [B * BS], [1, B * BS]\n",
        "    \"\"\"\n",
        "    # L — number of RNN layers in the model, H — hidden size, BS — beam size\n",
        "    #\n",
        "    # 1. Make forward pass of start_tokens through the model.\n",
        "    #      Obtain the last cell and hidden state for each element in the batch\n",
        "    #          (i.e. tensors of shape [L, B, H])\n",
        "    #      Use those states as the initialization for each hypotheses in the beam\n",
        "    #          (i.e. tensors of shape [L, B * BS, H])\n",
        "    #      Initialize probabilities for each hypotheses in the beam with 1.0\n",
        "    #          (i.e. tensor of shape [B * BS])\n",
        "\n",
        "    # Get embeddings for the start tokens\n",
        "    T, B = start_tokens.shape\n",
        "    L = model.rnn.num_layers\n",
        "    H = model.hidden_dim\n",
        "    embedding = model.word_embeddings(start_tokens)\n",
        "\n",
        "    # Make forward pass through the RNN and\n",
        "    #   obtain the last cell and hidden state for each element in the batch\n",
        "    # Use those states as the initialization for each hypotheses in the beam\n",
        "    # YOUR CODE HERE\n",
        "    h = embedding.new_zeros(L, B, H)\n",
        "    c = embedding.new_zeros(L, B, H)\n",
        "    for t in range(T):\n",
        "      _, (h, c) = model.rnn(embedding[t:t+1], (h, c))\n",
        "    last_token = start_tokens[start_tokens_lens - 1, torch.arange(B)]\n",
        "    embedding = model.word_embeddings(last_token.unsqueeze(0))\n",
        "    _, (h, c) = model.rnn(embedding, (h, c))\n",
        "\n",
        "    # Select initial tokens for each hypotheses in the beam\n",
        "    #   Compute log probabilities and select top-beam_size tokens for each element\n",
        "    #   Use them to initialize beam search state\n",
        "    logits = model.output(h[-1])\n",
        "    log_probas = torch.log_softmax(logits, dim=-1)\n",
        "    top_log_probas, top_tokens = torch.topk(log_probas, beam_size, dim=-1)\n",
        "    h = h.unsqueeze(2).repeat(1, 1, beam_size, 1).reshape(L, B * beam_size, H)\n",
        "    c = c.unsqueeze(2).repeat(1, 1, beam_size, 1).reshape(L, B * beam_size, H)\n",
        "\n",
        "    new_tokens = top_tokens.reshape(-1)  # [B * BS]\n",
        "    log_probas = top_log_probas.reshape(-1)   # [B * BS]\n",
        "    hypothesis = new_tokens.unsqueeze(0) # [1, B * BS]\n",
        "\n",
        "    return h, c, new_tokens, log_probas, hypothesis"
      ]
    },
    {
      "cell_type": "markdown",
      "metadata": {
        "id": "DvimREc4ICL5"
      },
      "source": [
        "Проверим функцию `beam_search_encode_start`. Ниже опишем матрицу перехода, в которой содержатся логиты вероятности перехода. `Beam size` отвечает за число гипотез, то есть сколько потенциально лучших токенов мы можем взять. Например, при `beam size = 4` и начальном токене $0$, мы будем рассматривать (создадим гипотезы) токены $[1, 0, 4, 3]$ (отсортированы в порядке убывания вероятности)."
      ]
    },
    {
      "cell_type": "code",
      "execution_count": 155,
      "metadata": {
        "id": "MNkH_iuYICL5"
      },
      "outputs": [],
      "source": [
        "transitions = {\n",
        "    0: torch.tensor([4, 5, 1, 2, 3]),\n",
        "    1: torch.tensor([3, 4, 5, 1, 2]),\n",
        "    2: torch.tensor([2, 3, 4, 5, 1]),\n",
        "    3: torch.tensor([1, 2, 3, 4, 5]),\n",
        "    4: torch.tensor([5, 1, 2, 3, 4]),\n",
        "}\n",
        "\n",
        "fake_lm = FakeLM(FakeRNN(), transitions)"
      ]
    },
    {
      "cell_type": "code",
      "execution_count": 156,
      "metadata": {
        "id": "Uap0ikOpICL5"
      },
      "outputs": [],
      "source": [
        "start_tokens = torch.tensor(\n",
        "    [\n",
        "        [0, 0, 0],\n",
        "        [0, 1, 1],\n",
        "        [0, 0, 2],\n",
        "        [0, 0, 0]\n",
        "    ]\n",
        ")\n",
        "\n",
        "beam_size = 4\n",
        "h, c, new_tokens, log_probas, hypothesis = beam_search_encode_start(\n",
        "    model             = fake_lm,\n",
        "    start_tokens      = start_tokens,\n",
        "    start_tokens_lens = torch.tensor([1, 2, 3]),\n",
        "    beam_size         = beam_size\n",
        ")"
      ]
    },
    {
      "cell_type": "code",
      "execution_count": 157,
      "metadata": {
        "id": "7C5rUzBbICL5"
      },
      "outputs": [],
      "source": [
        "assert h.shape == (1, 3 * beam_size, 1)\n",
        "assert c.shape == (1, 3 * beam_size, 1)\n",
        "assert new_tokens.shape[0] == (3 * beam_size)\n",
        "assert log_probas.shape[0] == (3 * beam_size)\n",
        "assert hypothesis.shape     == (1, 3 * beam_size)"
      ]
    },
    {
      "cell_type": "code",
      "execution_count": 158,
      "metadata": {
        "id": "xuCOsDUFICL5"
      },
      "outputs": [],
      "source": [
        "assert (h[0, :, 0] == torch.tensor([0] * beam_size + [1] * beam_size + [2] * beam_size)).all()\n",
        "assert (new_tokens == torch.tensor([1, 0, 4, 3, 2, 1, 0, 4, 3, 2, 1, 0])).all()\n",
        "assert torch.isclose(log_probas[:beam_size], torch.tensor([5, 4, 3, 2, 1]).float().log_softmax(0)[:-1]).all()\n",
        "assert (hypothesis[0] == new_tokens).all()"
      ]
    },
    {
      "cell_type": "code",
      "execution_count": 168,
      "metadata": {
        "ExecuteTime": {
          "end_time": "2024-03-30T22:46:29.834960Z",
          "start_time": "2024-03-30T22:46:29.824795Z"
        },
        "id": "B7njfksNICL6"
      },
      "outputs": [],
      "source": [
        "@torch.no_grad()\n",
        "def decode_beam_search(\n",
        "    model, start_tokens, start_tokens_lens,\n",
        "    max_generated_len=20, beam_size=5, eos_idx=tokenizer.token_to_id('<eos>')\n",
        "):\n",
        "    \"\"\"\n",
        "    :param RNNLM model: Model\n",
        "    :param torch.Tensor start_tokens: Batch of seed tokens. Shape: [T, B]\n",
        "    :param torch.Tensor start_tokens_lens: Length of each sequence in batch. Shape: [B]\n",
        "    :param int max_generated_len: Maximum length of generated samples\n",
        "    :param int beam_size: Size of beam\n",
        "    :return Tuple[torch.Tensor, torch.Tensor, torch.Tensor].\n",
        "        Newly predicted tokens, lengths of generated parts and log probabilities for each hypotheses\n",
        "        Shape [T*, B, beam_size], [T*, beam_size], [T*, beam_size]\n",
        "    \"\"\"\n",
        "\n",
        "    # L — number of RNN layers in the model, H — hidden size, BS — beam size\n",
        "    #\n",
        "    # 1. Make forward pass of start_tokens through the model.\n",
        "    #      Initialize vector that show whether hypothesis is finished\n",
        "    #          (i.e. tensor of shape [B * BS])\n",
        "    # 2. While all sequences do not end with <eos> and their length less than max_generated_len\n",
        "    #      1. Get probabilities for the next token for each hypothesis\n",
        "    #          (i.e. tensor of shape [B * BS, V])\n",
        "    #      2. Use those probabilities to compute probability for each extension of each hypothesis\n",
        "    #          (i.e. tensor of shape [B * BS, V])\n",
        "    #      3. For each element in the batch select new BS best hypotheses\n",
        "    #          Note, that some of the hypotheses on the previous step have been finished\n",
        "    #            so their probability should not change. So you have to select BS best hypotheses\n",
        "    #            among all extension of unfinished hypotheses and finished hypotheses\n",
        "    #          As a result you will have a new token for best extensions of unfinished hypotheses\n",
        "    #          For simplisity you can use <EOS> token if you select finished hypothesis in the beam\n",
        "    #            i.e. tensor of shape [B * BS] of indices for selected hypotheses and\n",
        "    #                 tensor of shape [B * BS] of extension tokens for each hypothesis\n",
        "    #      4. Update probabilities for each hypotheses and is_finished state for each hypothesis\n",
        "    #          Concat new tokens to the existing prefixes\n",
        "    #      5. Update hidden and cell state to correspond to the selected hypothesis\n",
        "\n",
        "    #  Make forward pass of start_tokens through the model.\n",
        "    h, c, new_tokens, log_probas, hypothesis = beam_search_encode_start(\n",
        "        model             = model,\n",
        "        start_tokens      = start_tokens,\n",
        "        start_tokens_lens = start_tokens_lens,\n",
        "        beam_size         = beam_size\n",
        "    )\n",
        "\n",
        "    # Initialize vector that show whether hypothesis is finished\n",
        "    is_finished = new_tokens == eos_idx # [B * BS]\n",
        "    decoded_lens = torch.ones_like(is_finished, dtype=torch.long) # [B * BS]\n",
        "\n",
        "    while not torch.all(is_finished) and hypothesis.shape[0] < max_generated_len:\n",
        "        # Get probabilities for the next token for each hypothesis\n",
        "        logits = model.output(h[-1])\n",
        "        next_token_log_probas = torch.log_softmax(logits, dim=-1) # [B * BS, V]\n",
        "\n",
        "        # Use those probabilities to compute probability for each extension of each hypothesis\n",
        "        extension_log_probas = next_token_log_probas + log_probas.unsqueeze(-1) # [B * BS, V]\n",
        "\n",
        "        # For each element in the batch select new BS best hypotheses\n",
        "        #   You can use loop over different beams\n",
        "        top_extension_log_probas, top_tokens = torch.topk(extension_log_probas, beam_size, dim=-1)\n",
        "\n",
        "        # Update probabilities for each hypotheses and is_finished state and decoded_lens for each hypothesis\n",
        "        log_probas = top_extension_log_probas.reshape(-1)\n",
        "        new_tokens = top_tokens.reshape(-1)\n",
        "\n",
        "        # Concat new tokens to the existing prefixes\n",
        "        is_finished |= (new_tokens == eos_idx)\n",
        "        decoded_lens += (~is_finished).long()\n",
        "\n",
        "        # Update hidden and cell state to correspond to the selected hypothesis\n",
        "        new_tokens[is_finished] = eos_idx\n",
        "        hypothesis = torch.cat([hypothesis, new_tokens.unsqueeze(0)], dim=0)\n",
        "        h = h.view(h.shape[0], h.shape[1] // beam_size, beam_size, h.shape[-1])\n",
        "        c = c.view(c.shape[0], c.shape[1] // beam_size, beam_size, c.shape[-1])\n",
        "        top_hypothesis_idx = torch.remainder(new_tokens, beam_size).view(-1)\n",
        "        h = h.gather(1, top_hypothesis_idx.unsqueeze(0).unsqueeze(-1).expand(-1, -1, h.shape[-1]))\n",
        "        c = c.gather(1, top_hypothesis_idx.unsqueeze(0).unsqueeze(-1).expand(-1, -1, c.shape[-1]))\n",
        "\n",
        "\n",
        "    return (\n",
        "        hypothesis.view(-1, start_tokens.shape[1], beam_size),\n",
        "        decoded_lens.view(start_tokens.shape[1], beam_size),\n",
        "        log_probas.view(start_tokens.shape[1], beam_size)\n",
        "    )"
      ]
    },
    {
      "cell_type": "markdown",
      "metadata": {
        "id": "r8QCmMt8ICL6"
      },
      "source": [
        "Протестируем итоговую функцию `decode_beam_search`. Рассмотрим постановку, когда действовать жадно не выгодно для генерации."
      ]
    },
    {
      "cell_type": "code",
      "execution_count": 181,
      "metadata": {
        "id": "lUkxoHu1ICL6"
      },
      "outputs": [],
      "source": [
        "transitions = {\n",
        "    0: torch.tensor([-1e10, 1, -1e10, -1e10, 0.9]),\n",
        "    1: torch.tensor([-1e10, 1, 1.1, 0.9, -1e10]),\n",
        "    2: torch.tensor([-1e10, 0.9, 1, 1.1, -1e10]),\n",
        "    3: torch.tensor([-1e10, 1.1, 0.9, 1, -1e10]),\n",
        "    4: torch.tensor([-1e10, -1e10, -1e10, -1e10, 1]),\n",
        "}\n",
        "\n",
        "fake_lm = FakeLM(FakeRNN(), transitions)"
      ]
    },
    {
      "cell_type": "code",
      "execution_count": 182,
      "metadata": {
        "id": "jaOnWTGLICL6",
        "colab": {
          "base_uri": "https://localhost:8080/"
        },
        "outputId": "ba457d58-e062-4ad7-d2e5-6c0145f96f0f"
      },
      "outputs": [
        {
          "output_type": "stream",
          "name": "stdout",
          "text": [
            "log p(next_token | 0) = [0.    0.525 0.    0.    0.475]\n",
            "log p(next_token | 1) = [0.    0.332 0.367 0.301 0.   ]\n",
            "log p(next_token | 2) = [0.    0.301 0.332 0.367 0.   ]\n",
            "log p(next_token | 3) = [0.    0.367 0.301 0.332 0.   ]\n",
            "log p(next_token | 4) = [0. 0. 0. 0. 1.]\n"
          ]
        }
      ],
      "source": [
        "for k, v in transitions.items():\n",
        "    p = v.softmax(0).cpu().numpy()\n",
        "    p = np.around(p, 3)\n",
        "    print(f\"log p(next_token | {k}) = {p}\")"
      ]
    },
    {
      "cell_type": "markdown",
      "metadata": {
        "id": "YcJB4ATIICL6"
      },
      "source": [
        "Действуя жадно и начиная с токена $0$, мы перейдем в токен $1$, а дальше с вероятностью будем блуждать по цепочке $1 \\to 2 \\to 3 \\to 1$. Но при числе гипотез больше 2 мы рассмотрим возможность перехода в токен $4$, где зациклимся. В результате во втором случае у последовательности будет высокая итоговая вероятность, а у первого способа - низкая.\n",
        "\n",
        "Сначала проверим как работает `beam_size = 1`, так как этот случай проще отладить в случае ошибки.\n",
        "\n",
        "**Важно:** При `beam_size = 1` мы получаем жадное декодирование."
      ]
    },
    {
      "cell_type": "code",
      "source": [
        "@torch.no_grad()\n",
        "def decode_beam_search(\n",
        "    model, start_tokens, start_tokens_lens,\n",
        "    max_generated_len=20, beam_size=5, eos_idx=tokenizer.token_to_id('<eos>')\n",
        "):\n",
        "    \"\"\"\n",
        "    :param RNNLM model: Model\n",
        "    :param torch.Tensor start_tokens: Batch of seed tokens. Shape: [T, B]\n",
        "    :param torch.Tensor start_tokens_lens: Length of each sequence in batch. Shape: [B]\n",
        "    :param int max_generated_len: Maximum length of generated samples\n",
        "    :param int beam_size: Size of beam\n",
        "    :return Tuple[torch.Tensor, torch.Tensor, torch.Tensor].\n",
        "        Newly predicted tokens, lengths of generated parts and log probabilities for each hypotheses\n",
        "        Shape [T*, B, beam_size], [T*, beam_size], [T*, beam_size]\n",
        "    \"\"\"\n",
        "\n",
        "    # L — number of RNN layers in the model, H — hidden size, BS — beam size\n",
        "    #\n",
        "    # 1. Make forward pass of start_tokens through the model.\n",
        "    #      Initialize vector that show whether hypothesis is finished\n",
        "    #          (i.e. tensor of shape [B * BS])\n",
        "    # 2. While all sequences do not end with <eos> and their length less than max_generated_len\n",
        "    #      1. Get probabilities for the next token for each hypothesis\n",
        "    #          (i.e. tensor of shape [B * BS, V])\n",
        "    #      2. Use those probabilities to compute probability for each extension of each hypothesis\n",
        "    #          (i.e. tensor of shape [B * BS, V])\n",
        "    #      3. For each element in the batch select new BS best hypotheses\n",
        "    #          Note, that some of the hypotheses on the previous step have been finished\n",
        "    #            so their probability should not change. So you have to select BS best hypotheses\n",
        "    #            among all extension of unfinished hypotheses and finished hypotheses\n",
        "    #          As a result you will have a new token for best extensions of unfinished hypotheses\n",
        "    #          For simplisity you can use <EOS> token if you select finished hypothesis in the beam\n",
        "    #            i.e. tensor of shape [B * BS] of indices for selected hypotheses and\n",
        "    #                 tensor of shape [B * BS] of extension tokens for each hypothesis\n",
        "    #      4. Update probabilities for each hypotheses and is_finished state for each hypothesis\n",
        "    #          Concat new tokens to the existing prefixes\n",
        "    #      5. Update hidden and cell state to correspond to the selected hypothesis\n",
        "\n",
        "    #  Make forward pass of start_tokens through the model.\n",
        "    h, c, new_tokens, log_probas, hypothesis = beam_search_encode_start(\n",
        "        model             = model,\n",
        "        start_tokens      = start_tokens,\n",
        "        start_tokens_lens = start_tokens_lens,\n",
        "        beam_size         = beam_size\n",
        "    )\n",
        "\n",
        "    # Initialize vector that show whether hypothesis is finished\n",
        "    is_finished = new_tokens == eos_idx # [B * BS]\n",
        "    decoded_lens = torch.ones_like(is_finished, dtype=torch.long) # [B * BS]\n",
        "\n",
        "    while not torch.all(is_finished) and hypothesis.shape[0] < max_generated_len:\n",
        "        # Get probabilities for the next token for each hypothesis\n",
        "        # YOUR CODE HERE\n",
        "        ...\n",
        "\n",
        "        next_token_log_probas = ... # [B * BS, V]\n",
        "        # Use those probabilities to compute probability for each extension of each hypothesis\n",
        "        # YOUR CODE HERE\n",
        "        ...\n",
        "        extension_log_probas = ... # [B * BS, V]\n",
        "\n",
        "        # For each element in the batch select new BS best hypotheses\n",
        "        #   You can use loop over different beams\n",
        "        # YOUR CODE HERE\n",
        "        ...\n",
        "\n",
        "        # Update probabilities for each hypotheses and is_finished state and decoded_lens for each hypothesis\n",
        "        # YOUR CODE HERE\n",
        "        ...\n",
        "\n",
        "        # Concat new tokens to the existing prefixes\n",
        "        # YOUR CODE HERE\n",
        "        ...\n",
        "\n",
        "        # Update hidden and cell state to correspond to the selected hypothesis\n",
        "        # YOUR CODE HERE\n",
        "        ...\n",
        "\n",
        "\n",
        "    return (\n",
        "        hypothesis.view(-1, start_tokens.shape[1], beam_size),\n",
        "        decoded_lens.view(start_tokens.shape[1], beam_size),\n",
        "        log_probas.view(start_tokens.shape[1], beam_size)\n",
        "    )"
      ],
      "metadata": {
        "id": "Kf2cqHO9juUD"
      },
      "execution_count": 188,
      "outputs": []
    },
    {
      "cell_type": "code",
      "source": [
        "set_global_seed(42)\n",
        "\n",
        "decoded_tokens, decoded_lens, log_probas = decode_beam_search(\n",
        "    model             = fake_lm,\n",
        "    start_tokens      = torch.zeros((1, 3)),\n",
        "    start_tokens_lens = torch.tensor([1, 1, 1]),\n",
        "    eos_idx           = 10,\n",
        "    max_generated_len = 8,\n",
        "    beam_size         = 1\n",
        ")\n",
        "\n",
        "p = transitions[1].log_softmax(0)[2] * 7 + transitions[0].log_softmax(0)[1]"
      ],
      "metadata": {
        "id": "rg6XXqes4Egc"
      },
      "execution_count": null,
      "outputs": []
    },
    {
      "cell_type": "code",
      "source": [
        "assert decoded_tokens.shape == (8, 3, 1)\n",
        "assert decoded_lens.shape   == (3, 1)\n",
        "assert log_probas.shape     == (3, 1)"
      ],
      "metadata": {
        "id": "3L3mp_c34Fo_"
      },
      "execution_count": null,
      "outputs": []
    },
    {
      "cell_type": "code",
      "source": [
        "decoded_tokens[:, :, 0]"
      ],
      "metadata": {
        "id": "LFXLObFs4G78"
      },
      "execution_count": null,
      "outputs": []
    },
    {
      "cell_type": "code",
      "source": [
        "assert torch.isclose(log_probas, p).all()"
      ],
      "metadata": {
        "id": "pFEuVXFP4IPR"
      },
      "execution_count": null,
      "outputs": []
    },
    {
      "cell_type": "code",
      "execution_count": null,
      "metadata": {
        "id": "DvS4-MtoICL7"
      },
      "outputs": [],
      "source": [
        "set_global_seed(42)\n",
        "\n",
        "decoded_tokens, decoded_lens, log_probas = decode_beam_search(\n",
        "    model             = fake_lm,\n",
        "    start_tokens      = torch.zeros((1, 3)),\n",
        "    start_tokens_lens = torch.tensor([1, 1, 1]),\n",
        "    eos_idx           = 10,\n",
        "    max_generated_len = 8,\n",
        "    beam_size         = 2\n",
        ")\n"
      ]
    },
    {
      "cell_type": "code",
      "execution_count": null,
      "metadata": {
        "id": "VD7O709xICL7"
      },
      "outputs": [],
      "source": [
        "assert decoded_tokens.shape == (8, 3, 2)\n",
        "assert decoded_lens.shape   == (3, 2)\n",
        "assert log_probas.shape     == (3, 2)"
      ]
    },
    {
      "cell_type": "markdown",
      "metadata": {
        "id": "pX_hE7ysICL7"
      },
      "source": [
        "Посмотрим на наиболее вероятную гипотезу для каждого батча:"
      ]
    },
    {
      "cell_type": "code",
      "execution_count": null,
      "metadata": {
        "id": "J22WT-YkICL7"
      },
      "outputs": [],
      "source": [
        "decoded_tokens[:, :, 0]"
      ]
    },
    {
      "cell_type": "markdown",
      "metadata": {
        "id": "_YIhXQZ0ICL7"
      },
      "source": [
        "Посмотрим на вторую гипотезу для каждого батча:"
      ]
    },
    {
      "cell_type": "code",
      "execution_count": null,
      "metadata": {
        "id": "B0tz8WhGICL7"
      },
      "outputs": [],
      "source": [
        "decoded_tokens[:, :, 1]"
      ]
    },
    {
      "cell_type": "markdown",
      "metadata": {
        "id": "HZPZfZ0PICL8"
      },
      "source": [
        "Подробнее, как это работает:\n",
        "\n",
        "1. На первом ходу мы берем 2 наиболее вероятных перехода: перейти в $1$, перейти в $4$.\n",
        "\n",
        "2. На следующих ходах мы рассматриваем для каждого \"луча\" 2 наиболее вероятных перехода (всего 4 случаев), из которых выбираем две наиболее вероятные гипотезы.\n",
        "\n",
        "- 1. Для случая, который перешел в $1$, мы рассматриваем 2 альтернативы: перейти в $2$ с вероятностью $0.367$, остаться в $1$ с вероятностью $0.332$)\n",
        "- 2. Для случая, который перешел в $4$, мы рассматриваем 2 альтернативы: остаться в $4$ с вероятностью 1, или перейти в любое другое состояние с вероятностью $\\approx$ 0)\n",
        "- 3. Из всех вариантов вероятней всего перейти из $1$ в $2$ и перейти из $4$ в $4$, то есть обновляем \"лучи\"\n",
        "\n",
        "3. Повторить пункт 2.\n",
        "\n",
        "**Важно:** Обратите внимание, что Beam Search детерминированный алгоритм"
      ]
    },
    {
      "cell_type": "code",
      "execution_count": null,
      "metadata": {
        "ExecuteTime": {
          "end_time": "2024-03-30T22:46:30.504262Z",
          "start_time": "2024-03-30T22:46:30.501331Z"
        },
        "id": "GucfoU3eICL8"
      },
      "outputs": [],
      "source": [
        "start_tokens = torch.tensor([\n",
        "    lm_model.tokenizer.encode(['<sos>', '<pad>', '<pad>', '<pad>'], is_pretokenized=True).ids,\n",
        "    lm_model.tokenizer.encode(['<sos>', 'my', 'favorite', 'movie'], is_pretokenized=True).ids,\n",
        "    lm_model.tokenizer.encode(['<sos>', 'the', 'best', 'movie'],    is_pretokenized=True).ids,\n",
        "    lm_model.tokenizer.encode(['<sos>', 'the', 'worst', 'movie'],   is_pretokenized=True).ids,\n",
        "]).T\n",
        "\n",
        "start_tokens_lens = torch.tensor([1, 4, 4, 4])"
      ]
    },
    {
      "cell_type": "code",
      "execution_count": null,
      "metadata": {
        "ExecuteTime": {
          "end_time": "2024-03-30T22:46:31.081687Z",
          "start_time": "2024-03-30T22:46:30.966597Z"
        },
        "id": "UxwxSVuDICL8"
      },
      "outputs": [],
      "source": [
        "lm_model.to(device).eval()\n",
        "start_tokens = start_tokens.to(device)\n",
        "start_tokens_lens = start_tokens_lens.to(device)"
      ]
    },
    {
      "cell_type": "code",
      "execution_count": null,
      "metadata": {
        "ExecuteTime": {
          "end_time": "2024-03-30T22:46:31.910807Z",
          "start_time": "2024-03-30T22:46:31.646253Z"
        },
        "id": "IIf4DmKEICL8"
      },
      "outputs": [],
      "source": [
        "beam_size = 100\n",
        "decoded_tokens, decoded_lens, log_probas = decode_beam_search(\n",
        "    lm_model, start_tokens, start_tokens_lens, max_generated_len=10, beam_size=beam_size\n",
        ")"
      ]
    },
    {
      "cell_type": "code",
      "execution_count": null,
      "metadata": {
        "ExecuteTime": {
          "end_time": "2024-03-30T22:46:32.320606Z",
          "start_time": "2024-03-30T22:46:32.169949Z"
        },
        "scrolled": false,
        "id": "lZPkJuPsICL8"
      },
      "outputs": [],
      "source": [
        "for start_tokens_elem, start_tokens_lens_elem, decoded_tokens_elem, decoded_lens_elem, log_probas_elem in zip(\n",
        "    start_tokens.T, start_tokens_lens,\n",
        "    decoded_tokens.permute(1, 2, 0), decoded_lens.permute(0, 1), log_probas.permute(0, 1)\n",
        "):\n",
        "    start_tokens_elem = start_tokens_elem[:start_tokens_lens_elem].tolist()\n",
        "    start_words = lm_model.tokenizer.decode(start_tokens_elem, skip_special_tokens=False).split(' ')\n",
        "\n",
        "    start_text = ' '.join(start_words).replace('<', '&lt;').replace('>', '&gt;')\n",
        "    display(Markdown(f'<div class=\"alert alert-block alert-info\"> <b>{start_text}</b></div>'))\n",
        "\n",
        "    for idx, (hyp, hyp_len, hyp_log_prob) in enumerate(zip(decoded_tokens_elem, decoded_lens_elem, log_probas_elem)):\n",
        "        if idx >= 3:\n",
        "            break\n",
        "\n",
        "        hyp = hyp[:hyp_len].tolist()\n",
        "        hyp_words = lm_model.tokenizer.decode(hyp, skip_special_tokens=False).split(' ')\n",
        "        hyp_text = ' '.join(hyp_words).replace('<', '&lt;').replace('>', '&gt;')\n",
        "        display(Markdown(\n",
        "            f'<div class=\"alert alert-block alert-success\"> <b>{hyp_log_prob:.3f}: {hyp_text}</b></div>'\n",
        "        ))"
      ]
    },
    {
      "cell_type": "markdown",
      "metadata": {
        "id": "LK_iOCUfICL8"
      },
      "source": [
        "Попробуйте выполнить декодинг для разных `beam_size`. Убедитесь, что при `beam_search=1` семплирование совпадает с top-1 (greedy decoding) подходом.\n",
        "\n",
        "Сравните результаты Beam Search с top-k семплированием и жадным декодированием. Опишите ваши наблюдения."
      ]
    },
    {
      "cell_type": "code",
      "execution_count": null,
      "metadata": {
        "ExecuteTime": {
          "end_time": "2024-03-30T22:00:59.682820Z",
          "start_time": "2024-03-30T22:00:59.682812Z"
        },
        "id": "SkXdxxRfICL8"
      },
      "outputs": [],
      "source": [
        "# YOUR CODE HERE"
      ]
    },
    {
      "cell_type": "markdown",
      "metadata": {
        "ExecuteTime": {
          "end_time": "2021-04-02T15:04:51.678260Z",
          "start_time": "2021-04-02T15:04:51.673587Z"
        },
        "id": "OP1h6hIdICL8"
      },
      "source": [
        "## `Бонус. Существенное улучшение качества (до 6 баллов)`"
      ]
    },
    {
      "cell_type": "markdown",
      "metadata": {
        "id": "gS-r7QqtICL9"
      },
      "source": [
        "Та модель, которая использовалась в предыдущей части во многом заимствует улучшения LSTM из статьи [Regularizing and Optimizing LSTM Language Models](https://arxiv.org/pdf/1708.02182.pdf). Вы можете попробовать применить другие варианты регуляризации из данной статьи для существенного улучшения качества LM.\n",
        "\n",
        "Например:\n",
        "1. Dropout для эмбеддингов **(+0.25)**\n",
        "2. Dropout входов и выходов RNN **(+0.25)**\n",
        "3. Регуляризация активаций (AR/TAR) **(+1.0)**\n",
        "4. NT-ASGD **(+1.5)**\n",
        "5. Tied веса эмбеддингов и софтмакса **(+1.0)**\n",
        "6. Attention **(+2.0)**\n",
        "\n",
        "**Полные баллы ставятся только при наличии качественного и количественного сравнения с бейзлайном.**\n",
        "\n",
        "**Для эксперимента с Attention необходимо изобразить Attention Maps для нескольких примеров.**"
      ]
    },
    {
      "cell_type": "code",
      "execution_count": null,
      "metadata": {
        "id": "Yh6jV4NNICL9"
      },
      "outputs": [],
      "source": []
    }
  ],
  "metadata": {
    "kernelspec": {
      "display_name": "Python 3",
      "name": "python3"
    },
    "language_info": {
      "codemirror_mode": {
        "name": "ipython",
        "version": 3
      },
      "file_extension": ".py",
      "mimetype": "text/x-python",
      "name": "python",
      "nbconvert_exporter": "python",
      "pygments_lexer": "ipython3",
      "version": "3.9.16"
    },
    "toc": {
      "base_numbering": 1,
      "nav_menu": {},
      "number_sections": false,
      "sideBar": true,
      "skip_h1_title": false,
      "title_cell": "Table of Contents",
      "title_sidebar": "Contents",
      "toc_cell": false,
      "toc_position": {
        "height": "804px",
        "left": "148px",
        "top": "50px",
        "width": "555.391px"
      },
      "toc_section_display": true,
      "toc_window_display": false
    },
    "varInspector": {
      "cols": {
        "lenName": 16,
        "lenType": 16,
        "lenVar": 40
      },
      "kernels_config": {
        "python": {
          "delete_cmd_postfix": "",
          "delete_cmd_prefix": "del ",
          "library": "var_list.py",
          "varRefreshCmd": "print(var_dic_list())"
        },
        "r": {
          "delete_cmd_postfix": ") ",
          "delete_cmd_prefix": "rm(",
          "library": "var_list.r",
          "varRefreshCmd": "cat(var_dic_list()) "
        }
      },
      "position": {
        "height": "313px",
        "left": "926px",
        "right": "27px",
        "top": "120px",
        "width": "343px"
      },
      "types_to_exclude": [
        "module",
        "function",
        "builtin_function_or_method",
        "instance",
        "_Feature"
      ],
      "window_display": false
    },
    "colab": {
      "provenance": [],
      "gpuType": "T4"
    },
    "accelerator": "GPU"
  },
  "nbformat": 4,
  "nbformat_minor": 0
}
